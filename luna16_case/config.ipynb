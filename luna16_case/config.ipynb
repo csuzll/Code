{
 "cells": [
  {
   "cell_type": "code",
   "execution_count": null,
   "metadata": {},
   "outputs": [],
   "source": [
    "config = {\"train_data_path\":[\"E:\\\\LUNA16\\\\data\\\\subset0\",\n",
    "                            \"E:\\\\LUNA16\\\\data\\\\subset1\",\n",
    "                            \"E:\\\\LUNA16\\\\data\\\\subset2\",\n",
    "                            \"E:\\\\LUNA16\\\\data\\\\subset3\",\n",
    "                            \"E:\\\\LUNA16\\\\data\\\\subset4\",\n",
    "                            \"E:\\\\LUNA16\\\\data\\\\subset5\",\n",
    "                            \"E:\\\\LUNA16\\\\data\\\\subset6\",\n",
    "                            \"E:\\\\LUNA16\\\\data\\\\subset7\",\n",
    "                            \"E:\\\\LUNA16\\\\data\\\\subset8\"],\n",
    "         \"val_data_path\":[\"E:\\\\LUNA16\\\\data\\\\subset9\"],\n",
    "         \"test_data_path\":[\"E:\\\\LUNA16\\\\data\\\\subset9\"],\n",
    "         \n",
    "         \"train_preprocess_result_path\":\"\",\n",
    "         \"val_preprocess_result_path\":\"\",\n",
    "         \"test_preprocess_result_path\":\"\",\n",
    "         \n",
    "         \"train_annos_path\":\"E:\\\\LUNA16\\\\csvfiles\\\\annotations.csv\",\n",
    "         \"val_annos_path\":\"E:\\\\LUNA16\\\\csvfiles\\\\annotations.csv\",\n",
    "         \"test_annos_path\":\"E:\\\\LUNA16\\\\csvfiles\\\\annotations.csv\",\n",
    "         \n",
    "         \"black_list\":[],\n",
    "\n",
    "         \"luna_data\": \"E:\\\\LUNA16\\\\data\",  # 所有luna CT数据\n",
    "         \"luna_segment\": \"E:\\\\LUNA16\\\\seg-lungs-LUNA16\",  # 所有luna CT肺部mask\n",
    "         \"real_result_path\": \"E:\\\\LUNA16\\\\luna_real_prep_result\", # 处理luna后存放阳性结节的目录\n",
    "         \"fake_result_path\": \"E:\\\\LUNA16\\\\luna_fake_prep_result\", # 处理luna后存放假阳性结节的目录\n",
    "         \"luna_nodule\": \"E:\\\\LUNA16\\\\csvfiles\\\\annotations.csv\", # 阳性结节标签的csv文件\n",
    "         \"luna_non_nodule\": \"E:\\\\LUNA16\\\\csvfiles\\\\candidates_V2.csv\",  # 包含阳性和假阳性结节的csv文件。将其中阳性结节去掉，可用来提取假阳性结节\n",
    "         }"
   ]
  }
 ],
 "metadata": {
  "kernelspec": {
   "display_name": "Python 3",
   "language": "python",
   "name": "python3"
  },
  "language_info": {
   "codemirror_mode": {
    "name": "ipython",
    "version": 3
   },
   "file_extension": ".py",
   "mimetype": "text/x-python",
   "name": "python",
   "nbconvert_exporter": "python",
   "pygments_lexer": "ipython3",
   "version": "3.6.8"
  }
 },
 "nbformat": 4,
 "nbformat_minor": 2
}
