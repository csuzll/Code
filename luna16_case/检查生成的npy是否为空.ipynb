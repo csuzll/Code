{
 "cells": [
  {
   "cell_type": "markdown",
   "metadata": {},
   "source": [
    "### 记录数据预处理后\n",
    "\n",
    "从原始数据的mhd数据进行ROI处理（获取肺部ROI），并统一分辨率。\n",
    "\n",
    "经过这样的操作，我们得到的每个病例的大小是不同的，"
   ]
  },
  {
   "cell_type": "code",
   "execution_count": null,
   "metadata": {},
   "outputs": [],
   "source": [
    "def check_nan(path):\n",
    "    \"\"\"\n",
    "    检查当前npy文件中是否有nan值\n",
    "    \"\"\"\n",
    "    \n",
    "    for file in os.listdir(path):\n",
    "        arr = np.load(os.path.join(path,file))\n",
    "        \n",
    "        a = arr[np.isnan(arr)]\n",
    "        if (len(a)>0):\n",
    "            print(\"file is nan\": file)\n",
    "            print(a)"
   ]
  },
  {
   "cell_type": "code",
   "execution_count": null,
   "metadata": {},
   "outputs": [],
   "source": [
    "def plot_nodule(npy_file):\n",
    "    \"\"\"\n",
    "    绘制结节，一张一张绘制\n",
    "    \"\"\"\n",
    "    nodule_arr = np.load(npy_file)\n",
    "    f, plots = plt.subplots(int(nodule_arr.shape[0]/3), 3, figsize=(50,50))\n",
    "    \n",
    "    for i in range(0,nodule_arr.shape[0]):\n",
    "        plots[int(i/3), int((i % 3))].axis(\"off\")\n",
    "        plots[int(i/3), int((i % 3))].imshow(nodule_arr[i,:,:], cmap=plt.cm.bone)"
   ]
  },
  {
   "cell_type": "code",
   "execution_count": null,
   "metadata": {},
   "outputs": [],
   "source": [
    "def search(path, word):\n",
    "    \"\"\"\n",
    "    从路径查找文件名匹配关键字\n",
    "    path: 要查找的路径\n",
    "    word：要匹配的关键字\n",
    "    \"\"\"\n",
    "    filelist = []\n",
    "    \n",
    "    for filename in os.listdir(path):\n",
    "        fp = os.path.join(path, filename)\n",
    "        if os.path.isfile(fp) and word in filename:\n",
    "            filelist.append(fp)\n",
    "        elif os.path.isdir(fp):\n",
    "            serch(fp, word)\n",
    "    return filelist"
   ]
  },
  {
   "cell_type": "code",
   "execution_count": null,
   "metadata": {},
   "outputs": [],
   "source": [
    "def angle_transpose(file, degree, flag_string):\n",
    "    \"\"\"\n",
    "    图像变换：旋转图像\n",
    "    file：一个npy文件\n",
    "    degree: 图像旋转度数，90，180，270可以\n",
    "    flag_string：在转置后将flag_string标记添加到文件名中\n",
    "    \n",
    "    90: leftright\n",
    "    180: updown\n",
    "    270: diagonal\n",
    "    \"\"\"\n",
    "    array = np.load(file)  # z,y,x\n",
    "    newarr = np.zeros(array.shape,dtype=uint8)\n",
    "    for depth in range(array.shape[0]):\n",
    "        slice_arr = array[depth]\n",
    "        slice_arr.reshape((slice_arr.shape[0],slice_arr.shape[1], 1))\n",
    "        img = Image.fromarray(slice_arr)\n",
    "        \n",
    "        out = img.rotate(degree) # 逆时针旋转degree度\n",
    "        \n",
    "        newarr[depth,:,:] = np.array(out).reshape(array.shape[1],-1)[:,:]\n",
    "    np.save(file.replace(\".npy\",flag_string+\".npy\"), newarr)"
   ]
  },
  {
   "cell_type": "code",
   "execution_count": null,
   "metadata": {},
   "outputs": [],
   "source": [
    "# 对肺部mask求取边界，只保留边界内的数据，不妨想象一个正方形，\n",
    "# 里面有一个小圆，小圆就是掩码，那么此处做的就是求小圆的最小外接平行矩形，将矩形外的部分砍掉\n",
    "# 这个矩形是与图像平行的。\n",
    "\n",
    "# 以下为主要代码\n",
    "# Mask的形状为(D,H,W)<=>(z,y,x)\n",
    "# sliceim1的形状为(D,H,W)<=>(z,y,x)\n",
    "\n",
    "zz, yy, xx = np.where(Mask)\n",
    "print(zz,yy,xx)\n",
    "box = np.array([[np.min(zz),np.max(zz)],[np.min(yy),np.max(yy)], [np.min(xx),np.max(xx)]])\n",
    "print(box)\n",
    "box = np.floor(box).astype('int') # 保证box为整数\n",
    "print(box)\n",
    "\n",
    "\n",
    "# 对这个边界向外扩展一点，为了处理边缘的像素,左边坐标减5，右边坐标加10。\n",
    "margin = 5\n",
    "extendbox = np.vstack([np.max([[0,0,0],box[:,0]-margin],0),np.min([newshape,box[:,1]+2*margin],axis=0).T]).T\n",
    "print(extendbox)\n",
    "\n",
    "# 将extendbox内数据取出作为最后结果 \n",
    "sliceim2 = sliceim1[extendbox[0,0]:extendbox[0,1],\n",
    "                    extendbox[1,0]:extendbox[1,1],\n",
    "                    extendbox[2,0]:extendbox[2,1]]"
   ]
  }
 ],
 "metadata": {
  "kernelspec": {
   "display_name": "Python 3",
   "language": "python",
   "name": "python3"
  },
  "language_info": {
   "codemirror_mode": {
    "name": "ipython",
    "version": 3
   },
   "file_extension": ".py",
   "mimetype": "text/x-python",
   "name": "python",
   "nbconvert_exporter": "python",
   "pygments_lexer": "ipython3",
   "version": "3.6.8"
  }
 },
 "nbformat": 4,
 "nbformat_minor": 2
}
