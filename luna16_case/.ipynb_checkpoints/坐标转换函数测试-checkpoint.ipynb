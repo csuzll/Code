{
 "cells": [
  {
   "cell_type": "code",
   "execution_count": 1,
   "metadata": {},
   "outputs": [],
   "source": [
    "import csv\n",
    "import os\n",
    "from PIL import Image\n",
    "import matplotlib.pyplot as plt\n",
    "import SimpleITK as sitk\n",
    "import multiprocessing\n",
    "from multiprocessing import Pool\n",
    "from functools import partial\n",
    "import numpy as np\n",
    "%config InlineBackend.figure.format = \"svg\""
   ]
  },
  {
   "cell_type": "code",
   "execution_count": 4,
   "metadata": {},
   "outputs": [],
   "source": [
    "# 世界坐标转为体素坐标，取整\n",
    "def worldToVoxelCoord(worldCoord,origin,spacing):\n",
    "    stretchedVoxelCoord  = np.absolute(worldCoord - origin)\n",
    "    voxelCoord = stretchedVoxelCoord / spacing\n",
    "    voxelCoord = voxelCoord.astype(np.int32)\n",
    "    \n",
    "    return voxelCoord"
   ]
  },
  {
   "cell_type": "code",
   "execution_count": 5,
   "metadata": {},
   "outputs": [],
   "source": [
    "# 世界坐标转为体素坐标，不取整\n",
    "def worldToVoxelCoord2(worldCoord,origin,spacing):\n",
    "    stretchedVoxelCoord  = np.absolute(worldCoord - origin)\n",
    "    voxelCoord = stretchedVoxelCoord / spacing\n",
    "    \n",
    "    return voxelCoord"
   ]
  },
  {
   "cell_type": "code",
   "execution_count": 6,
   "metadata": {},
   "outputs": [],
   "source": [
    "# 体素坐标转为世界坐标\n",
    "def voxelToWorldCoord2(voxelCoord,origin,spacing):\n",
    "    stretchedWorldCoord = voxelCoord * spacing\n",
    "    worldCoord = stretchedWorldCoord + origin\n",
    "    return worldCoord"
   ]
  },
  {
   "cell_type": "code",
   "execution_count": 10,
   "metadata": {},
   "outputs": [],
   "source": [
    "filename='F:\\\\Code\\\\luna16_case\\\\1.3.6.1.4.1.14519.5.2.1.6279.6001.173106154739244262091404659845.mhd'\n",
    "sitkimage = sitk.ReadImage(filename)\n",
    "numpyimage = sitk.GetArrayFromImage(sitkimage) # z,y,x"
   ]
  },
  {
   "cell_type": "code",
   "execution_count": 18,
   "metadata": {},
   "outputs": [],
   "source": [
    "nodules = np.array([[-116.2874457,21.16102581,-124.619925],[-111.1930507,-1.264504521,-138.6984478],[73.77454834,37.27831567,-118.3077904]])"
   ]
  },
  {
   "cell_type": "code",
   "execution_count": 35,
   "metadata": {},
   "outputs": [
    {
     "name": "stdout",
     "output_type": "stream",
     "text": [
      "[-195. -195. -378.] [0.76171899 0.76171899 2.5       ]\n",
      "(3,)\n",
      "(3,)\n"
     ]
    }
   ],
   "source": [
    "origin = np.array(sitkimage.GetOrigin()) # x,y,z\n",
    "spacing = np.array(sitkimage.GetSpacing()) # x,y,z\n",
    "print(origin,spacing)\n",
    "print(origin.shape)\n",
    "print(spacing.shape)"
   ]
  },
  {
   "cell_type": "code",
   "execution_count": 45,
   "metadata": {},
   "outputs": [
    {
     "name": "stdout",
     "output_type": "stream",
     "text": [
      "[-116.2874457    21.16102581 -124.619925  ]\n",
      "[103 283 101] \t [-116.54294419   20.56647372 -125.5       ]\n",
      "[103.33542356 283.78053993 101.35203   ] \t [-116.2874457    21.16102581 -124.619925  ]\n",
      "[103 284 101] \t [-116.54294419   21.32819271 -125.5       ]\n",
      "\n",
      "\n",
      "[-111.1930507    -1.26450452 -138.6984478 ]\n",
      "[110 254  95] \t [-111.21091127   -1.52337694 -140.5       ]\n",
      "[110.02344772 254.33985292  95.72062088] \t [-111.1930507    -1.26450452 -138.6984478 ]\n",
      "[110 254  96] \t [-111.21091127   -1.52337694 -138.        ]\n",
      "\n",
      "\n",
      "[  73.77454834   37.27831567 -118.3077904 ]\n",
      "[352 304 103] \t [  73.12508392   36.56257248 -120.5       ]\n",
      "[352.85262994 304.93964205 103.87688384] \t [  73.77454834   37.27831567 -118.3077904 ]\n",
      "[353 305 104] \t [  73.88680291   37.32429147 -118.        ]\n",
      "\n",
      "\n"
     ]
    }
   ],
   "source": [
    "for value in nodules:\n",
    "    print(value)\n",
    "    # 第一种：voxel为整数\n",
    "    a1 = worldToVoxelCoord(value,origin,spacing)\n",
    "    a1_r = voxelToWorldCoord2(a1,origin,spacing)\n",
    "    print(a1,\"\\t\",a1_r)\n",
    "    \n",
    "    # 第二种：voxel不为整数\n",
    "    a2 = worldToVoxelCoord2(value,origin,spacing)\n",
    "    a2_r = voxelToWorldCoord2(a2,origin,spacing)\n",
    "    print(a2,\"\\t\",a2_r)\n",
    "    \n",
    "    # 第五种：sitkimage中的函数\n",
    "    a5 = np.array(sitkimage.TransformPhysicalPointToIndex(value)) # nodules为x,y,z的时候\n",
    "    a5_r = voxelToWorldCoord2(a5,origin,spacing)\n",
    "    print(a5,\"\\t\",a5_r)\n",
    "    print(\"\\n\")"
   ]
  }
 ],
 "metadata": {
  "kernelspec": {
   "display_name": "Python 3",
   "language": "python",
   "name": "python3"
  },
  "language_info": {
   "codemirror_mode": {
    "name": "ipython",
    "version": 3
   },
   "file_extension": ".py",
   "mimetype": "text/x-python",
   "name": "python",
   "nbconvert_exporter": "python",
   "pygments_lexer": "ipython3",
   "version": "3.6.8"
  }
 },
 "nbformat": 4,
 "nbformat_minor": 2
}
