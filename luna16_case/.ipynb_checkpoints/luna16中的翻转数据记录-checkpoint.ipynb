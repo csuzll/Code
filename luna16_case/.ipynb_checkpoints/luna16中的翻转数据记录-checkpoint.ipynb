{
 "cells": [
  {
   "cell_type": "markdown",
   "metadata": {},
   "source": [
    "### 检查luna16数据中翻转数据，并将翻转的文件名保存到txt文件中"
   ]
  },
  {
   "cell_type": "code",
   "execution_count": 1,
   "metadata": {},
   "outputs": [],
   "source": [
    "import csv\n",
    "import sys\n",
    "import os\n",
    "from PIL import Image\n",
    "import matplotlib.pyplot as plt\n",
    "import SimpleITK as sitk\n",
    "import multiprocessing\n",
    "from multiprocessing import Pool\n",
    "from functools import partial\n",
    "import numpy as np\n",
    "%config InlineBackend.figure.format = \"svg\""
   ]
  },
  {
   "cell_type": "code",
   "execution_count": null,
   "metadata": {},
   "outputs": [],
   "source": [
    "import csv\n",
    "import sys\n",
    "import os\n",
    "from PIL import Image\n",
    "import matplotlib.pyplot as plt\n",
    "import SimpleITK as sitk\n",
    "import multiprocessing\n",
    "from multiprocessing import Pool\n",
    "from functools import partial\n",
    "import numpy as np\n",
    "\n",
    "def check_luna(id,filelist,luna_data):\n",
    "    filename = filelist[id]\n",
    "    \n",
    "    file_path = os.path.join(luna_data,filename+\".mhd\")\n",
    "    \n",
    "    # 保存翻转图像路径\n",
    "    flip_file_path = []\n",
    "    \n",
    "    with open(file_path) as f:\n",
    "        contents = f.readlines()\n",
    "        # 获取TransformMatrix开头的这一行\n",
    "        line = [k for k in contents if k.startswith(\"TransformMatrix\")][0] \n",
    "        \n",
    "        # 转换矩阵\n",
    "        transformM = np.array(line.split(\"=\")[1].split(\" \"))[1:].astype(np.float64)\n",
    "        # transformM = np.round(transformM)\n",
    "        \n",
    "        if(np.any(transformM != np.array([1.0,0.0,0.0,0.0,1.0,0.0,0.0,0.0,1.0]))):\n",
    "            # 检查是否存在\n",
    "            if(file_path not in flip_file_path):\n",
    "                flip_file_path.append(file_path)\n",
    "        \n",
    "    return flip_file_path\n",
    "\n",
    "def process_check():\n",
    "    luna_data = \"E:\\\\LUNA16\\\\data\"\n",
    "    \n",
    "    pool = Pool()\n",
    "\n",
    "    for setidx in range(10): # 十份数据\n",
    "        print(\"process subset\",setidx,\"beginning\")\n",
    "        \n",
    "        filelist =  [f.split('.mhd')[0] for f in os.listdir(os.path.join(luna_data,\"subset\"+str(setidx))) if f.endswith('.mhd') ]#原始数据为.mhd文件，只保留文件名，去掉.mhd后缀\n",
    "        print(len(filelist))\n",
    "        partial_check_luna = partial(check_luna,filelist=filelist,luna_data=os.path.join(luna_data,\"subset\"+str(setidx)))\n",
    "        \n",
    "        N = len(filelist)\n",
    "        \n",
    "        re_list = list(pool.map(partial_check_luna,range(N)))  #将函数调用在序列的每个元素上，返回一个含有所有返回值的列表\n",
    "        print(re_list)\n",
    "\n",
    "        txt_filename = \"subset\"+str(setidx)+\".txt\"\n",
    "\n",
    "        if not os.path.exists(txt_filename):\n",
    "        \tf = open(txt_filename,mode=\"w\")\n",
    "        \tf.write(str(re_list))\n",
    "        \tf.close()\n",
    "\n",
    "        print(\"process subset\",setidx,\"endding\")\n",
    "    pool.close()\n",
    "    pool.join()\n",
    "\n",
    "    \n",
    "if __name__ == \"__main__\":\n",
    "\tprocess_check()"
   ]
  },
  {
   "cell_type": "markdown",
   "metadata": {},
   "source": [
    "## 以上代码不可在此运行，会宕机。\n",
    "\n",
    "### 上面代码运行完后，查询direction为小数的图像地址"
   ]
  },
  {
   "cell_type": "code",
   "execution_count": 67,
   "metadata": {},
   "outputs": [],
   "source": [
    "# 从10个txt文件中获取direction有小数的图像地址\n",
    "float_direction_filename = []\n",
    "for setidx in range(10):\n",
    "    f = open(\"subset\"+str(setidx)+\".txt\",\"rt\")\n",
    "    file_context = f.read()\n",
    "    context_array = np.array(file_context.strip(\",\").split(\",\"))\n",
    "    for value in context_array:\n",
    "        value = value.lstrip()\n",
    "        if(value.startswith(\"[\\'\")):\n",
    "            value = value.lstrip(\"[\\'\")\n",
    "            value = value.rstrip(\"\\']\")\n",
    "            float_direction_filename.append(value)\n",
    "            \n",
    "print(float_direction_filename)\n",
    "print(len(float_direction_filename))"
   ]
  },
  {
   "cell_type": "markdown",
   "metadata": {},
   "source": [
    "### 将这些图像的direction记录到表格float_flip.xlsx中"
   ]
  },
  {
   "cell_type": "code",
   "execution_count": 81,
   "metadata": {},
   "outputs": [],
   "source": [
    "direction_dict = {}\n",
    "# 获取这些地址的图像中记录的direction\n",
    "for v in float_direction_filename:\n",
    "    with open(v) as f:\n",
    "        contents = f.readlines()\n",
    "        # 获取TransformMatrix开头的这一行\n",
    "        line = [k for k in contents if k.startswith(\"TransformMatrix\")][0] \n",
    "        \n",
    "        # 转换矩阵\n",
    "        transformM = line.split(\"=\")[1]\n",
    "        \n",
    "        direction_dict[v] = transformM\n",
    "        \n",
    "# 将地址与direction组成的字典写入excel中，方便查看。\n",
    "import xlsxwriter\n",
    "\n",
    "def dict_to_excel(dict_content,excel_title,out_excel_file):\n",
    "    \"\"\"\n",
    "    将字典写入excel中\n",
    "    :type dict_content: object dict\n",
    "    excel_title 列标题\n",
    "    \"\"\"\n",
    "    dict_ing = dict_content\n",
    "    excel_init_file = xlsxwriter.Workbook(out_excel_file)\n",
    "    table = excel_init_file.add_worksheet('bas_info')\n",
    "    title_bold = excel_init_file.add_format({'bold': True, 'border': 2, 'bg_color':'blue'})\n",
    "    border = excel_init_file.add_format({ 'border': 1})\n",
    "    for i,j in enumerate(excel_title):\n",
    "        table.set_column(i,i,len(j)+1)\n",
    "        table.write_string(0,i,j,title_bold)\n",
    "    # for k,v in dict_content.items():\n",
    "    list_key = [k for k in dict_content.keys()]\n",
    "    number = len(dict_content)\n",
    "    for i in range(number):\n",
    "        table.write_string(i+1,0,list_key[i],border)\n",
    "        table.write_string(i+1,1,dict_content.get(list_key[i]),border)\n",
    "    table.set_column(1,1,16)\n",
    "    table.set_column(0,0,16)\n",
    "    excel_init_file.close()\n",
    "    \n",
    "out_excel_file = \"float_flip.xlsx\"\n",
    "excel_title = [\"filepath\",\"transformM\"]\n",
    "dict_to_excel(direction_dict,excel_title,out_excel_file)"
   ]
  },
  {
   "cell_type": "markdown",
   "metadata": {},
   "source": [
    "### 转换矩阵direction小数转为整数（类似0.99999998转为1）后记录到表格float_flip_round.xlsx中"
   ]
  },
  {
   "cell_type": "code",
   "execution_count": 115,
   "metadata": {},
   "outputs": [],
   "source": [
    "direction_dict_round = {}\n",
    "# 获取这些地址的图像中记录的direction,并将direction做变换\n",
    "for v in float_direction_filename:\n",
    "    with open(v) as f:\n",
    "        contents = f.readlines()\n",
    "        # 获取TransformMatrix开头的这一行\n",
    "        line = [k for k in contents if k.startswith(\"TransformMatrix\")][0] \n",
    "        \n",
    "        # 转换矩阵\n",
    "        transformM = np.array(line.split(\"=\")[1].split(\" \"))[1:].astype(np.float64)\n",
    "        \n",
    "        # np.round()将诸如0.999999989这样的数转换为1\n",
    "        transformM = np.round(transformM)\n",
    "        transformM = str(transformM.tolist())\n",
    "        \n",
    "        direction_dict_round[v] = transformM\n",
    "out_excel_file = \"float_flip_round.xlsx\"\n",
    "excel_title = [\"filepath\",\"transformM\"]\n",
    "dict_to_excel(direction_dict_round,excel_title,out_excel_file)"
   ]
  }
 ],
 "metadata": {
  "kernelspec": {
   "display_name": "Python 3",
   "language": "python",
   "name": "python3"
  },
  "language_info": {
   "codemirror_mode": {
    "name": "ipython",
    "version": 3
   },
   "file_extension": ".py",
   "mimetype": "text/x-python",
   "name": "python",
   "nbconvert_exporter": "python",
   "pygments_lexer": "ipython3",
   "version": "3.6.8"
  }
 },
 "nbformat": 4,
 "nbformat_minor": 2
}
