{
 "cells": [
  {
   "cell_type": "markdown",
   "metadata": {},
   "source": [
    "### 记录无阳性结节的病例的id"
   ]
  },
  {
   "cell_type": "code",
   "execution_count": 6,
   "metadata": {},
   "outputs": [],
   "source": [
    "import os\n",
    "import numpy as np\n",
    "import pandas as pd\n",
    "from glob import glob\n",
    "\n",
    "def get_filename(file_list, case):\n",
    "    for f in file_list:\n",
    "        if case in f:\n",
    "            return(f)\n",
    "\n",
    "base_dir =  \"E:\\\\LUNA16\\\\\"\n",
    "annatation_file = \"E:\\\\LUNA16\\\\csvfiles\\\\annotations.csv\"\n",
    "dataframe = pd.DataFrame(columns = [\"subsetid\", \"seriesuid\"])\n",
    "\n",
    "for i in range(0,10):\n",
    "    dcim_path = base_dir + \"data\\\\\"+\"subset\"+str(i)+\"\\\\\"\n",
    "    file_list = glob(dcim_path+\"*.mhd\")\n",
    "    \n",
    "    df_node = pd.read_csv(annatation_file)\n",
    "    df_node[\"file\"] = df_node[\"seriesuid\"].map(lambda file_name: get_filename(file_list, file_name))\n",
    "    df_node = df_node.dropna()\n",
    "    \n",
    "    \n",
    "    for img_file in file_list:\n",
    "        mini_df = df_node[df_node[\"file\"]==img_file] # 按病人id查找真结节\n",
    "        if mini_df.shape[0]<=0:\n",
    "            subsetid = os.path.split(os.path.split(img_file)[0])[-1]\n",
    "            dataframe = dataframe.append(pd.DataFrame({\"subsetid\":subsetid, \"seriesuid\":img_file},index=[0]), ignore_index=True)\n",
    "        \n",
    "dataframe.to_csv(\"E:\\\\LUNA16\\\\csvfiles\\\\non_true_nodule.csv\",index=False, sep=\",\")"
   ]
  }
 ],
 "metadata": {
  "kernelspec": {
   "display_name": "Python 3",
   "language": "python",
   "name": "python3"
  },
  "language_info": {
   "codemirror_mode": {
    "name": "ipython",
    "version": 3
   },
   "file_extension": ".py",
   "mimetype": "text/x-python",
   "name": "python",
   "nbconvert_exporter": "python",
   "pygments_lexer": "ipython3",
   "version": "3.6.8"
  }
 },
 "nbformat": 4,
 "nbformat_minor": 2
}
