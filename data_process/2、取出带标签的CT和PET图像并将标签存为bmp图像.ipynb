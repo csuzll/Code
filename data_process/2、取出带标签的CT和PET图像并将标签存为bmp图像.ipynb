{
 "cells": [
  {
   "cell_type": "markdown",
   "metadata": {},
   "source": [
    "###"
   ]
  },
  {
   "cell_type": "code",
   "execution_count": 1,
   "metadata": {},
   "outputs": [],
   "source": [
    "import os\n",
    "import shutil\n",
    "import nrrd"
   ]
  },
  {
   "cell_type": "markdown",
   "metadata": {},
   "source": [
    "### 数据集的tree目录如下：\n",
    "\n",
    "|--- yuanfazhaodata\n",
    "\n",
    "|--------patient1\n",
    "\n",
    "|---------------patient1_ct\n",
    "\n",
    "|---------------patient1_pet\n",
    "\n",
    "|---------------patient1_nrrd\n",
    "\n",
    "|--------patient2\n",
    "\n",
    "|---------------patient2_ct\n",
    "\n",
    "|---------------patient2_pet\n",
    "\n",
    "|---------------patient2_nrrd"
   ]
  },
  {
   "cell_type": "code",
   "execution_count": 2,
   "metadata": {},
   "outputs": [],
   "source": [
    "# 针对yuanfazhao_data_4\n",
    "# 存放patient的PET目录,CT目录和Lable文件的地址\n",
    "\n",
    "def make_dirpath(data_path):\n",
    "    if(os.path.exists(data_path)):\n",
    "        \n",
    "        # 获取patient数据文件夹\n",
    "        patient_filenames = os.listdir(data_path)\n",
    "        \n",
    "        # 存放label地址\n",
    "        label_dirs = []\n",
    "        # 存放patient的CT地址\n",
    "        ct_dirs = []\n",
    "        # 存放patient的PET地址\n",
    "        pet_dirs = []\n",
    "        \n",
    "        for patient_filename in patient_filenames:\n",
    "            patient_filename_dir = os.path.join(data_path,patient_filename)\n",
    "            t = os.listdir(patient_filename_dir)\n",
    "            label_dirs.append(os.path.join(patient_filename_dir,t[1]))\n",
    "            ct_dirs.append(os.path.join(patient_filename_dir,t[0]))\n",
    "            pet_dirs.append(os.path.join(patient_filename_dir,t[2]))\n",
    "            \n",
    "        return (label_dirs,ct_dirs,pet_dirs)\n",
    "    else:\n",
    "        return \"dataset path is not exit.\"\n",
    "    \n",
    "datapath = \"F:\\\\data\\\\yuanfazhao\\\\yuanfazhao_data_04\"\n",
    "lable_paths,ct_paths,pet_paths = make_dirpath(datapath)\n",
    "\n",
    "# print(lable_paths)\n",
    "# print(len(lable_paths))\n",
    "\n",
    "# print(ct_paths)\n",
    "# print(len(pet_paths))\n",
    "\n",
    "# print(pet_paths)\n",
    "# print(len(pet_paths))"
   ]
  },
  {
   "cell_type": "markdown",
   "metadata": {},
   "source": [
    "### 将nrrd文件中的含有标签的切片转换为BMP图像。\n",
    "这个BMP图像转为ndarray后是bool类型。值为False或True。\n",
    "BMP图像的文件名命名正确。和CT与PET一一对应。"
   ]
  },
  {
   "cell_type": "code",
   "execution_count": 20,
   "metadata": {},
   "outputs": [],
   "source": [
    "from PIL import Image\n",
    "import matplotlib.pyplot as plt\n",
    "import numpy as np\n",
    "\n",
    "\n",
    "# 获取复制过去的数据集的nrrd目录\n",
    "data5path = \"F:\\\\data\\\\yuanfazhao\\\\yuanfazhao_data_05\\\\\"\n",
    "lable_new_paths, _, _ = make_dirpath(data5path)\n",
    "print(lable_new_paths)\n",
    "\n",
    "# 将3Dnrrd（lable）转换为2Dnrrd并存为BMP图像（BMP图像中只含有0和1值）这个BMP图像转为ndarray后是bool类型。值为False或True。\n",
    "def nrrd_to_bmp(nrrd_file):\n",
    "    nrrd_data,nrrd_header = nrrd.read(nrrd_file)\n",
    "    \n",
    "    # 病例切片总数\n",
    "    slice_number = nrrd_data.shape[2]\n",
    "    \n",
    "    # 有标签的序号，与CT和PET相反\n",
    "    num_list = []\n",
    "    \n",
    "    # 设置具有恒定阈值的转换表（因为PIL的模式“1\"默认以125为阈值，不便于保存）\n",
    "    threshold = 1\n",
    "    table = []\n",
    "    for i in range(256):\n",
    "        if i < threshold:\n",
    "            table.append(0)\n",
    "        else:\n",
    "            table.append(1)\n",
    "    \n",
    "    for i in range(slice_number):\n",
    "        data_i = nrrd_data[:,:,i]    # dtype为uint16\n",
    "        \n",
    "        # 利用均值不为0来找出有标签的值\n",
    "        if(data_i.mean()!=0):\n",
    "            num_list.append(i)\n",
    "            \n",
    "            # 转换数据类型为uint8并转置\n",
    "            data_i_uint8 = data_i.astype(np.uint8).T\n",
    "            \n",
    "            # 转换为PIL的Image对象\n",
    "            data_i_img = Image.fromarray(data_i_uint8)\n",
    "\n",
    "            # 按表转换为二值图像并保存\n",
    "            img = data_i_img.point(table,\"1\")\n",
    "            \n",
    "            # 创建标签存放目录\n",
    "            path, _ = os.path.split(nrrd_file)\n",
    "            lable_path = os.path.join(path,\"Lable\")\n",
    "            \n",
    "            # n为真实的序号\n",
    "            n = slice_number - i\n",
    "            length = len(str(n))\n",
    "            if(os.path.exists(lable_path)):\n",
    "                if(length==1):\n",
    "                    img.save(\"{}\\\\{}.bmp\".format(lable_path,\"00\"+str(n)))\n",
    "                elif(length==2):\n",
    "                    img.save(\"{}\\\\{}.bmp\".format(lable_path,\"0\"+str(n)))\n",
    "                else:\n",
    "                    img.save(\"{}\\\\{}.bmp\".format(lable_path,str(n)))\n",
    "            else:\n",
    "                os.makedirs(lable_path)\n",
    "                if(length==1):\n",
    "                    img.save(\"{}\\\\{}.bmp\".format(lable_path,\"00\"+str(n)))\n",
    "                elif(length==2):\n",
    "                    img.save(\"{}\\\\{}.bmp\".format(lable_path,\"0\"+str(n)))\n",
    "                else:\n",
    "                    img.save(\"{}\\\\{}.bmp\".format(lable_path,str(n)))\n",
    "           \n",
    "    return num_list\n",
    "\n",
    "# 执行转为BMP\n",
    "for lable_path in lable_new_paths:\n",
    "    nrrd_to_bmp(lable_path)"
   ]
  },
  {
   "cell_type": "markdown",
   "metadata": {},
   "source": [
    "### 将标签对应的CT与PET取出存放\n",
    "\n",
    "重新单独写了判断NRRD文件中有标签的切片序号的函数，及构建对应文件名的函数。\n"
   ]
  },
  {
   "cell_type": "code",
   "execution_count": 8,
   "metadata": {},
   "outputs": [],
   "source": [
    "# 判断NRRD文件中有标签的切片序号\n",
    "# 返回值：有标签的切片序号列表。\n",
    "def nrrd_number(nrrd_file):\n",
    "    nrrd_data,nrrd_header = nrrd.read(nrrd_file)\n",
    "    \n",
    "    number_of_slice = nrrd_data.shape[2]\n",
    "    \n",
    "    num_list = []\n",
    "    \n",
    "    for i in range(number_of_slice):\n",
    "        data_i = nrrd_data[:,:,i]\n",
    "        \n",
    "        # 利用均值不为0找出有标签的值\n",
    "        if(data_i.mean()!=0):\n",
    "            num_list.append(i)\n",
    "            \n",
    "    return num_list\n",
    "\n",
    "# 通过序号创建文件名（这里的序号不是上个函数求出来的）\n",
    "def make_filename(filename_numlist):\n",
    "    file_name = []\n",
    "    \n",
    "    for num in filename_numlist:\n",
    "        # 确定序号数字的位数\n",
    "        num_str = str(num)\n",
    "        n = len(num_str)\n",
    "        \n",
    "        if (n == 1):\n",
    "            file_name.append(\"00\"+ num_str+ \".dcm\")\n",
    "        elif(n == 2):\n",
    "            file_name.append(\"0\"+num_str+\".dcm\")\n",
    "        elif(n==3):\n",
    "            file_name.append(num_str+\".dcm\")\n",
    "        else:\n",
    "            return 0\n",
    "            \n",
    "    return file_name\n",
    "\n",
    "# 将切片序号和对应文件一一对应，并将文件复制过去\n",
    "def slice_copy(lable_dir,ct_dir,pet_dir,copy_to_path):\n",
    "    \n",
    "    # patient一次检查保存的图像数\n",
    "    l = len(os.listdir(ct_dir))\n",
    "    \n",
    "    # 获取nrrd中的序号\n",
    "    num_list = nrrd_number(lable_dir)\n",
    "        \n",
    "    # 与nrrd中序号对应的CT、PET文件名序号\n",
    "    filename_numlist = []\n",
    "    \n",
    "    for num in num_list:\n",
    "        # 求出标签对应的真实文件名序号\n",
    "        filename_numlist.append(l - num)\n",
    "        \n",
    "    # 从ct_path和pet_path中找出文件名序号对应的文件名，并复制到相应目录下\n",
    "    # 保存构造文件名的列表\n",
    "    file_name = make_filename(filename_numlist)\n",
    "    \n",
    "    # 复制有标签的CT\n",
    "    for ct in file_name:\n",
    "        ct_src = os.path.join(ct_dir,ct)\n",
    "        ct_target_dir = os.path.join(copy_to_path,ct_dir.split('\\\\',3)[-1])\n",
    "        isExists_ct = os.path.exists(ct_target_dir)\n",
    "        if not isExists_ct:\n",
    "            os.makedirs(ct_target_dir)\n",
    "        shutil.copy(ct_src,ct_target_dir)\n",
    "\n",
    "    # 复制有标签的PET\n",
    "    for pet in file_name:\n",
    "        pet_src = os.path.join(pet_dir,pet)\n",
    "        pet_target_dir = os.path.join(copy_to_path,pet_dir.split('\\\\',3)[-1])\n",
    "        isExists_pet = os.path.exists(pet_target_dir)\n",
    "        if not isExists_pet:\n",
    "            os.makedirs(pet_target_dir)\n",
    "        shutil.copy(pet_src,pet_target_dir)\n",
    "        \n",
    "    # 复制lable 这里只是把nrrd复制过来\n",
    "    lable_target_dir = os.path.join(copy_to_path,lable_dir.split('\\\\')[-2])\n",
    "    isExists_lable = os.path.exists(lable_target_dir)\n",
    "    if not isExists_lable:\n",
    "        os.makedirs(lable_target_dir)\n",
    "    shutil.copy(lable_dir,lable_target_dir)\n",
    "    \n",
    "# 执行复制，从data_04中选择文件复制到data_05\n",
    "# 保持相同的目录命名方式\n",
    "\n",
    "patient_num = len(lable_paths)\n",
    "copy_path = \"F:\\\\data\\\\yuanfazhao\\\\yuanfazhao_data_05\"\n",
    "for i in range(patient_num):\n",
    "    slice_copy(lable_paths[i],ct_paths[i],pet_paths[i],copy_path)"
   ]
  },
  {
   "cell_type": "markdown",
   "metadata": {},
   "source": [
    "### 测试CT，PET，BMP图像"
   ]
  },
  {
   "cell_type": "code",
   "execution_count": 22,
   "metadata": {
    "scrolled": false
   },
   "outputs": [
    {
     "name": "stdout",
     "output_type": "stream",
     "text": [
      "(1, 512, 512)\n",
      "int32\n",
      "(1, 128, 128)\n",
      "float64\n",
      "(512, 512)\n",
      "bool\n"
     ]
    },
    {
     "data": {
      "image/png": "[encoded data removed]",
      "text/plain": [
       "<Figure size 432x288 with 1 Axes>"
      ]
     },
     "metadata": {
      "needs_background": "light"
     },
     "output_type": "display_data"
    },
    {
     "data": {
      "image/png": "[encoded data removed]",
      "text/plain": [
       "<Figure size 432x288 with 1 Axes>"
      ]
     },
     "metadata": {
      "needs_background": "light"
     },
     "output_type": "display_data"
    },
    {
     "data": {
      "image/png": "[encoded data removed]",
      "text/plain": [
       "<Figure size 432x288 with 1 Axes>"
      ]
     },
     "metadata": {
      "needs_background": "light"
     },
     "output_type": "display_data"
    },
    {
     "data": {
      "image/png": "[encoded data removed]",
      "text/plain": [
       "<Figure size 432x288 with 1 Axes>"
      ]
     },
     "metadata": {
      "needs_background": "light"
     },
     "output_type": "display_data"
    }
   ],
   "source": [
    "# 测试\n",
    "import SimpleITK as sitk\n",
    "ctimg_path = \"F:\\\\data\\\\yuanfazhao\\\\yuanfazhao_data_05\\\\N0-1978-wangyunqing\\\\C4NEH5E20\\\\088.dcm\"\n",
    "petimg_path = \"F:\\\\data\\\\yuanfazhao\\\\yuanfazhao_data_05\\\\N0-1978-wangyunqing\\\\POJZYTLRB\\\\088.dcm\"\n",
    "lableimg_path = \"F:\\\\data\\\\yuanfazhao\\\\yuanfazhao_data_05\\\\N0-1978-wangyunqing\\\\Lable\\\\088.bmp\"\n",
    "\n",
    "ctimg = sitk.GetArrayFromImage(sitk.ReadImage(ctimg_path))\n",
    "petimg = sitk.GetArrayFromImage(sitk.ReadImage(petimg_path))\n",
    "lableimg = np.array(Image.open(lableimg_path))\n",
    "\n",
    "print(ctimg.shape)\n",
    "print(ctimg.dtype)\n",
    "print(petimg.shape)\n",
    "print(petimg.dtype)\n",
    "print(lableimg.shape)\n",
    "print(lableimg.dtype)\n",
    "\n",
    "plt.figure(\"Image\")\n",
    "plt.imshow(ctimg[0,:,:],cmap=\"gray\")\n",
    "plt.show()\n",
    "plt.figure(\"Image\")\n",
    "plt.imshow(petimg[0,:,:],cmap=\"gray\")\n",
    "plt.show()\n",
    "plt.figure(\"Image\")\n",
    "plt.imshow(lableimg,cmap=\"gray\")\n",
    "plt.show()\n",
    "plt.figure(\"Image\")\n",
    "plt.imshow(lableimg.T,cmap=\"gray\")\n",
    "plt.show()"
   ]
  },
  {
   "cell_type": "markdown",
   "metadata": {},
   "source": [
    "### 比较SimpleIKT 和 Pydicom读取dicom的区别。"
   ]
  },
  {
   "cell_type": "code",
   "execution_count": 3,
   "metadata": {
    "scrolled": true
   },
   "outputs": [
    {
     "name": "stdout",
     "output_type": "stream",
     "text": [
      "int32 int16\n",
      "-1024 1\n",
      "\n",
      "\n",
      "sitk_arr： -127 -930\n",
      "pydicom_arr： 897 94\n",
      "pydicom计算： -127.0 -930.0\n"
     ]
    }
   ],
   "source": [
    "import pydicom\n",
    "import SimpleITK as sitk\n",
    "\n",
    "# SimpleITK读取的像素值是HU值。\n",
    "# pydicom读取的是dicom中PixelData。\n",
    "# 测试CT图像\n",
    "\n",
    "ctimg_path1 = \"F:\\\\data\\\\yuanfazhao\\\\yuanfazhao_data_05\\\\N0-1978-wangyunqing\\\\C4NEH5E20\\\\088.dcm\"\n",
    "\n",
    "# sitk读取\n",
    "ctimg1 = sitk.ReadImage(ctimg_path1)\n",
    "ctimg1_arr = sitk.GetArrayFromImage(ctimg1)\n",
    "\n",
    "# pidicom读取\n",
    "ctimg2 = pydicom.dcmread(ctimg_path1)\n",
    "ctimg2_arr = ctimg2.pixel_array\n",
    "\n",
    "RI = ctimg2[0x0028,0x1052].value\n",
    "RS = ctimg2[0x0028,0x1053].value\n",
    "\n",
    "\n",
    "print(ctimg1_arr.dtype,ctimg2_arr.dtype)\n",
    "print(RI,RS)\n",
    "print(\"\\n\")\n",
    "\n",
    "print(\"sitk_arr：\",ctimg1_arr[0][165][302],ctimg1_arr[0][302][165])\n",
    "print(\"pydicom_arr：\",ctimg2_arr[165][302],ctimg2_arr[302][165])\n",
    "print(\"pydicom计算：\",ctimg2_arr[165][302] * RS + RI,ctimg2_arr[302][165] * RS + RI)\n",
    "\n",
    "# print(\"sitk\",ctimg1.GetPixel(302,165,0),ctimg1.GetPixel(165,302,0))\n"
   ]
  },
  {
   "cell_type": "code",
   "execution_count": 25,
   "metadata": {},
   "outputs": [
    {
     "name": "stdout",
     "output_type": "stream",
     "text": [
      "float64 int16\n",
      "0 0.00223688990809\n",
      "SimpleITK Image: 0.72251544031307 2.54110693559024\n",
      "SimpleITK Image array: 0.72251544031307 2.54110693559024\n",
      "Pydicom array: 323 1136\n",
      "公式计算： 0.72251544031307 2.54110693559024\n"
     ]
    }
   ],
   "source": [
    "petimg_path1 = \"F:\\\\data\\\\yuanfazhao_data_05\\\\N0-1978-wangyunqing\\\\POJZYTLRB\\\\088.dcm\"\n",
    "\n",
    "# 测试PET图像\n",
    "\n",
    "# sitk读取出的是转换后的\n",
    "petimg1 = sitk.ReadImage(petimg_path1)\n",
    "petimg1_arr = sitk.GetArrayFromImage(petimg1)\n",
    "\n",
    "# pydicom读取的是原始数据\n",
    "petimg2 = pydicom.dcmread(petimg_path1)\n",
    "petimg2_arr = petimg2.pixel_array\n",
    "\n",
    "RI2 = petimg2[0x0028,0x1052].value\n",
    "RS2 = petimg2[0x0028,0x1053].value\n",
    "\n",
    "v11 = petimg2_arr[58][67] * RS2 + RI2\n",
    "v22 = petimg2_arr[67][58] * RS2 + RI2\n",
    "\n",
    "print(petimg1_arr.dtype,petimg2_arr.dtype)\n",
    "print(RI2,RS2)\n",
    "print(\"SimpleITK Image:\",petimg1.GetPixel(67,58,0),petimg1.GetPixel(58,67,0))\n",
    "print(\"SimpleITK Image array:\",petimg1_arr[0][58][67],petimg1_arr[0][67][58])\n",
    "print(\"Pydicom array:\",petimg2_arr[58][67],petimg2_arr[67][58])\n",
    "print(\"公式计算：\",v11,v22)"
   ]
  }
 ],
 "metadata": {
  "kernelspec": {
   "display_name": "Python 3",
   "language": "python",
   "name": "python3"
  },
  "language_info": {
   "codemirror_mode": {
    "name": "ipython",
    "version": 3
   },
   "file_extension": ".py",
   "mimetype": "text/x-python",
   "name": "python",
   "nbconvert_exporter": "python",
   "pygments_lexer": "ipython3",
   "version": "3.6.8"
  }
 },
 "nbformat": 4,
 "nbformat_minor": 2
}
