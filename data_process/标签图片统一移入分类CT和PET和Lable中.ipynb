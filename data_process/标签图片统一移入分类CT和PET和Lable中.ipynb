{
 "cells": [
  {
   "cell_type": "markdown",
   "metadata": {},
   "source": [
    "将含有标签的CT、PET和Lable重命名，\n",
    "\n",
    "CT重命名：C + 类别 + 病人姓名 + 文件名原来的序号\n",
    "\n",
    "PET重命名：P + 类别 + 病人姓名 + 文件名原来的序号\n",
    "\n",
    "Lable：L + 类别 + 病人姓名 + 文件名原来的序号"
   ]
  },
  {
   "cell_type": "code",
   "execution_count": 1,
   "metadata": {},
   "outputs": [],
   "source": [
    "import os\n",
    "import shutil"
   ]
  },
  {
   "cell_type": "code",
   "execution_count": 7,
   "metadata": {},
   "outputs": [],
   "source": [
    "# 存放patient病人的PET目录,CT目录和Lable文件的地址\n",
    "\n",
    "def make_dirpath(data_path):\n",
    "    if(os.path.exists(data_path)):\n",
    "        \n",
    "        # 获取patient数据文件夹\n",
    "        patient_filenames = os.listdir(data_path)\n",
    "        \n",
    "        # 存放label地址\n",
    "        label_dirs = []\n",
    "        # 存放patient的CT地址\n",
    "        ct_dirs = []\n",
    "        # 存放patient的PET地址\n",
    "        pet_dirs = []\n",
    "        \n",
    "        for patient_filename in patient_filenames:\n",
    "            patient_filename_dir = os.path.join(data_path,patient_filename)\n",
    "            t = os.listdir(patient_filename_dir)\n",
    "            label_dirs.append(os.path.join(patient_filename_dir,t[1]))\n",
    "            ct_dirs.append(os.path.join(patient_filename_dir,t[0]))\n",
    "            pet_dirs.append(os.path.join(patient_filename_dir,t[3]))\n",
    "            \n",
    "        return (label_dirs,ct_dirs,pet_dirs)\n",
    "    else:\n",
    "        return \"dataset path is not exit.\""
   ]
  },
  {
   "cell_type": "code",
   "execution_count": 8,
   "metadata": {},
   "outputs": [],
   "source": [
    "datapath = \"F:\\\\data\\\\yuanfazhao_data_05\"\n",
    "lable_paths,patient_ct_paths,patient_pet_paths = make_dirpath(datapath)"
   ]
  },
  {
   "cell_type": "code",
   "execution_count": 9,
   "metadata": {},
   "outputs": [
    {
     "name": "stdout",
     "output_type": "stream",
     "text": [
      "['F:\\\\data\\\\yuanfazhao_data_05\\\\N0-1978-wangyunqing\\\\Lable', 'F:\\\\data\\\\yuanfazhao_data_05\\\\N0-2115-tangliru\\\\Lable', 'F:\\\\data\\\\yuanfazhao_data_05\\\\N0-2201-ruanguanfu\\\\Lable', 'F:\\\\data\\\\yuanfazhao_data_05\\\\N0-484-wulong\\\\Lable', 'F:\\\\data\\\\yuanfazhao_data_05\\\\N0-485-wulingbo\\\\Lable', 'F:\\\\data\\\\yuanfazhao_data_05\\\\N0-60-wangguiping\\\\Lable', 'F:\\\\data\\\\yuanfazhao_data_05\\\\N1-2525-liwanfeng\\\\Lable', 'F:\\\\data\\\\yuanfazhao_data_05\\\\N1-2621-jinyanlai\\\\Lable', 'F:\\\\data\\\\yuanfazhao_data_05\\\\N2-1062-huangxueqi\\\\Lable', 'F:\\\\data\\\\yuanfazhao_data_05\\\\N2-1901-xiafafu\\\\Lable', 'F:\\\\data\\\\yuanfazhao_data_05\\\\N2-2403-liushaogang\\\\Lable', 'F:\\\\data\\\\yuanfazhao_data_05\\\\N2-2506-lixiuqing\\\\Lable', 'F:\\\\data\\\\yuanfazhao_data_05\\\\N2-541-wangwuping\\\\Lable', 'F:\\\\data\\\\yuanfazhao_data_05\\\\N2-557-wanglijuan\\\\Lable', 'F:\\\\data\\\\yuanfazhao_data_05\\\\N2-607-wanhongliang\\\\Lable']\n",
      "15\n"
     ]
    }
   ],
   "source": [
    "print(lable_paths)\n",
    "print(len(lable_paths))"
   ]
  },
  {
   "cell_type": "code",
   "execution_count": 10,
   "metadata": {},
   "outputs": [
    {
     "name": "stdout",
     "output_type": "stream",
     "text": [
      "['F:\\\\data\\\\yuanfazhao_data_05\\\\N0-1978-wangyunqing\\\\C4NEH5E20', 'F:\\\\data\\\\yuanfazhao_data_05\\\\N0-2115-tangliru\\\\CZPJUFO1Y', 'F:\\\\data\\\\yuanfazhao_data_05\\\\N0-2201-ruanguanfu\\\\CYPYNZS0T', 'F:\\\\data\\\\yuanfazhao_data_05\\\\N0-484-wulong\\\\CE1VOZRHT', 'F:\\\\data\\\\yuanfazhao_data_05\\\\N0-485-wulingbo\\\\CZXMCE2E0', 'F:\\\\data\\\\yuanfazhao_data_05\\\\N0-60-wangguiping\\\\C5YGD35LZ', 'F:\\\\data\\\\yuanfazhao_data_05\\\\N1-2525-liwanfeng\\\\CWJREMFFT', 'F:\\\\data\\\\yuanfazhao_data_05\\\\N1-2621-jinyanlai\\\\CWAYLK3IB', 'F:\\\\data\\\\yuanfazhao_data_05\\\\N2-1062-huangxueqi\\\\CWHIB2QD5', 'F:\\\\data\\\\yuanfazhao_data_05\\\\N2-1901-xiafafu\\\\CT2XWRBHT', 'F:\\\\data\\\\yuanfazhao_data_05\\\\N2-2403-liushaogang\\\\CNMDHQGZE', 'F:\\\\data\\\\yuanfazhao_data_05\\\\N2-2506-lixiuqing\\\\CZ5TGIPGI', 'F:\\\\data\\\\yuanfazhao_data_05\\\\N2-541-wangwuping\\\\C1UQCBBUK', 'F:\\\\data\\\\yuanfazhao_data_05\\\\N2-557-wanglijuan\\\\CJPWWVPSY', 'F:\\\\data\\\\yuanfazhao_data_05\\\\N2-607-wanhongliang\\\\CMGT0224F']\n",
      "15\n"
     ]
    }
   ],
   "source": [
    "print(patient_ct_paths)\n",
    "print(len(patient_pet_paths))"
   ]
  },
  {
   "cell_type": "code",
   "execution_count": 11,
   "metadata": {},
   "outputs": [
    {
     "name": "stdout",
     "output_type": "stream",
     "text": [
      "['F:\\\\data\\\\yuanfazhao_data_05\\\\N0-1978-wangyunqing\\\\POJZYTLRB', 'F:\\\\data\\\\yuanfazhao_data_05\\\\N0-2115-tangliru\\\\PVX1ENSN0', 'F:\\\\data\\\\yuanfazhao_data_05\\\\N0-2201-ruanguanfu\\\\PE0PVNFFH', 'F:\\\\data\\\\yuanfazhao_data_05\\\\N0-484-wulong\\\\PERNUYMBW', 'F:\\\\data\\\\yuanfazhao_data_05\\\\N0-485-wulingbo\\\\PRJCRYXPL', 'F:\\\\data\\\\yuanfazhao_data_05\\\\N0-60-wangguiping\\\\PFTBQFDSZ', 'F:\\\\data\\\\yuanfazhao_data_05\\\\N1-2525-liwanfeng\\\\P4ZLYZYPL', 'F:\\\\data\\\\yuanfazhao_data_05\\\\N1-2621-jinyanlai\\\\PPOVGQPRV', 'F:\\\\data\\\\yuanfazhao_data_05\\\\N2-1062-huangxueqi\\\\PNVXAJ4EX', 'F:\\\\data\\\\yuanfazhao_data_05\\\\N2-1901-xiafafu\\\\P5CBOVZA2', 'F:\\\\data\\\\yuanfazhao_data_05\\\\N2-2403-liushaogang\\\\PLZCXHYGF', 'F:\\\\data\\\\yuanfazhao_data_05\\\\N2-2506-lixiuqing\\\\PUUSM4RWV', 'F:\\\\data\\\\yuanfazhao_data_05\\\\N2-541-wangwuping\\\\P3LOFW1US', 'F:\\\\data\\\\yuanfazhao_data_05\\\\N2-557-wanglijuan\\\\PNYYC2GLE', 'F:\\\\data\\\\yuanfazhao_data_05\\\\N2-607-wanhongliang\\\\P402CVNYW']\n",
      "15\n"
     ]
    }
   ],
   "source": [
    "print(patient_pet_paths)\n",
    "print(len(patient_pet_paths))"
   ]
  },
  {
   "cell_type": "code",
   "execution_count": 12,
   "metadata": {},
   "outputs": [
    {
     "name": "stdout",
     "output_type": "stream",
     "text": [
      "['F:\\\\data\\\\yuanfazhao_data_05\\\\N0-1978-wangyunqing\\\\C4NEH5E20\\\\087.dcm', 'F:\\\\data\\\\yuanfazhao_data_05\\\\N0-1978-wangyunqing\\\\C4NEH5E20\\\\088.dcm', 'F:\\\\data\\\\yuanfazhao_data_05\\\\N0-1978-wangyunqing\\\\C4NEH5E20\\\\089.dcm', 'F:\\\\data\\\\yuanfazhao_data_05\\\\N0-1978-wangyunqing\\\\C4NEH5E20\\\\090.dcm', 'F:\\\\data\\\\yuanfazhao_data_05\\\\N0-2115-tangliru\\\\CZPJUFO1Y\\\\106.dcm', 'F:\\\\data\\\\yuanfazhao_data_05\\\\N0-2115-tangliru\\\\CZPJUFO1Y\\\\107.dcm', 'F:\\\\data\\\\yuanfazhao_data_05\\\\N0-2115-tangliru\\\\CZPJUFO1Y\\\\108.dcm', 'F:\\\\data\\\\yuanfazhao_data_05\\\\N0-2115-tangliru\\\\CZPJUFO1Y\\\\109.dcm', 'F:\\\\data\\\\yuanfazhao_data_05\\\\N0-2115-tangliru\\\\CZPJUFO1Y\\\\110.dcm', 'F:\\\\data\\\\yuanfazhao_data_05\\\\N0-2115-tangliru\\\\CZPJUFO1Y\\\\111.dcm', 'F:\\\\data\\\\yuanfazhao_data_05\\\\N0-2115-tangliru\\\\CZPJUFO1Y\\\\112.dcm', 'F:\\\\data\\\\yuanfazhao_data_05\\\\N0-2201-ruanguanfu\\\\CYPYNZS0T\\\\088.dcm', 'F:\\\\data\\\\yuanfazhao_data_05\\\\N0-2201-ruanguanfu\\\\CYPYNZS0T\\\\089.dcm', 'F:\\\\data\\\\yuanfazhao_data_05\\\\N0-2201-ruanguanfu\\\\CYPYNZS0T\\\\090.dcm', 'F:\\\\data\\\\yuanfazhao_data_05\\\\N0-2201-ruanguanfu\\\\CYPYNZS0T\\\\091.dcm', 'F:\\\\data\\\\yuanfazhao_data_05\\\\N0-2201-ruanguanfu\\\\CYPYNZS0T\\\\092.dcm', 'F:\\\\data\\\\yuanfazhao_data_05\\\\N0-2201-ruanguanfu\\\\CYPYNZS0T\\\\093.dcm', 'F:\\\\data\\\\yuanfazhao_data_05\\\\N0-2201-ruanguanfu\\\\CYPYNZS0T\\\\094.dcm', 'F:\\\\data\\\\yuanfazhao_data_05\\\\N0-2201-ruanguanfu\\\\CYPYNZS0T\\\\095.dcm', 'F:\\\\data\\\\yuanfazhao_data_05\\\\N0-2201-ruanguanfu\\\\CYPYNZS0T\\\\096.dcm', 'F:\\\\data\\\\yuanfazhao_data_05\\\\N0-484-wulong\\\\CE1VOZRHT\\\\090.dcm', 'F:\\\\data\\\\yuanfazhao_data_05\\\\N0-484-wulong\\\\CE1VOZRHT\\\\091.dcm', 'F:\\\\data\\\\yuanfazhao_data_05\\\\N0-484-wulong\\\\CE1VOZRHT\\\\092.dcm', 'F:\\\\data\\\\yuanfazhao_data_05\\\\N0-484-wulong\\\\CE1VOZRHT\\\\093.dcm', 'F:\\\\data\\\\yuanfazhao_data_05\\\\N0-484-wulong\\\\CE1VOZRHT\\\\094.dcm', 'F:\\\\data\\\\yuanfazhao_data_05\\\\N0-484-wulong\\\\CE1VOZRHT\\\\095.dcm', 'F:\\\\data\\\\yuanfazhao_data_05\\\\N0-484-wulong\\\\CE1VOZRHT\\\\096.dcm', 'F:\\\\data\\\\yuanfazhao_data_05\\\\N0-484-wulong\\\\CE1VOZRHT\\\\097.dcm', 'F:\\\\data\\\\yuanfazhao_data_05\\\\N0-484-wulong\\\\CE1VOZRHT\\\\098.dcm', 'F:\\\\data\\\\yuanfazhao_data_05\\\\N0-484-wulong\\\\CE1VOZRHT\\\\099.dcm', 'F:\\\\data\\\\yuanfazhao_data_05\\\\N0-484-wulong\\\\CE1VOZRHT\\\\100.dcm', 'F:\\\\data\\\\yuanfazhao_data_05\\\\N0-485-wulingbo\\\\CZXMCE2E0\\\\098.dcm', 'F:\\\\data\\\\yuanfazhao_data_05\\\\N0-485-wulingbo\\\\CZXMCE2E0\\\\099.dcm', 'F:\\\\data\\\\yuanfazhao_data_05\\\\N0-485-wulingbo\\\\CZXMCE2E0\\\\100.dcm', 'F:\\\\data\\\\yuanfazhao_data_05\\\\N0-485-wulingbo\\\\CZXMCE2E0\\\\101.dcm', 'F:\\\\data\\\\yuanfazhao_data_05\\\\N0-485-wulingbo\\\\CZXMCE2E0\\\\102.dcm', 'F:\\\\data\\\\yuanfazhao_data_05\\\\N0-485-wulingbo\\\\CZXMCE2E0\\\\103.dcm', 'F:\\\\data\\\\yuanfazhao_data_05\\\\N0-485-wulingbo\\\\CZXMCE2E0\\\\104.dcm', 'F:\\\\data\\\\yuanfazhao_data_05\\\\N0-485-wulingbo\\\\CZXMCE2E0\\\\105.dcm', 'F:\\\\data\\\\yuanfazhao_data_05\\\\N0-485-wulingbo\\\\CZXMCE2E0\\\\106.dcm', 'F:\\\\data\\\\yuanfazhao_data_05\\\\N0-485-wulingbo\\\\CZXMCE2E0\\\\107.dcm', 'F:\\\\data\\\\yuanfazhao_data_05\\\\N0-485-wulingbo\\\\CZXMCE2E0\\\\108.dcm', 'F:\\\\data\\\\yuanfazhao_data_05\\\\N0-485-wulingbo\\\\CZXMCE2E0\\\\109.dcm', 'F:\\\\data\\\\yuanfazhao_data_05\\\\N0-60-wangguiping\\\\C5YGD35LZ\\\\093.dcm', 'F:\\\\data\\\\yuanfazhao_data_05\\\\N0-60-wangguiping\\\\C5YGD35LZ\\\\094.dcm', 'F:\\\\data\\\\yuanfazhao_data_05\\\\N0-60-wangguiping\\\\C5YGD35LZ\\\\095.dcm', 'F:\\\\data\\\\yuanfazhao_data_05\\\\N1-2525-liwanfeng\\\\CWJREMFFT\\\\084.dcm', 'F:\\\\data\\\\yuanfazhao_data_05\\\\N1-2525-liwanfeng\\\\CWJREMFFT\\\\085.dcm', 'F:\\\\data\\\\yuanfazhao_data_05\\\\N1-2525-liwanfeng\\\\CWJREMFFT\\\\086.dcm', 'F:\\\\data\\\\yuanfazhao_data_05\\\\N1-2525-liwanfeng\\\\CWJREMFFT\\\\087.dcm', 'F:\\\\data\\\\yuanfazhao_data_05\\\\N1-2525-liwanfeng\\\\CWJREMFFT\\\\088.dcm', 'F:\\\\data\\\\yuanfazhao_data_05\\\\N1-2525-liwanfeng\\\\CWJREMFFT\\\\089.dcm', 'F:\\\\data\\\\yuanfazhao_data_05\\\\N1-2525-liwanfeng\\\\CWJREMFFT\\\\090.dcm', 'F:\\\\data\\\\yuanfazhao_data_05\\\\N1-2525-liwanfeng\\\\CWJREMFFT\\\\091.dcm', 'F:\\\\data\\\\yuanfazhao_data_05\\\\N1-2525-liwanfeng\\\\CWJREMFFT\\\\092.dcm', 'F:\\\\data\\\\yuanfazhao_data_05\\\\N1-2525-liwanfeng\\\\CWJREMFFT\\\\093.dcm', 'F:\\\\data\\\\yuanfazhao_data_05\\\\N1-2525-liwanfeng\\\\CWJREMFFT\\\\094.dcm', 'F:\\\\data\\\\yuanfazhao_data_05\\\\N1-2525-liwanfeng\\\\CWJREMFFT\\\\095.dcm', 'F:\\\\data\\\\yuanfazhao_data_05\\\\N1-2525-liwanfeng\\\\CWJREMFFT\\\\096.dcm', 'F:\\\\data\\\\yuanfazhao_data_05\\\\N1-2525-liwanfeng\\\\CWJREMFFT\\\\097.dcm', 'F:\\\\data\\\\yuanfazhao_data_05\\\\N1-2621-jinyanlai\\\\CWAYLK3IB\\\\127.dcm', 'F:\\\\data\\\\yuanfazhao_data_05\\\\N1-2621-jinyanlai\\\\CWAYLK3IB\\\\128.dcm', 'F:\\\\data\\\\yuanfazhao_data_05\\\\N1-2621-jinyanlai\\\\CWAYLK3IB\\\\129.dcm', 'F:\\\\data\\\\yuanfazhao_data_05\\\\N1-2621-jinyanlai\\\\CWAYLK3IB\\\\130.dcm', 'F:\\\\data\\\\yuanfazhao_data_05\\\\N1-2621-jinyanlai\\\\CWAYLK3IB\\\\131.dcm', 'F:\\\\data\\\\yuanfazhao_data_05\\\\N1-2621-jinyanlai\\\\CWAYLK3IB\\\\132.dcm', 'F:\\\\data\\\\yuanfazhao_data_05\\\\N1-2621-jinyanlai\\\\CWAYLK3IB\\\\133.dcm', 'F:\\\\data\\\\yuanfazhao_data_05\\\\N1-2621-jinyanlai\\\\CWAYLK3IB\\\\134.dcm', 'F:\\\\data\\\\yuanfazhao_data_05\\\\N1-2621-jinyanlai\\\\CWAYLK3IB\\\\135.dcm', 'F:\\\\data\\\\yuanfazhao_data_05\\\\N1-2621-jinyanlai\\\\CWAYLK3IB\\\\136.dcm', 'F:\\\\data\\\\yuanfazhao_data_05\\\\N1-2621-jinyanlai\\\\CWAYLK3IB\\\\137.dcm', 'F:\\\\data\\\\yuanfazhao_data_05\\\\N2-1062-huangxueqi\\\\CWHIB2QD5\\\\118.dcm', 'F:\\\\data\\\\yuanfazhao_data_05\\\\N2-1062-huangxueqi\\\\CWHIB2QD5\\\\119.dcm', 'F:\\\\data\\\\yuanfazhao_data_05\\\\N2-1062-huangxueqi\\\\CWHIB2QD5\\\\120.dcm', 'F:\\\\data\\\\yuanfazhao_data_05\\\\N2-1062-huangxueqi\\\\CWHIB2QD5\\\\121.dcm', 'F:\\\\data\\\\yuanfazhao_data_05\\\\N2-1062-huangxueqi\\\\CWHIB2QD5\\\\122.dcm', 'F:\\\\data\\\\yuanfazhao_data_05\\\\N2-1062-huangxueqi\\\\CWHIB2QD5\\\\123.dcm', 'F:\\\\data\\\\yuanfazhao_data_05\\\\N2-1062-huangxueqi\\\\CWHIB2QD5\\\\124.dcm', 'F:\\\\data\\\\yuanfazhao_data_05\\\\N2-1062-huangxueqi\\\\CWHIB2QD5\\\\125.dcm', 'F:\\\\data\\\\yuanfazhao_data_05\\\\N2-1062-huangxueqi\\\\CWHIB2QD5\\\\126.dcm', 'F:\\\\data\\\\yuanfazhao_data_05\\\\N2-1062-huangxueqi\\\\CWHIB2QD5\\\\127.dcm', 'F:\\\\data\\\\yuanfazhao_data_05\\\\N2-1901-xiafafu\\\\CT2XWRBHT\\\\132.dcm', 'F:\\\\data\\\\yuanfazhao_data_05\\\\N2-1901-xiafafu\\\\CT2XWRBHT\\\\133.dcm', 'F:\\\\data\\\\yuanfazhao_data_05\\\\N2-1901-xiafafu\\\\CT2XWRBHT\\\\134.dcm', 'F:\\\\data\\\\yuanfazhao_data_05\\\\N2-1901-xiafafu\\\\CT2XWRBHT\\\\135.dcm', 'F:\\\\data\\\\yuanfazhao_data_05\\\\N2-1901-xiafafu\\\\CT2XWRBHT\\\\136.dcm', 'F:\\\\data\\\\yuanfazhao_data_05\\\\N2-1901-xiafafu\\\\CT2XWRBHT\\\\137.dcm', 'F:\\\\data\\\\yuanfazhao_data_05\\\\N2-1901-xiafafu\\\\CT2XWRBHT\\\\138.dcm', 'F:\\\\data\\\\yuanfazhao_data_05\\\\N2-1901-xiafafu\\\\CT2XWRBHT\\\\139.dcm', 'F:\\\\data\\\\yuanfazhao_data_05\\\\N2-1901-xiafafu\\\\CT2XWRBHT\\\\140.dcm', 'F:\\\\data\\\\yuanfazhao_data_05\\\\N2-1901-xiafafu\\\\CT2XWRBHT\\\\141.dcm', 'F:\\\\data\\\\yuanfazhao_data_05\\\\N2-1901-xiafafu\\\\CT2XWRBHT\\\\142.dcm', 'F:\\\\data\\\\yuanfazhao_data_05\\\\N2-1901-xiafafu\\\\CT2XWRBHT\\\\143.dcm', 'F:\\\\data\\\\yuanfazhao_data_05\\\\N2-2403-liushaogang\\\\CNMDHQGZE\\\\103.dcm', 'F:\\\\data\\\\yuanfazhao_data_05\\\\N2-2403-liushaogang\\\\CNMDHQGZE\\\\104.dcm', 'F:\\\\data\\\\yuanfazhao_data_05\\\\N2-2403-liushaogang\\\\CNMDHQGZE\\\\105.dcm', 'F:\\\\data\\\\yuanfazhao_data_05\\\\N2-2403-liushaogang\\\\CNMDHQGZE\\\\106.dcm', 'F:\\\\data\\\\yuanfazhao_data_05\\\\N2-2403-liushaogang\\\\CNMDHQGZE\\\\107.dcm', 'F:\\\\data\\\\yuanfazhao_data_05\\\\N2-2403-liushaogang\\\\CNMDHQGZE\\\\108.dcm', 'F:\\\\data\\\\yuanfazhao_data_05\\\\N2-2403-liushaogang\\\\CNMDHQGZE\\\\109.dcm', 'F:\\\\data\\\\yuanfazhao_data_05\\\\N2-2403-liushaogang\\\\CNMDHQGZE\\\\110.dcm', 'F:\\\\data\\\\yuanfazhao_data_05\\\\N2-2403-liushaogang\\\\CNMDHQGZE\\\\111.dcm', 'F:\\\\data\\\\yuanfazhao_data_05\\\\N2-2403-liushaogang\\\\CNMDHQGZE\\\\112.dcm', 'F:\\\\data\\\\yuanfazhao_data_05\\\\N2-2403-liushaogang\\\\CNMDHQGZE\\\\113.dcm', 'F:\\\\data\\\\yuanfazhao_data_05\\\\N2-2403-liushaogang\\\\CNMDHQGZE\\\\114.dcm', 'F:\\\\data\\\\yuanfazhao_data_05\\\\N2-2403-liushaogang\\\\CNMDHQGZE\\\\115.dcm', 'F:\\\\data\\\\yuanfazhao_data_05\\\\N2-2403-liushaogang\\\\CNMDHQGZE\\\\116.dcm', 'F:\\\\data\\\\yuanfazhao_data_05\\\\N2-2403-liushaogang\\\\CNMDHQGZE\\\\117.dcm', 'F:\\\\data\\\\yuanfazhao_data_05\\\\N2-2403-liushaogang\\\\CNMDHQGZE\\\\118.dcm', 'F:\\\\data\\\\yuanfazhao_data_05\\\\N2-2403-liushaogang\\\\CNMDHQGZE\\\\119.dcm', 'F:\\\\data\\\\yuanfazhao_data_05\\\\N2-2403-liushaogang\\\\CNMDHQGZE\\\\120.dcm', 'F:\\\\data\\\\yuanfazhao_data_05\\\\N2-2403-liushaogang\\\\CNMDHQGZE\\\\121.dcm', 'F:\\\\data\\\\yuanfazhao_data_05\\\\N2-2403-liushaogang\\\\CNMDHQGZE\\\\122.dcm', 'F:\\\\data\\\\yuanfazhao_data_05\\\\N2-2506-lixiuqing\\\\CZ5TGIPGI\\\\090.dcm', 'F:\\\\data\\\\yuanfazhao_data_05\\\\N2-2506-lixiuqing\\\\CZ5TGIPGI\\\\091.dcm', 'F:\\\\data\\\\yuanfazhao_data_05\\\\N2-2506-lixiuqing\\\\CZ5TGIPGI\\\\092.dcm', 'F:\\\\data\\\\yuanfazhao_data_05\\\\N2-2506-lixiuqing\\\\CZ5TGIPGI\\\\093.dcm', 'F:\\\\data\\\\yuanfazhao_data_05\\\\N2-2506-lixiuqing\\\\CZ5TGIPGI\\\\094.dcm', 'F:\\\\data\\\\yuanfazhao_data_05\\\\N2-2506-lixiuqing\\\\CZ5TGIPGI\\\\095.dcm', 'F:\\\\data\\\\yuanfazhao_data_05\\\\N2-2506-lixiuqing\\\\CZ5TGIPGI\\\\096.dcm', 'F:\\\\data\\\\yuanfazhao_data_05\\\\N2-2506-lixiuqing\\\\CZ5TGIPGI\\\\097.dcm', 'F:\\\\data\\\\yuanfazhao_data_05\\\\N2-2506-lixiuqing\\\\CZ5TGIPGI\\\\098.dcm', 'F:\\\\data\\\\yuanfazhao_data_05\\\\N2-2506-lixiuqing\\\\CZ5TGIPGI\\\\099.dcm', 'F:\\\\data\\\\yuanfazhao_data_05\\\\N2-2506-lixiuqing\\\\CZ5TGIPGI\\\\100.dcm', 'F:\\\\data\\\\yuanfazhao_data_05\\\\N2-2506-lixiuqing\\\\CZ5TGIPGI\\\\101.dcm', 'F:\\\\data\\\\yuanfazhao_data_05\\\\N2-2506-lixiuqing\\\\CZ5TGIPGI\\\\102.dcm', 'F:\\\\data\\\\yuanfazhao_data_05\\\\N2-2506-lixiuqing\\\\CZ5TGIPGI\\\\103.dcm', 'F:\\\\data\\\\yuanfazhao_data_05\\\\N2-2506-lixiuqing\\\\CZ5TGIPGI\\\\104.dcm', 'F:\\\\data\\\\yuanfazhao_data_05\\\\N2-2506-lixiuqing\\\\CZ5TGIPGI\\\\105.dcm', 'F:\\\\data\\\\yuanfazhao_data_05\\\\N2-2506-lixiuqing\\\\CZ5TGIPGI\\\\106.dcm', 'F:\\\\data\\\\yuanfazhao_data_05\\\\N2-541-wangwuping\\\\C1UQCBBUK\\\\097.dcm', 'F:\\\\data\\\\yuanfazhao_data_05\\\\N2-541-wangwuping\\\\C1UQCBBUK\\\\098.dcm', 'F:\\\\data\\\\yuanfazhao_data_05\\\\N2-541-wangwuping\\\\C1UQCBBUK\\\\099.dcm', 'F:\\\\data\\\\yuanfazhao_data_05\\\\N2-541-wangwuping\\\\C1UQCBBUK\\\\100.dcm', 'F:\\\\data\\\\yuanfazhao_data_05\\\\N2-541-wangwuping\\\\C1UQCBBUK\\\\101.dcm', 'F:\\\\data\\\\yuanfazhao_data_05\\\\N2-541-wangwuping\\\\C1UQCBBUK\\\\102.dcm', 'F:\\\\data\\\\yuanfazhao_data_05\\\\N2-541-wangwuping\\\\C1UQCBBUK\\\\103.dcm', 'F:\\\\data\\\\yuanfazhao_data_05\\\\N2-557-wanglijuan\\\\CJPWWVPSY\\\\079.dcm', 'F:\\\\data\\\\yuanfazhao_data_05\\\\N2-557-wanglijuan\\\\CJPWWVPSY\\\\080.dcm', 'F:\\\\data\\\\yuanfazhao_data_05\\\\N2-557-wanglijuan\\\\CJPWWVPSY\\\\081.dcm', 'F:\\\\data\\\\yuanfazhao_data_05\\\\N2-607-wanhongliang\\\\CMGT0224F\\\\097.dcm', 'F:\\\\data\\\\yuanfazhao_data_05\\\\N2-607-wanhongliang\\\\CMGT0224F\\\\098.dcm', 'F:\\\\data\\\\yuanfazhao_data_05\\\\N2-607-wanhongliang\\\\CMGT0224F\\\\099.dcm', 'F:\\\\data\\\\yuanfazhao_data_05\\\\N2-607-wanhongliang\\\\CMGT0224F\\\\100.dcm', 'F:\\\\data\\\\yuanfazhao_data_05\\\\N2-607-wanhongliang\\\\CMGT0224F\\\\101.dcm', 'F:\\\\data\\\\yuanfazhao_data_05\\\\N2-607-wanhongliang\\\\CMGT0224F\\\\102.dcm', 'F:\\\\data\\\\yuanfazhao_data_05\\\\N2-607-wanhongliang\\\\CMGT0224F\\\\103.dcm', 'F:\\\\data\\\\yuanfazhao_data_05\\\\N2-607-wanhongliang\\\\CMGT0224F\\\\104.dcm', 'F:\\\\data\\\\yuanfazhao_data_05\\\\N2-607-wanhongliang\\\\CMGT0224F\\\\105.dcm', 'F:\\\\data\\\\yuanfazhao_data_05\\\\N2-607-wanhongliang\\\\CMGT0224F\\\\106.dcm']\n",
      "150\n"
     ]
    }
   ],
   "source": [
    "# 所有的CT路径\n",
    "ct_all_path = []\n",
    "\n",
    "for v in patient_ct_paths:\n",
    "    name = os.listdir(v)\n",
    "    for n in name:\n",
    "        ct_all_path.append(os.path.join(v,n))\n",
    "\n",
    "print(ct_all_path)\n",
    "print(len(ct_all_path))"
   ]
  },
  {
   "cell_type": "code",
   "execution_count": 14,
   "metadata": {},
   "outputs": [
    {
     "name": "stdout",
     "output_type": "stream",
     "text": [
      "['F:\\\\data\\\\yuanfazhao_data_05\\\\N0-1978-wangyunqing\\\\POJZYTLRB\\\\087.dcm', 'F:\\\\data\\\\yuanfazhao_data_05\\\\N0-1978-wangyunqing\\\\POJZYTLRB\\\\088.dcm', 'F:\\\\data\\\\yuanfazhao_data_05\\\\N0-1978-wangyunqing\\\\POJZYTLRB\\\\089.dcm', 'F:\\\\data\\\\yuanfazhao_data_05\\\\N0-1978-wangyunqing\\\\POJZYTLRB\\\\090.dcm', 'F:\\\\data\\\\yuanfazhao_data_05\\\\N0-2115-tangliru\\\\PVX1ENSN0\\\\106.dcm', 'F:\\\\data\\\\yuanfazhao_data_05\\\\N0-2115-tangliru\\\\PVX1ENSN0\\\\107.dcm', 'F:\\\\data\\\\yuanfazhao_data_05\\\\N0-2115-tangliru\\\\PVX1ENSN0\\\\108.dcm', 'F:\\\\data\\\\yuanfazhao_data_05\\\\N0-2115-tangliru\\\\PVX1ENSN0\\\\109.dcm', 'F:\\\\data\\\\yuanfazhao_data_05\\\\N0-2115-tangliru\\\\PVX1ENSN0\\\\110.dcm', 'F:\\\\data\\\\yuanfazhao_data_05\\\\N0-2115-tangliru\\\\PVX1ENSN0\\\\111.dcm', 'F:\\\\data\\\\yuanfazhao_data_05\\\\N0-2115-tangliru\\\\PVX1ENSN0\\\\112.dcm', 'F:\\\\data\\\\yuanfazhao_data_05\\\\N0-2201-ruanguanfu\\\\PE0PVNFFH\\\\088.dcm', 'F:\\\\data\\\\yuanfazhao_data_05\\\\N0-2201-ruanguanfu\\\\PE0PVNFFH\\\\089.dcm', 'F:\\\\data\\\\yuanfazhao_data_05\\\\N0-2201-ruanguanfu\\\\PE0PVNFFH\\\\090.dcm', 'F:\\\\data\\\\yuanfazhao_data_05\\\\N0-2201-ruanguanfu\\\\PE0PVNFFH\\\\091.dcm', 'F:\\\\data\\\\yuanfazhao_data_05\\\\N0-2201-ruanguanfu\\\\PE0PVNFFH\\\\092.dcm', 'F:\\\\data\\\\yuanfazhao_data_05\\\\N0-2201-ruanguanfu\\\\PE0PVNFFH\\\\093.dcm', 'F:\\\\data\\\\yuanfazhao_data_05\\\\N0-2201-ruanguanfu\\\\PE0PVNFFH\\\\094.dcm', 'F:\\\\data\\\\yuanfazhao_data_05\\\\N0-2201-ruanguanfu\\\\PE0PVNFFH\\\\095.dcm', 'F:\\\\data\\\\yuanfazhao_data_05\\\\N0-2201-ruanguanfu\\\\PE0PVNFFH\\\\096.dcm', 'F:\\\\data\\\\yuanfazhao_data_05\\\\N0-484-wulong\\\\PERNUYMBW\\\\090.dcm', 'F:\\\\data\\\\yuanfazhao_data_05\\\\N0-484-wulong\\\\PERNUYMBW\\\\091.dcm', 'F:\\\\data\\\\yuanfazhao_data_05\\\\N0-484-wulong\\\\PERNUYMBW\\\\092.dcm', 'F:\\\\data\\\\yuanfazhao_data_05\\\\N0-484-wulong\\\\PERNUYMBW\\\\093.dcm', 'F:\\\\data\\\\yuanfazhao_data_05\\\\N0-484-wulong\\\\PERNUYMBW\\\\094.dcm', 'F:\\\\data\\\\yuanfazhao_data_05\\\\N0-484-wulong\\\\PERNUYMBW\\\\095.dcm', 'F:\\\\data\\\\yuanfazhao_data_05\\\\N0-484-wulong\\\\PERNUYMBW\\\\096.dcm', 'F:\\\\data\\\\yuanfazhao_data_05\\\\N0-484-wulong\\\\PERNUYMBW\\\\097.dcm', 'F:\\\\data\\\\yuanfazhao_data_05\\\\N0-484-wulong\\\\PERNUYMBW\\\\098.dcm', 'F:\\\\data\\\\yuanfazhao_data_05\\\\N0-484-wulong\\\\PERNUYMBW\\\\099.dcm', 'F:\\\\data\\\\yuanfazhao_data_05\\\\N0-484-wulong\\\\PERNUYMBW\\\\100.dcm', 'F:\\\\data\\\\yuanfazhao_data_05\\\\N0-485-wulingbo\\\\PRJCRYXPL\\\\098.dcm', 'F:\\\\data\\\\yuanfazhao_data_05\\\\N0-485-wulingbo\\\\PRJCRYXPL\\\\099.dcm', 'F:\\\\data\\\\yuanfazhao_data_05\\\\N0-485-wulingbo\\\\PRJCRYXPL\\\\100.dcm', 'F:\\\\data\\\\yuanfazhao_data_05\\\\N0-485-wulingbo\\\\PRJCRYXPL\\\\101.dcm', 'F:\\\\data\\\\yuanfazhao_data_05\\\\N0-485-wulingbo\\\\PRJCRYXPL\\\\102.dcm', 'F:\\\\data\\\\yuanfazhao_data_05\\\\N0-485-wulingbo\\\\PRJCRYXPL\\\\103.dcm', 'F:\\\\data\\\\yuanfazhao_data_05\\\\N0-485-wulingbo\\\\PRJCRYXPL\\\\104.dcm', 'F:\\\\data\\\\yuanfazhao_data_05\\\\N0-485-wulingbo\\\\PRJCRYXPL\\\\105.dcm', 'F:\\\\data\\\\yuanfazhao_data_05\\\\N0-485-wulingbo\\\\PRJCRYXPL\\\\106.dcm', 'F:\\\\data\\\\yuanfazhao_data_05\\\\N0-485-wulingbo\\\\PRJCRYXPL\\\\107.dcm', 'F:\\\\data\\\\yuanfazhao_data_05\\\\N0-485-wulingbo\\\\PRJCRYXPL\\\\108.dcm', 'F:\\\\data\\\\yuanfazhao_data_05\\\\N0-485-wulingbo\\\\PRJCRYXPL\\\\109.dcm', 'F:\\\\data\\\\yuanfazhao_data_05\\\\N0-60-wangguiping\\\\PFTBQFDSZ\\\\093.dcm', 'F:\\\\data\\\\yuanfazhao_data_05\\\\N0-60-wangguiping\\\\PFTBQFDSZ\\\\094.dcm', 'F:\\\\data\\\\yuanfazhao_data_05\\\\N0-60-wangguiping\\\\PFTBQFDSZ\\\\095.dcm', 'F:\\\\data\\\\yuanfazhao_data_05\\\\N1-2525-liwanfeng\\\\P4ZLYZYPL\\\\084.dcm', 'F:\\\\data\\\\yuanfazhao_data_05\\\\N1-2525-liwanfeng\\\\P4ZLYZYPL\\\\085.dcm', 'F:\\\\data\\\\yuanfazhao_data_05\\\\N1-2525-liwanfeng\\\\P4ZLYZYPL\\\\086.dcm', 'F:\\\\data\\\\yuanfazhao_data_05\\\\N1-2525-liwanfeng\\\\P4ZLYZYPL\\\\087.dcm', 'F:\\\\data\\\\yuanfazhao_data_05\\\\N1-2525-liwanfeng\\\\P4ZLYZYPL\\\\088.dcm', 'F:\\\\data\\\\yuanfazhao_data_05\\\\N1-2525-liwanfeng\\\\P4ZLYZYPL\\\\089.dcm', 'F:\\\\data\\\\yuanfazhao_data_05\\\\N1-2525-liwanfeng\\\\P4ZLYZYPL\\\\090.dcm', 'F:\\\\data\\\\yuanfazhao_data_05\\\\N1-2525-liwanfeng\\\\P4ZLYZYPL\\\\091.dcm', 'F:\\\\data\\\\yuanfazhao_data_05\\\\N1-2525-liwanfeng\\\\P4ZLYZYPL\\\\092.dcm', 'F:\\\\data\\\\yuanfazhao_data_05\\\\N1-2525-liwanfeng\\\\P4ZLYZYPL\\\\093.dcm', 'F:\\\\data\\\\yuanfazhao_data_05\\\\N1-2525-liwanfeng\\\\P4ZLYZYPL\\\\094.dcm', 'F:\\\\data\\\\yuanfazhao_data_05\\\\N1-2525-liwanfeng\\\\P4ZLYZYPL\\\\095.dcm', 'F:\\\\data\\\\yuanfazhao_data_05\\\\N1-2525-liwanfeng\\\\P4ZLYZYPL\\\\096.dcm', 'F:\\\\data\\\\yuanfazhao_data_05\\\\N1-2525-liwanfeng\\\\P4ZLYZYPL\\\\097.dcm', 'F:\\\\data\\\\yuanfazhao_data_05\\\\N1-2621-jinyanlai\\\\PPOVGQPRV\\\\127.dcm', 'F:\\\\data\\\\yuanfazhao_data_05\\\\N1-2621-jinyanlai\\\\PPOVGQPRV\\\\128.dcm', 'F:\\\\data\\\\yuanfazhao_data_05\\\\N1-2621-jinyanlai\\\\PPOVGQPRV\\\\129.dcm', 'F:\\\\data\\\\yuanfazhao_data_05\\\\N1-2621-jinyanlai\\\\PPOVGQPRV\\\\130.dcm', 'F:\\\\data\\\\yuanfazhao_data_05\\\\N1-2621-jinyanlai\\\\PPOVGQPRV\\\\131.dcm', 'F:\\\\data\\\\yuanfazhao_data_05\\\\N1-2621-jinyanlai\\\\PPOVGQPRV\\\\132.dcm', 'F:\\\\data\\\\yuanfazhao_data_05\\\\N1-2621-jinyanlai\\\\PPOVGQPRV\\\\133.dcm', 'F:\\\\data\\\\yuanfazhao_data_05\\\\N1-2621-jinyanlai\\\\PPOVGQPRV\\\\134.dcm', 'F:\\\\data\\\\yuanfazhao_data_05\\\\N1-2621-jinyanlai\\\\PPOVGQPRV\\\\135.dcm', 'F:\\\\data\\\\yuanfazhao_data_05\\\\N1-2621-jinyanlai\\\\PPOVGQPRV\\\\136.dcm', 'F:\\\\data\\\\yuanfazhao_data_05\\\\N1-2621-jinyanlai\\\\PPOVGQPRV\\\\137.dcm', 'F:\\\\data\\\\yuanfazhao_data_05\\\\N2-1062-huangxueqi\\\\PNVXAJ4EX\\\\118.dcm', 'F:\\\\data\\\\yuanfazhao_data_05\\\\N2-1062-huangxueqi\\\\PNVXAJ4EX\\\\119.dcm', 'F:\\\\data\\\\yuanfazhao_data_05\\\\N2-1062-huangxueqi\\\\PNVXAJ4EX\\\\120.dcm', 'F:\\\\data\\\\yuanfazhao_data_05\\\\N2-1062-huangxueqi\\\\PNVXAJ4EX\\\\121.dcm', 'F:\\\\data\\\\yuanfazhao_data_05\\\\N2-1062-huangxueqi\\\\PNVXAJ4EX\\\\122.dcm', 'F:\\\\data\\\\yuanfazhao_data_05\\\\N2-1062-huangxueqi\\\\PNVXAJ4EX\\\\123.dcm', 'F:\\\\data\\\\yuanfazhao_data_05\\\\N2-1062-huangxueqi\\\\PNVXAJ4EX\\\\124.dcm', 'F:\\\\data\\\\yuanfazhao_data_05\\\\N2-1062-huangxueqi\\\\PNVXAJ4EX\\\\125.dcm', 'F:\\\\data\\\\yuanfazhao_data_05\\\\N2-1062-huangxueqi\\\\PNVXAJ4EX\\\\126.dcm', 'F:\\\\data\\\\yuanfazhao_data_05\\\\N2-1062-huangxueqi\\\\PNVXAJ4EX\\\\127.dcm', 'F:\\\\data\\\\yuanfazhao_data_05\\\\N2-1901-xiafafu\\\\P5CBOVZA2\\\\132.dcm', 'F:\\\\data\\\\yuanfazhao_data_05\\\\N2-1901-xiafafu\\\\P5CBOVZA2\\\\133.dcm', 'F:\\\\data\\\\yuanfazhao_data_05\\\\N2-1901-xiafafu\\\\P5CBOVZA2\\\\134.dcm', 'F:\\\\data\\\\yuanfazhao_data_05\\\\N2-1901-xiafafu\\\\P5CBOVZA2\\\\135.dcm', 'F:\\\\data\\\\yuanfazhao_data_05\\\\N2-1901-xiafafu\\\\P5CBOVZA2\\\\136.dcm', 'F:\\\\data\\\\yuanfazhao_data_05\\\\N2-1901-xiafafu\\\\P5CBOVZA2\\\\137.dcm', 'F:\\\\data\\\\yuanfazhao_data_05\\\\N2-1901-xiafafu\\\\P5CBOVZA2\\\\138.dcm', 'F:\\\\data\\\\yuanfazhao_data_05\\\\N2-1901-xiafafu\\\\P5CBOVZA2\\\\139.dcm', 'F:\\\\data\\\\yuanfazhao_data_05\\\\N2-1901-xiafafu\\\\P5CBOVZA2\\\\140.dcm', 'F:\\\\data\\\\yuanfazhao_data_05\\\\N2-1901-xiafafu\\\\P5CBOVZA2\\\\141.dcm', 'F:\\\\data\\\\yuanfazhao_data_05\\\\N2-1901-xiafafu\\\\P5CBOVZA2\\\\142.dcm', 'F:\\\\data\\\\yuanfazhao_data_05\\\\N2-1901-xiafafu\\\\P5CBOVZA2\\\\143.dcm', 'F:\\\\data\\\\yuanfazhao_data_05\\\\N2-2403-liushaogang\\\\PLZCXHYGF\\\\103.dcm', 'F:\\\\data\\\\yuanfazhao_data_05\\\\N2-2403-liushaogang\\\\PLZCXHYGF\\\\104.dcm', 'F:\\\\data\\\\yuanfazhao_data_05\\\\N2-2403-liushaogang\\\\PLZCXHYGF\\\\105.dcm', 'F:\\\\data\\\\yuanfazhao_data_05\\\\N2-2403-liushaogang\\\\PLZCXHYGF\\\\106.dcm', 'F:\\\\data\\\\yuanfazhao_data_05\\\\N2-2403-liushaogang\\\\PLZCXHYGF\\\\107.dcm', 'F:\\\\data\\\\yuanfazhao_data_05\\\\N2-2403-liushaogang\\\\PLZCXHYGF\\\\108.dcm', 'F:\\\\data\\\\yuanfazhao_data_05\\\\N2-2403-liushaogang\\\\PLZCXHYGF\\\\109.dcm', 'F:\\\\data\\\\yuanfazhao_data_05\\\\N2-2403-liushaogang\\\\PLZCXHYGF\\\\110.dcm', 'F:\\\\data\\\\yuanfazhao_data_05\\\\N2-2403-liushaogang\\\\PLZCXHYGF\\\\111.dcm', 'F:\\\\data\\\\yuanfazhao_data_05\\\\N2-2403-liushaogang\\\\PLZCXHYGF\\\\112.dcm', 'F:\\\\data\\\\yuanfazhao_data_05\\\\N2-2403-liushaogang\\\\PLZCXHYGF\\\\113.dcm', 'F:\\\\data\\\\yuanfazhao_data_05\\\\N2-2403-liushaogang\\\\PLZCXHYGF\\\\114.dcm', 'F:\\\\data\\\\yuanfazhao_data_05\\\\N2-2403-liushaogang\\\\PLZCXHYGF\\\\115.dcm', 'F:\\\\data\\\\yuanfazhao_data_05\\\\N2-2403-liushaogang\\\\PLZCXHYGF\\\\116.dcm', 'F:\\\\data\\\\yuanfazhao_data_05\\\\N2-2403-liushaogang\\\\PLZCXHYGF\\\\117.dcm', 'F:\\\\data\\\\yuanfazhao_data_05\\\\N2-2403-liushaogang\\\\PLZCXHYGF\\\\118.dcm', 'F:\\\\data\\\\yuanfazhao_data_05\\\\N2-2403-liushaogang\\\\PLZCXHYGF\\\\119.dcm', 'F:\\\\data\\\\yuanfazhao_data_05\\\\N2-2403-liushaogang\\\\PLZCXHYGF\\\\120.dcm', 'F:\\\\data\\\\yuanfazhao_data_05\\\\N2-2403-liushaogang\\\\PLZCXHYGF\\\\121.dcm', 'F:\\\\data\\\\yuanfazhao_data_05\\\\N2-2403-liushaogang\\\\PLZCXHYGF\\\\122.dcm', 'F:\\\\data\\\\yuanfazhao_data_05\\\\N2-2506-lixiuqing\\\\PUUSM4RWV\\\\090.dcm', 'F:\\\\data\\\\yuanfazhao_data_05\\\\N2-2506-lixiuqing\\\\PUUSM4RWV\\\\091.dcm', 'F:\\\\data\\\\yuanfazhao_data_05\\\\N2-2506-lixiuqing\\\\PUUSM4RWV\\\\092.dcm', 'F:\\\\data\\\\yuanfazhao_data_05\\\\N2-2506-lixiuqing\\\\PUUSM4RWV\\\\093.dcm', 'F:\\\\data\\\\yuanfazhao_data_05\\\\N2-2506-lixiuqing\\\\PUUSM4RWV\\\\094.dcm', 'F:\\\\data\\\\yuanfazhao_data_05\\\\N2-2506-lixiuqing\\\\PUUSM4RWV\\\\095.dcm', 'F:\\\\data\\\\yuanfazhao_data_05\\\\N2-2506-lixiuqing\\\\PUUSM4RWV\\\\096.dcm', 'F:\\\\data\\\\yuanfazhao_data_05\\\\N2-2506-lixiuqing\\\\PUUSM4RWV\\\\097.dcm', 'F:\\\\data\\\\yuanfazhao_data_05\\\\N2-2506-lixiuqing\\\\PUUSM4RWV\\\\098.dcm', 'F:\\\\data\\\\yuanfazhao_data_05\\\\N2-2506-lixiuqing\\\\PUUSM4RWV\\\\099.dcm', 'F:\\\\data\\\\yuanfazhao_data_05\\\\N2-2506-lixiuqing\\\\PUUSM4RWV\\\\100.dcm', 'F:\\\\data\\\\yuanfazhao_data_05\\\\N2-2506-lixiuqing\\\\PUUSM4RWV\\\\101.dcm', 'F:\\\\data\\\\yuanfazhao_data_05\\\\N2-2506-lixiuqing\\\\PUUSM4RWV\\\\102.dcm', 'F:\\\\data\\\\yuanfazhao_data_05\\\\N2-2506-lixiuqing\\\\PUUSM4RWV\\\\103.dcm', 'F:\\\\data\\\\yuanfazhao_data_05\\\\N2-2506-lixiuqing\\\\PUUSM4RWV\\\\104.dcm', 'F:\\\\data\\\\yuanfazhao_data_05\\\\N2-2506-lixiuqing\\\\PUUSM4RWV\\\\105.dcm', 'F:\\\\data\\\\yuanfazhao_data_05\\\\N2-2506-lixiuqing\\\\PUUSM4RWV\\\\106.dcm', 'F:\\\\data\\\\yuanfazhao_data_05\\\\N2-541-wangwuping\\\\P3LOFW1US\\\\097.dcm', 'F:\\\\data\\\\yuanfazhao_data_05\\\\N2-541-wangwuping\\\\P3LOFW1US\\\\098.dcm', 'F:\\\\data\\\\yuanfazhao_data_05\\\\N2-541-wangwuping\\\\P3LOFW1US\\\\099.dcm', 'F:\\\\data\\\\yuanfazhao_data_05\\\\N2-541-wangwuping\\\\P3LOFW1US\\\\100.dcm', 'F:\\\\data\\\\yuanfazhao_data_05\\\\N2-541-wangwuping\\\\P3LOFW1US\\\\101.dcm', 'F:\\\\data\\\\yuanfazhao_data_05\\\\N2-541-wangwuping\\\\P3LOFW1US\\\\102.dcm', 'F:\\\\data\\\\yuanfazhao_data_05\\\\N2-541-wangwuping\\\\P3LOFW1US\\\\103.dcm', 'F:\\\\data\\\\yuanfazhao_data_05\\\\N2-557-wanglijuan\\\\PNYYC2GLE\\\\079.dcm', 'F:\\\\data\\\\yuanfazhao_data_05\\\\N2-557-wanglijuan\\\\PNYYC2GLE\\\\080.dcm', 'F:\\\\data\\\\yuanfazhao_data_05\\\\N2-557-wanglijuan\\\\PNYYC2GLE\\\\081.dcm', 'F:\\\\data\\\\yuanfazhao_data_05\\\\N2-607-wanhongliang\\\\P402CVNYW\\\\097.dcm', 'F:\\\\data\\\\yuanfazhao_data_05\\\\N2-607-wanhongliang\\\\P402CVNYW\\\\098.dcm', 'F:\\\\data\\\\yuanfazhao_data_05\\\\N2-607-wanhongliang\\\\P402CVNYW\\\\099.dcm', 'F:\\\\data\\\\yuanfazhao_data_05\\\\N2-607-wanhongliang\\\\P402CVNYW\\\\100.dcm', 'F:\\\\data\\\\yuanfazhao_data_05\\\\N2-607-wanhongliang\\\\P402CVNYW\\\\101.dcm', 'F:\\\\data\\\\yuanfazhao_data_05\\\\N2-607-wanhongliang\\\\P402CVNYW\\\\102.dcm', 'F:\\\\data\\\\yuanfazhao_data_05\\\\N2-607-wanhongliang\\\\P402CVNYW\\\\103.dcm', 'F:\\\\data\\\\yuanfazhao_data_05\\\\N2-607-wanhongliang\\\\P402CVNYW\\\\104.dcm', 'F:\\\\data\\\\yuanfazhao_data_05\\\\N2-607-wanhongliang\\\\P402CVNYW\\\\105.dcm', 'F:\\\\data\\\\yuanfazhao_data_05\\\\N2-607-wanhongliang\\\\P402CVNYW\\\\106.dcm']\n",
      "150\n"
     ]
    }
   ],
   "source": [
    "# 所有的PET路径\n",
    "pet_all_path = []\n",
    "\n",
    "for v in patient_pet_paths:\n",
    "    name = os.listdir(v)\n",
    "    for n in name:\n",
    "        pet_all_path.append(os.path.join(v,n))\n",
    "\n",
    "print(pet_all_path)\n",
    "print(len(pet_all_path))"
   ]
  },
  {
   "cell_type": "code",
   "execution_count": 23,
   "metadata": {},
   "outputs": [
    {
     "name": "stdout",
     "output_type": "stream",
     "text": [
      "['F:\\\\data\\\\yuanfazhao_data_05\\\\N0-1978-wangyunqing\\\\Lable\\\\087.bmp', 'F:\\\\data\\\\yuanfazhao_data_05\\\\N0-1978-wangyunqing\\\\Lable\\\\088.bmp', 'F:\\\\data\\\\yuanfazhao_data_05\\\\N0-1978-wangyunqing\\\\Lable\\\\089.bmp', 'F:\\\\data\\\\yuanfazhao_data_05\\\\N0-1978-wangyunqing\\\\Lable\\\\090.bmp', 'F:\\\\data\\\\yuanfazhao_data_05\\\\N0-2115-tangliru\\\\Lable\\\\106.bmp', 'F:\\\\data\\\\yuanfazhao_data_05\\\\N0-2115-tangliru\\\\Lable\\\\107.bmp', 'F:\\\\data\\\\yuanfazhao_data_05\\\\N0-2115-tangliru\\\\Lable\\\\108.bmp', 'F:\\\\data\\\\yuanfazhao_data_05\\\\N0-2115-tangliru\\\\Lable\\\\109.bmp', 'F:\\\\data\\\\yuanfazhao_data_05\\\\N0-2115-tangliru\\\\Lable\\\\110.bmp', 'F:\\\\data\\\\yuanfazhao_data_05\\\\N0-2115-tangliru\\\\Lable\\\\111.bmp', 'F:\\\\data\\\\yuanfazhao_data_05\\\\N0-2115-tangliru\\\\Lable\\\\112.bmp', 'F:\\\\data\\\\yuanfazhao_data_05\\\\N0-2201-ruanguanfu\\\\Lable\\\\088.bmp', 'F:\\\\data\\\\yuanfazhao_data_05\\\\N0-2201-ruanguanfu\\\\Lable\\\\089.bmp', 'F:\\\\data\\\\yuanfazhao_data_05\\\\N0-2201-ruanguanfu\\\\Lable\\\\090.bmp', 'F:\\\\data\\\\yuanfazhao_data_05\\\\N0-2201-ruanguanfu\\\\Lable\\\\091.bmp', 'F:\\\\data\\\\yuanfazhao_data_05\\\\N0-2201-ruanguanfu\\\\Lable\\\\092.bmp', 'F:\\\\data\\\\yuanfazhao_data_05\\\\N0-2201-ruanguanfu\\\\Lable\\\\093.bmp', 'F:\\\\data\\\\yuanfazhao_data_05\\\\N0-2201-ruanguanfu\\\\Lable\\\\094.bmp', 'F:\\\\data\\\\yuanfazhao_data_05\\\\N0-2201-ruanguanfu\\\\Lable\\\\095.bmp', 'F:\\\\data\\\\yuanfazhao_data_05\\\\N0-2201-ruanguanfu\\\\Lable\\\\096.bmp', 'F:\\\\data\\\\yuanfazhao_data_05\\\\N0-484-wulong\\\\Lable\\\\090.bmp', 'F:\\\\data\\\\yuanfazhao_data_05\\\\N0-484-wulong\\\\Lable\\\\091.bmp', 'F:\\\\data\\\\yuanfazhao_data_05\\\\N0-484-wulong\\\\Lable\\\\092.bmp', 'F:\\\\data\\\\yuanfazhao_data_05\\\\N0-484-wulong\\\\Lable\\\\093.bmp', 'F:\\\\data\\\\yuanfazhao_data_05\\\\N0-484-wulong\\\\Lable\\\\094.bmp', 'F:\\\\data\\\\yuanfazhao_data_05\\\\N0-484-wulong\\\\Lable\\\\095.bmp', 'F:\\\\data\\\\yuanfazhao_data_05\\\\N0-484-wulong\\\\Lable\\\\096.bmp', 'F:\\\\data\\\\yuanfazhao_data_05\\\\N0-484-wulong\\\\Lable\\\\097.bmp', 'F:\\\\data\\\\yuanfazhao_data_05\\\\N0-484-wulong\\\\Lable\\\\098.bmp', 'F:\\\\data\\\\yuanfazhao_data_05\\\\N0-484-wulong\\\\Lable\\\\099.bmp', 'F:\\\\data\\\\yuanfazhao_data_05\\\\N0-484-wulong\\\\Lable\\\\100.bmp', 'F:\\\\data\\\\yuanfazhao_data_05\\\\N0-485-wulingbo\\\\Lable\\\\098.bmp', 'F:\\\\data\\\\yuanfazhao_data_05\\\\N0-485-wulingbo\\\\Lable\\\\099.bmp', 'F:\\\\data\\\\yuanfazhao_data_05\\\\N0-485-wulingbo\\\\Lable\\\\100.bmp', 'F:\\\\data\\\\yuanfazhao_data_05\\\\N0-485-wulingbo\\\\Lable\\\\101.bmp', 'F:\\\\data\\\\yuanfazhao_data_05\\\\N0-485-wulingbo\\\\Lable\\\\102.bmp', 'F:\\\\data\\\\yuanfazhao_data_05\\\\N0-485-wulingbo\\\\Lable\\\\103.bmp', 'F:\\\\data\\\\yuanfazhao_data_05\\\\N0-485-wulingbo\\\\Lable\\\\104.bmp', 'F:\\\\data\\\\yuanfazhao_data_05\\\\N0-485-wulingbo\\\\Lable\\\\105.bmp', 'F:\\\\data\\\\yuanfazhao_data_05\\\\N0-485-wulingbo\\\\Lable\\\\106.bmp', 'F:\\\\data\\\\yuanfazhao_data_05\\\\N0-485-wulingbo\\\\Lable\\\\107.bmp', 'F:\\\\data\\\\yuanfazhao_data_05\\\\N0-485-wulingbo\\\\Lable\\\\108.bmp', 'F:\\\\data\\\\yuanfazhao_data_05\\\\N0-485-wulingbo\\\\Lable\\\\109.bmp', 'F:\\\\data\\\\yuanfazhao_data_05\\\\N0-60-wangguiping\\\\Lable\\\\093.bmp', 'F:\\\\data\\\\yuanfazhao_data_05\\\\N0-60-wangguiping\\\\Lable\\\\094.bmp', 'F:\\\\data\\\\yuanfazhao_data_05\\\\N0-60-wangguiping\\\\Lable\\\\095.bmp', 'F:\\\\data\\\\yuanfazhao_data_05\\\\N1-2525-liwanfeng\\\\Lable\\\\084.bmp', 'F:\\\\data\\\\yuanfazhao_data_05\\\\N1-2525-liwanfeng\\\\Lable\\\\085.bmp', 'F:\\\\data\\\\yuanfazhao_data_05\\\\N1-2525-liwanfeng\\\\Lable\\\\086.bmp', 'F:\\\\data\\\\yuanfazhao_data_05\\\\N1-2525-liwanfeng\\\\Lable\\\\087.bmp', 'F:\\\\data\\\\yuanfazhao_data_05\\\\N1-2525-liwanfeng\\\\Lable\\\\088.bmp', 'F:\\\\data\\\\yuanfazhao_data_05\\\\N1-2525-liwanfeng\\\\Lable\\\\089.bmp', 'F:\\\\data\\\\yuanfazhao_data_05\\\\N1-2525-liwanfeng\\\\Lable\\\\090.bmp', 'F:\\\\data\\\\yuanfazhao_data_05\\\\N1-2525-liwanfeng\\\\Lable\\\\091.bmp', 'F:\\\\data\\\\yuanfazhao_data_05\\\\N1-2525-liwanfeng\\\\Lable\\\\092.bmp', 'F:\\\\data\\\\yuanfazhao_data_05\\\\N1-2525-liwanfeng\\\\Lable\\\\093.bmp', 'F:\\\\data\\\\yuanfazhao_data_05\\\\N1-2525-liwanfeng\\\\Lable\\\\094.bmp', 'F:\\\\data\\\\yuanfazhao_data_05\\\\N1-2525-liwanfeng\\\\Lable\\\\095.bmp', 'F:\\\\data\\\\yuanfazhao_data_05\\\\N1-2525-liwanfeng\\\\Lable\\\\096.bmp', 'F:\\\\data\\\\yuanfazhao_data_05\\\\N1-2525-liwanfeng\\\\Lable\\\\097.bmp', 'F:\\\\data\\\\yuanfazhao_data_05\\\\N1-2621-jinyanlai\\\\Lable\\\\127.bmp', 'F:\\\\data\\\\yuanfazhao_data_05\\\\N1-2621-jinyanlai\\\\Lable\\\\128.bmp', 'F:\\\\data\\\\yuanfazhao_data_05\\\\N1-2621-jinyanlai\\\\Lable\\\\129.bmp', 'F:\\\\data\\\\yuanfazhao_data_05\\\\N1-2621-jinyanlai\\\\Lable\\\\130.bmp', 'F:\\\\data\\\\yuanfazhao_data_05\\\\N1-2621-jinyanlai\\\\Lable\\\\131.bmp', 'F:\\\\data\\\\yuanfazhao_data_05\\\\N1-2621-jinyanlai\\\\Lable\\\\132.bmp', 'F:\\\\data\\\\yuanfazhao_data_05\\\\N1-2621-jinyanlai\\\\Lable\\\\133.bmp', 'F:\\\\data\\\\yuanfazhao_data_05\\\\N1-2621-jinyanlai\\\\Lable\\\\134.bmp', 'F:\\\\data\\\\yuanfazhao_data_05\\\\N1-2621-jinyanlai\\\\Lable\\\\135.bmp', 'F:\\\\data\\\\yuanfazhao_data_05\\\\N1-2621-jinyanlai\\\\Lable\\\\136.bmp', 'F:\\\\data\\\\yuanfazhao_data_05\\\\N1-2621-jinyanlai\\\\Lable\\\\137.bmp', 'F:\\\\data\\\\yuanfazhao_data_05\\\\N2-1062-huangxueqi\\\\Lable\\\\118.bmp', 'F:\\\\data\\\\yuanfazhao_data_05\\\\N2-1062-huangxueqi\\\\Lable\\\\119.bmp', 'F:\\\\data\\\\yuanfazhao_data_05\\\\N2-1062-huangxueqi\\\\Lable\\\\120.bmp', 'F:\\\\data\\\\yuanfazhao_data_05\\\\N2-1062-huangxueqi\\\\Lable\\\\121.bmp', 'F:\\\\data\\\\yuanfazhao_data_05\\\\N2-1062-huangxueqi\\\\Lable\\\\122.bmp', 'F:\\\\data\\\\yuanfazhao_data_05\\\\N2-1062-huangxueqi\\\\Lable\\\\123.bmp', 'F:\\\\data\\\\yuanfazhao_data_05\\\\N2-1062-huangxueqi\\\\Lable\\\\124.bmp', 'F:\\\\data\\\\yuanfazhao_data_05\\\\N2-1062-huangxueqi\\\\Lable\\\\125.bmp', 'F:\\\\data\\\\yuanfazhao_data_05\\\\N2-1062-huangxueqi\\\\Lable\\\\126.bmp', 'F:\\\\data\\\\yuanfazhao_data_05\\\\N2-1062-huangxueqi\\\\Lable\\\\127.bmp', 'F:\\\\data\\\\yuanfazhao_data_05\\\\N2-1901-xiafafu\\\\Lable\\\\132.bmp', 'F:\\\\data\\\\yuanfazhao_data_05\\\\N2-1901-xiafafu\\\\Lable\\\\133.bmp', 'F:\\\\data\\\\yuanfazhao_data_05\\\\N2-1901-xiafafu\\\\Lable\\\\134.bmp', 'F:\\\\data\\\\yuanfazhao_data_05\\\\N2-1901-xiafafu\\\\Lable\\\\135.bmp', 'F:\\\\data\\\\yuanfazhao_data_05\\\\N2-1901-xiafafu\\\\Lable\\\\136.bmp', 'F:\\\\data\\\\yuanfazhao_data_05\\\\N2-1901-xiafafu\\\\Lable\\\\137.bmp', 'F:\\\\data\\\\yuanfazhao_data_05\\\\N2-1901-xiafafu\\\\Lable\\\\138.bmp', 'F:\\\\data\\\\yuanfazhao_data_05\\\\N2-1901-xiafafu\\\\Lable\\\\139.bmp', 'F:\\\\data\\\\yuanfazhao_data_05\\\\N2-1901-xiafafu\\\\Lable\\\\140.bmp', 'F:\\\\data\\\\yuanfazhao_data_05\\\\N2-1901-xiafafu\\\\Lable\\\\141.bmp', 'F:\\\\data\\\\yuanfazhao_data_05\\\\N2-1901-xiafafu\\\\Lable\\\\142.bmp', 'F:\\\\data\\\\yuanfazhao_data_05\\\\N2-1901-xiafafu\\\\Lable\\\\143.bmp', 'F:\\\\data\\\\yuanfazhao_data_05\\\\N2-2403-liushaogang\\\\Lable\\\\103.bmp', 'F:\\\\data\\\\yuanfazhao_data_05\\\\N2-2403-liushaogang\\\\Lable\\\\104.bmp', 'F:\\\\data\\\\yuanfazhao_data_05\\\\N2-2403-liushaogang\\\\Lable\\\\105.bmp', 'F:\\\\data\\\\yuanfazhao_data_05\\\\N2-2403-liushaogang\\\\Lable\\\\106.bmp', 'F:\\\\data\\\\yuanfazhao_data_05\\\\N2-2403-liushaogang\\\\Lable\\\\107.bmp', 'F:\\\\data\\\\yuanfazhao_data_05\\\\N2-2403-liushaogang\\\\Lable\\\\108.bmp', 'F:\\\\data\\\\yuanfazhao_data_05\\\\N2-2403-liushaogang\\\\Lable\\\\109.bmp', 'F:\\\\data\\\\yuanfazhao_data_05\\\\N2-2403-liushaogang\\\\Lable\\\\110.bmp', 'F:\\\\data\\\\yuanfazhao_data_05\\\\N2-2403-liushaogang\\\\Lable\\\\111.bmp', 'F:\\\\data\\\\yuanfazhao_data_05\\\\N2-2403-liushaogang\\\\Lable\\\\112.bmp', 'F:\\\\data\\\\yuanfazhao_data_05\\\\N2-2403-liushaogang\\\\Lable\\\\113.bmp', 'F:\\\\data\\\\yuanfazhao_data_05\\\\N2-2403-liushaogang\\\\Lable\\\\114.bmp', 'F:\\\\data\\\\yuanfazhao_data_05\\\\N2-2403-liushaogang\\\\Lable\\\\115.bmp', 'F:\\\\data\\\\yuanfazhao_data_05\\\\N2-2403-liushaogang\\\\Lable\\\\116.bmp', 'F:\\\\data\\\\yuanfazhao_data_05\\\\N2-2403-liushaogang\\\\Lable\\\\117.bmp', 'F:\\\\data\\\\yuanfazhao_data_05\\\\N2-2403-liushaogang\\\\Lable\\\\118.bmp', 'F:\\\\data\\\\yuanfazhao_data_05\\\\N2-2403-liushaogang\\\\Lable\\\\119.bmp', 'F:\\\\data\\\\yuanfazhao_data_05\\\\N2-2403-liushaogang\\\\Lable\\\\120.bmp', 'F:\\\\data\\\\yuanfazhao_data_05\\\\N2-2403-liushaogang\\\\Lable\\\\121.bmp', 'F:\\\\data\\\\yuanfazhao_data_05\\\\N2-2403-liushaogang\\\\Lable\\\\122.bmp', 'F:\\\\data\\\\yuanfazhao_data_05\\\\N2-2506-lixiuqing\\\\Lable\\\\090.bmp', 'F:\\\\data\\\\yuanfazhao_data_05\\\\N2-2506-lixiuqing\\\\Lable\\\\091.bmp', 'F:\\\\data\\\\yuanfazhao_data_05\\\\N2-2506-lixiuqing\\\\Lable\\\\092.bmp', 'F:\\\\data\\\\yuanfazhao_data_05\\\\N2-2506-lixiuqing\\\\Lable\\\\093.bmp', 'F:\\\\data\\\\yuanfazhao_data_05\\\\N2-2506-lixiuqing\\\\Lable\\\\094.bmp', 'F:\\\\data\\\\yuanfazhao_data_05\\\\N2-2506-lixiuqing\\\\Lable\\\\095.bmp', 'F:\\\\data\\\\yuanfazhao_data_05\\\\N2-2506-lixiuqing\\\\Lable\\\\096.bmp', 'F:\\\\data\\\\yuanfazhao_data_05\\\\N2-2506-lixiuqing\\\\Lable\\\\097.bmp', 'F:\\\\data\\\\yuanfazhao_data_05\\\\N2-2506-lixiuqing\\\\Lable\\\\098.bmp', 'F:\\\\data\\\\yuanfazhao_data_05\\\\N2-2506-lixiuqing\\\\Lable\\\\099.bmp', 'F:\\\\data\\\\yuanfazhao_data_05\\\\N2-2506-lixiuqing\\\\Lable\\\\100.bmp', 'F:\\\\data\\\\yuanfazhao_data_05\\\\N2-2506-lixiuqing\\\\Lable\\\\101.bmp', 'F:\\\\data\\\\yuanfazhao_data_05\\\\N2-2506-lixiuqing\\\\Lable\\\\102.bmp', 'F:\\\\data\\\\yuanfazhao_data_05\\\\N2-2506-lixiuqing\\\\Lable\\\\103.bmp', 'F:\\\\data\\\\yuanfazhao_data_05\\\\N2-2506-lixiuqing\\\\Lable\\\\104.bmp', 'F:\\\\data\\\\yuanfazhao_data_05\\\\N2-2506-lixiuqing\\\\Lable\\\\105.bmp', 'F:\\\\data\\\\yuanfazhao_data_05\\\\N2-2506-lixiuqing\\\\Lable\\\\106.bmp', 'F:\\\\data\\\\yuanfazhao_data_05\\\\N2-541-wangwuping\\\\Lable\\\\097.bmp', 'F:\\\\data\\\\yuanfazhao_data_05\\\\N2-541-wangwuping\\\\Lable\\\\098.bmp', 'F:\\\\data\\\\yuanfazhao_data_05\\\\N2-541-wangwuping\\\\Lable\\\\099.bmp', 'F:\\\\data\\\\yuanfazhao_data_05\\\\N2-541-wangwuping\\\\Lable\\\\100.bmp', 'F:\\\\data\\\\yuanfazhao_data_05\\\\N2-541-wangwuping\\\\Lable\\\\101.bmp', 'F:\\\\data\\\\yuanfazhao_data_05\\\\N2-541-wangwuping\\\\Lable\\\\102.bmp', 'F:\\\\data\\\\yuanfazhao_data_05\\\\N2-541-wangwuping\\\\Lable\\\\103.bmp', 'F:\\\\data\\\\yuanfazhao_data_05\\\\N2-557-wanglijuan\\\\Lable\\\\079.bmp', 'F:\\\\data\\\\yuanfazhao_data_05\\\\N2-557-wanglijuan\\\\Lable\\\\080.bmp', 'F:\\\\data\\\\yuanfazhao_data_05\\\\N2-557-wanglijuan\\\\Lable\\\\081.bmp', 'F:\\\\data\\\\yuanfazhao_data_05\\\\N2-607-wanhongliang\\\\Lable\\\\097.bmp', 'F:\\\\data\\\\yuanfazhao_data_05\\\\N2-607-wanhongliang\\\\Lable\\\\098.bmp', 'F:\\\\data\\\\yuanfazhao_data_05\\\\N2-607-wanhongliang\\\\Lable\\\\099.bmp', 'F:\\\\data\\\\yuanfazhao_data_05\\\\N2-607-wanhongliang\\\\Lable\\\\100.bmp', 'F:\\\\data\\\\yuanfazhao_data_05\\\\N2-607-wanhongliang\\\\Lable\\\\101.bmp', 'F:\\\\data\\\\yuanfazhao_data_05\\\\N2-607-wanhongliang\\\\Lable\\\\102.bmp', 'F:\\\\data\\\\yuanfazhao_data_05\\\\N2-607-wanhongliang\\\\Lable\\\\103.bmp', 'F:\\\\data\\\\yuanfazhao_data_05\\\\N2-607-wanhongliang\\\\Lable\\\\104.bmp', 'F:\\\\data\\\\yuanfazhao_data_05\\\\N2-607-wanhongliang\\\\Lable\\\\105.bmp', 'F:\\\\data\\\\yuanfazhao_data_05\\\\N2-607-wanhongliang\\\\Lable\\\\106.bmp']\n",
      "150\n"
     ]
    }
   ],
   "source": [
    "# 所有的Label路径\n",
    "label_all_path = []\n",
    "\n",
    "for v in lable_paths:\n",
    "    name = os.listdir(v)\n",
    "    for n in name:\n",
    "        label_all_path.append(os.path.join(v,n))\n",
    "\n",
    "print(label_all_path)\n",
    "print(len(label_all_path))"
   ]
  },
  {
   "cell_type": "code",
   "execution_count": 15,
   "metadata": {},
   "outputs": [
    {
     "name": "stdout",
     "output_type": "stream",
     "text": [
      "wangyunqing\n",
      "tangliru\n",
      "ruanguanfu\n",
      "wulong\n",
      "wulingbo\n",
      "wangguiping\n",
      "liwanfeng\n",
      "jinyanlai\n",
      "huangxueqi\n",
      "xiafafu\n",
      "liushaogang\n",
      "lixiuqing\n",
      "wangwuping\n",
      "wanglijuan\n",
      "wanhongliang\n",
      "15\n"
     ]
    }
   ],
   "source": [
    "l1 = []\n",
    "for name in pet_all_path:\n",
    "    n = name.split(\"\\\\\")[3].split(\"-\")[2]\n",
    "    if n not in l1:\n",
    "        l1.append(n)\n",
    "for l in l1:\n",
    "    print(l)\n",
    "print(len(l1))"
   ]
  },
  {
   "cell_type": "code",
   "execution_count": 16,
   "metadata": {},
   "outputs": [
    {
     "name": "stdout",
     "output_type": "stream",
     "text": [
      "{'wangyunqing': 205, 'tangliru': 287, 'ruanguanfu': 205, 'wulong': 239, 'wulingbo': 287, 'wangguiping': 287, 'liwanfeng': 239, 'jinyanlai': 287, 'huangxueqi': 287, 'xiafafu': 287, 'liushaogang': 239, 'lixiuqing': 205, 'wangwuping': 287, 'wanglijuan': 205, 'wanhongliang': 239}\n"
     ]
    }
   ],
   "source": [
    "# 存放原始数据中每个病人的CT/PET序列总数\n",
    "patient_ct_pet_len = {\"wangyunqing\":205,\"tangliru\":287,\"ruanguanfu\":205,\"wulong\":239,\"wulingbo\":287,\"wangguiping\":287,\"liwanfeng\":239,\n",
    "\"jinyanlai\":287,\"huangxueqi\":287,\"xiafafu\":287,\"liushaogang\":239,\"lixiuqing\":205,\"wangwuping\":287,\"wanglijuan\":205,\"wanhongliang\":239}\n",
    "print(patient_ct_pet_len)"
   ]
  },
  {
   "cell_type": "code",
   "execution_count": 17,
   "metadata": {},
   "outputs": [],
   "source": [
    "# CT 复制并重命名\n",
    "# new_path = []\n",
    "targetdir = \"F:\\\\data\\\\yuanfazhao\\\\yuanfazhao_data_06\\\\CT\"\n",
    "for ct_filename in ct_all_path:\n",
    "    w = ct_filename.split(\"\\\\\")\n",
    "    w1 = w[3].split(\"-\")\n",
    "    \n",
    "    new_name = \"C\" + w1[0] + w1[-1] + w[-1]\n",
    "        \n",
    "    shutil.copy(ct_filename,os.path.join(targetdir,new_name))\n",
    "    \n",
    "#     new_path.append(new_name)\n",
    "\n",
    "# print(new_path)"
   ]
  },
  {
   "cell_type": "code",
   "execution_count": 19,
   "metadata": {},
   "outputs": [],
   "source": [
    "# PET 复制并重命名\n",
    "# path = []\n",
    "targetdir2 = \"F:\\\\data\\\\yuanfazhao\\\\yuanfazhao_data_06\\\\PET\"\n",
    "for pet_filename in pet_all_path:\n",
    "    w = pet_filename.split(\"\\\\\")\n",
    "    w1 = w[3].split(\"-\")\n",
    "    \n",
    "    new_name = \"P\" + w1[0] + w1[-1] + w[-1]\n",
    "    \n",
    "    shutil.copy(pet_filename,os.path.join(targetdir2,new_name))\n",
    "    \n",
    "#     path.append(new_name)\n",
    "\n",
    "# print(path)"
   ]
  },
  {
   "cell_type": "code",
   "execution_count": 26,
   "metadata": {},
   "outputs": [],
   "source": [
    "# Lable复制并重命名\n",
    "# lable = []\n",
    "targetdir3 = \"F:\\\\data\\\\yuanfazhao_data_06\\\\Lable\"\n",
    "for label_name in label_all_path:\n",
    "    w = label_name.split(\"\\\\\")\n",
    "    w1 = w[3].split(\"-\")\n",
    "    \n",
    "    new_name = \"L\" + w1[0] + w1[-1] + w[-1]\n",
    "    \n",
    "    shutil.copy(label_name,os.path.join(targetdir3,new_name))\n",
    "    \n",
    "#     lable.append(new_name)\n",
    "\n",
    "# print(lable)\n",
    "# print(len(lable))"
   ]
  }
 ],
 "metadata": {
  "kernelspec": {
   "display_name": "Python 3",
   "language": "python",
   "name": "python3"
  },
  "language_info": {
   "codemirror_mode": {
    "name": "ipython",
    "version": 3
   },
   "file_extension": ".py",
   "mimetype": "text/x-python",
   "name": "python",
   "nbconvert_exporter": "python",
   "pygments_lexer": "ipython3",
   "version": "3.6.8"
  }
 },
 "nbformat": 4,
 "nbformat_minor": 2
}
