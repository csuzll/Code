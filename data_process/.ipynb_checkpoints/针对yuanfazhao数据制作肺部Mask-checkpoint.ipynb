{
 "cells": [
  {
   "cell_type": "markdown",
   "metadata": {},
   "source": [
    "## 制作yuanfazhao数据的肺部Mask\n",
    "\n",
    "\n",
    "采用形态学中的阈值分析法\n",
    "\n",
    "\n",
    "\n",
    "方法不是很好，可能只有左肺或右肺，或者肿瘤部位直接被当作背景了。"
   ]
  },
  {
   "cell_type": "markdown",
   "metadata": {},
   "source": [
    "### 存放原始数据中每个病人的CT/PET序列总数\n",
    "patient_ct_pet_len = {\"wangyunqing\":205,\"tangliru\":287,\"ruanguanfu\":205,\"wulong\":239,\"wulingbo\":287,\"wangguiping\":287,\"liwanfeng\":239,\n",
    "\"jinyanlai\":287,\"huangxueqi\":287,\"xiafafu\":287,\"liushaogang\":239,\"lixiuqing\":205,\"wangwuping\":287,\"wanglijuan\":205,\"wanhongliang\":239}\n",
    "\n",
    "\n",
    "### 每个序列倒序排列后的序号\n",
    "列出的序号都是肺部以外的人体，分析时去掉，手动找到，得想个其他方法解决\n",
    "\n",
    "\"wangyunqing\":1-72，147-205\n",
    "\n",
    "\"tangliru\":1-135，205-287\n",
    "\n",
    "\"ruanguanfu\":1-84，148-205\n",
    "\n",
    "\"wulong\":1-111,179-239\n",
    "\n",
    "\"wulingbo\":1-127，208-287\n",
    "\n",
    "\"wangguiping\":1-135，210-287\n",
    "\n",
    "\"liwanfeng\":1-98，175-239\n",
    "\n",
    "\"jinyanlai\":1-123，202-287\n",
    "\n",
    "\"huangxueqi\":1-131，209-287\n",
    "\n",
    "\"xiafafu\":1-120，197-287\n",
    "\n",
    "\"liushaogang\":1-112，169-239\n",
    "\n",
    "\"lixiuqing\":1-87，148-205\n",
    "\n",
    "\"wangwuping\":1-141，207-287\n",
    "\n",
    "\"wanglijuan\":1-88，152-205\n",
    "\n",
    "\"wanhongliang\":1-115，177-239"
   ]
  },
  {
   "cell_type": "code",
   "execution_count": 1,
   "metadata": {},
   "outputs": [],
   "source": [
    "import numpy as np \n",
    "import pydicom\n",
    "import os\n",
    "import scipy.ndimage\n",
    "import matplotlib.pyplot as plt\n",
    "\n",
    "from skimage import measure, morphology\n",
    "import time\n",
    "import pdb "
   ]
  },
  {
   "cell_type": "code",
   "execution_count": 2,
   "metadata": {},
   "outputs": [],
   "source": [
    "# 原始数据中每个病人的CT/PET序列总数\n",
    "patient_ct_pet_len = {\"wangyunqing\":205,\"tangliru\":287,\"ruanguanfu\":205,\"wulong\":239,\"wulingbo\":287,\"wangguiping\":287,\"liwanfeng\":239, \"jinyanlai\":287,\"huangxueqi\":287,\"xiafafu\":287,\"liushaogang\":239,\"lixiuqing\":205,\"wangwuping\":287,\"wanglijuan\":205,\"wanhongliang\":239}"
   ]
  },
  {
   "cell_type": "code",
   "execution_count": 3,
   "metadata": {},
   "outputs": [
    {
     "name": "stdout",
     "output_type": "stream",
     "text": [
      "['wangyunqing', 'tangliru', 'ruanguanfu', 'wulong', 'wulingbo', 'wangguiping', 'liwanfeng', 'jinyanlai', 'huangxueqi', 'xiafafu', 'liushaogang', 'lixiuqing', 'wangwuping', 'wanglijuan', 'wanhongliang']\n"
     ]
    }
   ],
   "source": [
    "# ITKsnap中需要切除的序号\n",
    "patient_name = list(patient_ct_pet_len.keys())\n",
    "print(patient_name)\n",
    "\n",
    "# 存放切除序号的字典\n",
    "num_dic = {}\n",
    "for name in patient_name:\n",
    "    if name==\"wangyunqing\":\n",
    "        l1 = list(range(1,73))\n",
    "        l1.extend(range(147,206))\n",
    "        num_dic[name] = l1\n",
    "    elif name==\"tangliru\":\n",
    "        l1 = list(range(1,136))\n",
    "        l1.extend(range(205,288))\n",
    "        num_dic[name] = l1\n",
    "    elif name == \"ruanguanfu\":\n",
    "        l1 = list(range(1,85))\n",
    "        l1.extend(range(148,206))\n",
    "        num_dic[name] = l1\n",
    "    elif name == \"wulong\":\n",
    "        l1 = list(range(1,112))\n",
    "        l1.extend(range(179,240))\n",
    "        num_dic[name] = l1\n",
    "    elif name == \"wulingbo\":\n",
    "        l1 = list(range(1,128))\n",
    "        l1.extend(range(208,288))\n",
    "        num_dic[name] = l1\n",
    "    elif name == \"wangguiping\":\n",
    "        l1 = list(range(1,136))\n",
    "        l1.extend(range(210,288))\n",
    "        num_dic[name] = l1\n",
    "    elif name ==\"liwanfeng\":\n",
    "        l1 = list(range(1,99))\n",
    "        l1.extend(range(175,240))\n",
    "        num_dic[name] = l1\n",
    "    elif name ==\"jinyanlai\":\n",
    "        l1 = list(range(1,124))\n",
    "        l1.extend(range(202,288))\n",
    "        num_dic[name] = l1\n",
    "    elif name==\"huangxueqi\":\n",
    "        l1 = list(range(1,132))\n",
    "        l1.extend(range(209,288))\n",
    "        num_dic[name] = l1\n",
    "    elif name==\"xiafafu\":\n",
    "        l1 = list(range(1,121))\n",
    "        l1.extend(range(197,288))\n",
    "        num_dic[name] = l1\n",
    "    elif name==\"liushaogang\":\n",
    "        l1 = list(range(1,113))\n",
    "        l1.extend(range(169,240))\n",
    "        num_dic[name] = l1\n",
    "    elif name==\"lixiuqing\":\n",
    "        l1 = list(range(1,88))\n",
    "        l1.extend(range(148,206))\n",
    "        num_dic[name] = l1\n",
    "    elif name==\"wangwuping\":\n",
    "        l1 = list(range(1,142))\n",
    "        l1.extend(range(207,288))\n",
    "        num_dic[name] = l1\n",
    "    elif name==\"wanglijuan\":\n",
    "        l1 = list(range(1,89))\n",
    "        l1.extend(range(152,206))\n",
    "        num_dic[name] = l1\n",
    "    elif name==\"wanhongliang\":\n",
    "        l1 = list(range(1,116))\n",
    "        l1.extend(range(177,240))\n",
    "        num_dic[name] = l1\n",
    "    else:\n",
    "        print(\"Error\")"
   ]
  },
  {
   "cell_type": "code",
   "execution_count": 4,
   "metadata": {},
   "outputs": [
    {
     "name": "stdout",
     "output_type": "stream",
     "text": [
      "[1, 2, 3, 4, 5, 6, 7, 8, 9, 10, 11, 12, 13, 14, 15, 16, 17, 18, 19, 20, 21, 22, 23, 24, 25, 26, 27, 28, 29, 30, 31, 32, 33, 34, 35, 36, 37, 38, 39, 40, 41, 42, 43, 44, 45, 46, 47, 48, 49, 50, 51, 52, 53, 54, 55, 56, 57, 58, 59, 60, 61, 62, 63, 64, 65, 66, 67, 68, 69, 70, 71, 72, 147, 148, 149, 150, 151, 152, 153, 154, 155, 156, 157, 158, 159, 160, 161, 162, 163, 164, 165, 166, 167, 168, 169, 170, 171, 172, 173, 174, 175, 176, 177, 178, 179, 180, 181, 182, 183, 184, 185, 186, 187, 188, 189, 190, 191, 192, 193, 194, 195, 196, 197, 198, 199, 200, 201, 202, 203, 204, 205]\n",
      "[1, 2, 3, 4, 5, 6, 7, 8, 9, 10, 11, 12, 13, 14, 15, 16, 17, 18, 19, 20, 21, 22, 23, 24, 25, 26, 27, 28, 29, 30, 31, 32, 33, 34, 35, 36, 37, 38, 39, 40, 41, 42, 43, 44, 45, 46, 47, 48, 49, 50, 51, 52, 53, 54, 55, 56, 57, 58, 59, 60, 61, 62, 63, 64, 65, 66, 67, 68, 69, 70, 71, 72, 73, 74, 75, 76, 77, 78, 79, 80, 81, 82, 83, 84, 85, 86, 87, 88, 89, 90, 91, 92, 93, 94, 95, 96, 97, 98, 99, 100, 101, 102, 103, 104, 105, 106, 107, 108, 109, 110, 111, 112, 113, 114, 115, 116, 117, 118, 119, 120, 121, 122, 123, 124, 125, 126, 127, 128, 129, 130, 131, 132, 133, 134, 135, 210, 211, 212, 213, 214, 215, 216, 217, 218, 219, 220, 221, 222, 223, 224, 225, 226, 227, 228, 229, 230, 231, 232, 233, 234, 235, 236, 237, 238, 239, 240, 241, 242, 243, 244, 245, 246, 247, 248, 249, 250, 251, 252, 253, 254, 255, 256, 257, 258, 259, 260, 261, 262, 263, 264, 265, 266, 267, 268, 269, 270, 271, 272, 273, 274, 275, 276, 277, 278, 279, 280, 281, 282, 283, 284, 285, 286, 287]\n"
     ]
    }
   ],
   "source": [
    "print(num_dic[\"wangyunqing\"])\n",
    "print(num_dic[\"wangguiping\"])"
   ]
  },
  {
   "cell_type": "code",
   "execution_count": 5,
   "metadata": {},
   "outputs": [],
   "source": [
    "# 对应的文件名\n",
    "def make_filename(num_dic,patient_ct_pet_len):\n",
    "    filename_dic = {}\n",
    "    \n",
    "    for k,v in num_dic.items():\n",
    "        num = patient_ct_pet_len[k] + 1\n",
    "        v_len = len(v)\n",
    "        \n",
    "        for i in range(v_len):\n",
    "            v[i] = num-v[i]\n",
    "            le = len(str(v[i]))\n",
    "            \n",
    "            if(le==1):\n",
    "                v[i] = \"00\"+str(v[i])\n",
    "            elif(le==2):\n",
    "                v[i] = \"0\"+str(v[i])\n",
    "            elif(le==3):\n",
    "                v[i] = str(v[i])\n",
    "            else:\n",
    "                print(\"Error\")\n",
    "                \n",
    "        filename_dic[k] = v\n",
    "        \n",
    "    return filename_dic"
   ]
  },
  {
   "cell_type": "code",
   "execution_count": 6,
   "metadata": {},
   "outputs": [],
   "source": [
    "filename = make_filename(num_dic,patient_ct_pet_len)"
   ]
  },
  {
   "cell_type": "code",
   "execution_count": 7,
   "metadata": {},
   "outputs": [
    {
     "name": "stdout",
     "output_type": "stream",
     "text": [
      "['205', '204', '203', '202', '201', '200', '199', '198', '197', '196', '195', '194', '193', '192', '191', '190', '189', '188', '187', '186', '185', '184', '183', '182', '181', '180', '179', '178', '177', '176', '175', '174', '173', '172', '171', '170', '169', '168', '167', '166', '165', '164', '163', '162', '161', '160', '159', '158', '157', '156', '155', '154', '153', '152', '151', '150', '149', '148', '147', '146', '145', '144', '143', '142', '141', '140', '139', '138', '137', '136', '135', '134', '059', '058', '057', '056', '055', '054', '053', '052', '051', '050', '049', '048', '047', '046', '045', '044', '043', '042', '041', '040', '039', '038', '037', '036', '035', '034', '033', '032', '031', '030', '029', '028', '027', '026', '025', '024', '023', '022', '021', '020', '019', '018', '017', '016', '015', '014', '013', '012', '011', '010', '009', '008', '007', '006', '005', '004', '003', '002', '001']\n"
     ]
    }
   ],
   "source": [
    "print(filename[\"wangyunqing\"])"
   ]
  },
  {
   "cell_type": "code",
   "execution_count": 9,
   "metadata": {},
   "outputs": [
    {
     "name": "stdout",
     "output_type": "stream",
     "text": [
      "['F:\\\\data\\\\yuanfazhao_data_07\\\\N0-1978-wangyunqing', 'F:\\\\data\\\\yuanfazhao_data_07\\\\N0-2115-tangliru', 'F:\\\\data\\\\yuanfazhao_data_07\\\\N0-2201-ruanguanfu', 'F:\\\\data\\\\yuanfazhao_data_07\\\\N0-484-wulong', 'F:\\\\data\\\\yuanfazhao_data_07\\\\N0-485-wulingbo', 'F:\\\\data\\\\yuanfazhao_data_07\\\\N0-60-wangguiping', 'F:\\\\data\\\\yuanfazhao_data_07\\\\N1-2525-liwanfeng', 'F:\\\\data\\\\yuanfazhao_data_07\\\\N1-2621-jinyanlai', 'F:\\\\data\\\\yuanfazhao_data_07\\\\N2-1062-huangxueqi', 'F:\\\\data\\\\yuanfazhao_data_07\\\\N2-1901-xiafafu', 'F:\\\\data\\\\yuanfazhao_data_07\\\\N2-2403-liushaogang', 'F:\\\\data\\\\yuanfazhao_data_07\\\\N2-2506-lixiuqing', 'F:\\\\data\\\\yuanfazhao_data_07\\\\N2-541-wangwuping', 'F:\\\\data\\\\yuanfazhao_data_07\\\\N2-557-wanglijuan', 'F:\\\\data\\\\yuanfazhao_data_07\\\\N2-607-wanhongliang']\n",
      "['F:\\\\data\\\\yuanfazhao_data_07\\\\N0-1978-wangyunqing\\\\C4NEH5E20', 'F:\\\\data\\\\yuanfazhao_data_07\\\\N0-2115-tangliru\\\\CZPJUFO1Y', 'F:\\\\data\\\\yuanfazhao_data_07\\\\N0-2201-ruanguanfu\\\\CYPYNZS0T', 'F:\\\\data\\\\yuanfazhao_data_07\\\\N0-484-wulong\\\\CE1VOZRHT', 'F:\\\\data\\\\yuanfazhao_data_07\\\\N0-485-wulingbo\\\\CZXMCE2E0', 'F:\\\\data\\\\yuanfazhao_data_07\\\\N0-60-wangguiping\\\\C5YGD35LZ', 'F:\\\\data\\\\yuanfazhao_data_07\\\\N1-2525-liwanfeng\\\\CWJREMFFT', 'F:\\\\data\\\\yuanfazhao_data_07\\\\N1-2621-jinyanlai\\\\CWAYLK3IB', 'F:\\\\data\\\\yuanfazhao_data_07\\\\N2-1062-huangxueqi\\\\CWHIB2QD5', 'F:\\\\data\\\\yuanfazhao_data_07\\\\N2-1901-xiafafu\\\\CT2XWRBHT', 'F:\\\\data\\\\yuanfazhao_data_07\\\\N2-2403-liushaogang\\\\CNMDHQGZE', 'F:\\\\data\\\\yuanfazhao_data_07\\\\N2-2506-lixiuqing\\\\CZ5TGIPGI', 'F:\\\\data\\\\yuanfazhao_data_07\\\\N2-541-wangwuping\\\\C1UQCBBUK', 'F:\\\\data\\\\yuanfazhao_data_07\\\\N2-557-wanglijuan\\\\CJPWWVPSY', 'F:\\\\data\\\\yuanfazhao_data_07\\\\N2-607-wanhongliang\\\\CMGT0224F']\n"
     ]
    }
   ],
   "source": [
    "# 删除文件\n",
    "data_path = \"F:\\\\data\\\\yuanfazhao\\\\yuanfazhao_data_07\"\n",
    "\n",
    "patient_path = [os.path.join(data_path,s) for s in os.listdir(data_path)]\n",
    "print(patient_path)\n",
    "\n",
    "patient_ct_path = []\n",
    "for v in patient_path:\n",
    "    t = os.listdir(v)\n",
    "    s = os.path.join(v,t[0])\n",
    "    patient_ct_path.append(s)\n",
    "    \n",
    "print(patient_ct_path)"
   ]
  },
  {
   "cell_type": "code",
   "execution_count": 10,
   "metadata": {},
   "outputs": [],
   "source": [
    "for v in patient_ct_path:\n",
    "    # tt = os.listdir(v)\n",
    "    # src_name = os.path.join(v,t for t in tt)\n",
    "    patient_name = v.split(\"\\\\\")[3].split(\"-\")[-1]\n",
    "    file_name = filename[patient_name]\n",
    "    for f in file_name:\n",
    "        new_name = os.path.join(v,f)+\".dcm\"\n",
    "        if(os.path.exists(new_name)):\n",
    "            os.remove(new_name)"
   ]
  },
  {
   "cell_type": "markdown",
   "metadata": {},
   "source": [
    "### 下边提取肺部MASK"
   ]
  },
  {
   "cell_type": "code",
   "execution_count": 19,
   "metadata": {},
   "outputs": [],
   "source": [
    "# 载入图像\n",
    "def load_scan(path):\n",
    "    # 读入slices存储的是一个序列多个dcm内容的列表\n",
    "    slices = [pydicom.dcmread(path + '\\\\' + s) for s in os.listdir(path)]\n",
    "    # 排序\n",
    "    slices.sort(key = lambda x: float(x.ImagePositionPatient[2]))\n",
    "        \n",
    "    return slices"
   ]
  },
  {
   "cell_type": "code",
   "execution_count": 12,
   "metadata": {},
   "outputs": [],
   "source": [
    "# 将pixel转为HU\n",
    "def get_pixels_hu(slices):\n",
    "    # 2维切片堆叠为3维scan。（矩阵）\n",
    "    image = np.stack([s.pixel_array for s in slices])\n",
    "\n",
    "    # 转换为int16类型，有时就是int16类型\n",
    "    # Convert to int16 (from sometimes int16), \n",
    "    # should be possible as values should always be low enough (<32k)\n",
    "    image = image.astype(np.int16)\n",
    "\n",
    "    # CT扫描边界之外的灰度值固定为-2000，将这些值设定为0\n",
    "    image[image==-2000] = 0\n",
    "    \n",
    "    # Convert to Hounsfield units (HU)\n",
    "    for slice_number in range(len(slices)):        \n",
    "        intercept = slices[slice_number].RescaleIntercept\n",
    "        slope = slices[slice_number].RescaleSlope\n",
    "        \n",
    "        if slope != 1:\n",
    "            image[slice_number] = slope * image[slice_number].astype(np.float64)\n",
    "            image[slice_number] = image[slice_number].astype(np.int16)\n",
    "            \n",
    "        image[slice_number] += np.int16(intercept)\n",
    "    \n",
    "    # 返回image(int16),像素间距（z,x,y)\n",
    "    return np.array(image, dtype=np.int16), np.array([slices[0].SliceThickness] + list(slices[0].PixelSpacing), dtype=np.float32)"
   ]
  },
  {
   "cell_type": "code",
   "execution_count": 13,
   "metadata": {},
   "outputs": [],
   "source": [
    "# 单独对每张图二值化\n",
    "def binarize_per_slice(image, spacing, intensity_th=-600, sigma=1, area_th=30, eccen_th=0.99, bg_patch_size=10):\n",
    "    # bw存储的就是二值True或False\n",
    "    bw = np.zeros(image.shape, dtype=bool)\n",
    "    \n",
    "    # 准备一个mask.corner的值为nan。也就是正方形中有个内接圆，值为1，其余为nan\n",
    "    # prepare a mask, with all corner values set to nan\n",
    "    image_size = image.shape[1]\n",
    "    grid_axis = np.linspace(-image_size/2+0.5, image_size/2-0.5, image_size)\n",
    "    x, y = np.meshgrid(grid_axis, grid_axis)\n",
    "    d = (x**2+y**2)**0.5\n",
    "    nan_mask = (d<image_size/2).astype(float)\n",
    "    nan_mask[nan_mask == 0] = np.nan\n",
    "\n",
    "    # bw开始赋值\n",
    "    for i in range(image.shape[0]):\n",
    "        # 检查图像的角像素是否相同，如果相同，则在高斯滤波前与nan_mask相乘\n",
    "        if len(np.unique(image[i, 0:bg_patch_size, 0:bg_patch_size])) == 1:\n",
    "            # current_bw为一个二值（与阈值比较后的）\n",
    "            current_bw = scipy.ndimage.filters.gaussian_filter(np.multiply(image[i].astype('float32'), nan_mask), sigma, truncate=2.0) < intensity_th\n",
    "        else:\n",
    "            current_bw = scipy.ndimage.filters.gaussian_filter(image[i].astype('float32'), sigma, truncate=2.0) < intensity_th\n",
    "        \n",
    "        # 选择连通区域\n",
    "        # label函数返回二值图中的连通区的label矩阵，每一个连通区由一个值定义\n",
    "        label = measure.label(current_bw)\n",
    "        # regionprops()获取label中每一个连通区的属性。\n",
    "        properties = measure.regionprops(label)\n",
    "        # valid_lable是一个有效label值集合\n",
    "        valid_label = set()\n",
    "        for prop in properties:\n",
    "            if prop.area * spacing[1] * spacing[2] > area_th and prop.eccentricity < eccen_th:\n",
    "                valid_label.add(prop.label)\n",
    "        # current_bw为符合条件的二值图，利用np.in1d()函数。\n",
    "        current_bw = np.in1d(label, list(valid_label)).reshape(label.shape)\n",
    "        bw[i] = current_bw\n",
    "        \n",
    "    return bw"
   ]
  },
  {
   "cell_type": "code",
   "execution_count": 14,
   "metadata": {},
   "outputs": [],
   "source": [
    "# 所有切片一起分析\n",
    "def all_slice_analysis(bw, spacing, cut_num=0, vol_limit=[0.68, 8.2], area_th=6e3, dist_th=62):\n",
    "    # 在某些情况下，首先需要删除几个顶层\n",
    "    # in some cases, several top layers need to be removed first\n",
    "    if cut_num > 0:\n",
    "        bw0 = np.copy(bw)\n",
    "        # bw[-cut_num]后cut_num张\n",
    "        bw[-cut_num:] = False\n",
    "    # bw是3维的\n",
    "    label = measure.label(bw, connectivity=1)\n",
    "    # remove components access to corners\n",
    "    mid = int(label.shape[2] / 2)\n",
    "    # bg_label为以下几个位置的值，set用于去掉重复值\n",
    "    bg_label = set([label[0, 0, 0], label[0, 0, -1], label[0, -1, 0], label[0, -1, -1], \\\n",
    "                    label[-1-cut_num, 0, 0], label[-1-cut_num, 0, -1], label[-1-cut_num, -1, 0], label[-1-cut_num, -1, -1], \\\n",
    "                    label[0, 0, mid], label[0, -1, mid], label[-1-cut_num, 0, mid], label[-1-cut_num, -1, mid]])\n",
    "    # label的值已将背景设为0了。\n",
    "    for l in bg_label:\n",
    "        label[label == l] = 0\n",
    "        \n",
    "    # select components based on volume\n",
    "    # 通过volume寻找连通区\n",
    "    properties = measure.regionprops(label)\n",
    "    for prop in properties:\n",
    "        if prop.area * spacing.prod() < vol_limit[0] * 1e6 or prop.area * spacing.prod() > vol_limit[1] * 1e6:\n",
    "            label[label == prop.label] = 0\n",
    "            \n",
    "    # prepare a distance map for further analysis\n",
    "    # 准备一个distance map用作未来的分析\n",
    "    x_axis = np.linspace(-label.shape[1]/2+0.5, label.shape[1]/2-0.5, label.shape[1]) * spacing[1]\n",
    "    y_axis = np.linspace(-label.shape[2]/2+0.5, label.shape[2]/2-0.5, label.shape[2]) * spacing[2]\n",
    "    x, y = np.meshgrid(x_axis, y_axis)\n",
    "    d = (x**2+y**2)**0.5\n",
    "\n",
    "    vols = measure.regionprops(label)\n",
    "    valid_label = set()\n",
    "    # select components based on their area and distance to center axis on all slices\n",
    "    for vol in vols:\n",
    "        single_vol = label == vol.label\n",
    "        slice_area = np.zeros(label.shape[0])\n",
    "        min_distance = np.zeros(label.shape[0])\n",
    "        for i in range(label.shape[0]):\n",
    "            slice_area[i] = np.sum(single_vol[i]) * np.prod(spacing[1:3])\n",
    "            min_distance[i] = np.min(single_vol[i] * d + (1 - single_vol[i]) * np.max(d))\n",
    "        \n",
    "        if np.average([min_distance[i] for i in range(label.shape[0]) if slice_area[i] > area_th]) < dist_th:\n",
    "            valid_label.add(vol.label)\n",
    "    \n",
    "    # 3维图像中符合条件的二值图。        \n",
    "    bw = np.in1d(label, list(valid_label)).reshape(label.shape)\n",
    "    \n",
    "    # fill back the parts removed earlier\n",
    "    if cut_num > 0:\n",
    "        # bw1 is bw with removed slices, bw2 is a dilated version of bw, part of their intersection is returned as final mask\n",
    "        bw1 = np.copy(bw)\n",
    "        bw1[-cut_num:] = bw0[-cut_num:]\n",
    "        bw2 = np.copy(bw)\n",
    "        bw2 = scipy.ndimage.binary_dilation(bw2, iterations=cut_num)\n",
    "        bw3 = bw1 & bw2\n",
    "        label = measure.label(bw, connectivity=1)\n",
    "        label3 = measure.label(bw3, connectivity=1)\n",
    "        l_list = list(set(np.unique(label)) - {0})\n",
    "        valid_l3 = set()\n",
    "        for l in l_list:\n",
    "            indices = np.nonzero(label==l)\n",
    "            l3 = label3[indices[0][0], indices[1][0], indices[2][0]]\n",
    "            if l3 > 0:\n",
    "                valid_l3.add(l3)\n",
    "        bw = np.in1d(label3, list(valid_l3)).reshape(label3.shape)\n",
    "    \n",
    "    # 返回bw,以及其中包含的label值的数量。\n",
    "    return bw, len(valid_label)"
   ]
  },
  {
   "cell_type": "code",
   "execution_count": 15,
   "metadata": {},
   "outputs": [],
   "source": [
    "# 孔洞填充\n",
    "def fill_hole(bw):\n",
    "    # fill 3d holes\n",
    "    label = measure.label(~bw)\n",
    "    # idendify corner components\n",
    "    bg_label = set([label[0, 0, 0], label[0, 0, -1], label[0, -1, 0], label[0, -1, -1], \\\n",
    "                    label[-1, 0, 0], label[-1, 0, -1], label[-1, -1, 0], label[-1, -1, -1]])\n",
    "    bw = ~np.in1d(label, list(bg_label)).reshape(label.shape)\n",
    "    \n",
    "    return bw"
   ]
  },
  {
   "cell_type": "code",
   "execution_count": 16,
   "metadata": {},
   "outputs": [],
   "source": [
    "# 两个肺部的掩码\n",
    "def two_lung_only(bw, spacing, max_iter=22, max_ratio=4.8):    \n",
    "    def extract_main(bw, cover=0.95):\n",
    "        for i in range(bw.shape[0]):\n",
    "            current_slice = bw[i]\n",
    "            label = measure.label(current_slice)\n",
    "            properties = measure.regionprops(label)\n",
    "            properties.sort(key=lambda x: x.area, reverse=True)\n",
    "            area = [prop.area for prop in properties]\n",
    "            count = 0\n",
    "            sum = 0\n",
    "            while sum < np.sum(area)*cover:\n",
    "                sum = sum+area[count]\n",
    "                count = count+1\n",
    "            filter = np.zeros(current_slice.shape, dtype=bool)\n",
    "            for j in range(count):\n",
    "                bb = properties[j].bbox\n",
    "                filter[bb[0]:bb[2], bb[1]:bb[3]] = filter[bb[0]:bb[2], bb[1]:bb[3]] | properties[j].convex_image\n",
    "            bw[i] = bw[i] & filter\n",
    "           \n",
    "        label = measure.label(bw)\n",
    "        properties = measure.regionprops(label)\n",
    "        properties.sort(key=lambda x: x.area, reverse=True)\n",
    "        bw = label==properties[0].label\n",
    "\n",
    "        return bw\n",
    "    \n",
    "    def fill_2d_hole(bw):\n",
    "        for i in range(bw.shape[0]):\n",
    "            current_slice = bw[i]\n",
    "            label = measure.label(current_slice)\n",
    "            properties = measure.regionprops(label)\n",
    "            for prop in properties:\n",
    "                bb = prop.bbox\n",
    "                current_slice[bb[0]:bb[2], bb[1]:bb[3]] = current_slice[bb[0]:bb[2], bb[1]:bb[3]] | prop.filled_image\n",
    "            bw[i] = current_slice\n",
    "\n",
    "        return bw\n",
    "    \n",
    "    # 进行腐蚀\n",
    "    found_flag = False\n",
    "    iter_count = 0\n",
    "    bw0 = np.copy(bw)\n",
    "    while not found_flag and iter_count < max_iter:\n",
    "        label = measure.label(bw, connectivity=2)\n",
    "        properties = measure.regionprops(label)\n",
    "        properties.sort(key=lambda x: x.area, reverse=True)\n",
    "        if len(properties) > 1 and properties[0].area/properties[1].area < max_ratio:\n",
    "            found_flag = True\n",
    "            bw1 = label == properties[0].label\n",
    "            bw2 = label == properties[1].label\n",
    "        else:\n",
    "            # binary_erosion是腐蚀运算\n",
    "            bw = scipy.ndimage.binary_erosion(bw)\n",
    "            iter_count = iter_count + 1\n",
    "    \n",
    "    if found_flag:\n",
    "        # morphology.distance_transform_edt()求距离\n",
    "        d1 = scipy.ndimage.morphology.distance_transform_edt(bw1 == False, sampling=spacing)\n",
    "        d2 = scipy.ndimage.morphology.distance_transform_edt(bw2 == False, sampling=spacing)\n",
    "        bw1 = bw0 & (d1 < d2)\n",
    "        bw2 = bw0 & (d1 > d2)\n",
    "                \n",
    "        bw1 = extract_main(bw1) # 左肺\n",
    "        bw2 = extract_main(bw2) # 右肺\n",
    "        \n",
    "    else:\n",
    "        bw1 = bw0\n",
    "        bw2 = np.zeros(bw.shape).astype('bool')\n",
    "        \n",
    "    bw1 = fill_2d_hole(bw1) \n",
    "    bw2 = fill_2d_hole(bw2)\n",
    "    bw = bw1 | bw2\n",
    "\n",
    "    return bw1, bw2, bw"
   ]
  },
  {
   "cell_type": "code",
   "execution_count": 20,
   "metadata": {},
   "outputs": [],
   "source": [
    "def make_mask(case_path):\n",
    "    \n",
    "    case = load_scan(case_path)\n",
    "    \n",
    "    case_pixels, spacing = get_pixels_hu(case)\n",
    "    \n",
    "    bw = binarize_per_slice(case_pixels, spacing)\n",
    "    \n",
    "    flag = 0\n",
    "    cut_num = 0\n",
    "    cut_step = 2\n",
    "    bw0 = np.copy(bw)\n",
    "    while flag == 0 and cut_num < bw.shape[0]:\n",
    "        bw = np.copy(bw0)\n",
    "\n",
    "        bw, flag = all_slice_analysis(bw, spacing, cut_num=cut_num, vol_limit=[0.68,7.5])\n",
    "        cut_num = cut_num + cut_step\n",
    "    \n",
    "    bw = fill_hole(bw)\n",
    "    \n",
    "    bw1, bw2, bw = two_lung_only(bw, spacing)\n",
    "\n",
    "    return case_pixels,bw,spacing"
   ]
  },
  {
   "cell_type": "code",
   "execution_count": 42,
   "metadata": {},
   "outputs": [],
   "source": [
    "from PIL import Image\n",
    "\n",
    "\n",
    "# 以下代码是用来保存的时候保存为二值图的表\n",
    "threshold = 1\n",
    "table = []\n",
    "for i in range(256):\n",
    "    if i < threshold:\n",
    "        table.append(0)\n",
    "    else:\n",
    "        table.append(1)"
   ]
  },
  {
   "cell_type": "markdown",
   "metadata": {},
   "source": [
    "### 下面是一个一个病人的提取的肺部Mask\n",
    "因为循环运行会宕机"
   ]
  },
  {
   "cell_type": "code",
   "execution_count": 43,
   "metadata": {},
   "outputs": [
    {
     "name": "stdout",
     "output_type": "stream",
     "text": [
      "F:\\data\\yuanfazhao_data_07\\N0-1978-wangyunqing\\C4NEH5E20\n"
     ]
    },
    {
     "name": "stderr",
     "output_type": "stream",
     "text": [
      "D:\\Soft\\Anaconda3\\envs\\test\\lib\\site-packages\\ipykernel_launcher.py:20: RuntimeWarning: invalid value encountered in less\n"
     ]
    }
   ],
   "source": [
    "# 获取第一个病人的掩码\n",
    "i = 0\n",
    "ct_path = patient_ct_path[0]\n",
    "print(ct_path)\n",
    "pixels,bw,spacing = make_mask(ct_path)\n",
    "# 保存为BMP图像\n",
    "bw = bw[::-1]\n",
    "bw = bw.astype(np.uint8)\n",
    "m = 60\n",
    "for n in range(bw.shape[0]):\n",
    "    k = \"%03d\" % m\n",
    "    new_filename = str(k)\n",
    "    img = Image.fromarray(bw[n])\n",
    "    img=img.point(table,\"1\")\n",
    "    img.save(\"{}\\\\{}.bmp\".format(ct_path,new_filename))\n",
    "    m = m+1"
   ]
  },
  {
   "cell_type": "code",
   "execution_count": 44,
   "metadata": {},
   "outputs": [
    {
     "name": "stdout",
     "output_type": "stream",
     "text": [
      "F:\\data\\yuanfazhao_data_07\\N0-2115-tangliru\\CZPJUFO1Y\n"
     ]
    },
    {
     "name": "stderr",
     "output_type": "stream",
     "text": [
      "D:\\Soft\\Anaconda3\\envs\\test\\lib\\site-packages\\ipykernel_launcher.py:20: RuntimeWarning: invalid value encountered in less\n"
     ]
    }
   ],
   "source": [
    "# 获取第2个病人的掩码\n",
    "i = 1\n",
    "ct_path = patient_ct_path[1]\n",
    "print(ct_path)\n",
    "pixels,bw,spacing = make_mask(ct_path)\n",
    "# 保存为BMP图像\n",
    "bw = bw[::-1]\n",
    "bw = bw.astype(np.uint8)\n",
    "m = 84\n",
    "for n in range(bw.shape[0]):\n",
    "    k = \"%03d\" % m\n",
    "    new_filename = str(k)\n",
    "    img = Image.fromarray(bw[n])\n",
    "    img=img.point(table,\"1\")\n",
    "    img.save(\"{}\\\\{}.bmp\".format(ct_path,new_filename))\n",
    "    m = m+1"
   ]
  },
  {
   "cell_type": "code",
   "execution_count": 45,
   "metadata": {},
   "outputs": [
    {
     "name": "stdout",
     "output_type": "stream",
     "text": [
      "F:\\data\\yuanfazhao_data_07\\N0-2201-ruanguanfu\\CYPYNZS0T\n"
     ]
    },
    {
     "name": "stderr",
     "output_type": "stream",
     "text": [
      "D:\\Soft\\Anaconda3\\envs\\test\\lib\\site-packages\\ipykernel_launcher.py:20: RuntimeWarning: invalid value encountered in less\n"
     ]
    }
   ],
   "source": [
    "# 获取第3个病人的掩码\n",
    "i = 2\n",
    "ct_path = patient_ct_path[2]\n",
    "print(ct_path)\n",
    "pixels,bw,spacing = make_mask(ct_path)\n",
    "# 保存为BMP图像\n",
    "bw = bw[::-1]\n",
    "bw = bw.astype(np.uint8)\n",
    "m = 59\n",
    "for n in range(bw.shape[0]):\n",
    "    k = \"%03d\" % m\n",
    "    new_filename = str(k)\n",
    "    img = Image.fromarray(bw[n])\n",
    "    img=img.point(table,\"1\")\n",
    "    img.save(\"{}\\\\{}.bmp\".format(ct_path,new_filename))\n",
    "    m = m+1"
   ]
  },
  {
   "cell_type": "code",
   "execution_count": 46,
   "metadata": {},
   "outputs": [
    {
     "name": "stdout",
     "output_type": "stream",
     "text": [
      "F:\\data\\yuanfazhao_data_07\\N0-484-wulong\\CE1VOZRHT\n"
     ]
    },
    {
     "name": "stderr",
     "output_type": "stream",
     "text": [
      "D:\\Soft\\Anaconda3\\envs\\test\\lib\\site-packages\\ipykernel_launcher.py:20: RuntimeWarning: invalid value encountered in less\n"
     ]
    }
   ],
   "source": [
    "# 获取第4个病人的掩码\n",
    "i = 3\n",
    "ct_path = patient_ct_path[3]\n",
    "print(ct_path)\n",
    "pixels,bw,spacing = make_mask(ct_path)\n",
    "# 保存为BMP图像\n",
    "bw = bw[::-1]\n",
    "bw = bw.astype(np.uint8)\n",
    "m = 62\n",
    "for n in range(bw.shape[0]):\n",
    "    k = \"%03d\" % m\n",
    "    new_filename = str(k)\n",
    "    img = Image.fromarray(bw[n])\n",
    "    img=img.point(table,\"1\")\n",
    "    img.save(\"{}\\\\{}.bmp\".format(ct_path,new_filename))\n",
    "    m = m+1"
   ]
  },
  {
   "cell_type": "code",
   "execution_count": 47,
   "metadata": {},
   "outputs": [
    {
     "name": "stdout",
     "output_type": "stream",
     "text": [
      "F:\\data\\yuanfazhao_data_07\\N0-485-wulingbo\\CZXMCE2E0\n"
     ]
    },
    {
     "name": "stderr",
     "output_type": "stream",
     "text": [
      "D:\\Soft\\Anaconda3\\envs\\test\\lib\\site-packages\\ipykernel_launcher.py:20: RuntimeWarning: invalid value encountered in less\n"
     ]
    }
   ],
   "source": [
    "# 获取第5个病人的掩码\n",
    "i = 4\n",
    "ct_path = patient_ct_path[4]\n",
    "print(ct_path)\n",
    "pixels,bw,spacing = make_mask(ct_path)\n",
    "# 保存为BMP图像\n",
    "bw = bw[::-1]\n",
    "bw = bw.astype(np.uint8)\n",
    "m = 81\n",
    "for n in range(bw.shape[0]):\n",
    "    k = \"%03d\" % m\n",
    "    new_filename = str(k)\n",
    "    img = Image.fromarray(bw[n])\n",
    "    img=img.point(table,\"1\")\n",
    "    img.save(\"{}\\\\{}.bmp\".format(ct_path,new_filename))\n",
    "    m = m+1"
   ]
  },
  {
   "cell_type": "code",
   "execution_count": 48,
   "metadata": {},
   "outputs": [
    {
     "name": "stdout",
     "output_type": "stream",
     "text": [
      "F:\\data\\yuanfazhao_data_07\\N0-60-wangguiping\\C5YGD35LZ\n"
     ]
    },
    {
     "name": "stderr",
     "output_type": "stream",
     "text": [
      "D:\\Soft\\Anaconda3\\envs\\test\\lib\\site-packages\\ipykernel_launcher.py:20: RuntimeWarning: invalid value encountered in less\n"
     ]
    }
   ],
   "source": [
    "# 获取第6个病人的掩码\n",
    "i = 5\n",
    "ct_path = patient_ct_path[5]\n",
    "print(ct_path)\n",
    "pixels,bw,spacing = make_mask(ct_path)\n",
    "# 保存为BMP图像\n",
    "bw = bw[::-1]\n",
    "bw = bw.astype(np.uint8)\n",
    "m = 79\n",
    "for n in range(bw.shape[0]):\n",
    "    k = \"%03d\" % m\n",
    "    new_filename = str(k)\n",
    "    img = Image.fromarray(bw[n])\n",
    "    img=img.point(table,\"1\")\n",
    "    img.save(\"{}\\\\{}.bmp\".format(ct_path,new_filename))\n",
    "    m = m+1"
   ]
  },
  {
   "cell_type": "code",
   "execution_count": 49,
   "metadata": {},
   "outputs": [
    {
     "name": "stdout",
     "output_type": "stream",
     "text": [
      "F:\\data\\yuanfazhao_data_07\\N1-2525-liwanfeng\\CWJREMFFT\n"
     ]
    },
    {
     "name": "stderr",
     "output_type": "stream",
     "text": [
      "D:\\Soft\\Anaconda3\\envs\\test\\lib\\site-packages\\ipykernel_launcher.py:20: RuntimeWarning: invalid value encountered in less\n"
     ]
    }
   ],
   "source": [
    "# 获取第7个病人的掩码\n",
    "i = 6\n",
    "ct_path = patient_ct_path[6]\n",
    "print(ct_path)\n",
    "pixels,bw,spacing = make_mask(ct_path)\n",
    "# 保存为BMP图像\n",
    "bw = bw[::-1]\n",
    "bw = bw.astype(np.uint8)\n",
    "m = 66\n",
    "for n in range(bw.shape[0]):\n",
    "    k = \"%03d\" % m\n",
    "    new_filename = str(k)\n",
    "    img = Image.fromarray(bw[n])\n",
    "    img=img.point(table,\"1\")\n",
    "    img.save(\"{}\\\\{}.bmp\".format(ct_path,new_filename))\n",
    "    m = m+1"
   ]
  },
  {
   "cell_type": "code",
   "execution_count": 50,
   "metadata": {},
   "outputs": [
    {
     "name": "stdout",
     "output_type": "stream",
     "text": [
      "F:\\data\\yuanfazhao_data_07\\N1-2621-jinyanlai\\CWAYLK3IB\n"
     ]
    },
    {
     "name": "stderr",
     "output_type": "stream",
     "text": [
      "D:\\Soft\\Anaconda3\\envs\\test\\lib\\site-packages\\ipykernel_launcher.py:20: RuntimeWarning: invalid value encountered in less\n"
     ]
    }
   ],
   "source": [
    "# 获取第8个病人的掩码\n",
    "i = 7\n",
    "ct_path = patient_ct_path[7]\n",
    "print(ct_path)\n",
    "pixels,bw,spacing = make_mask(ct_path)\n",
    "# 保存为BMP图像\n",
    "bw = bw[::-1]\n",
    "bw = bw.astype(np.uint8)\n",
    "m = 87\n",
    "for n in range(bw.shape[0]):\n",
    "    k = \"%03d\" % m\n",
    "    new_filename = str(k)\n",
    "    img = Image.fromarray(bw[n])\n",
    "    img=img.point(table,\"1\")\n",
    "    img.save(\"{}\\\\{}.bmp\".format(ct_path,new_filename))\n",
    "    m = m+1"
   ]
  },
  {
   "cell_type": "code",
   "execution_count": 51,
   "metadata": {},
   "outputs": [
    {
     "name": "stdout",
     "output_type": "stream",
     "text": [
      "F:\\data\\yuanfazhao_data_07\\N2-1062-huangxueqi\\CWHIB2QD5\n"
     ]
    },
    {
     "name": "stderr",
     "output_type": "stream",
     "text": [
      "D:\\Soft\\Anaconda3\\envs\\test\\lib\\site-packages\\ipykernel_launcher.py:20: RuntimeWarning: invalid value encountered in less\n"
     ]
    }
   ],
   "source": [
    "# 获取第9个病人的掩码\n",
    "i = 8\n",
    "ct_path = patient_ct_path[8]\n",
    "print(ct_path)\n",
    "pixels,bw,spacing = make_mask(ct_path)\n",
    "# 保存为BMP图像\n",
    "bw = bw[::-1]\n",
    "bw = bw.astype(np.uint8)\n",
    "m = 80\n",
    "for n in range(bw.shape[0]):\n",
    "    k = \"%03d\" % m\n",
    "    new_filename = str(k)\n",
    "    img = Image.fromarray(bw[n])\n",
    "    img=img.point(table,\"1\")\n",
    "    img.save(\"{}\\\\{}.bmp\".format(ct_path,new_filename))\n",
    "    m = m+1"
   ]
  },
  {
   "cell_type": "code",
   "execution_count": 52,
   "metadata": {},
   "outputs": [
    {
     "name": "stdout",
     "output_type": "stream",
     "text": [
      "F:\\data\\yuanfazhao_data_07\\N2-1901-xiafafu\\CT2XWRBHT\n"
     ]
    },
    {
     "name": "stderr",
     "output_type": "stream",
     "text": [
      "D:\\Soft\\Anaconda3\\envs\\test\\lib\\site-packages\\ipykernel_launcher.py:20: RuntimeWarning: invalid value encountered in less\n"
     ]
    }
   ],
   "source": [
    "# 获取第10个病人的掩码\n",
    "i = 9\n",
    "ct_path = patient_ct_path[9]\n",
    "print(ct_path)\n",
    "pixels,bw,spacing = make_mask(ct_path)\n",
    "# 保存为BMP图像\n",
    "bw = bw[::-1]\n",
    "bw = bw.astype(np.uint8)\n",
    "m = 92\n",
    "for n in range(bw.shape[0]):\n",
    "    k = \"%03d\" % m\n",
    "    new_filename = str(k)\n",
    "    img = Image.fromarray(bw[n])\n",
    "    img=img.point(table,\"1\")\n",
    "    img.save(\"{}\\\\{}.bmp\".format(ct_path,new_filename))\n",
    "    m = m+1"
   ]
  },
  {
   "cell_type": "code",
   "execution_count": 53,
   "metadata": {},
   "outputs": [
    {
     "name": "stdout",
     "output_type": "stream",
     "text": [
      "F:\\data\\yuanfazhao_data_07\\N2-2403-liushaogang\\CNMDHQGZE\n"
     ]
    },
    {
     "name": "stderr",
     "output_type": "stream",
     "text": [
      "D:\\Soft\\Anaconda3\\envs\\test\\lib\\site-packages\\ipykernel_launcher.py:20: RuntimeWarning: invalid value encountered in less\n"
     ]
    }
   ],
   "source": [
    "# 获取第11个病人的掩码\n",
    "i = 10\n",
    "ct_path = patient_ct_path[10]\n",
    "print(ct_path)\n",
    "pixels,bw,spacing = make_mask(ct_path)\n",
    "# 保存为BMP图像\n",
    "bw = bw[::-1]\n",
    "bw = bw.astype(np.uint8)\n",
    "m = 72\n",
    "for n in range(bw.shape[0]):\n",
    "    k = \"%03d\" % m\n",
    "    new_filename = str(k)\n",
    "    img = Image.fromarray(bw[n])\n",
    "    img=img.point(table,\"1\")\n",
    "    img.save(\"{}\\\\{}.bmp\".format(ct_path,new_filename))\n",
    "    m = m+1"
   ]
  },
  {
   "cell_type": "code",
   "execution_count": 54,
   "metadata": {},
   "outputs": [
    {
     "name": "stdout",
     "output_type": "stream",
     "text": [
      "F:\\data\\yuanfazhao_data_07\\N2-2506-lixiuqing\\CZ5TGIPGI\n"
     ]
    },
    {
     "name": "stderr",
     "output_type": "stream",
     "text": [
      "D:\\Soft\\Anaconda3\\envs\\test\\lib\\site-packages\\ipykernel_launcher.py:20: RuntimeWarning: invalid value encountered in less\n"
     ]
    }
   ],
   "source": [
    "# 获取第12个病人的掩码\n",
    "i = 11\n",
    "ct_path = patient_ct_path[11]\n",
    "print(ct_path)\n",
    "pixels,bw,spacing = make_mask(ct_path)\n",
    "# 保存为BMP图像\n",
    "bw = bw[::-1]\n",
    "bw = bw.astype(np.uint8)\n",
    "m = 59\n",
    "for n in range(bw.shape[0]):\n",
    "    k = \"%03d\" % m\n",
    "    new_filename = str(k)\n",
    "    img = Image.fromarray(bw[n])\n",
    "    img=img.point(table,\"1\")\n",
    "    img.save(\"{}\\\\{}.bmp\".format(ct_path,new_filename))\n",
    "    m = m+1"
   ]
  },
  {
   "cell_type": "code",
   "execution_count": 55,
   "metadata": {},
   "outputs": [
    {
     "name": "stdout",
     "output_type": "stream",
     "text": [
      "F:\\data\\yuanfazhao_data_07\\N2-541-wangwuping\\C1UQCBBUK\n"
     ]
    },
    {
     "name": "stderr",
     "output_type": "stream",
     "text": [
      "D:\\Soft\\Anaconda3\\envs\\test\\lib\\site-packages\\ipykernel_launcher.py:20: RuntimeWarning: invalid value encountered in less\n"
     ]
    }
   ],
   "source": [
    "# 获取第13个病人的掩码\n",
    "i = 12\n",
    "ct_path = patient_ct_path[12]\n",
    "print(ct_path)\n",
    "pixels,bw,spacing = make_mask(ct_path)\n",
    "# 保存为BMP图像\n",
    "bw = bw[::-1]\n",
    "bw = bw.astype(np.uint8)\n",
    "m = 82\n",
    "for n in range(bw.shape[0]):\n",
    "    k = \"%03d\" % m\n",
    "    new_filename = str(k)\n",
    "    img = Image.fromarray(bw[n])\n",
    "    img=img.point(table,\"1\")\n",
    "    img.save(\"{}\\\\{}.bmp\".format(ct_path,new_filename))\n",
    "    m = m+1"
   ]
  },
  {
   "cell_type": "code",
   "execution_count": 56,
   "metadata": {},
   "outputs": [
    {
     "name": "stdout",
     "output_type": "stream",
     "text": [
      "F:\\data\\yuanfazhao_data_07\\N2-557-wanglijuan\\CJPWWVPSY\n"
     ]
    },
    {
     "name": "stderr",
     "output_type": "stream",
     "text": [
      "D:\\Soft\\Anaconda3\\envs\\test\\lib\\site-packages\\ipykernel_launcher.py:20: RuntimeWarning: invalid value encountered in less\n"
     ]
    }
   ],
   "source": [
    "# 获取第14个病人的掩码\n",
    "i = 13\n",
    "ct_path = patient_ct_path[13]\n",
    "print(ct_path)\n",
    "pixels,bw,spacing = make_mask(ct_path)\n",
    "# 保存为BMP图像\n",
    "bw = bw[::-1]\n",
    "bw = bw.astype(np.uint8)\n",
    "m = 55\n",
    "for n in range(bw.shape[0]):\n",
    "    k = \"%03d\" % m\n",
    "    new_filename = str(k)\n",
    "    img = Image.fromarray(bw[n])\n",
    "    img=img.point(table,\"1\")\n",
    "    img.save(\"{}\\\\{}.bmp\".format(ct_path,new_filename))\n",
    "    m = m+1"
   ]
  },
  {
   "cell_type": "code",
   "execution_count": 57,
   "metadata": {},
   "outputs": [
    {
     "name": "stdout",
     "output_type": "stream",
     "text": [
      "F:\\data\\yuanfazhao_data_07\\N2-607-wanhongliang\\CMGT0224F\n"
     ]
    },
    {
     "name": "stderr",
     "output_type": "stream",
     "text": [
      "D:\\Soft\\Anaconda3\\envs\\test\\lib\\site-packages\\ipykernel_launcher.py:20: RuntimeWarning: invalid value encountered in less\n"
     ]
    }
   ],
   "source": [
    "# 获取第15个病人的掩码\n",
    "i = 14\n",
    "ct_path = patient_ct_path[14]\n",
    "print(ct_path)\n",
    "pixels,bw,spacing = make_mask(ct_path)\n",
    "# 保存为BMP图像\n",
    "bw = bw[::-1]\n",
    "bw = bw.astype(np.uint8)\n",
    "m = 64\n",
    "for n in range(bw.shape[0]):\n",
    "    k = \"%03d\" % m\n",
    "    new_filename = str(k)\n",
    "    img = Image.fromarray(bw[n])\n",
    "    img=img.point(table,\"1\")\n",
    "    img.save(\"{}\\\\{}.bmp\".format(ct_path,new_filename))\n",
    "    m = m+1"
   ]
  }
 ],
 "metadata": {
  "kernelspec": {
   "display_name": "Python 3",
   "language": "python",
   "name": "python3"
  },
  "language_info": {
   "codemirror_mode": {
    "name": "ipython",
    "version": 3
   },
   "file_extension": ".py",
   "mimetype": "text/x-python",
   "name": "python",
   "nbconvert_exporter": "python",
   "pygments_lexer": "ipython3",
   "version": "3.6.8"
  }
 },
 "nbformat": 4,
 "nbformat_minor": 2
}
