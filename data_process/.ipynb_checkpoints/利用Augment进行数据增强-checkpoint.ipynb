{
 "cells": [
  {
   "cell_type": "code",
   "execution_count": null,
   "metadata": {},
   "outputs": [],
   "source": [
    "# 利用Augmentor进行数据增强\n",
    "# 原始数据集和标签数据集中的文件名要相同\n",
    "\n",
    "import Augmentor\n",
    "\n",
    "data_path = \"E:/yfz_data/Fusion\"\n",
    "mask_path = \"E:/yfz_data/Label\"\n",
    "\n",
    "# 使用datapath创建一个pipeline\n",
    "p = Augmentor.Pipeline(data_path)\n",
    "# 增加ground truth data\n",
    "p.ground_truth(mask_path)\n",
    "\n",
    "# 转换类型\n",
    "# 1、左旋15度到右旋15度\n",
    "p.rotate(propability=0.8,max_lef_rotation=15,max_right_rotation=15)\n",
    "\n",
    "# 2、旋转90，180，270度\n",
    "p.rotate_random_90(probability=0.2)\n",
    "\n",
    "# 3、随机将一定比例面积的图形放大至全图\n",
    "p.zoom_random(probability=0.5, percentage_area=0.90)\n",
    "\n",
    "# 4、透视变换\n",
    "# p.skew_tilt(probability=0.2,magnitude=1)\n",
    "\n",
    "# 5、弹性变换,扭曲变换\n",
    "p.random_distortion(pobability = 0.5,grid_height=3,grid_width=3,magnitude=3)\n",
    "\n",
    "\n",
    "# 设置数量\n",
    "num_of_samples = 100\n",
    "\n",
    "# sample\n",
    "p.sample(num_of_samples)"
   ]
  }
 ],
 "metadata": {
  "kernelspec": {
   "display_name": "Python 3",
   "language": "python",
   "name": "python3"
  },
  "language_info": {
   "codemirror_mode": {
    "name": "ipython",
    "version": 3
   },
   "file_extension": ".py",
   "mimetype": "text/x-python",
   "name": "python",
   "nbconvert_exporter": "python",
   "pygments_lexer": "ipython3",
   "version": "3.6.6"
  }
 },
 "nbformat": 4,
 "nbformat_minor": 2
}
