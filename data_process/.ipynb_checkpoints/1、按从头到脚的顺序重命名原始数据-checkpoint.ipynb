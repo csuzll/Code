{
 "cells": [
  {
   "cell_type": "markdown",
   "metadata": {},
   "source": [
    "### 利用pydicom处理。使得CT的第一张对应PET的第一张,...,CT的最后一张对应PET的最后一张。即文件命名为001，002，003，...的递增序列。001就对应人体的头部（ImagePositionPatient[2]递减）。除了修改文件名，也要把DICOM中元信息Instancenumber修改为与文件名一致的顺序。就地修改。"
   ]
  },
  {
   "cell_type": "code",
   "execution_count": 6,
   "metadata": {},
   "outputs": [],
   "source": [
    "import numpy as np\n",
    "import os \n",
    "import sys \n",
    "import shutil\n",
    "import pydicom"
   ]
  },
  {
   "cell_type": "code",
   "execution_count": 7,
   "metadata": {},
   "outputs": [],
   "source": [
    "data_path = \"F:\\\\data\\\\yuanfazhao\\\\yuanfazhao_data_04\""
   ]
  },
  {
   "cell_type": "code",
   "execution_count": 8,
   "metadata": {},
   "outputs": [
    {
     "name": "stdout",
     "output_type": "stream",
     "text": [
      "['N0-1978-wangyunqing', 'N0-2115-tangliru', 'N0-2201-ruanguanfu', 'N0-484-wulong', 'N0-485-wulingbo', 'N0-60-wangguiping', 'N1-2525-liwanfeng', 'N1-2621-jinyanlai', 'N2-1062-huangxueqi', 'N2-1901-xiafafu', 'N2-2403-liushaogang', 'N2-2506-lixiuqing', 'N2-541-wangwuping', 'N2-557-wanglijuan', 'N2-607-wanhongliang']\n",
      "15\n"
     ]
    }
   ],
   "source": [
    "# 获取病例名字\n",
    "name_path = os.listdir(data_path)\n",
    "print(name_path)\n",
    "print(len(name_path))"
   ]
  },
  {
   "cell_type": "code",
   "execution_count": 9,
   "metadata": {},
   "outputs": [],
   "source": [
    "# 获得所有的CT、PET完整的目录\n",
    "ct_path = []\n",
    "pet_path = []\n",
    "for v in name_path:\n",
    "    temp = os.listdir(os.path.join(data_path,v))\n",
    "    ct_path.append(os.path.join(data_path,v,temp[0]))\n",
    "    pet_path.append(os.path.join(data_path,v,temp[2]))\n",
    "\n",
    "# print(ct_path)\n",
    "# print(pet_path)"
   ]
  },
  {
   "cell_type": "code",
   "execution_count": 5,
   "metadata": {},
   "outputs": [
    {
     "name": "stdout",
     "output_type": "stream",
     "text": [
      "0\n",
      "F:\\data\\yuanfazhao\\yuanfazhao_data_04\\N0-1978-wangyunqing\\C4NEH5E20\\205.dcm\tF:\\data\\yuanfazhao\\yuanfazhao_data_04\\N0-1978-wangyunqing\\POJZYTLRB\\205.dcm\n",
      "1\n",
      "F:\\data\\yuanfazhao\\yuanfazhao_data_04\\N0-2115-tangliru\\CZPJUFO1Y\\287.dcm\tF:\\data\\yuanfazhao\\yuanfazhao_data_04\\N0-2115-tangliru\\PVX1ENSN0\\287.dcm\n",
      "2\n",
      "F:\\data\\yuanfazhao\\yuanfazhao_data_04\\N0-2201-ruanguanfu\\CYPYNZS0T\\205.dcm\tF:\\data\\yuanfazhao\\yuanfazhao_data_04\\N0-2201-ruanguanfu\\PE0PVNFFH\\205.dcm\n",
      "3\n",
      "F:\\data\\yuanfazhao\\yuanfazhao_data_04\\N0-484-wulong\\CE1VOZRHT\\239.dcm\tF:\\data\\yuanfazhao\\yuanfazhao_data_04\\N0-484-wulong\\PERNUYMBW\\239.dcm\n",
      "4\n",
      "F:\\data\\yuanfazhao\\yuanfazhao_data_04\\N0-485-wulingbo\\CZXMCE2E0\\287.dcm\tF:\\data\\yuanfazhao\\yuanfazhao_data_04\\N0-485-wulingbo\\PRJCRYXPL\\287.dcm\n",
      "5\n",
      "F:\\data\\yuanfazhao\\yuanfazhao_data_04\\N0-60-wangguiping\\C5YGD35LZ\\287.dcm\tF:\\data\\yuanfazhao\\yuanfazhao_data_04\\N0-60-wangguiping\\PFTBQFDSZ\\287.dcm\n",
      "6\n",
      "F:\\data\\yuanfazhao\\yuanfazhao_data_04\\N1-2525-liwanfeng\\CWJREMFFT\\239.dcm\tF:\\data\\yuanfazhao\\yuanfazhao_data_04\\N1-2525-liwanfeng\\P4ZLYZYPL\\239.dcm\n",
      "7\n",
      "F:\\data\\yuanfazhao\\yuanfazhao_data_04\\N1-2621-jinyanlai\\CWAYLK3IB\\287.dcm\tF:\\data\\yuanfazhao\\yuanfazhao_data_04\\N1-2621-jinyanlai\\PPOVGQPRV\\287.dcm\n",
      "8\n",
      "F:\\data\\yuanfazhao\\yuanfazhao_data_04\\N2-1062-huangxueqi\\CWHIB2QD5\\287.dcm\tF:\\data\\yuanfazhao\\yuanfazhao_data_04\\N2-1062-huangxueqi\\PNVXAJ4EX\\287.dcm\n",
      "9\n",
      "F:\\data\\yuanfazhao\\yuanfazhao_data_04\\N2-1901-xiafafu\\CT2XWRBHT\\287.dcm\tF:\\data\\yuanfazhao\\yuanfazhao_data_04\\N2-1901-xiafafu\\P5CBOVZA2\\287.dcm\n",
      "10\n",
      "F:\\data\\yuanfazhao\\yuanfazhao_data_04\\N2-2403-liushaogang\\CNMDHQGZE\\239.dcm\tF:\\data\\yuanfazhao\\yuanfazhao_data_04\\N2-2403-liushaogang\\PLZCXHYGF\\239.dcm\n",
      "11\n",
      "F:\\data\\yuanfazhao\\yuanfazhao_data_04\\N2-2506-lixiuqing\\CZ5TGIPGI\\205.dcm\tF:\\data\\yuanfazhao\\yuanfazhao_data_04\\N2-2506-lixiuqing\\PUUSM4RWV\\205.dcm\n",
      "12\n",
      "F:\\data\\yuanfazhao\\yuanfazhao_data_04\\N2-541-wangwuping\\C1UQCBBUK\\287.dcm\tF:\\data\\yuanfazhao\\yuanfazhao_data_04\\N2-541-wangwuping\\P3LOFW1US\\287.dcm\n",
      "13\n",
      "F:\\data\\yuanfazhao\\yuanfazhao_data_04\\N2-557-wanglijuan\\CJPWWVPSY\\205.dcm\tF:\\data\\yuanfazhao\\yuanfazhao_data_04\\N2-557-wanglijuan\\PNYYC2GLE\\205.dcm\n",
      "14\n",
      "F:\\data\\yuanfazhao\\yuanfazhao_data_04\\N2-607-wanhongliang\\CMGT0224F\\239.dcm\tF:\\data\\yuanfazhao\\yuanfazhao_data_04\\N2-607-wanhongliang\\P402CVNYW\\239.dcm\n"
     ]
    }
   ],
   "source": []
  },
  {
   "cell_type": "code",
   "execution_count": 10,
   "metadata": {},
   "outputs": [
    {
     "name": "stdout",
     "output_type": "stream",
     "text": [
      "0\n",
      "F:\\data\\yuanfazhao\\yuanfazhao_data_04\\N0-1978-wangyunqing\\C4NEH5E20\\001.dcm\tF:\\data\\yuanfazhao\\yuanfazhao_data_04\\N0-1978-wangyunqing\\POJZYTLRB\\001.dcm\n",
      "1\n",
      "F:\\data\\yuanfazhao\\yuanfazhao_data_04\\N0-2115-tangliru\\CZPJUFO1Y\\001.dcm\tF:\\data\\yuanfazhao\\yuanfazhao_data_04\\N0-2115-tangliru\\PVX1ENSN0\\001.dcm\n",
      "2\n",
      "F:\\data\\yuanfazhao\\yuanfazhao_data_04\\N0-2201-ruanguanfu\\CYPYNZS0T\\001.dcm\tF:\\data\\yuanfazhao\\yuanfazhao_data_04\\N0-2201-ruanguanfu\\PE0PVNFFH\\001.dcm\n",
      "3\n",
      "F:\\data\\yuanfazhao\\yuanfazhao_data_04\\N0-484-wulong\\CE1VOZRHT\\001.dcm\tF:\\data\\yuanfazhao\\yuanfazhao_data_04\\N0-484-wulong\\PERNUYMBW\\001.dcm\n",
      "4\n",
      "F:\\data\\yuanfazhao\\yuanfazhao_data_04\\N0-485-wulingbo\\CZXMCE2E0\\001.dcm\tF:\\data\\yuanfazhao\\yuanfazhao_data_04\\N0-485-wulingbo\\PRJCRYXPL\\001.dcm\n",
      "5\n",
      "F:\\data\\yuanfazhao\\yuanfazhao_data_04\\N0-60-wangguiping\\C5YGD35LZ\\001.dcm\tF:\\data\\yuanfazhao\\yuanfazhao_data_04\\N0-60-wangguiping\\PFTBQFDSZ\\001.dcm\n",
      "6\n",
      "F:\\data\\yuanfazhao\\yuanfazhao_data_04\\N1-2525-liwanfeng\\CWJREMFFT\\001.dcm\tF:\\data\\yuanfazhao\\yuanfazhao_data_04\\N1-2525-liwanfeng\\P4ZLYZYPL\\001.dcm\n",
      "7\n",
      "F:\\data\\yuanfazhao\\yuanfazhao_data_04\\N1-2621-jinyanlai\\CWAYLK3IB\\001.dcm\tF:\\data\\yuanfazhao\\yuanfazhao_data_04\\N1-2621-jinyanlai\\PPOVGQPRV\\001.dcm\n",
      "8\n",
      "F:\\data\\yuanfazhao\\yuanfazhao_data_04\\N2-1062-huangxueqi\\CWHIB2QD5\\001.dcm\tF:\\data\\yuanfazhao\\yuanfazhao_data_04\\N2-1062-huangxueqi\\PNVXAJ4EX\\001.dcm\n",
      "9\n",
      "F:\\data\\yuanfazhao\\yuanfazhao_data_04\\N2-1901-xiafafu\\CT2XWRBHT\\001.dcm\tF:\\data\\yuanfazhao\\yuanfazhao_data_04\\N2-1901-xiafafu\\P5CBOVZA2\\001.dcm\n",
      "10\n",
      "F:\\data\\yuanfazhao\\yuanfazhao_data_04\\N2-2403-liushaogang\\CNMDHQGZE\\001.dcm\tF:\\data\\yuanfazhao\\yuanfazhao_data_04\\N2-2403-liushaogang\\PLZCXHYGF\\001.dcm\n",
      "11\n",
      "F:\\data\\yuanfazhao\\yuanfazhao_data_04\\N2-2506-lixiuqing\\CZ5TGIPGI\\001.dcm\tF:\\data\\yuanfazhao\\yuanfazhao_data_04\\N2-2506-lixiuqing\\PUUSM4RWV\\001.dcm\n",
      "12\n",
      "F:\\data\\yuanfazhao\\yuanfazhao_data_04\\N2-541-wangwuping\\C1UQCBBUK\\001.dcm\tF:\\data\\yuanfazhao\\yuanfazhao_data_04\\N2-541-wangwuping\\P3LOFW1US\\001.dcm\n",
      "13\n",
      "F:\\data\\yuanfazhao\\yuanfazhao_data_04\\N2-557-wanglijuan\\CJPWWVPSY\\001.dcm\tF:\\data\\yuanfazhao\\yuanfazhao_data_04\\N2-557-wanglijuan\\PNYYC2GLE\\001.dcm\n",
      "14\n",
      "F:\\data\\yuanfazhao\\yuanfazhao_data_04\\N2-607-wanhongliang\\CMGT0224F\\001.dcm\tF:\\data\\yuanfazhao\\yuanfazhao_data_04\\N2-607-wanhongliang\\P402CVNYW\\001.dcm\n"
     ]
    }
   ],
   "source": []
  },
  {
   "cell_type": "code",
   "execution_count": null,
   "metadata": {},
   "outputs": [],
   "source": [
    "\"\"\"检查顺序，并返回按imagePositionPatient[2]值从小到大排列的3D图像\"\"\"\n",
    "# path为病人的地址\n",
    "def check_order(path):\n",
    "    \n",
    "    # 保存{目录：数据}\n",
    "    name_slices = {}\n",
    "    \n",
    "    for s in os.listdir(path):\n",
    "        dir = os.path.join(path,s)\n",
    "        slice = pydicom.dcmread(dir)\n",
    "        name_slices[dir] = slice\n",
    "    \n",
    "    # 排序，从小到大排序\n",
    "    sorted_slices = sorted(name_slices.items(),key = lambda x : float(x[1].ImagePositionPatient[2]),reverse=True)\n",
    "\n",
    "    return sorted_slices\n",
    "\n",
    "# 输出CT与PET排序后第一张图片的名称\n",
    "for i in range(len(name_path)):\n",
    "    ct_sorted = check_order(ct_path[i])\n",
    "    pet_sorted = check_order(pet_path[i])\n",
    "    print(i)\n",
    "    print(ct_sorted[0][0] + \"\\t\" + pet_sorted[0][0])\n",
    "    \n",
    "## 目的是检查CT和PET的文件名命名顺序是否一致。果然有一部分一致，一部分不一致。下面就对CT和PET按同一个文件名命名顺序进行修改。"
   ]
  },
  {
   "cell_type": "markdown",
   "metadata": {},
   "source": [
    "#### 重要代码\n",
    "\n",
    "重新编号"
   ]
  },
  {
   "cell_type": "code",
   "execution_count": 12,
   "metadata": {},
   "outputs": [],
   "source": [
    "# 按照ImagePositionPatient[2]从大到小（即是从头到脚的顺序排序）编号001-***\n",
    "# path为病人的地址\n",
    "def rename(path):\n",
    "    name_slices = {}\n",
    "    \n",
    "    filenames = os.listdir(path)\n",
    "    \n",
    "    num = len(filenames)\n",
    "    \n",
    "    for f in filenames:\n",
    "        dir = os.path.join(path,f)\n",
    "        slice = pydicom.dcmread(dir)\n",
    "        name_slices[dir] = slice\n",
    "    \n",
    "    # 排序，从大到小排序\n",
    "    sorted_slices = sorted(name_slices.items(),key = lambda x : float(x[1].ImagePositionPatient[2]),reverse=True)\n",
    "    \n",
    "    \n",
    "    # 重命名\n",
    "    # 数字前补0创建成001，002...\n",
    "    i = 1\n",
    "    for j in range(num):\n",
    "        k = \"%03d\" % i\n",
    "        new_filename = str(k) + \".dcm\"\n",
    "        os.rename(sorted_slices[j][0],os.path.join(path,new_filename))\n",
    "        i = i+1\n",
    "        \n",
    "    return sorted_slices\n",
    "\n",
    "# 执行重命名\n",
    "for i in range(len(name_path)):\n",
    "    ct_sorted = rename(ct_path[i])\n",
    "    pet_sorted = rename(pet_path[i])\n",
    "    print(i)\n",
    "    print(ct_sorted[0][0] + \"\\t\" + pet_sorted[0][0])\n",
    "    \n",
    "# 至此重命名结束。PET和CT拥有同一个文件名命名顺序，能够一一对应上。"
   ]
  },
  {
   "cell_type": "code",
   "execution_count": 7,
   "metadata": {},
   "outputs": [
    {
     "name": "stdout",
     "output_type": "stream",
     "text": [
      "1978\n"
     ]
    }
   ],
   "source": [
    "print(pet_path[0].split(\"\\\\\")[3].split(\"-\")[1])"
   ]
  },
  {
   "cell_type": "code",
   "execution_count": 12,
   "metadata": {},
   "outputs": [
    {
     "name": "stdout",
     "output_type": "stream",
     "text": [
      "['F:\\\\data\\\\yuanfazhao\\\\yuanfazhao_data_04\\\\N0-1978-wangyunqing\\\\POJZYTLRB', 'F:\\\\data\\\\yuanfazhao\\\\yuanfazhao_data_04\\\\N0-2201-ruanguanfu\\\\PE0PVNFFH', 'F:\\\\data\\\\yuanfazhao\\\\yuanfazhao_data_04\\\\N0-484-wulong\\\\PERNUYMBW', 'F:\\\\data\\\\yuanfazhao\\\\yuanfazhao_data_04\\\\N1-2525-liwanfeng\\\\P4ZLYZYPL', 'F:\\\\data\\\\yuanfazhao\\\\yuanfazhao_data_04\\\\N2-2403-liushaogang\\\\PLZCXHYGF', 'F:\\\\data\\\\yuanfazhao\\\\yuanfazhao_data_04\\\\N2-2506-lixiuqing\\\\PUUSM4RWV', 'F:\\\\data\\\\yuanfazhao\\\\yuanfazhao_data_04\\\\N2-557-wanglijuan\\\\PNYYC2GLE', 'F:\\\\data\\\\yuanfazhao\\\\yuanfazhao_data_04\\\\N2-607-wanhongliang\\\\P402CVNYW']\n",
      "\n",
      "\n",
      "['F:\\\\data\\\\yuanfazhao\\\\yuanfazhao_data_04\\\\N0-2115-tangliru\\\\PVX1ENSN0', 'F:\\\\data\\\\yuanfazhao\\\\yuanfazhao_data_04\\\\N0-485-wulingbo\\\\PRJCRYXPL', 'F:\\\\data\\\\yuanfazhao\\\\yuanfazhao_data_04\\\\N0-60-wangguiping\\\\PFTBQFDSZ', 'F:\\\\data\\\\yuanfazhao\\\\yuanfazhao_data_04\\\\N1-2621-jinyanlai\\\\PPOVGQPRV', 'F:\\\\data\\\\yuanfazhao\\\\yuanfazhao_data_04\\\\N2-1062-huangxueqi\\\\PNVXAJ4EX', 'F:\\\\data\\\\yuanfazhao\\\\yuanfazhao_data_04\\\\N2-1901-xiafafu\\\\P5CBOVZA2', 'F:\\\\data\\\\yuanfazhao\\\\yuanfazhao_data_04\\\\N2-541-wangwuping\\\\P3LOFW1US']\n"
     ]
    }
   ],
   "source": [
    "# 就只有部分PET的是相反的\n",
    "# 人工找出来的相反序列？下次换个方式吧\n",
    "\n",
    "# 创建两个pet正序和反序的序列\n",
    "pet_path_p = [] # 此序列中文件名与instance number相同\n",
    "pet_path_n = [] # 此序列中文件名与instance number相反\n",
    "\n",
    "for p in pet_path:\n",
    "    s = p.split(\"\\\\\")[4].split(\"-\")[1]\n",
    "    if s in [\"1978\",\"2201\",\"484\",\"2525\",\"2403\",\"2506\",\"557\",\"607\"]:\n",
    "        pet_path_n.append(p)\n",
    "    else:\n",
    "        pet_path_p.append(p)\n",
    "\n",
    "print(pet_path_n)\n",
    "print(\"\\n\")\n",
    "print(pet_path_p)"
   ]
  },
  {
   "cell_type": "markdown",
   "metadata": {},
   "source": [
    " ### 此序列中文件名与instance number相反\n",
    "['F:\\\\data\\\\yuanfazhao_data_04\\\\N0-1978-wangyunqing\\\\POJZYTLRB',\n",
    "\n",
    " 'F:\\\\data\\\\yuanfazhao_data_04\\\\N0-2201-ruanguanfu\\\\PE0PVNFFH', \n",
    " \n",
    " 'F:\\\\data\\\\yuanfazhao_data_04\\\\N0-484-wulong\\\\PERNUYMBW', \n",
    " \n",
    " 'F:\\\\data\\\\yuanfazhao_data_04\\\\N1-2525-liwanfeng\\\\P4ZLYZYPL', \n",
    " \n",
    " 'F:\\\\data\\\\yuanfazhao_data_04\\\\N2-2403-liushaogang\\\\PLZCXHYGF', \n",
    " \n",
    " 'F:\\\\data\\\\yuanfazhao_data_04\\\\N2-2506-lixiuqing\\\\PUUSM4RWV', \n",
    " \n",
    " 'F:\\\\data\\\\yuanfazhao_data_04\\\\N2-557-wanglijuan\\\\PNYYC2GLE', \n",
    " \n",
    " 'F:\\\\data\\\\yuanfazhao_data_04\\\\N2-607-wanhongliang\\\\P402CVNYW'] \n",
    " \n",
    "### 此序列中文件名与instance number相同\n",
    "['F:\\\\data\\\\yuanfazhao_data_04\\\\N0-2115-tangliru\\\\PVX1ENSN0',\n",
    "\n",
    " 'F:\\\\data\\\\yuanfazhao_data_04\\\\N0-485-wulingbo\\\\PRJCRYXPL', \n",
    " \n",
    " 'F:\\\\data\\\\yuanfazhao_data_04\\\\N0-60-wangguiping\\\\PFTBQFDSZ', \n",
    " \n",
    " 'F:\\\\data\\\\yuanfazhao_data_04\\\\N1-2621-jinyanlai\\\\PPOVGQPRV', \n",
    " \n",
    " 'F:\\\\data\\\\yuanfazhao_data_04\\\\N2-1062-huangxueqi\\\\PNVXAJ4EX', \n",
    " \n",
    " 'F:\\\\data\\\\yuanfazhao_data_04\\\\N2-1901-xiafafu\\\\P5CBOVZA2', \n",
    " \n",
    " 'F:\\\\data\\\\yuanfazhao_data_04\\\\N2-541-wangwuping\\\\P3LOFW1US']"
   ]
  },
  {
   "cell_type": "markdown",
   "metadata": {},
   "source": [
    "####  重要代码\n",
    "修改instance number"
   ]
  },
  {
   "cell_type": "code",
   "execution_count": 17,
   "metadata": {},
   "outputs": [],
   "source": [
    "# 修改Instance Number的函数\n",
    "# path为病人地址\n",
    "def alter_instancenumber(path):\n",
    "    \n",
    "    name_slices = {}\n",
    "    \n",
    "    filenames = os.listdir(path)\n",
    "    \n",
    "    num = len(filenames)\n",
    "    \n",
    "    for f in filenames:\n",
    "        dir = os.path.join(path,f)\n",
    "        slice = pydicom.dcmread(dir)\n",
    "        name_slices[dir] = slice\n",
    "    \n",
    "    # 排序，从大到小排序\n",
    "    sorted_slices = sorted(name_slices.items(),key = lambda x : float(x[1].ImagePositionPatient[2]),reverse=True)\n",
    "   \n",
    "    for i in range(num):\n",
    "        v = str(i+1)\n",
    "        # 修改并保存\n",
    "        sorted_slices[i][1].InstanceNumber = v\n",
    "        sorted_slices[i][1].save_as(sorted_slices[i][0])\n",
    "    \n",
    "    return num\n",
    "\n",
    "l = len(pet_path_n)\n",
    "print(l)\n",
    "\n",
    "# 执行修改\n",
    "for i in range(l):\n",
    "    num = alter_instancenumber(pet_path_n[i])\n",
    "    print(pet_path_n[i],\"\\t\",num)\n",
    "    \n",
    "# 检查修改后的instance number\n",
    "for i in range(l):\n",
    "    pet_sorted = check_order(pet_path_n[i])\n",
    "    print(i+1)\n",
    "    print(pet_sorted[0][0],\"\\t\",pet_sorted[0][1].ImagePositionPatient[2])"
   ]
  }
 ],
 "metadata": {
  "kernelspec": {
   "display_name": "Python 3",
   "language": "python",
   "name": "python3"
  },
  "language_info": {
   "codemirror_mode": {
    "name": "ipython",
    "version": 3
   },
   "file_extension": ".py",
   "mimetype": "text/x-python",
   "name": "python",
   "nbconvert_exporter": "python",
   "pygments_lexer": "ipython3",
   "version": "3.6.8"
  }
 },
 "nbformat": 4,
 "nbformat_minor": 2
}
