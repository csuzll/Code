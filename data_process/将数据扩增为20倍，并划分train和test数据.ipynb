{
 "cells": [
  {
   "cell_type": "markdown",
   "metadata": {},
   "source": [
    "把yuanfazhao_data_08单独拿出来处理"
   ]
  },
  {
   "cell_type": "code",
   "execution_count": 24,
   "metadata": {},
   "outputs": [],
   "source": [
    "from pathlib import Path\n",
    "\n",
    "from tqdm import tqdm\n",
    "import cv2\n",
    "import numpy as np"
   ]
  },
  {
   "cell_type": "code",
   "execution_count": 25,
   "metadata": {},
   "outputs": [],
   "source": [
    "import os"
   ]
  },
  {
   "cell_type": "code",
   "execution_count": 3,
   "metadata": {},
   "outputs": [],
   "source": [
    "data_path = Path('yuanfazhao_data_08')"
   ]
  },
  {
   "cell_type": "code",
   "execution_count": 4,
   "metadata": {},
   "outputs": [],
   "source": [
    "train_path = \"yuanfazhao_data_08\\\\train\"\n",
    "test_path =  \"yuanfazhao_data_08\\\\test\"\n",
    "train_fusion_paths = []\n",
    "train_mask_paths = []"
   ]
  },
  {
   "cell_type": "code",
   "execution_count": 5,
   "metadata": {},
   "outputs": [],
   "source": [
    "dataset_folders = [os.path.join(train_path,s) for s in os.listdir(train_path)]"
   ]
  },
  {
   "cell_type": "code",
   "execution_count": 6,
   "metadata": {},
   "outputs": [
    {
     "data": {
      "text/plain": [
       "['yuanfazhao_data_08\\\\train\\\\lesion_dataset_1',\n",
       " 'yuanfazhao_data_08\\\\train\\\\lesion_dataset_2',\n",
       " 'yuanfazhao_data_08\\\\train\\\\lesion_dataset_3',\n",
       " 'yuanfazhao_data_08\\\\train\\\\lesion_dataset_4',\n",
       " 'yuanfazhao_data_08\\\\train\\\\lesion_dataset_5']"
      ]
     },
     "execution_count": 6,
     "metadata": {},
     "output_type": "execute_result"
    }
   ],
   "source": [
    "dataset_folders"
   ]
  },
  {
   "cell_type": "code",
   "execution_count": 7,
   "metadata": {},
   "outputs": [],
   "source": [
    "for v in dataset_folders:\n",
    "    temp = os.listdir(v)\n",
    "    train_fusion_paths.append(os.path.join(v,temp[1]))\n",
    "    train_mask_paths.append(os.path.join(v,temp[0]))"
   ]
  },
  {
   "cell_type": "code",
   "execution_count": 8,
   "metadata": {},
   "outputs": [
    {
     "data": {
      "text/plain": [
       "['yuanfazhao_data_08\\\\train\\\\lesion_dataset_1\\\\fusion_image',\n",
       " 'yuanfazhao_data_08\\\\train\\\\lesion_dataset_2\\\\fusion_image',\n",
       " 'yuanfazhao_data_08\\\\train\\\\lesion_dataset_3\\\\fusion_image',\n",
       " 'yuanfazhao_data_08\\\\train\\\\lesion_dataset_4\\\\fusion_image',\n",
       " 'yuanfazhao_data_08\\\\train\\\\lesion_dataset_5\\\\fusion_image']"
      ]
     },
     "execution_count": 8,
     "metadata": {},
     "output_type": "execute_result"
    }
   ],
   "source": [
    "train_fusion_paths"
   ]
  },
  {
   "cell_type": "code",
   "execution_count": 9,
   "metadata": {},
   "outputs": [
    {
     "data": {
      "text/plain": [
       "['yuanfazhao_data_08\\\\train\\\\lesion_dataset_1\\\\binary_masks',\n",
       " 'yuanfazhao_data_08\\\\train\\\\lesion_dataset_2\\\\binary_masks',\n",
       " 'yuanfazhao_data_08\\\\train\\\\lesion_dataset_3\\\\binary_masks',\n",
       " 'yuanfazhao_data_08\\\\train\\\\lesion_dataset_4\\\\binary_masks',\n",
       " 'yuanfazhao_data_08\\\\train\\\\lesion_dataset_5\\\\binary_masks']"
      ]
     },
     "execution_count": 9,
     "metadata": {},
     "output_type": "execute_result"
    }
   ],
   "source": [
    "train_mask_paths"
   ]
  },
  {
   "cell_type": "code",
   "execution_count": 10,
   "metadata": {},
   "outputs": [],
   "source": [
    "tmp_fusion_paths = [] \n",
    "tmp_mask_paths =[]"
   ]
  },
  {
   "cell_type": "code",
   "execution_count": 23,
   "metadata": {},
   "outputs": [
    {
     "name": "stdout",
     "output_type": "stream",
     "text": [
      "yuanfazhao_data_08\\train\\lesion_dataset_1\n",
      "fusion_image\n"
     ]
    }
   ],
   "source": [
    "a,b = os.path.split(train_fusion_paths[0])\n",
    "print(a)\n",
    "print(b)"
   ]
  },
  {
   "cell_type": "code",
   "execution_count": 11,
   "metadata": {},
   "outputs": [
    {
     "name": "stdout",
     "output_type": "stream",
     "text": [
      "['yuanfazhao_data_08\\\\train\\\\lesion_dataset_1\\\\tmp\\\\fusion_image', 'yuanfazhao_data_08\\\\train\\\\lesion_dataset_2\\\\tmp\\\\fusion_image', 'yuanfazhao_data_08\\\\train\\\\lesion_dataset_3\\\\tmp\\\\fusion_image', 'yuanfazhao_data_08\\\\train\\\\lesion_dataset_4\\\\tmp\\\\fusion_image', 'yuanfazhao_data_08\\\\train\\\\lesion_dataset_5\\\\tmp\\\\fusion_image']\n"
     ]
    }
   ],
   "source": [
    "for v in train_fusion_paths:\n",
    "    a,b = os.path.split(v)\n",
    "    tmp_fusion_paths.append(os.path.join(a,\"tmp\",b))\n",
    "print(tmp_fusion_paths)"
   ]
  },
  {
   "cell_type": "code",
   "execution_count": 12,
   "metadata": {},
   "outputs": [
    {
     "name": "stdout",
     "output_type": "stream",
     "text": [
      "['yuanfazhao_data_08\\\\train\\\\lesion_dataset_1\\\\tmp\\\\binary_masks', 'yuanfazhao_data_08\\\\train\\\\lesion_dataset_2\\\\tmp\\\\binary_masks', 'yuanfazhao_data_08\\\\train\\\\lesion_dataset_3\\\\tmp\\\\binary_masks', 'yuanfazhao_data_08\\\\train\\\\lesion_dataset_4\\\\tmp\\\\binary_masks', 'yuanfazhao_data_08\\\\train\\\\lesion_dataset_5\\\\tmp\\\\binary_masks']\n"
     ]
    }
   ],
   "source": [
    "for v in train_mask_paths:\n",
    "    a,b = os.path.split(v)\n",
    "    tmp_mask_paths.append(os.path.join(a,\"tmp\",b))\n",
    "print(tmp_mask_paths)"
   ]
  },
  {
   "cell_type": "markdown",
   "metadata": {},
   "source": [
    "### 下面这个函数使得分开存放每个文件"
   ]
  },
  {
   "cell_type": "code",
   "execution_count": 14,
   "metadata": {},
   "outputs": [],
   "source": [
    "# 分开存放每个文件\n",
    "img_type = \"bmp\"\n",
    "def start(fusion_path,label_path,fusion_tmp_path,label_tmp_path):\n",
    "    fusion_img = glob.glob(fusion_path+\"\\\\*.\"+img_type)\n",
    "    label_img = glob.glob(label_path+\"\\\\*.\"+img_type)\n",
    "    \n",
    "    if(len(fusion_img)!=len(label_img)):\n",
    "        print(\"fusion cant match labels\")\n",
    "        return 0\n",
    "    \n",
    "    for i in range(len(fusion_img)):\n",
    "        fusion_img_tmp_path = fusion_tmp_path + \"\\\\\" + str(i+1)\n",
    "        if not os.path.exists(fusion_img_tmp_path):\n",
    "            os.makedirs(fusion_img_tmp_path)\n",
    "        shutil.copy(fusion_img[i],fusion_img_tmp_path)\n",
    "        \n",
    "        label_img_tmp_path = label_tmp_path + \"\\\\\" + str(i+1)\n",
    "        if not os.path.exists(label_img_tmp_path):\n",
    "            os.makedirs(label_img_tmp_path)\n",
    "        mask = cv2.imread(label_img[i],0)\n",
    "        a,b =os.path.split(label_img[i])\n",
    "        cv2.imwrite(os.path.join(label_img_tmp_path,b),mask)\n",
    "        \n",
    "    return i+1"
   ]
  },
  {
   "cell_type": "code",
   "execution_count": 26,
   "metadata": {},
   "outputs": [],
   "source": [
    "import glob\n",
    "import shutil"
   ]
  },
  {
   "cell_type": "code",
   "execution_count": 15,
   "metadata": {},
   "outputs": [
    {
     "name": "stdout",
     "output_type": "stream",
     "text": [
      "23\n",
      "23\n",
      "23\n",
      "23\n",
      "23\n"
     ]
    }
   ],
   "source": [
    "for i in range(5):\n",
    "    a = start(train_fusion_paths[i],train_mask_paths[i],tmp_fusion_paths[i],tmp_mask_paths[i])\n",
    "    print(a)"
   ]
  },
  {
   "cell_type": "markdown",
   "metadata": {},
   "source": [
    "### 以下进行数据增强\n",
    "\n",
    "首先是训练数据增强\n",
    "每份数据扩大20倍。1个304 * 304变为 224 * 224"
   ]
  },
  {
   "cell_type": "code",
   "execution_count": 27,
   "metadata": {},
   "outputs": [],
   "source": [
    "import Augmentor"
   ]
  },
  {
   "cell_type": "code",
   "execution_count": 28,
   "metadata": {},
   "outputs": [],
   "source": [
    "fusion_tmp_path = 'yuanfazhao_data_08\\\\train\\\\lesion_dataset_1\\\\tmp\\\\fusion_image'\n",
    "label_tmp_path = 'yuanfazhao_data_08\\\\train\\\\lesion_dataset_1\\\\tmp\\\\binary_masks'"
   ]
  },
  {
   "cell_type": "code",
   "execution_count": 29,
   "metadata": {},
   "outputs": [],
   "source": [
    "def doCrop_224(fusion_tmp_path,label_tmp_path):\n",
    "    sum = 0\n",
    "    num = 23\n",
    "    for i in range(num):\n",
    "        p = Augmentor.Pipeline(fusion_tmp_path + \"\\\\\" + str(i+1))\n",
    "        p.ground_truth(label_tmp_path + \"\\\\\" + str(i+1))\n",
    "        p.crop_by_size(probability=1,width=224,height=224,centre=False)\n",
    "        \n",
    "        count = 20\n",
    "        \n",
    "        print(\"\\nNo.%s data is being augmented and %s data will be created\"%(i+1,count))\n",
    "        \n",
    "        sum = sum+count\n",
    "        \n",
    "        p.sample(count)\n",
    "        \n",
    "        print(\"Done\")\n",
    "    print(\"%s pairs of data has been created totally\"%sum)"
   ]
  },
  {
   "cell_type": "code",
   "execution_count": 30,
   "metadata": {},
   "outputs": [
    {
     "name": "stdout",
     "output_type": "stream",
     "text": [
      "Initialised with 1 image(s) found.\n",
      "Output directory set to yuanfazhao_data_08\\train\\lesion_dataset_1\\tmp\\fusion_image\\1\\output."
     ]
    },
    {
     "name": "stderr",
     "output_type": "stream",
     "text": [
      "                                                                                                                       \r"
     ]
    },
    {
     "name": "stdout",
     "output_type": "stream",
     "text": [
      "1 ground truth image(s) found.\n",
      "\n",
      "No.1 data is being augmented and 20 data will be created\n"
     ]
    },
    {
     "name": "stderr",
     "output_type": "stream",
     "text": [
      "Processing <PIL.Image.Image image mode=RGB size=224x224 at 0x1EC0B38C240>: 100%|█| 20/20 [00:00<00:00, 69.44 Samples/s]\n"
     ]
    },
    {
     "name": "stdout",
     "output_type": "stream",
     "text": [
      "Done\n",
      "Initialised with 1 image(s) found.\n",
      "Output directory set to yuanfazhao_data_08\\train\\lesion_dataset_1\\tmp\\fusion_image\\2\\output."
     ]
    },
    {
     "name": "stderr",
     "output_type": "stream",
     "text": [
      "                                                                                                                       \r"
     ]
    },
    {
     "name": "stdout",
     "output_type": "stream",
     "text": [
      "1 ground truth image(s) found.\n",
      "\n",
      "No.2 data is being augmented and 20 data will be created\n"
     ]
    },
    {
     "name": "stderr",
     "output_type": "stream",
     "text": [
      "Processing <PIL.Image.Image image mode=RGB size=224x224 at 0x1EC0B38CB00>: 100%|█| 20/20 [00:00<00:00, 277.77 Samples/s]\n"
     ]
    },
    {
     "name": "stdout",
     "output_type": "stream",
     "text": [
      "Done\n",
      "Initialised with 1 image(s) found.\n",
      "Output directory set to yuanfazhao_data_08\\train\\lesion_dataset_1\\tmp\\fusion_image\\3\\output."
     ]
    },
    {
     "name": "stderr",
     "output_type": "stream",
     "text": [
      "                                                                                                                       \r"
     ]
    },
    {
     "name": "stdout",
     "output_type": "stream",
     "text": [
      "1 ground truth image(s) found.\n",
      "\n",
      "No.3 data is being augmented and 20 data will be created\n"
     ]
    },
    {
     "name": "stderr",
     "output_type": "stream",
     "text": [
      "Processing <PIL.Image.Image image mode=RGB size=224x224 at 0x1EC0B3A12E8>: 100%|█| 20/20 [00:00<00:00, 298.51 Samples/s]\n"
     ]
    },
    {
     "name": "stdout",
     "output_type": "stream",
     "text": [
      "Done\n",
      "Initialised with 1 image(s) found.\n",
      "Output directory set to yuanfazhao_data_08\\train\\lesion_dataset_1\\tmp\\fusion_image\\4\\output."
     ]
    },
    {
     "name": "stderr",
     "output_type": "stream",
     "text": [
      "                                                                                                                       \r"
     ]
    },
    {
     "name": "stdout",
     "output_type": "stream",
     "text": [
      "1 ground truth image(s) found.\n",
      "\n",
      "No.4 data is being augmented and 20 data will be created\n"
     ]
    },
    {
     "name": "stderr",
     "output_type": "stream",
     "text": [
      "Processing <PIL.Image.Image image mode=RGB size=224x224 at 0x1EC0B387CF8>: 100%|█| 20/20 [00:00<00:00, 208.33 Samples/s]\n"
     ]
    },
    {
     "name": "stdout",
     "output_type": "stream",
     "text": [
      "Done\n",
      "Initialised with 1 image(s) found.\n",
      "Output directory set to yuanfazhao_data_08\\train\\lesion_dataset_1\\tmp\\fusion_image\\5\\output."
     ]
    },
    {
     "name": "stderr",
     "output_type": "stream",
     "text": [
      "                                                                                                                       \r"
     ]
    },
    {
     "name": "stdout",
     "output_type": "stream",
     "text": [
      "1 ground truth image(s) found.\n",
      "\n",
      "No.5 data is being augmented and 20 data will be created\n"
     ]
    },
    {
     "name": "stderr",
     "output_type": "stream",
     "text": [
      "Processing <PIL.Image.Image image mode=RGB size=224x224 at 0x1EC0B22C240>: 100%|█| 20/20 [00:00<00:00, 270.27 Samples/s]\n"
     ]
    },
    {
     "name": "stdout",
     "output_type": "stream",
     "text": [
      "Done\n",
      "Initialised with 1 image(s) found.\n",
      "Output directory set to yuanfazhao_data_08\\train\\lesion_dataset_1\\tmp\\fusion_image\\6\\output."
     ]
    },
    {
     "name": "stderr",
     "output_type": "stream",
     "text": [
      "                                                                                                                       \r"
     ]
    },
    {
     "name": "stdout",
     "output_type": "stream",
     "text": [
      "1 ground truth image(s) found.\n",
      "\n",
      "No.6 data is being augmented and 20 data will be created\n"
     ]
    },
    {
     "name": "stderr",
     "output_type": "stream",
     "text": [
      "Processing <PIL.Image.Image image mode=RGB size=224x224 at 0x1EC0B3B1400>: 100%|█| 20/20 [00:00<00:00, 204.08 Samples/s]\n"
     ]
    },
    {
     "name": "stdout",
     "output_type": "stream",
     "text": [
      "Done\n",
      "Initialised with 1 image(s) found.\n",
      "Output directory set to yuanfazhao_data_08\\train\\lesion_dataset_1\\tmp\\fusion_image\\7\\output."
     ]
    },
    {
     "name": "stderr",
     "output_type": "stream",
     "text": [
      "                                                                                                                       \r"
     ]
    },
    {
     "name": "stdout",
     "output_type": "stream",
     "text": [
      "1 ground truth image(s) found.\n",
      "\n",
      "No.7 data is being augmented and 20 data will be created\n"
     ]
    },
    {
     "name": "stderr",
     "output_type": "stream",
     "text": [
      "Processing <PIL.Image.Image image mode=RGB size=224x224 at 0x1EC0B38C7F0>: 100%|█| 20/20 [00:00<00:00, 294.08 Samples/s]\n"
     ]
    },
    {
     "name": "stdout",
     "output_type": "stream",
     "text": [
      "Done\n",
      "Initialised with 1 image(s) found.\n",
      "Output directory set to yuanfazhao_data_08\\train\\lesion_dataset_1\\tmp\\fusion_image\\8\\output."
     ]
    },
    {
     "name": "stderr",
     "output_type": "stream",
     "text": [
      "                                                                                                                       \r"
     ]
    },
    {
     "name": "stdout",
     "output_type": "stream",
     "text": [
      "1 ground truth image(s) found.\n",
      "\n",
      "No.8 data is being augmented and 20 data will be created\n"
     ]
    },
    {
     "name": "stderr",
     "output_type": "stream",
     "text": [
      "Processing <PIL.Image.Image image mode=RGB size=224x224 at 0x1EC0B396898>: 100%|█| 20/20 [00:00<00:00, 277.77 Samples/s]\n"
     ]
    },
    {
     "name": "stdout",
     "output_type": "stream",
     "text": [
      "Done\n",
      "Initialised with 1 image(s) found.\n",
      "Output directory set to yuanfazhao_data_08\\train\\lesion_dataset_1\\tmp\\fusion_image\\9\\output."
     ]
    },
    {
     "name": "stderr",
     "output_type": "stream",
     "text": [
      "                                                                                                                       \r"
     ]
    },
    {
     "name": "stdout",
     "output_type": "stream",
     "text": [
      "1 ground truth image(s) found.\n",
      "\n",
      "No.9 data is being augmented and 20 data will be created\n"
     ]
    },
    {
     "name": "stderr",
     "output_type": "stream",
     "text": [
      "Processing <PIL.Image.Image image mode=RGB size=224x224 at 0x1EC0B396080>: 100%|█| 20/20 [00:00<00:00, 307.69 Samples/s]\n"
     ]
    },
    {
     "name": "stdout",
     "output_type": "stream",
     "text": [
      "Done\n",
      "Initialised with 1 image(s) found.\n",
      "Output directory set to yuanfazhao_data_08\\train\\lesion_dataset_1\\tmp\\fusion_image\\10\\output."
     ]
    },
    {
     "name": "stderr",
     "output_type": "stream",
     "text": [
      "                                                                                                                       \r"
     ]
    },
    {
     "name": "stdout",
     "output_type": "stream",
     "text": [
      "1 ground truth image(s) found.\n",
      "\n",
      "No.10 data is being augmented and 20 data will be created\n"
     ]
    },
    {
     "name": "stderr",
     "output_type": "stream",
     "text": [
      "Processing <PIL.Image.Image image mode=RGB size=224x224 at 0x1EC0B3A0588>: 100%|█| 20/20 [00:00<00:00, 273.97 Samples/s]\n"
     ]
    },
    {
     "name": "stdout",
     "output_type": "stream",
     "text": [
      "Done\n",
      "Initialised with 1 image(s) found.\n",
      "Output directory set to yuanfazhao_data_08\\train\\lesion_dataset_1\\tmp\\fusion_image\\11\\output."
     ]
    },
    {
     "name": "stderr",
     "output_type": "stream",
     "text": [
      "                                                                                                                       \r"
     ]
    },
    {
     "name": "stdout",
     "output_type": "stream",
     "text": [
      "1 ground truth image(s) found.\n",
      "\n",
      "No.11 data is being augmented and 20 data will be created\n"
     ]
    },
    {
     "name": "stderr",
     "output_type": "stream",
     "text": [
      "Processing <PIL.Image.Image image mode=RGB size=224x224 at 0x1EC0B3A0080>: 100%|█| 20/20 [00:00<00:00, 256.41 Samples/s]\n"
     ]
    },
    {
     "name": "stdout",
     "output_type": "stream",
     "text": [
      "Done\n",
      "Initialised with 1 image(s) found.\n",
      "Output directory set to yuanfazhao_data_08\\train\\lesion_dataset_1\\tmp\\fusion_image\\12\\output."
     ]
    },
    {
     "name": "stderr",
     "output_type": "stream",
     "text": [
      "                                                                                                                       \r"
     ]
    },
    {
     "name": "stdout",
     "output_type": "stream",
     "text": [
      "1 ground truth image(s) found.\n",
      "\n",
      "No.12 data is being augmented and 20 data will be created\n"
     ]
    },
    {
     "name": "stderr",
     "output_type": "stream",
     "text": [
      "Processing <PIL.Image.Image image mode=RGB size=224x224 at 0x1EC0B3A1A58>: 100%|█| 20/20 [00:00<00:00, 36.36 Samples/s]\n"
     ]
    },
    {
     "name": "stdout",
     "output_type": "stream",
     "text": [
      "Done\n",
      "Initialised with 1 image(s) found.\n",
      "Output directory set to yuanfazhao_data_08\\train\\lesion_dataset_1\\tmp\\fusion_image\\13\\output."
     ]
    },
    {
     "name": "stderr",
     "output_type": "stream",
     "text": [
      "                                                                                                                       \r"
     ]
    },
    {
     "name": "stdout",
     "output_type": "stream",
     "text": [
      "1 ground truth image(s) found.\n",
      "\n",
      "No.13 data is being augmented and 20 data will be created\n"
     ]
    },
    {
     "name": "stderr",
     "output_type": "stream",
     "text": [
      "Processing <PIL.Image.Image image mode=RGB size=224x224 at 0x1EC0B3ADE80>: 100%|█| 20/20 [00:00<00:00, 180.18 Samples/s]\n"
     ]
    },
    {
     "name": "stdout",
     "output_type": "stream",
     "text": [
      "Done\n",
      "Initialised with 1 image(s) found.\n",
      "Output directory set to yuanfazhao_data_08\\train\\lesion_dataset_1\\tmp\\fusion_image\\14\\output."
     ]
    },
    {
     "name": "stderr",
     "output_type": "stream",
     "text": [
      "                                                                                                                       \r"
     ]
    },
    {
     "name": "stdout",
     "output_type": "stream",
     "text": [
      "1 ground truth image(s) found.\n",
      "\n",
      "No.14 data is being augmented and 20 data will be created\n"
     ]
    },
    {
     "name": "stderr",
     "output_type": "stream",
     "text": [
      "Processing <PIL.Image.Image image mode=RGB size=224x224 at 0x1EC0B3B1470>: 100%|█| 20/20 [00:00<00:00, 266.70 Samples/s]\n"
     ]
    },
    {
     "name": "stdout",
     "output_type": "stream",
     "text": [
      "Done\n",
      "Initialised with 1 image(s) found.\n",
      "Output directory set to yuanfazhao_data_08\\train\\lesion_dataset_1\\tmp\\fusion_image\\15\\output."
     ]
    },
    {
     "name": "stderr",
     "output_type": "stream",
     "text": [
      "                                                                                                                       \r"
     ]
    },
    {
     "name": "stdout",
     "output_type": "stream",
     "text": [
      "1 ground truth image(s) found.\n",
      "\n",
      "No.15 data is being augmented and 20 data will be created\n"
     ]
    },
    {
     "name": "stderr",
     "output_type": "stream",
     "text": [
      "Processing <PIL.Image.Image image mode=RGB size=224x224 at 0x1EC0B38FBE0>: 100%|█| 20/20 [00:00<00:00, 232.57 Samples/s]\n"
     ]
    },
    {
     "name": "stdout",
     "output_type": "stream",
     "text": [
      "Done\n",
      "Initialised with 1 image(s) found.\n",
      "Output directory set to yuanfazhao_data_08\\train\\lesion_dataset_1\\tmp\\fusion_image\\16\\output."
     ]
    },
    {
     "name": "stderr",
     "output_type": "stream",
     "text": [
      "                                                                                                                       \r"
     ]
    },
    {
     "name": "stdout",
     "output_type": "stream",
     "text": [
      "1 ground truth image(s) found.\n",
      "\n",
      "No.16 data is being augmented and 20 data will be created\n"
     ]
    },
    {
     "name": "stderr",
     "output_type": "stream",
     "text": [
      "Processing <PIL.Image.Image image mode=RGB size=224x224 at 0x1EC0B3C7CF8>: 100%|█| 20/20 [00:00<00:00, 277.78 Samples/s]\n"
     ]
    },
    {
     "name": "stdout",
     "output_type": "stream",
     "text": [
      "Done\n",
      "Initialised with 1 image(s) found.\n",
      "Output directory set to yuanfazhao_data_08\\train\\lesion_dataset_1\\tmp\\fusion_image\\17\\output."
     ]
    },
    {
     "name": "stderr",
     "output_type": "stream",
     "text": [
      "                                                                                                                       \r"
     ]
    },
    {
     "name": "stdout",
     "output_type": "stream",
     "text": [
      "1 ground truth image(s) found.\n",
      "\n",
      "No.17 data is being augmented and 20 data will be created\n"
     ]
    },
    {
     "name": "stderr",
     "output_type": "stream",
     "text": [
      "Processing <PIL.Image.Image image mode=RGB size=224x224 at 0x1EC0B3C79E8>: 100%|█| 20/20 [00:00<00:00, 243.91 Samples/s]\n"
     ]
    },
    {
     "name": "stdout",
     "output_type": "stream",
     "text": [
      "Done\n",
      "Initialised with 1 image(s) found.\n",
      "Output directory set to yuanfazhao_data_08\\train\\lesion_dataset_1\\tmp\\fusion_image\\18\\output."
     ]
    },
    {
     "name": "stderr",
     "output_type": "stream",
     "text": [
      "                                                                                                                       \r"
     ]
    },
    {
     "name": "stdout",
     "output_type": "stream",
     "text": [
      "1 ground truth image(s) found.\n",
      "\n",
      "No.18 data is being augmented and 20 data will be created\n"
     ]
    },
    {
     "name": "stderr",
     "output_type": "stream",
     "text": [
      "Processing <PIL.Image.Image image mode=RGB size=224x224 at 0x1EC0B3C7748>: 100%|█| 20/20 [00:00<00:00, 277.78 Samples/s]\n"
     ]
    },
    {
     "name": "stdout",
     "output_type": "stream",
     "text": [
      "Done\n",
      "Initialised with 1 image(s) found.\n",
      "Output directory set to yuanfazhao_data_08\\train\\lesion_dataset_1\\tmp\\fusion_image\\19\\output."
     ]
    },
    {
     "name": "stderr",
     "output_type": "stream",
     "text": [
      "                                                                                                                       \r"
     ]
    },
    {
     "name": "stdout",
     "output_type": "stream",
     "text": [
      "1 ground truth image(s) found.\n",
      "\n",
      "No.19 data is being augmented and 20 data will be created\n"
     ]
    },
    {
     "name": "stderr",
     "output_type": "stream",
     "text": [
      "Processing <PIL.Image.Image image mode=RGB size=224x224 at 0x1EC0B3C17B8>: 100%|█| 20/20 [00:00<00:00, 277.79 Samples/s]\n"
     ]
    },
    {
     "name": "stdout",
     "output_type": "stream",
     "text": [
      "Done\n",
      "Initialised with 1 image(s) found.\n",
      "Output directory set to yuanfazhao_data_08\\train\\lesion_dataset_1\\tmp\\fusion_image\\20\\output."
     ]
    },
    {
     "name": "stderr",
     "output_type": "stream",
     "text": [
      "                                                                                                                       \r"
     ]
    },
    {
     "name": "stdout",
     "output_type": "stream",
     "text": [
      "1 ground truth image(s) found.\n",
      "\n",
      "No.20 data is being augmented and 20 data will be created\n"
     ]
    },
    {
     "name": "stderr",
     "output_type": "stream",
     "text": [
      "Processing <PIL.Image.Image image mode=RGB size=224x224 at 0x1EC0B3C1588>: 100%|█| 20/20 [00:00<00:00, 273.97 Samples/s]\n"
     ]
    },
    {
     "name": "stdout",
     "output_type": "stream",
     "text": [
      "Done\n",
      "Initialised with 1 image(s) found.\n",
      "Output directory set to yuanfazhao_data_08\\train\\lesion_dataset_1\\tmp\\fusion_image\\21\\output."
     ]
    },
    {
     "name": "stderr",
     "output_type": "stream",
     "text": [
      "                                                                                                                       \r"
     ]
    },
    {
     "name": "stdout",
     "output_type": "stream",
     "text": [
      "1 ground truth image(s) found.\n",
      "\n",
      "No.21 data is being augmented and 20 data will be created\n"
     ]
    },
    {
     "name": "stderr",
     "output_type": "stream",
     "text": [
      "Processing <PIL.Image.Image image mode=RGB size=224x224 at 0x1EC0B3C4470>: 100%|█| 20/20 [00:00<00:00, 250.00 Samples/s]\n"
     ]
    },
    {
     "name": "stdout",
     "output_type": "stream",
     "text": [
      "Done\n",
      "Initialised with 1 image(s) found.\n",
      "Output directory set to yuanfazhao_data_08\\train\\lesion_dataset_1\\tmp\\fusion_image\\22\\output."
     ]
    },
    {
     "name": "stderr",
     "output_type": "stream",
     "text": [
      "                                                                                                                       \r"
     ]
    },
    {
     "name": "stdout",
     "output_type": "stream",
     "text": [
      "1 ground truth image(s) found.\n",
      "\n",
      "No.22 data is being augmented and 20 data will be created\n"
     ]
    },
    {
     "name": "stderr",
     "output_type": "stream",
     "text": [
      "Processing <PIL.Image.Image image mode=RGB size=224x224 at 0x1EC0B3C4358>: 100%|█| 20/20 [00:00<00:00, 28.25 Samples/s]\n"
     ]
    },
    {
     "name": "stdout",
     "output_type": "stream",
     "text": [
      "Done\n",
      "Initialised with 1 image(s) found.\n",
      "Output directory set to yuanfazhao_data_08\\train\\lesion_dataset_1\\tmp\\fusion_image\\23\\output."
     ]
    },
    {
     "name": "stderr",
     "output_type": "stream",
     "text": [
      "                                                                                                                       \r"
     ]
    },
    {
     "name": "stdout",
     "output_type": "stream",
     "text": [
      "1 ground truth image(s) found.\n",
      "\n",
      "No.23 data is being augmented and 20 data will be created\n"
     ]
    },
    {
     "name": "stderr",
     "output_type": "stream",
     "text": [
      "Processing <PIL.Image.Image image mode=RGB size=224x224 at 0x1EC0B3C7160>: 100%|█| 20/20 [00:00<00:00, 222.22 Samples/s]\n"
     ]
    },
    {
     "name": "stdout",
     "output_type": "stream",
     "text": [
      "Done\n",
      "460 pairs of data has been created totally\n"
     ]
    }
   ],
   "source": [
    "doCrop_224(fusion_tmp_path,label_tmp_path)"
   ]
  },
  {
   "cell_type": "markdown",
   "metadata": {},
   "source": [
    "### 然后是测试数据增强"
   ]
  },
  {
   "cell_type": "code",
   "execution_count": 26,
   "metadata": {},
   "outputs": [],
   "source": [
    "dataset_folders2 = [os.path.join(test_path,s) for s in os.listdir(test_path)]"
   ]
  },
  {
   "cell_type": "code",
   "execution_count": 27,
   "metadata": {},
   "outputs": [
    {
     "data": {
      "text/plain": [
       "['yuanfazhao_data_08\\\\test\\\\lesion_dataset_1',\n",
       " 'yuanfazhao_data_08\\\\test\\\\lesion_dataset_2',\n",
       " 'yuanfazhao_data_08\\\\test\\\\lesion_dataset_3']"
      ]
     },
     "execution_count": 27,
     "metadata": {},
     "output_type": "execute_result"
    }
   ],
   "source": [
    "dataset_folders2"
   ]
  },
  {
   "cell_type": "code",
   "execution_count": 30,
   "metadata": {},
   "outputs": [
    {
     "name": "stdout",
     "output_type": "stream",
     "text": [
      "['yuanfazhao_data_08\\\\test\\\\lesion_dataset_1\\\\tmp\\\\fusion_image', 'yuanfazhao_data_08\\\\test\\\\lesion_dataset_2\\\\tmp\\\\fusion_image', 'yuanfazhao_data_08\\\\test\\\\lesion_dataset_3\\\\tmp\\\\fusion_image']\n",
      "['yuanfazhao_data_08\\\\test\\\\lesion_dataset_1\\\\tmp\\\\binary_masks', 'yuanfazhao_data_08\\\\test\\\\lesion_dataset_2\\\\tmp\\\\binary_masks', 'yuanfazhao_data_08\\\\test\\\\lesion_dataset_3\\\\tmp\\\\binary_masks']\n"
     ]
    }
   ],
   "source": [
    "test_fusion_paths=[]\n",
    "test_mask_paths=[]\n",
    "\n",
    "for v in dataset_folders2:\n",
    "    temp = os.listdir(v)\n",
    "    test_fusion_paths.append(os.path.join(v,temp[1]))\n",
    "    test_mask_paths.append(os.path.join(v,temp[0]))\n",
    "\n",
    "test_tmp_fusion_paths = []\n",
    "test_tmp_mask_paths = []\n",
    "\n",
    "for v in test_fusion_paths:\n",
    "    a,b = os.path.split(v)\n",
    "    test_tmp_fusion_paths.append(os.path.join(a,\"tmp\",b))\n",
    "print(test_tmp_fusion_paths)\n",
    "for v in test_mask_paths:\n",
    "    a,b = os.path.split(v)\n",
    "    test_tmp_mask_paths.append(os.path.join(a,\"tmp\",b))\n",
    "print(test_tmp_mask_paths)"
   ]
  },
  {
   "cell_type": "code",
   "execution_count": 31,
   "metadata": {},
   "outputs": [
    {
     "name": "stdout",
     "output_type": "stream",
     "text": [
      "11\n",
      "14\n",
      "10\n"
     ]
    }
   ],
   "source": [
    "for i in range(3):\n",
    "    a = start(test_fusion_paths[i],test_mask_paths[i],test_tmp_fusion_paths[i],test_tmp_mask_paths[i])\n",
    "    print(a)"
   ]
  },
  {
   "cell_type": "code",
   "execution_count": 32,
   "metadata": {},
   "outputs": [],
   "source": [
    "def test_doCrop_224(num,fusion_tmp_path,label_tmp_path):\n",
    "    sum = 0\n",
    "    for i in range(num):\n",
    "        p = Augmentor.Pipeline(fusion_tmp_path + \"\\\\\" + str(i+1))\n",
    "        p.ground_truth(label_tmp_path + \"\\\\\" + str(i+1))\n",
    "        p.crop_by_size(probability=1,width=224,height=224,centre=False)\n",
    "        \n",
    "        count = 20\n",
    "        \n",
    "        print(\"\\nNo.%s data is being augmented and %s data will be created\"%(i+1,count))\n",
    "        \n",
    "        sum = sum+count\n",
    "        \n",
    "        p.sample(count)\n",
    "        \n",
    "        print(\"Done\")\n",
    "    print(\"%s pairs of data has been created totally\"%sum)"
   ]
  },
  {
   "cell_type": "code",
   "execution_count": 33,
   "metadata": {},
   "outputs": [
    {
     "name": "stdout",
     "output_type": "stream",
     "text": [
      "Initialised with 1 image(s) found.\n",
      "Output directory set to yuanfazhao_data_08\\test\\lesion_dataset_1\\tmp\\fusion_image\\1\\output."
     ]
    },
    {
     "name": "stderr",
     "output_type": "stream",
     "text": [
      "                                                                                                                       \r"
     ]
    },
    {
     "name": "stdout",
     "output_type": "stream",
     "text": [
      "1 ground truth image(s) found.\n",
      "\n",
      "No.1 data is being augmented and 20 data will be created\n"
     ]
    },
    {
     "name": "stderr",
     "output_type": "stream",
     "text": [
      "Processing <PIL.Image.Image image mode=RGB size=224x224 at 0x19591AD5A20>: 100%|█| 20/20 [00:00<00:00, 204.09 Samples/s]\n"
     ]
    },
    {
     "name": "stdout",
     "output_type": "stream",
     "text": [
      "Done\n",
      "Initialised with 1 image(s) found.\n",
      "Output directory set to yuanfazhao_data_08\\test\\lesion_dataset_1\\tmp\\fusion_image\\2\\output."
     ]
    },
    {
     "name": "stderr",
     "output_type": "stream",
     "text": [
      "                                                                                                                       \r"
     ]
    },
    {
     "name": "stdout",
     "output_type": "stream",
     "text": [
      "1 ground truth image(s) found.\n",
      "\n",
      "No.2 data is being augmented and 20 data will be created\n"
     ]
    },
    {
     "name": "stderr",
     "output_type": "stream",
     "text": [
      "Processing <PIL.Image.Image image mode=RGB size=224x224 at 0x19591ADEEF0>: 100%|█| 20/20 [00:00<00:00, 273.97 Samples/s]\n"
     ]
    },
    {
     "name": "stdout",
     "output_type": "stream",
     "text": [
      "Done\n",
      "Initialised with 1 image(s) found.\n",
      "Output directory set to yuanfazhao_data_08\\test\\lesion_dataset_1\\tmp\\fusion_image\\3\\output."
     ]
    },
    {
     "name": "stderr",
     "output_type": "stream",
     "text": [
      "                                                                                                                       \r"
     ]
    },
    {
     "name": "stdout",
     "output_type": "stream",
     "text": [
      "1 ground truth image(s) found.\n",
      "\n",
      "No.3 data is being augmented and 20 data will be created\n"
     ]
    },
    {
     "name": "stderr",
     "output_type": "stream",
     "text": [
      "Processing <PIL.Image.Image image mode=RGB size=224x224 at 0x19591ADBC18>: 100%|█| 20/20 [00:00<00:00, 273.98 Samples/s]\n"
     ]
    },
    {
     "name": "stdout",
     "output_type": "stream",
     "text": [
      "Done\n",
      "Initialised with 1 image(s) found.\n",
      "Output directory set to yuanfazhao_data_08\\test\\lesion_dataset_1\\tmp\\fusion_image\\4\\output."
     ]
    },
    {
     "name": "stderr",
     "output_type": "stream",
     "text": [
      "                                                                                                                       \r"
     ]
    },
    {
     "name": "stdout",
     "output_type": "stream",
     "text": [
      "1 ground truth image(s) found.\n",
      "\n",
      "No.4 data is being augmented and 20 data will be created\n"
     ]
    },
    {
     "name": "stderr",
     "output_type": "stream",
     "text": [
      "Processing <PIL.Image.Image image mode=RGB size=224x224 at 0x19591AB5F28>: 100%|█| 20/20 [00:00<00:00, 250.00 Samples/s]\n"
     ]
    },
    {
     "name": "stdout",
     "output_type": "stream",
     "text": [
      "Done\n",
      "Initialised with 1 image(s) found.\n",
      "Output directory set to yuanfazhao_data_08\\test\\lesion_dataset_1\\tmp\\fusion_image\\5\\output."
     ]
    },
    {
     "name": "stderr",
     "output_type": "stream",
     "text": [
      "                                                                                                                       \r"
     ]
    },
    {
     "name": "stdout",
     "output_type": "stream",
     "text": [
      "1 ground truth image(s) found.\n",
      "\n",
      "No.5 data is being augmented and 20 data will be created\n"
     ]
    },
    {
     "name": "stderr",
     "output_type": "stream",
     "text": [
      "Processing <PIL.Image.Image image mode=RGB size=224x224 at 0x19591B1DC88>: 100%|█| 20/20 [00:00<00:00, 281.68 Samples/s]\n"
     ]
    },
    {
     "name": "stdout",
     "output_type": "stream",
     "text": [
      "Done\n",
      "Initialised with 1 image(s) found.\n",
      "Output directory set to yuanfazhao_data_08\\test\\lesion_dataset_1\\tmp\\fusion_image\\6\\output."
     ]
    },
    {
     "name": "stderr",
     "output_type": "stream",
     "text": [
      "                                                                                                                       \r"
     ]
    },
    {
     "name": "stdout",
     "output_type": "stream",
     "text": [
      "1 ground truth image(s) found.\n",
      "\n",
      "No.6 data is being augmented and 20 data will be created\n"
     ]
    },
    {
     "name": "stderr",
     "output_type": "stream",
     "text": [
      "Processing <PIL.Image.Image image mode=RGB size=224x224 at 0x19591AB5208>: 100%|█| 20/20 [00:00<00:00, 277.78 Samples/s]\n"
     ]
    },
    {
     "name": "stdout",
     "output_type": "stream",
     "text": [
      "Done\n",
      "Initialised with 1 image(s) found.\n",
      "Output directory set to yuanfazhao_data_08\\test\\lesion_dataset_1\\tmp\\fusion_image\\7\\output."
     ]
    },
    {
     "name": "stderr",
     "output_type": "stream",
     "text": [
      "                                                                                                                       \r"
     ]
    },
    {
     "name": "stdout",
     "output_type": "stream",
     "text": [
      "1 ground truth image(s) found.\n",
      "\n",
      "No.7 data is being augmented and 20 data will be created\n"
     ]
    },
    {
     "name": "stderr",
     "output_type": "stream",
     "text": [
      "Processing <PIL.Image.Image image mode=RGB size=224x224 at 0x19591AB54A8>: 100%|█| 20/20 [00:00<00:00, 289.85 Samples/s]\n"
     ]
    },
    {
     "name": "stdout",
     "output_type": "stream",
     "text": [
      "Done\n",
      "Initialised with 1 image(s) found.\n",
      "Output directory set to yuanfazhao_data_08\\test\\lesion_dataset_1\\tmp\\fusion_image\\8\\output."
     ]
    },
    {
     "name": "stderr",
     "output_type": "stream",
     "text": [
      "                                                                                                                       \r"
     ]
    },
    {
     "name": "stdout",
     "output_type": "stream",
     "text": [
      "1 ground truth image(s) found.\n",
      "\n",
      "No.8 data is being augmented and 20 data will be created\n"
     ]
    },
    {
     "name": "stderr",
     "output_type": "stream",
     "text": [
      "Processing <PIL.Image.Image image mode=RGB size=224x224 at 0x19591B49C88>: 100%|█| 20/20 [00:00<00:00, 277.78 Samples/s]\n"
     ]
    },
    {
     "name": "stdout",
     "output_type": "stream",
     "text": [
      "Done\n",
      "Initialised with 1 image(s) found.\n",
      "Output directory set to yuanfazhao_data_08\\test\\lesion_dataset_1\\tmp\\fusion_image\\9\\output."
     ]
    },
    {
     "name": "stderr",
     "output_type": "stream",
     "text": [
      "                                                                                                                       \r"
     ]
    },
    {
     "name": "stdout",
     "output_type": "stream",
     "text": [
      "1 ground truth image(s) found.\n",
      "\n",
      "No.9 data is being augmented and 20 data will be created\n"
     ]
    },
    {
     "name": "stderr",
     "output_type": "stream",
     "text": [
      "Processing <PIL.Image.Image image mode=RGB size=224x224 at 0x19591AB5BA8>: 100%|█| 20/20 [00:00<00:00, 219.77 Samples/s]\n"
     ]
    },
    {
     "name": "stdout",
     "output_type": "stream",
     "text": [
      "Done\n",
      "Initialised with 1 image(s) found.\n",
      "Output directory set to yuanfazhao_data_08\\test\\lesion_dataset_1\\tmp\\fusion_image\\10\\output."
     ]
    },
    {
     "name": "stderr",
     "output_type": "stream",
     "text": [
      "                                                                                                                       \r"
     ]
    },
    {
     "name": "stdout",
     "output_type": "stream",
     "text": [
      "1 ground truth image(s) found.\n",
      "\n",
      "No.10 data is being augmented and 20 data will be created\n"
     ]
    },
    {
     "name": "stderr",
     "output_type": "stream",
     "text": [
      "Processing <PIL.Image.Image image mode=RGB size=224x224 at 0x19591B4C588>: 100%|█| 20/20 [00:00<00:00, 270.27 Samples/s]\n"
     ]
    },
    {
     "name": "stdout",
     "output_type": "stream",
     "text": [
      "Done\n",
      "Initialised with 1 image(s) found.\n",
      "Output directory set to yuanfazhao_data_08\\test\\lesion_dataset_1\\tmp\\fusion_image\\11\\output."
     ]
    },
    {
     "name": "stderr",
     "output_type": "stream",
     "text": [
      "                                                                                                                       \r"
     ]
    },
    {
     "name": "stdout",
     "output_type": "stream",
     "text": [
      "1 ground truth image(s) found.\n",
      "\n",
      "No.11 data is being augmented and 20 data will be created\n"
     ]
    },
    {
     "name": "stderr",
     "output_type": "stream",
     "text": [
      "Processing <PIL.Image.Image image mode=RGB size=224x224 at 0x19591B493C8>: 100%|█| 20/20 [00:00<00:00, 246.92 Samples/s]\n"
     ]
    },
    {
     "name": "stdout",
     "output_type": "stream",
     "text": [
      "Done\n",
      "220 pairs of data has been created totally\n",
      "Initialised with 1 image(s) found.\n",
      "Output directory set to yuanfazhao_data_08\\test\\lesion_dataset_2\\tmp\\fusion_image\\1\\output."
     ]
    },
    {
     "name": "stderr",
     "output_type": "stream",
     "text": [
      "                                                                                                                       \r"
     ]
    },
    {
     "name": "stdout",
     "output_type": "stream",
     "text": [
      "1 ground truth image(s) found.\n",
      "\n",
      "No.1 data is being augmented and 20 data will be created\n"
     ]
    },
    {
     "name": "stderr",
     "output_type": "stream",
     "text": [
      "Processing <PIL.Image.Image image mode=RGB size=224x224 at 0x19591B49A20>: 100%|█| 20/20 [00:00<00:00, 238.09 Samples/s]\n"
     ]
    },
    {
     "name": "stdout",
     "output_type": "stream",
     "text": [
      "Done\n",
      "Initialised with 1 image(s) found.\n",
      "Output directory set to yuanfazhao_data_08\\test\\lesion_dataset_2\\tmp\\fusion_image\\2\\output."
     ]
    },
    {
     "name": "stderr",
     "output_type": "stream",
     "text": [
      "                                                                                                                       \r"
     ]
    },
    {
     "name": "stdout",
     "output_type": "stream",
     "text": [
      "1 ground truth image(s) found.\n",
      "\n",
      "No.2 data is being augmented and 20 data will be created\n"
     ]
    },
    {
     "name": "stderr",
     "output_type": "stream",
     "text": [
      "Processing <PIL.Image.Image image mode=RGB size=224x224 at 0x19591AB5748>: 100%|█| 20/20 [00:00<00:00, 256.41 Samples/s]\n"
     ]
    },
    {
     "name": "stdout",
     "output_type": "stream",
     "text": [
      "Done\n",
      "Initialised with 1 image(s) found.\n",
      "Output directory set to yuanfazhao_data_08\\test\\lesion_dataset_2\\tmp\\fusion_image\\3\\output."
     ]
    },
    {
     "name": "stderr",
     "output_type": "stream",
     "text": [
      "                                                                                                                       \r"
     ]
    },
    {
     "name": "stdout",
     "output_type": "stream",
     "text": [
      "1 ground truth image(s) found.\n",
      "\n",
      "No.3 data is being augmented and 20 data will be created\n"
     ]
    },
    {
     "name": "stderr",
     "output_type": "stream",
     "text": [
      "Processing <PIL.Image.Image image mode=RGB size=224x224 at 0x19591B40CC0>: 100%|█| 20/20 [00:00<00:00, 232.56 Samples/s]\n"
     ]
    },
    {
     "name": "stdout",
     "output_type": "stream",
     "text": [
      "Done\n",
      "Initialised with 1 image(s) found.\n",
      "Output directory set to yuanfazhao_data_08\\test\\lesion_dataset_2\\tmp\\fusion_image\\4\\output."
     ]
    },
    {
     "name": "stderr",
     "output_type": "stream",
     "text": [
      "                                                                                                                       \r"
     ]
    },
    {
     "name": "stdout",
     "output_type": "stream",
     "text": [
      "1 ground truth image(s) found.\n",
      "\n",
      "No.4 data is being augmented and 20 data will be created\n"
     ]
    },
    {
     "name": "stderr",
     "output_type": "stream",
     "text": [
      "Processing <PIL.Image.Image image mode=RGB size=224x224 at 0x19591B4C438>: 100%|█| 20/20 [00:00<00:00, 289.85 Samples/s]\n"
     ]
    },
    {
     "name": "stdout",
     "output_type": "stream",
     "text": [
      "Done\n",
      "Initialised with 1 image(s) found.\n",
      "Output directory set to yuanfazhao_data_08\\test\\lesion_dataset_2\\tmp\\fusion_image\\5\\output."
     ]
    },
    {
     "name": "stderr",
     "output_type": "stream",
     "text": [
      "                                                                                                                       \r"
     ]
    },
    {
     "name": "stdout",
     "output_type": "stream",
     "text": [
      "1 ground truth image(s) found.\n",
      "\n",
      "No.5 data is being augmented and 20 data will be created\n"
     ]
    },
    {
     "name": "stderr",
     "output_type": "stream",
     "text": [
      "Processing <PIL.Image.Image image mode=RGB size=224x224 at 0x19591B494A8>: 100%|█| 20/20 [00:00<00:00, 273.97 Samples/s]\n"
     ]
    },
    {
     "name": "stdout",
     "output_type": "stream",
     "text": [
      "Done\n",
      "Initialised with 1 image(s) found.\n",
      "Output directory set to yuanfazhao_data_08\\test\\lesion_dataset_2\\tmp\\fusion_image\\6\\output."
     ]
    },
    {
     "name": "stderr",
     "output_type": "stream",
     "text": [
      "                                                                                                                       \r"
     ]
    },
    {
     "name": "stdout",
     "output_type": "stream",
     "text": [
      "1 ground truth image(s) found.\n",
      "\n",
      "No.6 data is being augmented and 20 data will be created\n"
     ]
    },
    {
     "name": "stderr",
     "output_type": "stream",
     "text": [
      "Processing <PIL.Image.Image image mode=RGB size=224x224 at 0x19591B4CEF0>: 100%|█| 20/20 [00:00<00:00, 289.86 Samples/s]\n"
     ]
    },
    {
     "name": "stdout",
     "output_type": "stream",
     "text": [
      "Done\n",
      "Initialised with 1 image(s) found.\n",
      "Output directory set to yuanfazhao_data_08\\test\\lesion_dataset_2\\tmp\\fusion_image\\7\\output."
     ]
    },
    {
     "name": "stderr",
     "output_type": "stream",
     "text": [
      "                                                                                                                       \r"
     ]
    },
    {
     "name": "stdout",
     "output_type": "stream",
     "text": [
      "1 ground truth image(s) found.\n",
      "\n",
      "No.7 data is being augmented and 20 data will be created\n"
     ]
    },
    {
     "name": "stderr",
     "output_type": "stream",
     "text": [
      "Processing <PIL.Image.Image image mode=RGB size=224x224 at 0x19591B4C2B0>: 100%|█| 20/20 [00:00<00:00, 270.27 Samples/s]\n"
     ]
    },
    {
     "name": "stdout",
     "output_type": "stream",
     "text": [
      "Done\n",
      "Initialised with 1 image(s) found.\n",
      "Output directory set to yuanfazhao_data_08\\test\\lesion_dataset_2\\tmp\\fusion_image\\8\\output."
     ]
    },
    {
     "name": "stderr",
     "output_type": "stream",
     "text": [
      "                                                                                                                       \r"
     ]
    },
    {
     "name": "stdout",
     "output_type": "stream",
     "text": [
      "1 ground truth image(s) found.\n",
      "\n",
      "No.8 data is being augmented and 20 data will be created\n"
     ]
    },
    {
     "name": "stderr",
     "output_type": "stream",
     "text": [
      "Processing <PIL.Image.Image image mode=RGB size=224x224 at 0x19591B495C0>: 100%|█| 20/20 [00:00<00:00, 307.69 Samples/s]\n"
     ]
    },
    {
     "name": "stdout",
     "output_type": "stream",
     "text": [
      "Done\n",
      "Initialised with 1 image(s) found.\n",
      "Output directory set to yuanfazhao_data_08\\test\\lesion_dataset_2\\tmp\\fusion_image\\9\\output."
     ]
    },
    {
     "name": "stderr",
     "output_type": "stream",
     "text": [
      "                                                                                                                       \r"
     ]
    },
    {
     "name": "stdout",
     "output_type": "stream",
     "text": [
      "1 ground truth image(s) found.\n",
      "\n",
      "No.9 data is being augmented and 20 data will be created\n"
     ]
    },
    {
     "name": "stderr",
     "output_type": "stream",
     "text": [
      "Processing <PIL.Image.Image image mode=RGB size=224x224 at 0x19591B53B38>: 100%|█| 20/20 [00:00<00:00, 294.12 Samples/s]\n"
     ]
    },
    {
     "name": "stdout",
     "output_type": "stream",
     "text": [
      "Done\n",
      "Initialised with 1 image(s) found.\n",
      "Output directory set to yuanfazhao_data_08\\test\\lesion_dataset_2\\tmp\\fusion_image\\10\\output."
     ]
    },
    {
     "name": "stderr",
     "output_type": "stream",
     "text": [
      "                                                                                                                       \r"
     ]
    },
    {
     "name": "stdout",
     "output_type": "stream",
     "text": [
      "1 ground truth image(s) found.\n",
      "\n",
      "No.10 data is being augmented and 20 data will be created\n"
     ]
    },
    {
     "name": "stderr",
     "output_type": "stream",
     "text": [
      "Processing <PIL.Image.Image image mode=RGB size=224x224 at 0x19591B4C4E0>: 100%|█| 20/20 [00:00<00:00, 289.86 Samples/s]\n"
     ]
    },
    {
     "name": "stdout",
     "output_type": "stream",
     "text": [
      "Done\n",
      "Initialised with 1 image(s) found.\n",
      "Output directory set to yuanfazhao_data_08\\test\\lesion_dataset_2\\tmp\\fusion_image\\11\\output."
     ]
    },
    {
     "name": "stderr",
     "output_type": "stream",
     "text": [
      "                                                                                                                       \r"
     ]
    },
    {
     "name": "stdout",
     "output_type": "stream",
     "text": [
      "1 ground truth image(s) found.\n",
      "\n",
      "No.11 data is being augmented and 20 data will be created\n"
     ]
    },
    {
     "name": "stderr",
     "output_type": "stream",
     "text": [
      "Processing <PIL.Image.Image image mode=RGB size=224x224 at 0x19591B55898>: 100%|█| 20/20 [00:00<00:00, 270.27 Samples/s]\n"
     ]
    },
    {
     "name": "stdout",
     "output_type": "stream",
     "text": [
      "Done\n",
      "Initialised with 1 image(s) found.\n",
      "Output directory set to yuanfazhao_data_08\\test\\lesion_dataset_2\\tmp\\fusion_image\\12\\output."
     ]
    },
    {
     "name": "stderr",
     "output_type": "stream",
     "text": [
      "                                                                                                                       \r"
     ]
    },
    {
     "name": "stdout",
     "output_type": "stream",
     "text": [
      "1 ground truth image(s) found.\n",
      "\n",
      "No.12 data is being augmented and 20 data will be created\n"
     ]
    },
    {
     "name": "stderr",
     "output_type": "stream",
     "text": [
      "Processing <PIL.Image.Image image mode=RGB size=224x224 at 0x19591B583C8>: 100%|█| 20/20 [00:00<00:00, 303.04 Samples/s]\n"
     ]
    },
    {
     "name": "stdout",
     "output_type": "stream",
     "text": [
      "Done\n",
      "Initialised with 1 image(s) found.\n",
      "Output directory set to yuanfazhao_data_08\\test\\lesion_dataset_2\\tmp\\fusion_image\\13\\output."
     ]
    },
    {
     "name": "stderr",
     "output_type": "stream",
     "text": [
      "                                                                                                                       \r"
     ]
    },
    {
     "name": "stdout",
     "output_type": "stream",
     "text": [
      "1 ground truth image(s) found.\n",
      "\n",
      "No.13 data is being augmented and 20 data will be created\n"
     ]
    },
    {
     "name": "stderr",
     "output_type": "stream",
     "text": [
      "Processing <PIL.Image.Image image mode=RGB size=224x224 at 0x19591B492B0>: 100%|█| 20/20 [00:00<00:00, 263.15 Samples/s]\n"
     ]
    },
    {
     "name": "stdout",
     "output_type": "stream",
     "text": [
      "Done\n",
      "Initialised with 1 image(s) found.\n",
      "Output directory set to yuanfazhao_data_08\\test\\lesion_dataset_2\\tmp\\fusion_image\\14\\output."
     ]
    },
    {
     "name": "stderr",
     "output_type": "stream",
     "text": [
      "                                                                                                                       \r"
     ]
    },
    {
     "name": "stdout",
     "output_type": "stream",
     "text": [
      "1 ground truth image(s) found.\n",
      "\n",
      "No.14 data is being augmented and 20 data will be created\n"
     ]
    },
    {
     "name": "stderr",
     "output_type": "stream",
     "text": [
      "Processing <PIL.Image.Image image mode=RGB size=224x224 at 0x19591B55F98>: 100%|█| 20/20 [00:00<00:00, 263.16 Samples/s]\n"
     ]
    },
    {
     "name": "stdout",
     "output_type": "stream",
     "text": [
      "Done\n",
      "280 pairs of data has been created totally\n",
      "Initialised with 1 image(s) found.\n",
      "Output directory set to yuanfazhao_data_08\\test\\lesion_dataset_3\\tmp\\fusion_image\\1\\output."
     ]
    },
    {
     "name": "stderr",
     "output_type": "stream",
     "text": [
      "                                                                                                                       \r"
     ]
    },
    {
     "name": "stdout",
     "output_type": "stream",
     "text": [
      "1 ground truth image(s) found.\n",
      "\n",
      "No.1 data is being augmented and 20 data will be created\n"
     ]
    },
    {
     "name": "stderr",
     "output_type": "stream",
     "text": [
      "Processing <PIL.Image.Image image mode=RGB size=224x224 at 0x19591B4BCC0>: 100%|█| 20/20 [00:00<00:00, 273.97 Samples/s]\n"
     ]
    },
    {
     "name": "stdout",
     "output_type": "stream",
     "text": [
      "Done\n",
      "Initialised with 1 image(s) found.\n",
      "Output directory set to yuanfazhao_data_08\\test\\lesion_dataset_3\\tmp\\fusion_image\\2\\output."
     ]
    },
    {
     "name": "stderr",
     "output_type": "stream",
     "text": [
      "                                                                                                                       \r"
     ]
    },
    {
     "name": "stdout",
     "output_type": "stream",
     "text": [
      "1 ground truth image(s) found.\n",
      "\n",
      "No.2 data is being augmented and 20 data will be created\n"
     ]
    },
    {
     "name": "stderr",
     "output_type": "stream",
     "text": [
      "Processing <PIL.Image.Image image mode=RGB size=224x224 at 0x19591B634A8>: 100%|█| 20/20 [00:00<00:00, 285.72 Samples/s]\n"
     ]
    },
    {
     "name": "stdout",
     "output_type": "stream",
     "text": [
      "Done\n",
      "Initialised with 1 image(s) found.\n",
      "Output directory set to yuanfazhao_data_08\\test\\lesion_dataset_3\\tmp\\fusion_image\\3\\output."
     ]
    },
    {
     "name": "stderr",
     "output_type": "stream",
     "text": [
      "                                                                                                                       \r"
     ]
    },
    {
     "name": "stdout",
     "output_type": "stream",
     "text": [
      "1 ground truth image(s) found.\n",
      "\n",
      "No.3 data is being augmented and 20 data will be created\n"
     ]
    },
    {
     "name": "stderr",
     "output_type": "stream",
     "text": [
      "Processing <PIL.Image.Image image mode=RGB size=224x224 at 0x19591B4FE10>: 100%|█| 20/20 [00:00<00:00, 281.68 Samples/s]\n"
     ]
    },
    {
     "name": "stdout",
     "output_type": "stream",
     "text": [
      "Done\n",
      "Initialised with 1 image(s) found.\n",
      "Output directory set to yuanfazhao_data_08\\test\\lesion_dataset_3\\tmp\\fusion_image\\4\\output."
     ]
    },
    {
     "name": "stderr",
     "output_type": "stream",
     "text": [
      "                                                                                                                       \r"
     ]
    },
    {
     "name": "stdout",
     "output_type": "stream",
     "text": [
      "1 ground truth image(s) found.\n",
      "\n",
      "No.4 data is being augmented and 20 data will be created\n"
     ]
    },
    {
     "name": "stderr",
     "output_type": "stream",
     "text": [
      "Processing <PIL.Image.Image image mode=RGB size=224x224 at 0x19591B4F898>: 100%|█| 20/20 [00:00<00:00, 210.53 Samples/s]\n"
     ]
    },
    {
     "name": "stdout",
     "output_type": "stream",
     "text": [
      "Done\n",
      "Initialised with 1 image(s) found.\n",
      "Output directory set to yuanfazhao_data_08\\test\\lesion_dataset_3\\tmp\\fusion_image\\5\\output."
     ]
    },
    {
     "name": "stderr",
     "output_type": "stream",
     "text": [
      "                                                                                                                       \r"
     ]
    },
    {
     "name": "stdout",
     "output_type": "stream",
     "text": [
      "1 ground truth image(s) found.\n",
      "\n",
      "No.5 data is being augmented and 20 data will be created\n"
     ]
    },
    {
     "name": "stderr",
     "output_type": "stream",
     "text": [
      "Processing <PIL.Image.Image image mode=RGB size=224x224 at 0x19591B68160>: 100%|█| 20/20 [00:00<00:00, 206.19 Samples/s]\n"
     ]
    },
    {
     "name": "stdout",
     "output_type": "stream",
     "text": [
      "Done\n",
      "Initialised with 1 image(s) found.\n",
      "Output directory set to yuanfazhao_data_08\\test\\lesion_dataset_3\\tmp\\fusion_image\\6\\output."
     ]
    },
    {
     "name": "stderr",
     "output_type": "stream",
     "text": [
      "                                                                                                                       \r"
     ]
    },
    {
     "name": "stdout",
     "output_type": "stream",
     "text": [
      "1 ground truth image(s) found.\n",
      "\n",
      "No.6 data is being augmented and 20 data will be created\n"
     ]
    },
    {
     "name": "stderr",
     "output_type": "stream",
     "text": [
      "Processing <PIL.Image.Image image mode=RGB size=224x224 at 0x19591B55A58>: 100%|█| 20/20 [00:00<00:00, 298.51 Samples/s]\n"
     ]
    },
    {
     "name": "stdout",
     "output_type": "stream",
     "text": [
      "Done\n",
      "Initialised with 1 image(s) found.\n",
      "Output directory set to yuanfazhao_data_08\\test\\lesion_dataset_3\\tmp\\fusion_image\\7\\output."
     ]
    },
    {
     "name": "stderr",
     "output_type": "stream",
     "text": [
      "                                                                                                                       \r"
     ]
    },
    {
     "name": "stdout",
     "output_type": "stream",
     "text": [
      "1 ground truth image(s) found.\n",
      "\n",
      "No.7 data is being augmented and 20 data will be created\n"
     ]
    },
    {
     "name": "stderr",
     "output_type": "stream",
     "text": [
      "Processing <PIL.Image.Image image mode=RGB size=224x224 at 0x19591B55E10>: 100%|█| 20/20 [00:00<00:00, 294.12 Samples/s]\n"
     ]
    },
    {
     "name": "stdout",
     "output_type": "stream",
     "text": [
      "Done\n",
      "Initialised with 1 image(s) found.\n",
      "Output directory set to yuanfazhao_data_08\\test\\lesion_dataset_3\\tmp\\fusion_image\\8\\output."
     ]
    },
    {
     "name": "stderr",
     "output_type": "stream",
     "text": [
      "                                                                                                                       \r"
     ]
    },
    {
     "name": "stdout",
     "output_type": "stream",
     "text": [
      "1 ground truth image(s) found.\n",
      "\n",
      "No.8 data is being augmented and 20 data will be created\n"
     ]
    },
    {
     "name": "stderr",
     "output_type": "stream",
     "text": [
      "Processing <PIL.Image.Image image mode=RGB size=224x224 at 0x19591B52710>: 100%|█| 20/20 [00:00<00:00, 263.16 Samples/s]\n"
     ]
    },
    {
     "name": "stdout",
     "output_type": "stream",
     "text": [
      "Done\n",
      "Initialised with 1 image(s) found.\n",
      "Output directory set to yuanfazhao_data_08\\test\\lesion_dataset_3\\tmp\\fusion_image\\9\\output."
     ]
    },
    {
     "name": "stderr",
     "output_type": "stream",
     "text": [
      "                                                                                                                       \r"
     ]
    },
    {
     "name": "stdout",
     "output_type": "stream",
     "text": [
      "1 ground truth image(s) found.\n",
      "\n",
      "No.9 data is being augmented and 20 data will be created\n"
     ]
    },
    {
     "name": "stderr",
     "output_type": "stream",
     "text": [
      "Processing <PIL.Image.Image image mode=RGB size=224x224 at 0x19591B55588>: 100%|█| 20/20 [00:00<00:00, 270.27 Samples/s]\n"
     ]
    },
    {
     "name": "stdout",
     "output_type": "stream",
     "text": [
      "Done\n",
      "Initialised with 1 image(s) found.\n",
      "Output directory set to yuanfazhao_data_08\\test\\lesion_dataset_3\\tmp\\fusion_image\\10\\output."
     ]
    },
    {
     "name": "stderr",
     "output_type": "stream",
     "text": [
      "                                                                                                                       \r"
     ]
    },
    {
     "name": "stdout",
     "output_type": "stream",
     "text": [
      "1 ground truth image(s) found.\n",
      "\n",
      "No.10 data is being augmented and 20 data will be created\n"
     ]
    },
    {
     "name": "stderr",
     "output_type": "stream",
     "text": [
      "Processing <PIL.Image.Image image mode=RGB size=224x224 at 0x19591B3C9B0>: 100%|█| 20/20 [00:00<00:00, 246.95 Samples/s]\n"
     ]
    },
    {
     "name": "stdout",
     "output_type": "stream",
     "text": [
      "Done\n",
      "200 pairs of data has been created totally\n"
     ]
    }
   ],
   "source": [
    "test_doCrop_224(11,test_tmp_fusion_paths[0],test_tmp_mask_paths[0])\n",
    "test_doCrop_224(14,test_tmp_fusion_paths[1],test_tmp_mask_paths[1])\n",
    "test_doCrop_224(10,test_tmp_fusion_paths[2],test_tmp_mask_paths[2])"
   ]
  },
  {
   "cell_type": "markdown",
   "metadata": {},
   "source": [
    "## 分离切割后的图片与标签"
   ]
  },
  {
   "cell_type": "code",
   "execution_count": 44,
   "metadata": {},
   "outputs": [],
   "source": [
    "# F:\\Code\\data_process\\yuanfazhao_data_08\\train\\lesion_dataset_1\\tmp\\fusion_image\\1\n",
    "    \n",
    "path = Path(\"yuanfazhao_data_08/train\")\n",
    "datasetpaths=[]\n",
    "\n",
    "for i in range(1,6):\n",
    "    t = \"lesion_dataset_\" + str(i)\n",
    "    datasetpaths.append(path / t)"
   ]
  },
  {
   "cell_type": "code",
   "execution_count": 45,
   "metadata": {},
   "outputs": [
    {
     "data": {
      "text/plain": [
       "[WindowsPath('yuanfazhao_data_08/train/lesion_dataset_1'),\n",
       " WindowsPath('yuanfazhao_data_08/train/lesion_dataset_2'),\n",
       " WindowsPath('yuanfazhao_data_08/train/lesion_dataset_3'),\n",
       " WindowsPath('yuanfazhao_data_08/train/lesion_dataset_4'),\n",
       " WindowsPath('yuanfazhao_data_08/train/lesion_dataset_5')]"
      ]
     },
     "execution_count": 45,
     "metadata": {},
     "output_type": "execute_result"
    }
   ],
   "source": [
    "datasetpaths"
   ]
  },
  {
   "cell_type": "code",
   "execution_count": 31,
   "metadata": {},
   "outputs": [],
   "source": [
    "file_path = []\n",
    "datasetpaths = Path(\"yuanfazhao_data_08/train/lesion_dataset_1\")\n",
    "\n",
    "for j in range(1,24):\n",
    "    a = datasetpaths / \"tmp\" / \"fusion_image\" / str(j) / \"output\"\n",
    "    file_path.append(a)"
   ]
  },
  {
   "cell_type": "code",
   "execution_count": 9,
   "metadata": {},
   "outputs": [
    {
     "data": {
      "text/plain": [
       "'yuanfazhao_data_08\\\\train\\\\lesion_dataset_1\\\\tmp\\\\fusion_image\\\\23\\\\output'"
      ]
     },
     "execution_count": 9,
     "metadata": {},
     "output_type": "execute_result"
    }
   ],
   "source": [
    "str(file_path[22])"
   ]
  },
  {
   "cell_type": "code",
   "execution_count": 10,
   "metadata": {},
   "outputs": [
    {
     "data": {
      "text/plain": [
       "23"
      ]
     },
     "execution_count": 10,
     "metadata": {},
     "output_type": "execute_result"
    }
   ],
   "source": [
    "len(file_path)"
   ]
  },
  {
   "cell_type": "code",
   "execution_count": 32,
   "metadata": {},
   "outputs": [],
   "source": [
    "for i in range(23):\n",
    "    \n",
    "    # 在out目录下创建2个文件夹\n",
    "    (file_path[i] / \"fusion_image\").mkdir(exist_ok=True,parents=True)\n",
    "    (file_path[i] / \"binary_mask\").mkdir(exist_ok=True,parents=True)\n"
   ]
  },
  {
   "cell_type": "code",
   "execution_count": 33,
   "metadata": {},
   "outputs": [],
   "source": [
    "import shutil\n",
    "for i in range(23):\n",
    "    \n",
    "    fusion = str(file_path[i] / \"fusion_image\")\n",
    "    # print(fusion)\n",
    "    mask = str(file_path[i] / \"binary_mask\")\n",
    "    # print(mask)\n",
    "    \n",
    "    f_path = str(file_path[i])\n",
    "    # print(f_path)\n",
    "    dirs = os.listdir(f_path)\n",
    "    dir_s = [os.path.join(f_path,s) for s in dirs]\n",
    "    # print(dir_s)\n",
    "    \n",
    "    for di in dir_s:\n",
    "        if os.path.splitext(di)[1]==\".bmp\":\n",
    "            if os.path.basename(di)[0]==\"_\":\n",
    "                shutil.copy(di,mask)\n",
    "            else:\n",
    "                shutil.copy(di,fusion)"
   ]
  },
  {
   "cell_type": "code",
   "execution_count": 34,
   "metadata": {},
   "outputs": [],
   "source": [
    "file_f = []\n",
    "file_m = []\n",
    "for i in range(23):\n",
    "    f = file_path[i] / \"fusion_image\"\n",
    "    m = file_path[i] / \"binary_mask\"\n",
    "    file_f.append(str(f))\n",
    "    file_m.append(str(m))"
   ]
  },
  {
   "cell_type": "code",
   "execution_count": 15,
   "metadata": {},
   "outputs": [
    {
     "data": {
      "text/plain": [
       "23"
      ]
     },
     "execution_count": 15,
     "metadata": {},
     "output_type": "execute_result"
    }
   ],
   "source": [
    "len(file_f)\n"
   ]
  },
  {
   "cell_type": "code",
   "execution_count": 16,
   "metadata": {},
   "outputs": [
    {
     "data": {
      "text/plain": [
       "23"
      ]
     },
     "execution_count": 16,
     "metadata": {},
     "output_type": "execute_result"
    }
   ],
   "source": [
    "len(file_m)"
   ]
  },
  {
   "cell_type": "code",
   "execution_count": 17,
   "metadata": {},
   "outputs": [
    {
     "name": "stdout",
     "output_type": "stream",
     "text": [
      "yuanfazhao_data_08\\train\\lesion_dataset_1\\tmp\\fusion_image\\1\\output\\fusion_image\n",
      "20\n",
      "yuanfazhao_data_08\\train\\lesion_dataset_1\\tmp\\fusion_image\\1\\output\\fusion_image\\1_original_N0tangliru106.bmp_068e9b64-08ff-4e27-a251-dc883be5b963.bmp\n",
      "1_original_N0tangliru106.bmp_068e9b64-08ff-4e27-a251-dc883be5b963.bmp\n",
      "['1', 'original', 'N0tangliru106.bmp', '068e9b64-08ff-4e27-a251-dc883be5b963.bmp']\n",
      "N0tangliru106.bmp\n",
      "N0tangliru106\n",
      "N0tangliru10601.bmp\n"
     ]
    }
   ],
   "source": [
    "print(file_f[0])\n",
    "f_b = [os.path.join(file_f[0],a) for a in os.listdir(file_f[0])]\n",
    "print(len(f_b))\n",
    "print(f_b[0])\n",
    "m = os.path.basename(f_b[0])\n",
    "print(m)\n",
    "s = m.split(\"_\")\n",
    "print(s)\n",
    "print(s[2])\n",
    "s1 = s[2].split(\".\")[0]\n",
    "print(s1)\n",
    "k = \"%02d\" % 1\n",
    "new_s = s1+str(k)+\".bmp\"\n",
    "print(new_s)"
   ]
  },
  {
   "cell_type": "code",
   "execution_count": 35,
   "metadata": {},
   "outputs": [],
   "source": [
    "for f in file_f:\n",
    "    f_a = [os.path.join(f,a) for a in os.listdir(f)]\n",
    "    \n",
    "    le = len(f_a)\n",
    "    \n",
    "    i = 1\n",
    "    for j in range(le):\n",
    "        k = \"%02d\" % i\n",
    "        oldname = os.path.basename(f_a[j])\n",
    "        newname = oldname.split(\"_\")[2].split(\".\")[0] + str(k) +\".bmp\"\n",
    "        os.renames(f_a[j],os.path.join(f,newname))\n",
    "        \n",
    "        i = i + 1"
   ]
  },
  {
   "cell_type": "code",
   "execution_count": 106,
   "metadata": {},
   "outputs": [
    {
     "name": "stdout",
     "output_type": "stream",
     "text": [
      "yuanfazhao_data_08\\train\\lesion_dataset_1\\tmp\\fusion_image\\1\\output\\binary_mask\n",
      "20\n",
      "yuanfazhao_data_08\\train\\lesion_dataset_1\\tmp\\fusion_image\\1\\output\\binary_mask\\_groundtruth_(1)_1_N0tangliru106.bmp_02318a1f-e1b6-440b-96ee-97e54891c516.bmp\n",
      "_groundtruth_(1)_1_N0tangliru106.bmp_02318a1f-e1b6-440b-96ee-97e54891c516.bmp\n",
      "['', 'groundtruth', '(1)', '1', 'N0tangliru106.bmp', '02318a1f-e1b6-440b-96ee-97e54891c516.bmp']\n",
      "N0tangliru106.bmp\n",
      "N0tangliru106\n",
      "N0tangliru10601.bmp\n"
     ]
    }
   ],
   "source": [
    "print(file_m[0])\n",
    "f_b = [os.path.join(file_m[0],a) for a in os.listdir(file_m[0])]\n",
    "print(len(f_b))\n",
    "print(f_b[0])\n",
    "m = os.path.basename(f_b[0])\n",
    "print(m)\n",
    "s = m.split(\"_\")\n",
    "print(s)\n",
    "print(s[4])\n",
    "s1 = s[4].split(\".\")[0]\n",
    "print(s1)\n",
    "k = \"%02d\" % 1\n",
    "new_s = s1+str(k)+\".bmp\"\n",
    "print(new_s)"
   ]
  },
  {
   "cell_type": "code",
   "execution_count": 36,
   "metadata": {},
   "outputs": [],
   "source": [
    "for f in file_m:\n",
    "    f_a = [os.path.join(f,a) for a in os.listdir(f)]\n",
    "    \n",
    "    le = len(f_a)\n",
    "    \n",
    "    i = 1\n",
    "    for j in range(le):\n",
    "        k = \"%02d\" % i\n",
    "        oldname = os.path.basename(f_a[j])\n",
    "        newname = oldname.split(\"_\")[4].split(\".\")[0] + str(k) +\".bmp\"\n",
    "        os.renames(f_a[j],os.path.join(f,newname))\n",
    "        \n",
    "        i = i + 1"
   ]
  },
  {
   "cell_type": "markdown",
   "metadata": {},
   "source": [
    "## 测试数据"
   ]
  },
  {
   "cell_type": "code",
   "execution_count": 108,
   "metadata": {},
   "outputs": [],
   "source": [
    "path = Path(\"yuanfazhao_data_08/test\")\n",
    "datasetpaths=[]\n",
    "\n",
    "for i in range(1,4):\n",
    "    t = \"lesion_dataset_\" + str(i)\n",
    "    datasetpaths.append(path / t)"
   ]
  },
  {
   "cell_type": "code",
   "execution_count": 109,
   "metadata": {},
   "outputs": [
    {
     "data": {
      "text/plain": [
       "[WindowsPath('yuanfazhao_data_08/test/lesion_dataset_1'),\n",
       " WindowsPath('yuanfazhao_data_08/test/lesion_dataset_2'),\n",
       " WindowsPath('yuanfazhao_data_08/test/lesion_dataset_3')]"
      ]
     },
     "execution_count": 109,
     "metadata": {},
     "output_type": "execute_result"
    }
   ],
   "source": [
    "datasetpaths"
   ]
  },
  {
   "cell_type": "code",
   "execution_count": 115,
   "metadata": {},
   "outputs": [
    {
     "name": "stdout",
     "output_type": "stream",
     "text": [
      "11\n",
      "14\n",
      "10\n"
     ]
    }
   ],
   "source": [
    "file_path = []\n",
    "for i in range(3):\n",
    "    num = len(os.listdir(str(datasetpaths[i] / \"tmp\" / \"fusion_image\")))\n",
    "    print(num)\n",
    "    for j in range(1,num+1):\n",
    "        a = datasetpaths[i] / \"tmp\" / \"fusion_image\" / str(j) / \"output\"\n",
    "        file_path.append(a)"
   ]
  },
  {
   "cell_type": "code",
   "execution_count": 119,
   "metadata": {},
   "outputs": [],
   "source": [
    "for i in range(35):\n",
    "    \n",
    "    # 在out目录下创建2个文件夹\n",
    "    (file_path[i] / \"fusion_image\").mkdir(exist_ok=True,parents=True)\n",
    "    (file_path[i] / \"binary_mask\").mkdir(exist_ok=True,parents=True)\n",
    "    \n",
    "    fusion = str(file_path[i] / \"fusion_image\")\n",
    "    # print(fusion)\n",
    "    mask = str(file_path[i] / \"binary_mask\")\n",
    "    # print(mask)\n",
    "    \n",
    "    f_path = str(file_path[i])\n",
    "    # print(f_path)\n",
    "    dirs = os.listdir(f_path)\n",
    "    dir_s = [os.path.join(f_path,s) for s in dirs]\n",
    "    # print(dir_s)\n",
    "    \n",
    "    for di in dir_s:\n",
    "        if os.path.splitext(di)[1]==\".bmp\":\n",
    "            if os.path.basename(di)[0]==\"_\":\n",
    "                shutil.copy(di,mask)\n",
    "            else:\n",
    "                shutil.copy(di,fusion)"
   ]
  },
  {
   "cell_type": "code",
   "execution_count": 120,
   "metadata": {},
   "outputs": [],
   "source": [
    "file_f = []\n",
    "file_m = []\n",
    "for i in range(35):\n",
    "    f = file_path[i] / \"fusion_image\"\n",
    "    m = file_path[i] / \"binary_mask\"\n",
    "    file_f.append(str(f))\n",
    "    file_m.append(str(m))"
   ]
  },
  {
   "cell_type": "code",
   "execution_count": 121,
   "metadata": {},
   "outputs": [
    {
     "data": {
      "text/plain": [
       "35"
      ]
     },
     "execution_count": 121,
     "metadata": {},
     "output_type": "execute_result"
    }
   ],
   "source": [
    "len(file_f)"
   ]
  },
  {
   "cell_type": "code",
   "execution_count": 122,
   "metadata": {},
   "outputs": [],
   "source": [
    "for f in file_f:\n",
    "    f_a = [os.path.join(f,a) for a in os.listdir(f)]\n",
    "    \n",
    "    le = len(f_a)\n",
    "    \n",
    "    i = 1\n",
    "    for j in range(le):\n",
    "        k = \"%02d\" % i\n",
    "        oldname = os.path.basename(f_a[j])\n",
    "        newname = oldname.split(\"_\")[2].split(\".\")[0] + str(k) +\".bmp\"\n",
    "        os.renames(f_a[j],os.path.join(f,newname))\n",
    "        \n",
    "        i = i + 1"
   ]
  },
  {
   "cell_type": "code",
   "execution_count": 123,
   "metadata": {},
   "outputs": [],
   "source": [
    "for f in file_m:\n",
    "    f_a = [os.path.join(f,a) for a in os.listdir(f)]\n",
    "    \n",
    "    le = len(f_a)\n",
    "    \n",
    "    i = 1\n",
    "    for j in range(le):\n",
    "        k = \"%02d\" % i\n",
    "        oldname = os.path.basename(f_a[j])\n",
    "        newname = oldname.split(\"_\")[4].split(\".\")[0] + str(k) +\".bmp\"\n",
    "        os.renames(f_a[j],os.path.join(f,newname))\n",
    "        \n",
    "        i = i + 1"
   ]
  },
  {
   "cell_type": "code",
   "execution_count": 37,
   "metadata": {},
   "outputs": [],
   "source": [
    "path = Path('yuanfazhao_data_08')\n",
    "cropped_train_path=path /  'cropped_train'\n",
    "cropped_test_path=path /  'cropped_test'\n",
    "train_path = path / \"train\"\n",
    "test_path = path / \"test\""
   ]
  },
  {
   "cell_type": "code",
   "execution_count": 38,
   "metadata": {},
   "outputs": [],
   "source": [
    "# 创建文件夹\n",
    "for dataset_index in range(1,2):\n",
    "    dataset_folder = \"lesion_dataset_\" + str(dataset_index)\n",
    "    \n",
    "    # 创建每个数据集下的两个目录\n",
    "    (cropped_train_path / dataset_folder / 'fusion_image').mkdir(exist_ok=True,parents=True)\n",
    "    (cropped_train_path / dataset_folder / 'binary_masks').mkdir(exist_ok=True,parents=True)"
   ]
  },
  {
   "cell_type": "code",
   "execution_count": 39,
   "metadata": {},
   "outputs": [
    {
     "name": "stderr",
     "output_type": "stream",
     "text": [
      "100%|██████████████████████████████████████████████████████████████████████████████████| 23/23 [00:01<00:00, 12.14it/s]\n"
     ]
    }
   ],
   "source": [
    "# 复制fusion_image\n",
    "# F:\\Code\\data_process\\yuanfazhao_data_08\\train\\lesion_dataset_1\\tmp\\fusion_image\\1\\output\\fusion_image\n",
    "    \n",
    "for dataset_index in range(1,2):\n",
    "    \n",
    "    dataset_folder = \"lesion_dataset_\" + str(dataset_index) \n",
    "    \n",
    "    folder = train_path / dataset_folder / \"tmp\" / \"fusion_image\"\n",
    "    \n",
    "    dst = cropped_train_path / dataset_folder / \"fusion_image\"\n",
    "    \n",
    "    folder_num = len(os.listdir(str(folder)))\n",
    "    \n",
    "    \n",
    "    for i in tqdm(range(folder_num)):\n",
    "        fold = folder / str(i+1) / \"output\" / \"fusion_image\"\n",
    "        \n",
    "        filename = [os.path.join(str(fold),f) for f in os.listdir(str(fold))]\n",
    "        \n",
    "        for j in range(20):\n",
    "            shutil.copy(filename[j],str(dst))"
   ]
  },
  {
   "cell_type": "code",
   "execution_count": 40,
   "metadata": {},
   "outputs": [
    {
     "name": "stderr",
     "output_type": "stream",
     "text": [
      "100%|██████████████████████████████████████████████████████████████████████████████████| 23/23 [00:01<00:00, 11.69it/s]\n"
     ]
    }
   ],
   "source": [
    "# 复制mask\n",
    "# F:\\Code\\data_process\\yuanfazhao_data_08\\train\\lesion_dataset_1\\tmp\\fusion_image\\1\\output\\fusion_image\n",
    "    \n",
    "for dataset_index in range(1,2):\n",
    "    \n",
    "    dataset_folder = \"lesion_dataset_\" + str(dataset_index) \n",
    "    \n",
    "    folder = train_path / dataset_folder / \"tmp\" / \"fusion_image\"\n",
    "    \n",
    "    dst = cropped_train_path / dataset_folder / \"binary_masks\"\n",
    "    \n",
    "    folder_num = len(os.listdir(str(folder)))\n",
    "    \n",
    "    \n",
    "    for i in tqdm(range(folder_num)):\n",
    "        fold = folder / str(i+1) / \"output\" / \"binary_mask\"\n",
    "        \n",
    "        filename = [os.path.join(str(fold),f) for f in os.listdir(str(fold))]\n",
    "        \n",
    "        for j in range(20):\n",
    "            shutil.copy(filename[j],str(dst))"
   ]
  },
  {
   "cell_type": "code",
   "execution_count": 133,
   "metadata": {},
   "outputs": [],
   "source": [
    "# 创建文件夹\n",
    "for dataset_index in range(1,4):\n",
    "    dataset_folder = \"lesion_dataset_\" + str(dataset_index)\n",
    "    \n",
    "    # 创建每个数据集下的两个目录\n",
    "    (cropped_test_path / dataset_folder / 'fusion_image').mkdir(exist_ok=True,parents=True)\n",
    "    (cropped_test_path / dataset_folder / 'binary_masks').mkdir(exist_ok=True,parents=True)"
   ]
  },
  {
   "cell_type": "code",
   "execution_count": 134,
   "metadata": {},
   "outputs": [
    {
     "name": "stderr",
     "output_type": "stream",
     "text": [
      "100%|██████████████████████████████████████████████████████████████████████████████████| 11/11 [00:03<00:00,  3.40it/s]\n",
      "100%|██████████████████████████████████████████████████████████████████████████████████| 14/14 [00:03<00:00,  4.53it/s]\n",
      "100%|██████████████████████████████████████████████████████████████████████████████████| 10/10 [00:02<00:00,  3.76it/s]\n"
     ]
    }
   ],
   "source": [
    "# 复制fusion_image\n",
    "# F:\\Code\\data_process\\yuanfazhao_data_08\\train\\lesion_dataset_1\\tmp\\fusion_image\\1\\output\\fusion_image\n",
    "    \n",
    "for dataset_index in range(1,4):\n",
    "    \n",
    "    dataset_folder = \"lesion_dataset_\" + str(dataset_index) \n",
    "    \n",
    "    folder = test_path / dataset_folder / \"tmp\" / \"fusion_image\"\n",
    "    \n",
    "    dst = cropped_test_path / dataset_folder / \"fusion_image\"\n",
    "    \n",
    "    folder_num = len(os.listdir(str(folder)))\n",
    "    \n",
    "    \n",
    "    for i in tqdm(range(folder_num)):\n",
    "        fold = folder / str(i+1) / \"output\" / \"fusion_image\"\n",
    "        \n",
    "        filename = [os.path.join(str(fold),f) for f in os.listdir(str(fold))]\n",
    "        \n",
    "        for j in range(20):\n",
    "            shutil.copy(filename[j],str(dst))"
   ]
  },
  {
   "cell_type": "code",
   "execution_count": 135,
   "metadata": {},
   "outputs": [
    {
     "name": "stderr",
     "output_type": "stream",
     "text": [
      "100%|██████████████████████████████████████████████████████████████████████████████████| 11/11 [00:02<00:00,  4.85it/s]\n",
      "100%|██████████████████████████████████████████████████████████████████████████████████| 14/14 [00:02<00:00,  6.24it/s]\n",
      "100%|██████████████████████████████████████████████████████████████████████████████████| 10/10 [00:01<00:00,  5.82it/s]\n"
     ]
    }
   ],
   "source": [
    "# 复制mask\n",
    "# F:\\Code\\data_process\\yuanfazhao_data_08\\train\\lesion_dataset_1\\tmp\\fusion_image\\1\\output\\fusion_image\n",
    "    \n",
    "for dataset_index in range(1,4):\n",
    "    \n",
    "    dataset_folder = \"lesion_dataset_\" + str(dataset_index) \n",
    "    \n",
    "    folder = test_path / dataset_folder / \"tmp\" / \"fusion_image\"\n",
    "    \n",
    "    dst = cropped_test_path / dataset_folder / \"binary_masks\"\n",
    "    \n",
    "    folder_num = len(os.listdir(str(folder)))\n",
    "    \n",
    "    \n",
    "    for i in tqdm(range(folder_num)):\n",
    "        fold = folder / str(i+1) / \"output\" / \"binary_mask\"\n",
    "        \n",
    "        filename = [os.path.join(str(fold),f) for f in os.listdir(str(fold))]\n",
    "        \n",
    "        for j in range(20):\n",
    "            shutil.copy(filename[j],str(dst))"
   ]
  }
 ],
 "metadata": {
  "kernelspec": {
   "display_name": "Python 3",
   "language": "python",
   "name": "python3"
  },
  "language_info": {
   "codemirror_mode": {
    "name": "ipython",
    "version": 3
   },
   "file_extension": ".py",
   "mimetype": "text/x-python",
   "name": "python",
   "nbconvert_exporter": "python",
   "pygments_lexer": "ipython3",
   "version": "3.6.8"
  }
 },
 "nbformat": 4,
 "nbformat_minor": 2
}
