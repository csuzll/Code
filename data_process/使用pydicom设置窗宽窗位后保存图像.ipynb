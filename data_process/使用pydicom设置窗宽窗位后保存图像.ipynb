{
 "cells": [
  {
   "cell_type": "code",
   "execution_count": 1,
   "metadata": {},
   "outputs": [],
   "source": [
    "# -*- coding=utf-8 -*-\n",
    "\n",
    "import matplotlib.pyplot as plt\n",
    "import pydicom\n",
    "import pydicom.uid\n",
    "import sys\n",
    "import PIL.Image as Image\n",
    "from PyQt5 import QtGui\n",
    "import os"
   ]
  },
  {
   "cell_type": "markdown",
   "metadata": {},
   "source": [
    "读取Dicom图像数据与得到的CT值图像（CT图）"
   ]
  },
  {
   "cell_type": "code",
   "execution_count": 2,
   "metadata": {},
   "outputs": [
    {
     "data": {
      "text/plain": [
       "True"
      ]
     },
     "execution_count": 2,
     "metadata": {},
     "output_type": "execute_result"
    }
   ],
   "source": [
    "have_numpy = True\n",
    "try:\n",
    "    import numpy\n",
    "except ImportError:\n",
    "    have_numpy = False\n",
    "    raise\n",
    "have_numpy"
   ]
  },
  {
   "cell_type": "code",
   "execution_count": 4,
   "metadata": {},
   "outputs": [
    {
     "data": {
      "text/plain": [
       "True"
      ]
     },
     "execution_count": 4,
     "metadata": {},
     "output_type": "execute_result"
    }
   ],
   "source": [
    "sys_is_little_endian = (sys.byteorder == 'little')\n",
    "sys_is_little_endian"
   ]
  },
  {
   "cell_type": "code",
   "execution_count": 6,
   "metadata": {},
   "outputs": [],
   "source": [
    "NumpySupportedTransferSyntaxes = [\n",
    "    pydicom.uid.ExplicitVRLittleEndian,\n",
    "    pydicom.uid.ImplicitVRLittleEndian,\n",
    "    pydicom.uid.DeflatedExplicitVRLittleEndian,\n",
    "    pydicom.uid.ExplicitVRBigEndian,\n",
    "]\n",
    "\n",
    "# 支持的传输语法\n",
    "def supports_transfer_syntaxz(dicom_dataset):\n",
    "    \"\"\"\n",
    "    Returns\n",
    "    - - - - - - \n",
    "    bool\n",
    "        True ：如果这个像素数据处理程序支持这种传输语法。\n",
    "        Fales：防止任何试图使用此处理程序解码给定传输语法的尝试\n",
    "    \"\"\"\n",
    "    return (dicom_dataset.file_meta.TransferSyntaxUID in NumpySupportedTransferSyntaxes)\n",
    "\n",
    "# 转换为RGB\n",
    "def needs_to_convert_to_RGB(dicom_dataset):\n",
    "    return False\n",
    "\n",
    "# 转换光度计\n",
    "def should_change_PhotometricInterpretation_to_RGB(dicom_dataset):\n",
    "    return False\n",
    "\n",
    "# 加载Dicom图像数据\n",
    "def get_pixeldata(dicom_dataset):\n",
    "    \"\"\"\n",
    "    如果Numpy可用，返回PixelData的ndarray。\n",
    "    \n",
    "    Raises\n",
    "    - - - - - - - - -\n",
    "    TypeError\n",
    "            如果没有PixelData或不支持数据类型\n",
    "    ImportError\n",
    "            如果Numpy没有\n",
    "    NotImplementedError\n",
    "            如果不支持传输语法\n",
    "    AttributeError\n",
    "            如果解码的数据量与期望的数据量不匹配\n",
    "    Returns\n",
    "    - - - - - - - - -\n",
    "    numpy.ndarray\n",
    "            （7FE0,0010）的内容作为ndarray。\n",
    "    \"\"\"\n",
    "    if(dicom_dataset.file_meta.TransferSyntaxUID not in NumpySupportedTransferSyntaxes):\n",
    "        raise NotImplementedError(\"Pixel Data is compressed in a \"\n",
    "                                  \"format pydicom does not yet handle. \"\n",
    "                                  \"Cannot return array. Pydicom might \"\n",
    "                                  \"be able to convert the pixel data \"\n",
    "                                  \"using GDCM if it is installed.\")\n",
    "        \n",
    "    if not have_numpy:\n",
    "        msg  = (\"The Numpy package is required to use pixel_array, and \"\n",
    "               \"numpy could not be imported.\")\n",
    "        \n",
    "        raise ImportError(msg)\n",
    "    if \"PixelData\" not in dicom_dataset:\n",
    "        raise TypeError(\"No pixel data found in this dataset.\")\n",
    "        \n",
    "    # 制作NumPy的format code, e.g. \"uint16\", \"int32\"等等\n",
    "    # from two pieces of info:\n",
    "    # dicom_dataset.PixelRepresentation：0 for unsigned, 1 for signed;\n",
    "    # dicom_dataset.BitsAllocated：8, 16, or 32\n",
    "    if dicom_dataset.BitsAllocated == 1:\n",
    "        # 单个bit用来表示二进制数据\n",
    "        format_str = 'uint8'\n",
    "    elif dicom_dataset.PixelRepresentation == 0:\n",
    "        format_str = 'uint{}'.format(dicom_dataset.BitsAllocated)\n",
    "    elif dicom_dataset.PixelRepresentation == 1:\n",
    "        format_str = 'int{}'.format(dicom_dataset.BitsAllocated)\n",
    "    else:\n",
    "        format_str = 'bad_pixel_representation'\n",
    "    try:\n",
    "        numpy_dtype = numpy.dtype(format_str)\n",
    "    except TypeError:\n",
    "        msg = (\"Data type not understood by NumPy: \"\n",
    "               \"format='{}', PixelRepresentation={}, \"\n",
    "               \"BitsAllocated={}\".format(\n",
    "                   format_str,\n",
    "                   dicom_dataset.PixelRepresentation,\n",
    "                   dicom_dataset.BitsAllocated))\n",
    "        raise TypeError(msg)\n",
    "        \n",
    "    if dicom_dataset.is_little_endian != sys_is_little_endian:\n",
    "        numpy_dtype = numpy_dtype.newbyteorder('S')\n",
    "        \n",
    "    # 获得图像的二进制值    \n",
    "    pixel_bytearray = dicom_dataset.PixelData\n",
    "    \n",
    "    if dicom_dataset.BitsAllocated == 1:\n",
    "        # if single bits are used for binary representation, a uint8 array\n",
    "        # has to be converted to a binary-valued array (that is 8 times bigger)\n",
    "        try:\n",
    "            pixel_array = numpy.unpackbits(\n",
    "                numpy.frombuffer(pixel_bytearray, dtype='uint8'))\n",
    "        except NotImplementedError:\n",
    "            # PyPy2 does not implement numpy.unpackbits\n",
    "            raise NotImplementedError(\n",
    "                'Cannot handle BitsAllocated == 1 on this platform')\n",
    "    else:\n",
    "        pixel_array = numpy.frombuffer(pixel_bytearray, dtype=numpy_dtype)\n",
    "    \n",
    "    # 获取数据长度：单位byte\n",
    "    length_of_pixel_array = pixel_array.nbytes\n",
    "    # 期望的长度：单位byte\n",
    "    expected_length = dicom_dataset.Rows * dicom_dataset.Columns \n",
    "    \n",
    "    if ('NumberOfFrames' in dicom_dataset and dicom_dataset.NumberOfFrames > 1):\n",
    "        expected_length *= dicom_dataset.NumberOfFrames\n",
    "    if ('SamplesPerPixel' in dicom_dataset and dicom_dataset.SamplesPerPixel > 1):\n",
    "        expected_length *= dicom_dataset.SamplesPerPixel\n",
    "    if dicom_dataset.BitsAllocated > 8:\n",
    "        expected_length *= (dicom_dataset.BitsAllocated // 8)\n",
    "        \n",
    "    padded_length = expected_length\n",
    "    \n",
    "    # expected_length&1的值为1代表其为奇数，为0则代表其为偶数\n",
    "    if expected_length & 1:\n",
    "        padded_length += 1\n",
    "        \n",
    "    if length_of_pixel_array != padded_length:\n",
    "        raise AttributeError(\n",
    "            \"Amount of pixel data %d does not \"\n",
    "            \"match the expected data %d\" %\n",
    "            (length_of_pixel_array, padded_length))\n",
    "        \n",
    "    if expected_length != padded_length:\n",
    "        pixel_array = pixel_array[:expected_length]\n",
    "        \n",
    "    if should_change_PhotometricInterpretation_to_RGB(dicom_dataset):\n",
    "        dicom_dataset.PhotometricInterpretation = \"RGB\"\n",
    "        \n",
    "    # CT图像需要得到其CT值图像，pixel_array转变为ct值\n",
    "    if dicom_dataset.Modality.lower().find('ct') >= 0: \n",
    "        # 获得图像的CT值\n",
    "        pixel_array = pixel_array * dicom_dataset.RescaleSlope + dicom_dataset.RescaleIntercept  \n",
    "   \n",
    "    pixel_array = pixel_array.reshape(dicom_dataset.Rows, dicom_dataset.Columns*dicom_dataset.SamplesPerPixel)\n",
    "    return pixel_array, dicom_dataset.Rows, dicom_dataset.Columns"
   ]
  },
  {
   "cell_type": "markdown",
   "metadata": {},
   "source": [
    "Step2:对于CT图像设置窗宽窗位"
   ]
  },
  {
   "cell_type": "code",
   "execution_count": 7,
   "metadata": {},
   "outputs": [],
   "source": [
    "# 调整CT图像的窗宽窗位\n",
    "def setDicomWinWidthWinCenter(img_data, winwidth, wincenter, rows, cols):\n",
    "    img_temp = img_data\n",
    "    img_temp.flags.writeable = True\n",
    "    min = (2 * wincenter - winwidth) / 2.0 + 0.5\n",
    "    max = (2 * wincenter + winwidth) / 2.0 + 0.5\n",
    "    \n",
    "    # 变换因子，将数值映射为0-255之间的数字\n",
    "    dFactor = 255.0 / (max-min)\n",
    "\n",
    "    for i in numpy.arange(rows):\n",
    "        for j in numpy.arange(cols):\n",
    "            img_temp[i, j] = int((img_temp[i, j]-min)*dFactor)\n",
    "\n",
    "    # 处理有效灰度阈外的数值        \n",
    "    min_index = img_temp < 0\n",
    "    img_temp[min_index] = 0\n",
    "    max_index = img_temp > 255\n",
    "    img_temp[max_index] = 255\n",
    "\n",
    "    return img_temp"
   ]
  },
  {
   "cell_type": "markdown",
   "metadata": {},
   "source": [
    "step3：获取Dicom中的tag信息"
   ]
  },
  {
   "cell_type": "code",
   "execution_count": 8,
   "metadata": {},
   "outputs": [],
   "source": [
    "# 加载Dicom图片中的Tag信息\n",
    "def loadFileInformation(filename):\n",
    "    information = {}\n",
    "    ds = pydicom.read_file(filename)\n",
    "    information['PatientID'] = ds.PatientID\n",
    "    information['PatientName'] = ds.PatientName\n",
    "    information['PatientBirthDate'] = ds.PatientBirthDate\n",
    "    information['PatientSex'] = ds.PatientSex\n",
    "    information['StudyID'] = ds.StudyID\n",
    "    information['StudyDate'] = ds.StudyDate\n",
    "    information['StudyTime'] = ds.StudyTime\n",
    "    information['InstitutionName'] = ds.InstitutionName\n",
    "    information['Manufacturer'] = ds.Manufacturer\n",
    "    # print(dir(ds))\n",
    "    # print(type(information))\n",
    "    return information"
   ]
  },
  {
   "cell_type": "markdown",
   "metadata": {},
   "source": [
    "step4：dicom图像数据转换为PIL.Image"
   ]
  },
  {
   "cell_type": "code",
   "execution_count": null,
   "metadata": {},
   "outputs": [],
   "source": [
    "dcm = pydicom.dcmread(fileanme)  # 加载Dicom数据\n",
    "dcm_img = Image.fromarray(img_data)  # 将Numpy转换为PIL.Image\n",
    "dcm_img = dcm_img.convert('L')\n",
    "\n",
    "# 保存为jpg文件，用作后面的生成label用\n",
    "dcm_img.save('temp.jpg')\n",
    "# 显示图像\n",
    "dcm_img.show()"
   ]
  }
 ],
 "metadata": {
  "kernelspec": {
   "display_name": "Python 3",
   "language": "python",
   "name": "python3"
  },
  "language_info": {
   "codemirror_mode": {
    "name": "ipython",
    "version": 3
   },
   "file_extension": ".py",
   "mimetype": "text/x-python",
   "name": "python",
   "nbconvert_exporter": "python",
   "pygments_lexer": "ipython3",
   "version": "3.6.8"
  }
 },
 "nbformat": 4,
 "nbformat_minor": 2
}
