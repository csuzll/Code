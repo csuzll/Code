{
 "cells": [
  {
   "cell_type": "code",
   "execution_count": 1,
   "metadata": {},
   "outputs": [],
   "source": [
    "import numpy as np\n",
    "import cv2\n",
    "from pathlib import Path\n",
    "import shutil\n",
    "import pydicom\n",
    "import matplotlib.pyplot as plt\n",
    "import SimpleITK as sitk\n",
    "\n",
    "%matplotlib inline \n",
    "%config InlineBackend.figure_format = 'svg' #矢量图比较高清"
   ]
  },
  {
   "cell_type": "code",
   "execution_count": 2,
   "metadata": {},
   "outputs": [
    {
     "data": {
      "text/plain": [
       "WindowsPath('F:/data/yuanfazhao/yuanfazhao_data_05/N0-1978-wangyunqing/Tumor64/CT/087.bmp')"
      ]
     },
     "execution_count": 2,
     "metadata": {},
     "output_type": "execute_result"
    }
   ],
   "source": [
    "yuanfazhao_data = Path(\"F:/data/yuanfazhao/yuanfazhao_data_05\")\n",
    "patient_file = []\n",
    "patient_file += list(yuanfazhao_data.glob(\"*\"))\n",
    "\n",
    "ct_file = []\n",
    "\n",
    "for patient in patient_file:\n",
    "    ct_file += list((patient / \"Tumor64\" / \"CT\").glob(\"*\"))\n",
    "ct_file[0]"
   ]
  },
  {
   "cell_type": "code",
   "execution_count": 3,
   "metadata": {},
   "outputs": [
    {
     "data": {
      "text/plain": [
       "'wangyunqing'"
      ]
     },
     "execution_count": 3,
     "metadata": {},
     "output_type": "execute_result"
    }
   ],
   "source": [
    "w = str(ct_file[0].parent.parent.parent.name).split(\"-\")\n",
    "w[-1]"
   ]
  },
  {
   "cell_type": "code",
   "execution_count": 4,
   "metadata": {},
   "outputs": [],
   "source": [
    "new_dir = Path(\"F:/data/TumorROI64\")\n",
    "dir_0 = new_dir / \"0\"\n",
    "dir_0.mkdir(exist_ok=True, parents=True)\n",
    "dir_1 = new_dir / \"1\"\n",
    "dir_1.mkdir(exist_ok=True, parents=True)"
   ]
  },
  {
   "cell_type": "code",
   "execution_count": 5,
   "metadata": {},
   "outputs": [],
   "source": [
    "# 重命名\n",
    "for ct in ct_file:\n",
    "    w = str(ct.parent.parent.parent.name).split(\"-\")\n",
    "    if(str(ct).split(\"\\\\\")[4][1] == \"0\"):\n",
    "        new_name = w[0] + w[-1] + ct.name\n",
    "        new_pa = dir_0 / w[-1]\n",
    "        new_pa.mkdir(exist_ok=True, parents=True)\n",
    "        new_path = new_pa / new_name\n",
    "        \n",
    "        # 复制并重命名\n",
    "        shutil.copy(str(ct), str(new_path))\n",
    "    else:\n",
    "        new_name = w[0] + w[-1] + ct.name\n",
    "        new_pa = dir_1 / w[-1]\n",
    "        new_pa.mkdir(exist_ok=True, parents=True)\n",
    "        new_path = new_pa / new_name\n",
    "        \n",
    "        # 复制并重命名\n",
    "        shutil.copy(str(ct), str(new_path))"
   ]
  },
  {
   "cell_type": "code",
   "execution_count": null,
   "metadata": {},
   "outputs": [],
   "source": []
  }
 ],
 "metadata": {
  "kernelspec": {
   "display_name": "Python 3",
   "language": "python",
   "name": "python3"
  },
  "language_info": {
   "codemirror_mode": {
    "name": "ipython",
    "version": 3
   },
   "file_extension": ".py",
   "mimetype": "text/x-python",
   "name": "python",
   "nbconvert_exporter": "python",
   "pygments_lexer": "ipython3",
   "version": "3.6.8"
  }
 },
 "nbformat": 4,
 "nbformat_minor": 2
}
