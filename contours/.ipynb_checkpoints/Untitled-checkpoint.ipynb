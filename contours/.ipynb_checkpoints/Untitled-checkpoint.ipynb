{
 "cells": [
  {
   "cell_type": "code",
   "execution_count": 1,
   "metadata": {},
   "outputs": [],
   "source": [
    "import os\n",
    "import numpy as np\n",
    "from pathlib import Path\n",
    "import pickle"
   ]
  },
  {
   "cell_type": "code",
   "execution_count": 2,
   "metadata": {},
   "outputs": [],
   "source": [
    "train_0_file = Path(\"F:\\\\tumour_tl\\\\TumourROIPkl64\\\\train0.txt\")\n",
    "train_1_file = Path(\"F:\\\\tumour_tl\\\\TumourROIPkl64\\\\train1.txt\")"
   ]
  },
  {
   "cell_type": "code",
   "execution_count": 5,
   "metadata": {},
   "outputs": [],
   "source": [
    "import time\n",
    "start = time.time()"
   ]
  },
  {
   "cell_type": "code",
   "execution_count": 6,
   "metadata": {},
   "outputs": [],
   "source": [
    "# 图像RGB通道的均值和方差list\n",
    "R_means = []\n",
    "G_means = []\n",
    "B_means = []\n",
    "\n",
    "R_stds = []\n",
    "G_stds = []\n",
    "B_stds = []"
   ]
  },
  {
   "cell_type": "code",
   "execution_count": 7,
   "metadata": {},
   "outputs": [],
   "source": [
    "# 采样比例\n",
    "p = 0.5"
   ]
  },
  {
   "cell_type": "code",
   "execution_count": 12,
   "metadata": {},
   "outputs": [
    {
     "ename": "TabError",
     "evalue": "inconsistent use of tabs and spaces in indentation (<ipython-input-12-dcf4f75eee2b>, line 16)",
     "output_type": "error",
     "traceback": [
      "\u001b[1;36m  File \u001b[1;32m\"<ipython-input-12-dcf4f75eee2b>\"\u001b[1;36m, line \u001b[1;32m16\u001b[0m\n\u001b[1;33m    image_tensor = torch.from_numpy(image) # h * w * 3\u001b[0m\n\u001b[1;37m                                                      ^\u001b[0m\n\u001b[1;31mTabError\u001b[0m\u001b[1;31m:\u001b[0m inconsistent use of tabs and spaces in indentation\n"
     ]
    }
   ],
   "source": [
    "import random\n",
    "import torch\n",
    "with open(str(train_0_file), \"r\") as f0:\n",
    "    lines_0 = f0.readlines()\n",
    "    len_0 = len(lines_0)\n",
    "\n",
    "    # 抽样数量\n",
    "    sample_0_num = int(len_0 * p)\n",
    "    # 随机挑选\n",
    "    random.shuffle(lines_0)\n",
    "\n",
    "    for i in range(sample_0_num):\n",
    "        imagepath = lines_0[i].strip()\n",
    "        image = np.load(imagepath)   # h * w * 3，uint8\n",
    "        image_tensor = torch.from_numpy(image) # h * w * 3\n",
    "\n",
    "        im_R = image_tensor[:,:,0].float() / 255 # torch.float32\n",
    "        im_G = image_tensor[:,:,1].float() / 255 # torch.float32\n",
    "        im_B = image_tensor[:,:,2].float() / 255 # torch.float32\n",
    "\n",
    "        im_R_mean = torch.mean(im_R)\n",
    "        im_G_mean = torch.mean(im_G)\n",
    "        im_B_mean = torch.mean(im_B)\n",
    "\n",
    "        im_R_std = torch.std(im_R)\n",
    "        im_G_std = torch.std(im_G)\n",
    "        im_B_std = torch.std(im_B)\n",
    "\n",
    "        R_means.append(im_R_mean)\n",
    "        G_means.append(im_G_mean)\n",
    "        B_means.append(im_B_mean)\n",
    "\n",
    "        R_stds.append(im_R_std)\n",
    "        G_stds.append(im_G_std)\n",
    "        B_stds.append(im_B_std)"
   ]
  },
  {
   "cell_type": "code",
   "execution_count": null,
   "metadata": {},
   "outputs": [],
   "source": []
  }
 ],
 "metadata": {
  "kernelspec": {
   "display_name": "Python 3",
   "language": "python",
   "name": "python3"
  },
  "language_info": {
   "codemirror_mode": {
    "name": "ipython",
    "version": 3
   },
   "file_extension": ".py",
   "mimetype": "text/x-python",
   "name": "python",
   "nbconvert_exporter": "python",
   "pygments_lexer": "ipython3",
   "version": "3.6.8"
  }
 },
 "nbformat": 4,
 "nbformat_minor": 2
}
