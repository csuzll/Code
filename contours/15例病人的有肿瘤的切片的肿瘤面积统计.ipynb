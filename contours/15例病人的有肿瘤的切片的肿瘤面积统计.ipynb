{
 "cells": [
  {
   "cell_type": "code",
   "execution_count": 1,
   "metadata": {},
   "outputs": [],
   "source": [
    "import numpy as np\n",
    "import cv2\n",
    "from pathlib import Path"
   ]
  },
  {
   "cell_type": "code",
   "execution_count": 2,
   "metadata": {},
   "outputs": [],
   "source": [
    "path = Path(\"F:/data/yuanfazhao_data_05\")"
   ]
  },
  {
   "cell_type": "code",
   "execution_count": 6,
   "metadata": {},
   "outputs": [
    {
     "data": {
      "text/plain": [
       "<generator object Path.glob at 0x00000273251AE150>"
      ]
     },
     "execution_count": 6,
     "metadata": {},
     "output_type": "execute_result"
    }
   ],
   "source": [
    "path.glob(\"*\")"
   ]
  },
  {
   "cell_type": "code",
   "execution_count": 13,
   "metadata": {},
   "outputs": [],
   "source": [
    "patient_file = []\n",
    "patient_file += list(path.glob(\"*\"))"
   ]
  },
  {
   "cell_type": "code",
   "execution_count": 15,
   "metadata": {},
   "outputs": [
    {
     "data": {
      "text/plain": [
       "[WindowsPath('F:/data/yuanfazhao_data_05/N0-1978-wangyunqing'),\n",
       " WindowsPath('F:/data/yuanfazhao_data_05/N0-2115-tangliru'),\n",
       " WindowsPath('F:/data/yuanfazhao_data_05/N0-2201-ruanguanfu'),\n",
       " WindowsPath('F:/data/yuanfazhao_data_05/N0-484-wulong'),\n",
       " WindowsPath('F:/data/yuanfazhao_data_05/N0-485-wulingbo'),\n",
       " WindowsPath('F:/data/yuanfazhao_data_05/N0-60-wangguiping'),\n",
       " WindowsPath('F:/data/yuanfazhao_data_05/N1-2525-liwanfeng'),\n",
       " WindowsPath('F:/data/yuanfazhao_data_05/N1-2621-jinyanlai'),\n",
       " WindowsPath('F:/data/yuanfazhao_data_05/N2-1062-huangxueqi'),\n",
       " WindowsPath('F:/data/yuanfazhao_data_05/N2-1901-xiafafu'),\n",
       " WindowsPath('F:/data/yuanfazhao_data_05/N2-2403-liushaogang'),\n",
       " WindowsPath('F:/data/yuanfazhao_data_05/N2-2506-lixiuqing'),\n",
       " WindowsPath('F:/data/yuanfazhao_data_05/N2-541-wangwuping'),\n",
       " WindowsPath('F:/data/yuanfazhao_data_05/N2-557-wanglijuan'),\n",
       " WindowsPath('F:/data/yuanfazhao_data_05/N2-607-wanhongliang')]"
      ]
     },
     "execution_count": 15,
     "metadata": {},
     "output_type": "execute_result"
    }
   ],
   "source": [
    "patient_file"
   ]
  },
  {
   "cell_type": "code",
   "execution_count": 16,
   "metadata": {},
   "outputs": [],
   "source": [
    "label_file = []\n",
    "for patient in patient_file:\n",
    "    label_file += list((patient / \"Lable\").glob(\"*\"))"
   ]
  },
  {
   "cell_type": "code",
   "execution_count": 18,
   "metadata": {},
   "outputs": [
    {
     "data": {
      "text/plain": [
       "150"
      ]
     },
     "execution_count": 18,
     "metadata": {},
     "output_type": "execute_result"
    }
   ],
   "source": [
    "len(label_file)"
   ]
  },
  {
   "cell_type": "code",
   "execution_count": 27,
   "metadata": {},
   "outputs": [],
   "source": [
    "def area_count(label_file):\n",
    "    count = {}\n",
    "    \n",
    "    for file in label_file:\n",
    "        srcimg = cv2.imread(str(file), 0)\n",
    "        \n",
    "        temp_img = np.copy(srcimg)\n",
    "        \n",
    "        contours, hierarchy = cv2.findContours(temp_img, cv2.RETR_EXTERNAL, cv2.CHAIN_APPROX_SIMPLE)\n",
    "        \n",
    "        c_max = sorted(contours, key=cv2.contourArea, reverse=True)[0]\n",
    "        \n",
    "        area = cv2.contourArea(c_max)\n",
    "        \n",
    "        if(area >= 3136):\n",
    "            count[str(file)] = area\n",
    "            \n",
    "    return count"
   ]
  },
  {
   "cell_type": "code",
   "execution_count": 35,
   "metadata": {},
   "outputs": [],
   "source": [
    "statics = area_count(label_file)"
   ]
  },
  {
   "cell_type": "code",
   "execution_count": 37,
   "metadata": {},
   "outputs": [
    {
     "data": {
      "text/plain": [
       "{'F:\\\\data\\\\yuanfazhao_data_05\\\\N2-2506-lixiuqing\\\\Lable\\\\094.bmp': 3319.0,\n",
       " 'F:\\\\data\\\\yuanfazhao_data_05\\\\N2-2506-lixiuqing\\\\Lable\\\\095.bmp': 4319.0,\n",
       " 'F:\\\\data\\\\yuanfazhao_data_05\\\\N2-2506-lixiuqing\\\\Lable\\\\096.bmp': 4941.0,\n",
       " 'F:\\\\data\\\\yuanfazhao_data_05\\\\N2-2506-lixiuqing\\\\Lable\\\\097.bmp': 5461.5,\n",
       " 'F:\\\\data\\\\yuanfazhao_data_05\\\\N2-2506-lixiuqing\\\\Lable\\\\098.bmp': 6199.5,\n",
       " 'F:\\\\data\\\\yuanfazhao_data_05\\\\N2-2506-lixiuqing\\\\Lable\\\\099.bmp': 6070.5,\n",
       " 'F:\\\\data\\\\yuanfazhao_data_05\\\\N2-2506-lixiuqing\\\\Lable\\\\100.bmp': 5939.0,\n",
       " 'F:\\\\data\\\\yuanfazhao_data_05\\\\N2-2506-lixiuqing\\\\Lable\\\\101.bmp': 4610.0,\n",
       " 'F:\\\\data\\\\yuanfazhao_data_05\\\\N2-2506-lixiuqing\\\\Lable\\\\102.bmp': 3526.5,\n",
       " 'F:\\\\data\\\\yuanfazhao_data_05\\\\N2-2506-lixiuqing\\\\Lable\\\\103.bmp': 3293.0}"
      ]
     },
     "execution_count": 37,
     "metadata": {},
     "output_type": "execute_result"
    }
   ],
   "source": [
    "statics"
   ]
  },
  {
   "cell_type": "code",
   "execution_count": 30,
   "metadata": {},
   "outputs": [],
   "source": [
    "def area_count_2(label_file):\n",
    "    count = []\n",
    "    \n",
    "    for file in label_file:\n",
    "        srcimg = cv2.imread(str(file), 0)\n",
    "        \n",
    "        temp_img = np.copy(srcimg)\n",
    "        \n",
    "        contours, hierarchy = cv2.findContours(temp_img, cv2.RETR_EXTERNAL, cv2.CHAIN_APPROX_SIMPLE)\n",
    "        \n",
    "        c_max = sorted(contours, key=cv2.contourArea, reverse=True)[0]\n",
    "        \n",
    "        area = cv2.contourArea(c_max)\n",
    "        \n",
    "        count.append(area)\n",
    "            \n",
    "    return count"
   ]
  },
  {
   "cell_type": "code",
   "execution_count": 33,
   "metadata": {},
   "outputs": [],
   "source": [
    "areas = area_count_2(label_file)"
   ]
  },
  {
   "cell_type": "code",
   "execution_count": 39,
   "metadata": {},
   "outputs": [
    {
     "name": "stdout",
     "output_type": "stream",
     "text": [
      "9.0 6199.5 1088.3333333333333 592.25 1639953.1355555556 1280.6065498643818\n"
     ]
    }
   ],
   "source": [
    "print(np.min(areas), np.max(areas), np.mean(areas), np.median(areas), np.var(areas), np.std(areas))"
   ]
  },
  {
   "cell_type": "code",
   "execution_count": 41,
   "metadata": {},
   "outputs": [],
   "source": [
    "import matplotlib.pyplot as plt"
   ]
  },
  {
   "cell_type": "code",
   "execution_count": 42,
   "metadata": {},
   "outputs": [
    {
     "data": {
      "text/plain": [
       "(array([79., 27., 11., 15.,  8.,  3.,  1.,  2.,  1.,  3.]),\n",
       " array([   9.  ,  628.05, 1247.1 , 1866.15, 2485.2 , 3104.25, 3723.3 ,\n",
       "        4342.35, 4961.4 , 5580.45, 6199.5 ]),\n",
       " <a list of 10 Patch objects>)"
      ]
     },
     "execution_count": 42,
     "metadata": {},
     "output_type": "execute_result"
    },
    {
     "data": {
      "image/png": "[encoded data removed]",
      "text/plain": [
       "<Figure size 432x288 with 1 Axes>"
      ]
     },
     "metadata": {
      "needs_background": "light"
     },
     "output_type": "display_data"
    }
   ],
   "source": [
    "areas = np.array(areas)\n",
    "plt.hist(areas)"
   ]
  }
 ],
 "metadata": {
  "kernelspec": {
   "display_name": "Python 3",
   "language": "python",
   "name": "python3"
  },
  "language_info": {
   "codemirror_mode": {
    "name": "ipython",
    "version": 3
   },
   "file_extension": ".py",
   "mimetype": "text/x-python",
   "name": "python",
   "nbconvert_exporter": "python",
   "pygments_lexer": "ipython3",
   "version": "3.6.8"
  }
 },
 "nbformat": 4,
 "nbformat_minor": 2
}
