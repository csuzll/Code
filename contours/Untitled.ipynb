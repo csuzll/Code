{
 "cells": [
  {
   "cell_type": "code",
   "execution_count": 1,
   "metadata": {},
   "outputs": [],
   "source": [
    "import os\n",
    "import numpy as np\n",
    "from pathlib import Path\n",
    "import pickle"
   ]
  },
  {
   "cell_type": "code",
   "execution_count": 2,
   "metadata": {},
   "outputs": [],
   "source": [
    "train_0_file = Path(\"F:\\\\tumour_tl\\\\TumourROIPkl64\\\\train0.txt\")\n",
    "train_1_file = Path(\"F:\\\\tumour_tl\\\\TumourROIPkl64\\\\train1.txt\")"
   ]
  },
  {
   "cell_type": "code",
   "execution_count": 5,
   "metadata": {},
   "outputs": [],
   "source": [
    "import time\n",
    "start = time.time()"
   ]
  },
  {
   "cell_type": "code",
   "execution_count": 25,
   "metadata": {},
   "outputs": [],
   "source": [
    "# 图像RGB通道的均值和方差list\n",
    "R_means = []\n",
    "G_means = []\n",
    "B_means = []\n",
    "\n",
    "R_stds = []\n",
    "G_stds = []\n",
    "B_stds = []"
   ]
  },
  {
   "cell_type": "code",
   "execution_count": 26,
   "metadata": {},
   "outputs": [],
   "source": [
    "# 采样比例\n",
    "p = 0.5"
   ]
  },
  {
   "cell_type": "code",
   "execution_count": 27,
   "metadata": {},
   "outputs": [],
   "source": [
    "import random\n",
    "import torch\n",
    "with open(str(train_0_file), \"r\") as f0:\n",
    "    lines_0 = f0.readlines()\n",
    "    len_0 = len(lines_0)\n",
    "\n",
    "    # 抽样数量\n",
    "    sample_0_num = int(len_0 * p)\n",
    "    # 随机挑选\n",
    "    random.shuffle(lines_0)\n",
    "\n",
    "    for i in range(sample_0_num):\n",
    "        imagepath = lines_0[i].strip()\n",
    "        image = np.load(imagepath)   # h * w * 3，uint8\n",
    "        image_tensor = torch.from_numpy(image) # h * w * 3\n",
    "\n",
    "        im_R = image_tensor[:,:,0].float() / 255 # torch.float32\n",
    "        im_G = image_tensor[:,:,1].float() / 255 # torch.float32\n",
    "        im_B = image_tensor[:,:,2].float() / 255 # torch.float32\n",
    "\n",
    "        im_R_mean = torch.mean(im_R)\n",
    "        im_G_mean = torch.mean(im_G)\n",
    "        im_B_mean = torch.mean(im_B)\n",
    "\n",
    "        im_R_std = torch.std(im_R)\n",
    "        im_G_std = torch.std(im_G)\n",
    "        im_B_std = torch.std(im_B)\n",
    "\n",
    "        R_means.append(im_R_mean)\n",
    "        G_means.append(im_G_mean)\n",
    "        B_means.append(im_B_mean)\n",
    "\n",
    "        R_stds.append(im_R_std)\n",
    "        G_stds.append(im_G_std)\n",
    "        B_stds.append(im_B_std)"
   ]
  },
  {
   "cell_type": "code",
   "execution_count": 28,
   "metadata": {},
   "outputs": [
    {
     "name": "stdout",
     "output_type": "stream",
     "text": [
      "[tensor(0.3415), tensor(0.3016), tensor(0.3284), tensor(0.3503), tensor(0.3505), tensor(0.3612), tensor(0.3825), tensor(0.2995), tensor(0.3941), tensor(0.2946), tensor(0.2382), tensor(0.2666)]\n",
      "[tensor(0.3612), tensor(0.2995), tensor(0.3821), tensor(0.3016), tensor(0.3404), tensor(0.3845), tensor(0.3076), tensor(0.2946), tensor(0.3825), tensor(0.2808), tensor(0.2335), tensor(0.2382)]\n",
      "[tensor(0.3845), tensor(0.2946), tensor(0.3505), tensor(0.2995), tensor(0.3415), tensor(0.3941), tensor(0.2147), tensor(0.2808), tensor(0.3076), tensor(0.2714), tensor(0.2740), tensor(0.2335)]\n"
     ]
    }
   ],
   "source": [
    "print(R_means) \n",
    "print(G_means) \n",
    "print(B_means)"
   ]
  },
  {
   "cell_type": "code",
   "execution_count": 29,
   "metadata": {},
   "outputs": [],
   "source": [
    "with open(str(train_1_file), \"r\") as f1:\n",
    "\tlines_1 = f1.readlines()\n",
    "\tlen_1 = len(lines_1)\n",
    "\t# 抽样数量\n",
    "\tsample_1_num = int(len_1 * p)\n",
    "\t# 随机挑选\n",
    "\trandom.shuffle(lines_1)\n",
    "\n",
    "\tfor i in range(sample_1_num):\n",
    "\t\timagepath = lines_1[i].strip()\n",
    "\t\timage = np.load(imagepath)   # h * w * 3，uint8\n",
    "\n",
    "\t\t# 转换为cuda_tensor\n",
    "\t\timage_tensor = torch.from_numpy(image) # h * w * 3\n",
    "\t\t\n",
    "\t\tim_R = image_tensor[:,:,0].float() / 255 # torch.float32\n",
    "\t\tim_G = image_tensor[:,:,1].float() / 255 # torch.float32\n",
    "\t\tim_B = image_tensor[:,:,2].float() / 255 # torch.float32\n",
    "\n",
    "\t\tim_R_mean = torch.mean(im_R)\n",
    "\t\tim_G_mean = torch.mean(im_G)\n",
    "\t\tim_B_mean = torch.mean(im_B)\n",
    "\n",
    "\t\tim_R_std = torch.std(im_R)\n",
    "\t\tim_G_std = torch.std(im_G)\n",
    "\t\tim_B_std = torch.std(im_B)\n",
    "\n",
    "\t\tR_means.append(im_R_mean)\n",
    "\t\tG_means.append(im_G_mean)\n",
    "\t\tB_means.append(im_B_mean)\n",
    "\n",
    "\t\tR_stds.append(im_R_std)\n",
    "\t\tG_stds.append(im_G_std)\n",
    "\t\tB_stds.append(im_B_std)"
   ]
  },
  {
   "cell_type": "code",
   "execution_count": 30,
   "metadata": {},
   "outputs": [
    {
     "name": "stdout",
     "output_type": "stream",
     "text": [
      "[tensor(0.3415), tensor(0.3016), tensor(0.3284), tensor(0.3503), tensor(0.3505), tensor(0.3612), tensor(0.3825), tensor(0.2995), tensor(0.3941), tensor(0.2946), tensor(0.2382), tensor(0.2666), tensor(0.6501), tensor(0.7088), tensor(0.6666), tensor(0.5867), tensor(0.5614), tensor(0.5385), tensor(0.3078), tensor(0.6220), tensor(0.6669), tensor(0.4865), tensor(0.3354), tensor(0.4921), tensor(0.6550), tensor(0.7019), tensor(0.5807), tensor(0.5519), tensor(0.6529), tensor(0.6760), tensor(0.2833), tensor(0.6222), tensor(0.6320), tensor(0.4991), tensor(0.4143), tensor(0.5540), tensor(0.3852), tensor(0.6703), tensor(0.3126), tensor(0.7108), tensor(0.6558), tensor(0.5695), tensor(0.3831), tensor(0.6875), tensor(0.4064), tensor(0.5633), tensor(0.7163), tensor(0.4256)]\n",
      "[tensor(0.3612), tensor(0.2995), tensor(0.3821), tensor(0.3016), tensor(0.3404), tensor(0.3845), tensor(0.3076), tensor(0.2946), tensor(0.3825), tensor(0.2808), tensor(0.2335), tensor(0.2382), tensor(0.6669), tensor(0.7163), tensor(0.6723), tensor(0.5695), tensor(0.5640), tensor(0.4921), tensor(0.2963), tensor(0.6666), tensor(0.6962), tensor(0.5600), tensor(0.3247), tensor(0.4043), tensor(0.6914), tensor(0.6871), tensor(0.5867), tensor(0.6220), tensor(0.6501), tensor(0.6558), tensor(0.2852), tensor(0.6354), tensor(0.6222), tensor(0.4974), tensor(0.4223), tensor(0.5792), tensor(0.3878), tensor(0.6875), tensor(0.2907), tensor(0.7019), tensor(0.6550), tensor(0.5385), tensor(0.3861), tensor(0.6840), tensor(0.4256), tensor(0.5540), tensor(0.7185), tensor(0.3852)]\n",
      "[tensor(0.3845), tensor(0.2946), tensor(0.3505), tensor(0.2995), tensor(0.3415), tensor(0.3941), tensor(0.2147), tensor(0.2808), tensor(0.3076), tensor(0.2714), tensor(0.2740), tensor(0.2335), tensor(0.6962), tensor(0.7185), tensor(0.7004), tensor(0.5385), tensor(0.4181), tensor(0.4043), tensor(0.2766), tensor(0.6723), tensor(0.7364), tensor(0.6406), tensor(0.3126), tensor(0.3394), tensor(0.6968), tensor(0.6696), tensor(0.5695), tensor(0.6666), tensor(0.6669), tensor(0.6550), tensor(0.3078), tensor(0.6142), tensor(0.6354), tensor(0.5519), tensor(0.4064), tensor(0.5807), tensor(0.3368), tensor(0.6840), tensor(0.2549), tensor(0.6871), tensor(0.6914), tensor(0.4921), tensor(0.4143), tensor(0.7118), tensor(0.3852), tensor(0.5792), tensor(0.7092), tensor(0.3878)]\n"
     ]
    }
   ],
   "source": [
    "print(R_means) \n",
    "print(G_means) \n",
    "print(B_means)"
   ]
  },
  {
   "cell_type": "code",
   "execution_count": 31,
   "metadata": {},
   "outputs": [
    {
     "data": {
      "text/plain": [
       "tensor([[0.3415, 0.3016, 0.3284, 0.3503, 0.3505, 0.3612, 0.3825, 0.2995, 0.3941,\n",
       "         0.2946, 0.2382, 0.2666, 0.6501, 0.7088, 0.6666, 0.5867, 0.5614, 0.5385,\n",
       "         0.3078, 0.6220, 0.6669, 0.4865, 0.3354, 0.4921, 0.6550, 0.7019, 0.5807,\n",
       "         0.5519, 0.6529, 0.6760, 0.2833, 0.6222, 0.6320, 0.4991, 0.4143, 0.5540,\n",
       "         0.3852, 0.6703, 0.3126, 0.7108, 0.6558, 0.5695, 0.3831, 0.6875, 0.4064,\n",
       "         0.5633, 0.7163, 0.4256],\n",
       "        [0.3612, 0.2995, 0.3821, 0.3016, 0.3404, 0.3845, 0.3076, 0.2946, 0.3825,\n",
       "         0.2808, 0.2335, 0.2382, 0.6669, 0.7163, 0.6723, 0.5695, 0.5640, 0.4921,\n",
       "         0.2963, 0.6666, 0.6962, 0.5600, 0.3247, 0.4043, 0.6914, 0.6871, 0.5867,\n",
       "         0.6220, 0.6501, 0.6558, 0.2852, 0.6354, 0.6222, 0.4974, 0.4223, 0.5792,\n",
       "         0.3878, 0.6875, 0.2907, 0.7019, 0.6550, 0.5385, 0.3861, 0.6840, 0.4256,\n",
       "         0.5540, 0.7185, 0.3852],\n",
       "        [0.3845, 0.2946, 0.3505, 0.2995, 0.3415, 0.3941, 0.2147, 0.2808, 0.3076,\n",
       "         0.2714, 0.2740, 0.2335, 0.6962, 0.7185, 0.7004, 0.5385, 0.4181, 0.4043,\n",
       "         0.2766, 0.6723, 0.7364, 0.6406, 0.3126, 0.3394, 0.6968, 0.6696, 0.5695,\n",
       "         0.6666, 0.6669, 0.6550, 0.3078, 0.6142, 0.6354, 0.5519, 0.4064, 0.5807,\n",
       "         0.3368, 0.6840, 0.2549, 0.6871, 0.6914, 0.4921, 0.4143, 0.7118, 0.3852,\n",
       "         0.5792, 0.7092, 0.3878]])"
      ]
     },
     "execution_count": 31,
     "metadata": {},
     "output_type": "execute_result"
    }
   ],
   "source": [
    "a = torch.tensor([R_means, G_means, B_means])\n",
    "a"
   ]
  },
  {
   "cell_type": "code",
   "execution_count": 32,
   "metadata": {},
   "outputs": [
    {
     "data": {
      "text/plain": [
       "tensor([0.3415, 0.3016, 0.3284, 0.3503, 0.3505, 0.3612, 0.3825, 0.2995, 0.3941,\n",
       "        0.2946, 0.2382, 0.2666, 0.6501, 0.7088, 0.6666, 0.5867, 0.5614, 0.5385,\n",
       "        0.3078, 0.6220, 0.6669, 0.4865, 0.3354, 0.4921, 0.6550, 0.7019, 0.5807,\n",
       "        0.5519, 0.6529, 0.6760, 0.2833, 0.6222, 0.6320, 0.4991, 0.4143, 0.5540,\n",
       "        0.3852, 0.6703, 0.3126, 0.7108, 0.6558, 0.5695, 0.3831, 0.6875, 0.4064,\n",
       "        0.5633, 0.7163, 0.4256])"
      ]
     },
     "execution_count": 32,
     "metadata": {},
     "output_type": "execute_result"
    }
   ],
   "source": [
    "a[0]"
   ]
  },
  {
   "cell_type": "code",
   "execution_count": 33,
   "metadata": {},
   "outputs": [],
   "source": [
    "a = torch.tensor([R_means, G_means, B_means])\n",
    "b = torch.tensor([R_stds, G_stds, B_stds])\n",
    "\n",
    "mean = [0,0,0]\n",
    "std = [0,0,0]\n",
    "\n",
    "mean[0] = torch.mean(a[0]).item()\n",
    "mean[1] = torch.mean(a[1]).item()\n",
    "mean[2] = torch.mean(a[2]).item()\n",
    "\n",
    "std[0] = torch.std(b[0]).item()\n",
    "std[1] = torch.std(b[1]).item()\n",
    "std[2] = torch.std(b[2]).item()"
   ]
  },
  {
   "cell_type": "code",
   "execution_count": 34,
   "metadata": {},
   "outputs": [
    {
     "data": {
      "text/plain": [
       "[0.49670156836509705, 0.49552950263023376, 0.48865437507629395]"
      ]
     },
     "execution_count": 34,
     "metadata": {},
     "output_type": "execute_result"
    }
   ],
   "source": [
    "mean"
   ]
  },
  {
   "cell_type": "code",
   "execution_count": 35,
   "metadata": {},
   "outputs": [
    {
     "data": {
      "text/plain": [
       "[0.05170263350009918, 0.052853163331747055, 0.05606650188565254]"
      ]
     },
     "execution_count": 35,
     "metadata": {},
     "output_type": "execute_result"
    }
   ],
   "source": [
    "std"
   ]
  },
  {
   "cell_type": "code",
   "execution_count": 38,
   "metadata": {},
   "outputs": [],
   "source": [
    "mean_std = [mean, std]"
   ]
  },
  {
   "cell_type": "code",
   "execution_count": 39,
   "metadata": {},
   "outputs": [
    {
     "data": {
      "text/plain": [
       "[[0.49670156836509705, 0.49552950263023376, 0.48865437507629395],\n",
       " [0.05170263350009918, 0.052853163331747055, 0.05606650188565254]]"
      ]
     },
     "execution_count": 39,
     "metadata": {},
     "output_type": "execute_result"
    }
   ],
   "source": [
    "mean_std"
   ]
  },
  {
   "cell_type": "code",
   "execution_count": 41,
   "metadata": {},
   "outputs": [],
   "source": [
    "a = float('inf')"
   ]
  },
  {
   "cell_type": "code",
   "execution_count": 42,
   "metadata": {},
   "outputs": [
    {
     "data": {
      "text/plain": [
       "inf"
      ]
     },
     "execution_count": 42,
     "metadata": {},
     "output_type": "execute_result"
    }
   ],
   "source": [
    "a"
   ]
  },
  {
   "cell_type": "code",
   "execution_count": 43,
   "metadata": {},
   "outputs": [],
   "source": [
    "valloss=0.3"
   ]
  },
  {
   "cell_type": "code",
   "execution_count": 44,
   "metadata": {},
   "outputs": [
    {
     "data": {
      "text/plain": [
       "True"
      ]
     },
     "execution_count": 44,
     "metadata": {},
     "output_type": "execute_result"
    }
   ],
   "source": [
    "valloss < a"
   ]
  },
  {
   "cell_type": "code",
   "execution_count": 45,
   "metadata": {},
   "outputs": [],
   "source": [
    "pa = Path(\"F:\\\\luna16_tl\\\\luna64\\\\train\")"
   ]
  },
  {
   "cell_type": "code",
   "execution_count": 77,
   "metadata": {},
   "outputs": [
    {
     "data": {
      "text/plain": [
       "WindowsPath('F:/luna16_tl/luna64/train/subset0/1.3.6.1.4.1.14519.5.2.1.6279.6001.105756658031515062000744821260_fake_nodule_1.npy')"
      ]
     },
     "execution_count": 77,
     "metadata": {},
     "output_type": "execute_result"
    }
   ],
   "source": [
    "a = list(pa.rglob(\"*\"))[8]\n",
    "a"
   ]
  },
  {
   "cell_type": "code",
   "execution_count": 75,
   "metadata": {},
   "outputs": [],
   "source": [
    "label = 1 if a.stem.split(\"_\")[1]==\"real\" else 0"
   ]
  },
  {
   "cell_type": "code",
   "execution_count": 76,
   "metadata": {},
   "outputs": [
    {
     "data": {
      "text/plain": [
       "0"
      ]
     },
     "execution_count": 76,
     "metadata": {},
     "output_type": "execute_result"
    }
   ],
   "source": [
    "label"
   ]
  },
  {
   "cell_type": "raw",
   "metadata": {},
   "source": [
    "list(pa.glob(\"*\"))"
   ]
  },
  {
   "cell_type": "code",
   "execution_count": 61,
   "metadata": {},
   "outputs": [
    {
     "ename": "SyntaxError",
     "evalue": "invalid syntax (<ipython-input-61-93f54826b120>, line 1)",
     "output_type": "error",
     "traceback": [
      "\u001b[1;36m  File \u001b[1;32m\"<ipython-input-61-93f54826b120>\"\u001b[1;36m, line \u001b[1;32m1\u001b[0m\n\u001b[1;33m    [list(p.glob(\"*\"))] for p in list(pa.glob(\"*\"))\u001b[0m\n\u001b[1;37m                          ^\u001b[0m\n\u001b[1;31mSyntaxError\u001b[0m\u001b[1;31m:\u001b[0m invalid syntax\n"
     ]
    }
   ],
   "source": [
    "[list(p.glob(\"*\"))] for p in list(pa.glob(\"*\"))"
   ]
  },
  {
   "cell_type": "code",
   "execution_count": 51,
   "metadata": {},
   "outputs": [],
   "source": [
    "a = []\n",
    "for pa1 in list(pa.glob(\"*\")):\n",
    "    a += pa1.glob(\"*\")"
   ]
  },
  {
   "cell_type": "code",
   "execution_count": 54,
   "metadata": {},
   "outputs": [
    {
     "data": {
      "text/plain": [
       "3099"
      ]
     },
     "execution_count": 54,
     "metadata": {},
     "output_type": "execute_result"
    }
   ],
   "source": [
    "len(a)"
   ]
  },
  {
   "cell_type": "code",
   "execution_count": 57,
   "metadata": {},
   "outputs": [
    {
     "data": {
      "text/plain": [
       "WindowsPath('F:/luna16_tl/luna64/train/subset7/1.3.6.1.4.1.14519.5.2.1.6279.6001.323535944958374186208096541480_fake_nodule_3.npy')"
      ]
     },
     "execution_count": 57,
     "metadata": {},
     "output_type": "execute_result"
    }
   ],
   "source": [
    "a[2999]"
   ]
  },
  {
   "cell_type": "code",
   "execution_count": 58,
   "metadata": {},
   "outputs": [
    {
     "data": {
      "text/plain": [
       "'fake'"
      ]
     },
     "execution_count": 58,
     "metadata": {},
     "output_type": "execute_result"
    }
   ],
   "source": [
    "a[0].stem.split(\"_\")[1]"
   ]
  },
  {
   "cell_type": "code",
   "execution_count": null,
   "metadata": {},
   "outputs": [],
   "source": []
  }
 ],
 "metadata": {
  "kernelspec": {
   "display_name": "Python 3",
   "language": "python",
   "name": "python3"
  },
  "language_info": {
   "codemirror_mode": {
    "name": "ipython",
    "version": 3
   },
   "file_extension": ".py",
   "mimetype": "text/x-python",
   "name": "python",
   "nbconvert_exporter": "python",
   "pygments_lexer": "ipython3",
   "version": "3.6.8"
  }
 },
 "nbformat": 4,
 "nbformat_minor": 2
}
