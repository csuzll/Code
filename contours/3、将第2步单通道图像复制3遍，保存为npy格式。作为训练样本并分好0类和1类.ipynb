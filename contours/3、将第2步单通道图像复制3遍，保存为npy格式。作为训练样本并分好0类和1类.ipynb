{
 "cells": [
  {
   "cell_type": "code",
   "execution_count": 1,
   "metadata": {},
   "outputs": [],
   "source": [
    "import pickle\n",
    "from pathlib import Path\n",
    "import cv2\n",
    "import numpy as np"
   ]
  },
  {
   "cell_type": "code",
   "execution_count": 2,
   "metadata": {},
   "outputs": [],
   "source": [
    "path = Path(\"F:/data/TumorROI64\")\n",
    "path_0 = path / \"0\"\n",
    "path_1 = path / \"1\""
   ]
  },
  {
   "cell_type": "code",
   "execution_count": 3,
   "metadata": {},
   "outputs": [
    {
     "name": "stdout",
     "output_type": "stream",
     "text": [
      "[WindowsPath('F:/data/TumorROI64/0/ruanguanfu'), WindowsPath('F:/data/TumorROI64/0/tangliru'), WindowsPath('F:/data/TumorROI64/0/wangguiping'), WindowsPath('F:/data/TumorROI64/0/wangyunqing'), WindowsPath('F:/data/TumorROI64/0/wulingbo'), WindowsPath('F:/data/TumorROI64/0/wulong')]\n",
      "[WindowsPath('F:/data/TumorROI64/1/huangxueqi'), WindowsPath('F:/data/TumorROI64/1/jinyanlai'), WindowsPath('F:/data/TumorROI64/1/liushaogang'), WindowsPath('F:/data/TumorROI64/1/liwanfeng'), WindowsPath('F:/data/TumorROI64/1/lixiuqing'), WindowsPath('F:/data/TumorROI64/1/wanglijuan'), WindowsPath('F:/data/TumorROI64/1/wangwuping'), WindowsPath('F:/data/TumorROI64/1/wanhongliang'), WindowsPath('F:/data/TumorROI64/1/xiafafu')]\n"
     ]
    }
   ],
   "source": [
    "file_0_list = []\n",
    "file_0_list += list(path_0.glob(\"*\"))\n",
    "\n",
    "file_1_list = []\n",
    "file_1_list += list(path_1.glob(\"*\"))\n",
    "print(file_0_list)\n",
    "print(file_1_list)"
   ]
  },
  {
   "cell_type": "code",
   "execution_count": 5,
   "metadata": {},
   "outputs": [
    {
     "data": {
      "text/plain": [
       "6"
      ]
     },
     "execution_count": 5,
     "metadata": {},
     "output_type": "execute_result"
    }
   ],
   "source": [
    "len(file_0_list)"
   ]
  },
  {
   "cell_type": "code",
   "execution_count": 6,
   "metadata": {},
   "outputs": [],
   "source": [
    "target_0_dir = Path(str(file_0_list[0]).replace(\"TumorROI64\", \"TumorROInpy64\")).parent\n",
    "target_0_dir.mkdir(exist_ok=True, parents=True)\n",
    "\n",
    "target_1_dir = Path(str(file_1_list[0]).replace(\"TumorROI64\", \"TumorROInpy64\")).parent\n",
    "target_1_dir.mkdir(exist_ok=True, parents=True)"
   ]
  },
  {
   "cell_type": "code",
   "execution_count": 8,
   "metadata": {},
   "outputs": [
    {
     "data": {
      "text/plain": [
       "WindowsPath('F:/data/TumorROInpy64/1')"
      ]
     },
     "execution_count": 8,
     "metadata": {},
     "output_type": "execute_result"
    }
   ],
   "source": [
    "target_1_dir"
   ]
  },
  {
   "cell_type": "code",
   "execution_count": 9,
   "metadata": {},
   "outputs": [],
   "source": [
    "# 负例处理\n",
    "for f in file_0_list:\n",
    "    name = f.name\n",
    "    \n",
    "    file = []\n",
    "    file += list(f.glob(\"*\"))\n",
    "    \n",
    "    lenth = len(file)\n",
    "    \n",
    "    j = 1\n",
    "    for i in range(lenth):\n",
    "        img = cv2.imread(str(file[i])) # (H,W,D) 虽然是BGR，但是不影响，因为3层都是一样的。\n",
    "        \n",
    "        k = \"%02d\" % j\n",
    "        fi = \"0_\" + name + \"_\" + str(k) + \".npy\"\n",
    "        new_name = target_0_dir / fi\n",
    "        np.save(str(new_name), img)\n",
    "        \n",
    "#         output = open(str(new_name),\"wb\")\n",
    "#         pickle.dump(image_3, output)\n",
    "#         output.close()\n",
    "        \n",
    "        j = j + 1"
   ]
  },
  {
   "cell_type": "code",
   "execution_count": 10,
   "metadata": {},
   "outputs": [],
   "source": [
    "# 正例处理\n",
    "for f in file_1_list:\n",
    "    name = f.name\n",
    "    \n",
    "    file = []\n",
    "    file += list(f.glob(\"*\"))\n",
    "    \n",
    "    lenth = len(file)\n",
    "    \n",
    "    j = 1\n",
    "    for i in range(lenth):\n",
    "        img = cv2.imread(str(file[i]))\n",
    "#         g = cv2.imread(str(file[i+1]),0)\n",
    "#         b = cv2.imread(str(file[i+2]),0)\n",
    "        \n",
    "#         image_3 = np.stack([r,g,b],axis=2)\n",
    "        \n",
    "        k = \"%02d\" % j\n",
    "        fi = \"1_\" + name + \"_\" + str(k) + \".npy\"\n",
    "        new_name = target_1_dir / fi\n",
    "        np.save(str(new_name), img)\n",
    "        \n",
    "#         output = open(str(new_name),\"wb\")\n",
    "#         pickle.dump(image_3, output)\n",
    "#         output.close()\n",
    "        \n",
    "        j = j + 1"
   ]
  },
  {
   "cell_type": "code",
   "execution_count": 11,
   "metadata": {},
   "outputs": [
    {
     "data": {
      "text/plain": [
       "(64, 64, 3)"
      ]
     },
     "execution_count": 11,
     "metadata": {},
     "output_type": "execute_result"
    }
   ],
   "source": [
    "# 验证一下\n",
    "p = \"F:\\\\data\\\\TumorROInpy64\\\\0\\\\0_ruanguanfu_01.npy\"\n",
    "a = np.load(p)\n",
    "a.shape"
   ]
  },
  {
   "cell_type": "code",
   "execution_count": null,
   "metadata": {},
   "outputs": [],
   "source": []
  }
 ],
 "metadata": {
  "kernelspec": {
   "display_name": "Python 3",
   "language": "python",
   "name": "python3"
  },
  "language_info": {
   "codemirror_mode": {
    "name": "ipython",
    "version": 3
   },
   "file_extension": ".py",
   "mimetype": "text/x-python",
   "name": "python",
   "nbconvert_exporter": "python",
   "pygments_lexer": "ipython3",
   "version": "3.6.8"
  }
 },
 "nbformat": 4,
 "nbformat_minor": 2
}
