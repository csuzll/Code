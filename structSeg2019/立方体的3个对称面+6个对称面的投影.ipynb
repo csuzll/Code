{
 "cells": [
  {
   "cell_type": "code",
   "execution_count": 1,
   "metadata": {},
   "outputs": [],
   "source": [
    "import nibabel as nib\n",
    "import numpy as np\n",
    "import os"
   ]
  },
  {
   "cell_type": "code",
   "execution_count": 3,
   "metadata": {},
   "outputs": [],
   "source": [
    "data_path = \"F:\\\\Code\\\\structSeg2019\\\\Lung_GTV\\\\1\"\n",
    "data = os.path.join(data_path, \"data.nii.gz\")\n",
    "label = os.path.join(data_path, \"label.nii.gz\")"
   ]
  },
  {
   "cell_type": "code",
   "execution_count": 4,
   "metadata": {},
   "outputs": [
    {
     "name": "stdout",
     "output_type": "stream",
     "text": [
      "F:\\Code\\structSeg2019\\Lung_GTV\\1\\data.nii.gz\n",
      "F:\\Code\\structSeg2019\\Lung_GTV\\1\\label.nii.gz\n"
     ]
    }
   ],
   "source": [
    "print(data)\n",
    "print(label)"
   ]
  },
  {
   "cell_type": "code",
   "execution_count": 7,
   "metadata": {},
   "outputs": [
    {
     "name": "stdout",
     "output_type": "stream",
     "text": [
      "(512, 512, 96)\n",
      "(512, 512, 96)\n"
     ]
    }
   ],
   "source": [
    "imgfile = nib.load(data)\n",
    "imgdata = imgfile.get_fdata()\n",
    "\n",
    "print(imgdata.shape)\n",
    "\n",
    "labelfile = nib.load(label)\n",
    "labeldata = labelfile.get_fdata().astype(np.uint8)\n",
    "print(labeldata.shape)"
   ]
  },
  {
   "cell_type": "code",
   "execution_count": 6,
   "metadata": {},
   "outputs": [
    {
     "name": "stdout",
     "output_type": "stream",
     "text": [
      "float64\n",
      "float64\n"
     ]
    }
   ],
   "source": [
    "print(imgdata.dtype)\n",
    "print(labeldata.dtype)"
   ]
  },
  {
   "cell_type": "code",
   "execution_count": 8,
   "metadata": {},
   "outputs": [],
   "source": [
    "mask = labeldata>0"
   ]
  },
  {
   "cell_type": "code",
   "execution_count": 9,
   "metadata": {},
   "outputs": [
    {
     "name": "stdout",
     "output_type": "stream",
     "text": [
      "[False  True]\n"
     ]
    }
   ],
   "source": [
    "a = np.unique(mask)\n",
    "print(a)"
   ]
  },
  {
   "cell_type": "code",
   "execution_count": 10,
   "metadata": {},
   "outputs": [],
   "source": [
    "margin = 64/2"
   ]
  },
  {
   "cell_type": "code",
   "execution_count": 11,
   "metadata": {},
   "outputs": [
    {
     "data": {
      "text/plain": [
       "32.0"
      ]
     },
     "execution_count": 11,
     "metadata": {},
     "output_type": "execute_result"
    }
   ],
   "source": [
    "margin"
   ]
  },
  {
   "cell_type": "code",
   "execution_count": 13,
   "metadata": {},
   "outputs": [
    {
     "name": "stdout",
     "output_type": "stream",
     "text": [
      "96 512 512\n"
     ]
    }
   ],
   "source": [
    "D,H,W = labeldata.T.shape\n",
    "print(D,H,W)"
   ]
  },
  {
   "cell_type": "code",
   "execution_count": 16,
   "metadata": {},
   "outputs": [
    {
     "data": {
      "text/plain": [
       "(96, 512)"
      ]
     },
     "execution_count": 16,
     "metadata": {},
     "output_type": "execute_result"
    }
   ],
   "source": [
    "labeldata.T[:,3].shape"
   ]
  },
  {
   "cell_type": "code",
   "execution_count": 28,
   "metadata": {},
   "outputs": [
    {
     "name": "stdout",
     "output_type": "stream",
     "text": [
      "0 95 0 511 0 511\n"
     ]
    }
   ],
   "source": [
    "D_s, D_e = 0, D - 1\n",
    "H_s, H_e = 0, H - 1\n",
    "W_s, W_e = 0, W - 1\n",
    "print(D_s, D_e, H_s, H_e, W_s, W_e)"
   ]
  },
  {
   "cell_type": "code",
   "execution_count": 20,
   "metadata": {},
   "outputs": [],
   "source": [
    "labeldata =labeldata.T"
   ]
  },
  {
   "cell_type": "code",
   "execution_count": 29,
   "metadata": {},
   "outputs": [],
   "source": [
    "while D_s < D:\n",
    "    if labeldata[D_s].sum() != 0:\n",
    "        break\n",
    "    D_s += 1\n",
    "while D_e > D_s:\n",
    "    if labeldata[D_e].sum() != 0:\n",
    "        break\n",
    "    D_e -= 1\n",
    "while H_s < H:\n",
    "    if labeldata[:, H_s].sum() != 0:\n",
    "        break\n",
    "    H_s += 1\n",
    "while H_e > H_s:\n",
    "    if labeldata[:, H_e].sum() != 0:\n",
    "        break\n",
    "    H_e -= 1\n",
    "while W_s < W:\n",
    "    if labeldata[:, :, W_s].sum() != 0:\n",
    "        break\n",
    "    W_s += 1\n",
    "while W_e > W_s:\n",
    "    if labeldata[:, :, W_e].sum() != 0:\n",
    "        break\n",
    "    W_e -= 1"
   ]
  },
  {
   "cell_type": "code",
   "execution_count": 30,
   "metadata": {},
   "outputs": [
    {
     "name": "stdout",
     "output_type": "stream",
     "text": [
      "47 50\n",
      "338 353\n",
      "299 315\n"
     ]
    }
   ],
   "source": [
    "print(D_s, D_e)\n",
    "print(H_s, H_e)\n",
    "print(W_s, W_e)"
   ]
  },
  {
   "cell_type": "code",
   "execution_count": 26,
   "metadata": {},
   "outputs": [],
   "source": [
    "# 这个方法取得不太对？\n",
    "D_s = max(0, D_s - margin)\n",
    "D_e = min(D - 1, D_e + margin)\n",
    "H_s = max(0, H_s - margin)\n",
    "H_e = min(H - 1, H_e + margin)\n",
    "W_s = max(0, W_s - margin)\n",
    "W_e = min(W - 1, W_e + margin)"
   ]
  },
  {
   "cell_type": "code",
   "execution_count": 27,
   "metadata": {},
   "outputs": [
    {
     "name": "stdout",
     "output_type": "stream",
     "text": [
      "15.0 82.0\n",
      "306.0 385.0\n",
      "267.0 347.0\n"
     ]
    }
   ],
   "source": [
    "print(D_s, D_e)\n",
    "print(H_s, H_e)\n",
    "print(W_s, W_e)"
   ]
  },
  {
   "cell_type": "code",
   "execution_count": 31,
   "metadata": {},
   "outputs": [],
   "source": [
    "D_half = (D_s + D_e) // 2\n",
    "H_half = (H_s + H_e) // 2\n",
    "W_half = (W_s + W_e) // 2"
   ]
  },
  {
   "cell_type": "code",
   "execution_count": 32,
   "metadata": {},
   "outputs": [
    {
     "name": "stdout",
     "output_type": "stream",
     "text": [
      "48 345 307\n"
     ]
    }
   ],
   "source": [
    "print(D_half, H_half, W_half)"
   ]
  },
  {
   "cell_type": "code",
   "execution_count": 33,
   "metadata": {},
   "outputs": [],
   "source": [
    "D_s = max(0, D_half - margin)\n",
    "D_e = min(D - 1, D_half + margin)\n",
    "H_s = max(0, H_half - margin)\n",
    "H_e = min(H - 1, H_half + margin)\n",
    "W_s = max(0, W_half - margin)\n",
    "W_e = min(W - 1, W_half + margin)"
   ]
  },
  {
   "cell_type": "code",
   "execution_count": 34,
   "metadata": {},
   "outputs": [
    {
     "name": "stdout",
     "output_type": "stream",
     "text": [
      "16.0 80.0\n",
      "313.0 377.0\n",
      "275.0 339.0\n"
     ]
    }
   ],
   "source": [
    "print(D_s, D_e)\n",
    "print(H_s, H_e)\n",
    "print(W_s, W_e)"
   ]
  },
  {
   "cell_type": "code",
   "execution_count": 35,
   "metadata": {},
   "outputs": [],
   "source": [
    "D_s = int(D_s)\n",
    "D_e = int(D_e)\n",
    "H_s = int(H_s)\n",
    "H_e = int(H_e)\n",
    "W_s = int(W_s)\n",
    "W_e = int(W_e)"
   ]
  },
  {
   "cell_type": "code",
   "execution_count": 36,
   "metadata": {},
   "outputs": [
    {
     "name": "stdout",
     "output_type": "stream",
     "text": [
      "16 80\n",
      "313 377\n",
      "275 339\n"
     ]
    }
   ],
   "source": [
    "print(D_s, D_e)\n",
    "print(H_s, H_e)\n",
    "print(W_s, W_e)"
   ]
  },
  {
   "cell_type": "code",
   "execution_count": 37,
   "metadata": {},
   "outputs": [],
   "source": [
    "imgdata = imgdata.T"
   ]
  },
  {
   "cell_type": "code",
   "execution_count": 38,
   "metadata": {},
   "outputs": [
    {
     "data": {
      "text/plain": [
       "(96, 512, 512)"
      ]
     },
     "execution_count": 38,
     "metadata": {},
     "output_type": "execute_result"
    }
   ],
   "source": [
    "imgdata.shape"
   ]
  },
  {
   "cell_type": "code",
   "execution_count": 40,
   "metadata": {},
   "outputs": [],
   "source": [
    "data = imgdata[D_s:D_e, H_s: H_e, W_s:W_e]\n",
    "label = labeldata[D_s:D_e, H_s: H_e, W_s:W_e]"
   ]
  },
  {
   "cell_type": "code",
   "execution_count": 41,
   "metadata": {},
   "outputs": [
    {
     "data": {
      "text/plain": [
       "(64, 64, 64)"
      ]
     },
     "execution_count": 41,
     "metadata": {},
     "output_type": "execute_result"
    }
   ],
   "source": [
    "data.shape"
   ]
  },
  {
   "cell_type": "code",
   "execution_count": 42,
   "metadata": {},
   "outputs": [
    {
     "data": {
      "text/plain": [
       "(64, 64, 64)"
      ]
     },
     "execution_count": 42,
     "metadata": {},
     "output_type": "execute_result"
    }
   ],
   "source": [
    "label.shape"
   ]
  },
  {
   "cell_type": "code",
   "execution_count": 43,
   "metadata": {},
   "outputs": [],
   "source": [
    "def rotate(inputs, labels, num_of_rots, axes):\n",
    "    '''\n",
    "    num_of_rots : integer. Number of times the array is rotated by 90 degrees.\n",
    "    axes : (2,) array_like. The array is rotated in the plane defined by the axes. Axes must be different.\n",
    "    '''\n",
    "    return np.rot90(inputs, num_of_rots, axes), np.rot90(labels, num_of_rots, axes)"
   ]
  },
  {
   "cell_type": "code",
   "execution_count": 45,
   "metadata": {},
   "outputs": [
    {
     "data": {
      "text/plain": [
       "<Figure size 640x480 with 1 Axes>"
      ]
     },
     "metadata": {},
     "output_type": "display_data"
    }
   ],
   "source": [
    "import matplotlib.pyplot as plt\n",
    "%config InlineBackend.figure_format = \"svg\"\n"
   ]
  },
  {
   "cell_type": "code",
   "execution_count": 48,
   "metadata": {},
   "outputs": [
    {
     "data": {
      "image/png": "[encoded data removed]",
      "text/plain": [
       "<Figure size 432x288 with 1 Axes>"
      ]
     },
     "metadata": {
      "needs_background": "light"
     },
     "output_type": "display_data"
    }
   ],
   "source": [
    "plt.imshow(data[31],cmap=\"gray\") \n",
    "plt.show()"
   ]
  },
  {
   "cell_type": "code",
   "execution_count": 49,
   "metadata": {},
   "outputs": [],
   "source": [
    "d_1,l_1 = rotate(data, label, 1, (1,2))"
   ]
  },
  {
   "cell_type": "code",
   "execution_count": 51,
   "metadata": {},
   "outputs": [
    {
     "data": {
      "image/png": "[encoded data removed]",
      "text/plain": [
       "<Figure size 432x288 with 1 Axes>"
      ]
     },
     "metadata": {
      "needs_background": "light"
     },
     "output_type": "display_data"
    }
   ],
   "source": [
    "plt.imshow(d_1[31],cmap=\"gray\") \n",
    "plt.show()"
   ]
  },
  {
   "cell_type": "code",
   "execution_count": null,
   "metadata": {},
   "outputs": [],
   "source": []
  }
 ],
 "metadata": {
  "kernelspec": {
   "display_name": "Python 3",
   "language": "python",
   "name": "python3"
  },
  "language_info": {
   "codemirror_mode": {
    "name": "ipython",
    "version": 3
   },
   "file_extension": ".py",
   "mimetype": "text/x-python",
   "name": "python",
   "nbconvert_exporter": "python",
   "pygments_lexer": "ipython3",
   "version": "3.6.8"
  }
 },
 "nbformat": 4,
 "nbformat_minor": 2
}
