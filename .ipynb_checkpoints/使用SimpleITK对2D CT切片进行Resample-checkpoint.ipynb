{
 "cells": [
  {
   "cell_type": "code",
   "execution_count": 5,
   "metadata": {},
   "outputs": [],
   "source": [
    "import SimpleITK as sitk\n",
    "import matplotlib.pyplot as plt\n",
    "import numpy as np\n",
    "import os\n",
    "\n",
    "%matplotlib inline \n",
    "%config InlineBackend.figure_format = 'svg' #矢量图比较高清\n",
    "# %config InlineBackend.figure_format = 'retina'"
   ]
  },
  {
   "cell_type": "code",
   "execution_count": 6,
   "metadata": {},
   "outputs": [],
   "source": [
    "# 源图像文件名\n",
    "pet_name=\"./pet/I9400000\"\n",
    "\n",
    "# 读入原图像\n",
    "src_img = sitk.ReadImage(pet_name)\n",
    "\n",
    "# 原图四个要素,间距，size，原点，方向\n",
    "input_spacing=src_img.GetSpacing()\n",
    "input_size = src_img.GetSize() # width=input_size[0],height=input_size[1]\n",
    "input_origin = src_img.GetOrigin()\n",
    "input_direction = src_img.GetDirection()\n",
    "input_pixelid = src_img.GetPixelID()"
   ]
  },
  {
   "cell_type": "code",
   "execution_count": 7,
   "metadata": {},
   "outputs": [
    {
     "name": "stdout",
     "output_type": "stream",
     "text": [
      "(128, 128, 1)\n",
      "(-347.265625, -347.265625, -335.0900382995)\n",
      "(5.46875, 5.46875, 1.0)\n",
      "(1.0, 0.0, 0.0, 0.0, 1.0, 0.0, 0.0, 0.0, 1.0)\n",
      "9\n"
     ]
    }
   ],
   "source": [
    "# 测试\n",
    "\n",
    "print(input_size)\n",
    "print(input_origin)\n",
    "print(input_spacing)\n",
    "print(input_direction)\n",
    "print(input_pixelid)"
   ]
  },
  {
   "cell_type": "code",
   "execution_count": 8,
   "metadata": {},
   "outputs": [
    {
     "data": {
      "image/png": "[encoded data removed]",
      "text/plain": [
       "<Figure size 432x288 with 1 Axes>"
      ]
     },
     "metadata": {
      "image/png": {
       "height": 251,
       "width": 259
      },
      "needs_background": "light"
     },
     "output_type": "display_data"
    }
   ],
   "source": [
    "src_show = sitk.GetArrayViewFromImage(src_img)\n",
    "plt.imshow(src_show[0,:,:])\n",
    "plt.show()"
   ]
  },
  {
   "cell_type": "code",
   "execution_count": 10,
   "metadata": {},
   "outputs": [],
   "source": [
    "# resample图要素\n",
    "newWidth = 512\n",
    "newHeight = 512\n",
    "# 通过size计算间距\n",
    "x_out_spacing = input_spacing[0]*input_size[0] / newWidth\n",
    "y_out_spacing = input_spacing[1]*input_size[1] / newHeight"
   ]
  },
  {
   "cell_type": "code",
   "execution_count": 11,
   "metadata": {},
   "outputs": [
    {
     "data": {
      "text/plain": [
       "1.3671875"
      ]
     },
     "execution_count": 11,
     "metadata": {},
     "output_type": "execute_result"
    }
   ],
   "source": [
    "x_out_spacing"
   ]
  },
  {
   "cell_type": "code",
   "execution_count": 12,
   "metadata": {},
   "outputs": [
    {
     "data": {
      "text/plain": [
       "1.3671875"
      ]
     },
     "execution_count": 12,
     "metadata": {},
     "output_type": "execute_result"
    }
   ],
   "source": [
    "y_out_spacing"
   ]
  },
  {
   "cell_type": "code",
   "execution_count": 13,
   "metadata": {},
   "outputs": [],
   "source": [
    "output_size =(newWidth,newHeight,1)"
   ]
  },
  {
   "cell_type": "code",
   "execution_count": 14,
   "metadata": {},
   "outputs": [
    {
     "data": {
      "text/plain": [
       "(512, 512, 1)"
      ]
     },
     "execution_count": 14,
     "metadata": {},
     "output_type": "execute_result"
    }
   ],
   "source": [
    "output_size"
   ]
  },
  {
   "cell_type": "code",
   "execution_count": 15,
   "metadata": {},
   "outputs": [],
   "source": [
    "output_spacing = (x_out_spacing,y_out_spacing,1)"
   ]
  },
  {
   "cell_type": "code",
   "execution_count": 16,
   "metadata": {},
   "outputs": [
    {
     "data": {
      "text/plain": [
       "(1.3671875, 1.3671875, 1)"
      ]
     },
     "execution_count": 16,
     "metadata": {},
     "output_type": "execute_result"
    }
   ],
   "source": [
    "output_spacing"
   ]
  },
  {
   "cell_type": "code",
   "execution_count": 17,
   "metadata": {},
   "outputs": [],
   "source": [
    "output_origin = input_origin\n",
    "output_direction = input_direction\n",
    "output_pixelid = input_pixelid"
   ]
  },
  {
   "cell_type": "code",
   "execution_count": 18,
   "metadata": {},
   "outputs": [
    {
     "data": {
      "text/plain": [
       "(-347.265625, -347.265625, -335.0900382995)"
      ]
     },
     "execution_count": 18,
     "metadata": {},
     "output_type": "execute_result"
    }
   ],
   "source": [
    "output_origin"
   ]
  },
  {
   "cell_type": "code",
   "execution_count": 19,
   "metadata": {},
   "outputs": [
    {
     "data": {
      "text/plain": [
       "(1.0, 0.0, 0.0, 0.0, 1.0, 0.0, 0.0, 0.0, 1.0)"
      ]
     },
     "execution_count": 19,
     "metadata": {},
     "output_type": "execute_result"
    }
   ],
   "source": [
    "output_direction"
   ]
  },
  {
   "cell_type": "code",
   "execution_count": 20,
   "metadata": {},
   "outputs": [
    {
     "data": {
      "text/plain": [
       "9"
      ]
     },
     "execution_count": 20,
     "metadata": {},
     "output_type": "execute_result"
    }
   ],
   "source": [
    "output_pixelid"
   ]
  },
  {
   "cell_type": "code",
   "execution_count": 22,
   "metadata": {},
   "outputs": [],
   "source": [
    "transform = sitk.Transform()\n",
    "interpolator = sitk.sitkNearestNeighbor"
   ]
  },
  {
   "cell_type": "code",
   "execution_count": 23,
   "metadata": {},
   "outputs": [],
   "source": [
    "resampled_img = sitk.Resample(src_img,output_size,transform,interpolator,output_origin,output_spacing,output_direction,0.0,output_pixelid)"
   ]
  },
  {
   "cell_type": "code",
   "execution_count": 28,
   "metadata": {},
   "outputs": [
    {
     "data": {
      "image/png": "[encoded data removed]",
      "text/plain": [
       "<Figure size 432x288 with 1 Axes>"
      ]
     },
     "metadata": {
      "needs_background": "light"
     },
     "output_type": "display_data"
    }
   ],
   "source": [
    "resampled_show = sitk.GetArrayViewFromImage(resampled_img)\n",
    "plt.imshow(resampled_show[0,:,:])\n",
    "plt.show()"
   ]
  },
  {
   "cell_type": "code",
   "execution_count": 29,
   "metadata": {},
   "outputs": [
    {
     "data": {
      "text/plain": [
       "<SimpleITK.SimpleITK.Image; proxy of <Swig Object of type 'std::vector< itk::simple::Image >::value_type *' at 0x00000255BB2FECC0> >"
      ]
     },
     "execution_count": 29,
     "metadata": {},
     "output_type": "execute_result"
    }
   ],
   "source": [
    "resampled_img"
   ]
  },
  {
   "cell_type": "code",
   "execution_count": 30,
   "metadata": {},
   "outputs": [],
   "source": [
    "sitk.WriteImage( src_img, \"./pet/0.dcm\" ) # 读入原图并把原图写回，没有出错。"
   ]
  },
  {
   "cell_type": "code",
   "execution_count": 33,
   "metadata": {},
   "outputs": [],
   "source": [
    "# meta-data信息\n",
    "all_keys = src_img.GetMetaDataKeys()"
   ]
  },
  {
   "cell_type": "code",
   "execution_count": 34,
   "metadata": {},
   "outputs": [
    {
     "data": {
      "text/plain": [
       "('0008|0008',\n",
       " '0008|0012',\n",
       " '0008|0013',\n",
       " '0008|0014',\n",
       " '0008|0016',\n",
       " '0008|0018',\n",
       " '0008|0020',\n",
       " '0008|0021',\n",
       " '0008|0022',\n",
       " '0008|0023',\n",
       " '0008|0030',\n",
       " '0008|0031',\n",
       " '0008|0032',\n",
       " '0008|0033',\n",
       " '0008|0050',\n",
       " '0008|0060',\n",
       " '0008|0061',\n",
       " '0008|0070',\n",
       " '0008|0080',\n",
       " '0008|0090',\n",
       " '0008|1010',\n",
       " '0008|1030',\n",
       " '0008|103e',\n",
       " '0008|1060',\n",
       " '0008|1070',\n",
       " '0008|1090',\n",
       " '0010|0010',\n",
       " '0010|0020',\n",
       " '0010|0021',\n",
       " '0010|0030',\n",
       " '0010|0040',\n",
       " '0010|1000',\n",
       " '0010|1001',\n",
       " '0010|1010',\n",
       " '0010|1020',\n",
       " '0010|1030',\n",
       " '0010|2160',\n",
       " '0010|2180',\n",
       " '0018|0015',\n",
       " '0018|0050',\n",
       " '0018|0071',\n",
       " '0018|0073',\n",
       " '0018|0074',\n",
       " '0018|0075',\n",
       " '0018|1000',\n",
       " '0018|1020',\n",
       " '0018|1030',\n",
       " '0018|1074',\n",
       " '0018|1083',\n",
       " '0018|1084',\n",
       " '0018|1100',\n",
       " '0018|1120',\n",
       " '0018|1130',\n",
       " '0018|1147',\n",
       " '0018|1149',\n",
       " '0018|1181',\n",
       " '0018|1210',\n",
       " '0018|1242',\n",
       " '0018|5100',\n",
       " '0020|000d',\n",
       " '0020|000e',\n",
       " '0020|0010',\n",
       " '0020|0011',\n",
       " '0020|0013',\n",
       " '0020|0020',\n",
       " '0020|0032',\n",
       " '0020|0037',\n",
       " '0020|0052',\n",
       " '0020|1040',\n",
       " '0020|1041',\n",
       " '0020|1208',\n",
       " '0028|0002',\n",
       " '0028|0004',\n",
       " '0028|0010',\n",
       " '0028|0011',\n",
       " '0028|0030',\n",
       " '0028|0051',\n",
       " '0028|0100',\n",
       " '0028|0101',\n",
       " '0028|0102',\n",
       " '0028|0103',\n",
       " '0028|0106',\n",
       " '0028|0107',\n",
       " '0028|1050',\n",
       " '0028|1051',\n",
       " '0028|1052',\n",
       " '0028|1053',\n",
       " '0028|1055',\n",
       " '0028|1056',\n",
       " '0028|1101',\n",
       " '0028|1102',\n",
       " '0028|1103',\n",
       " '0028|1201',\n",
       " '0028|1202',\n",
       " '0028|1203',\n",
       " '0028|2110',\n",
       " '0054|0081',\n",
       " '0054|0101',\n",
       " '0054|0202',\n",
       " '0054|0400',\n",
       " '0054|1000',\n",
       " '0054|1001',\n",
       " '0054|1002',\n",
       " '0054|1100',\n",
       " '0054|1101',\n",
       " '0054|1102',\n",
       " '0054|1103',\n",
       " '0054|1105',\n",
       " '0054|1201',\n",
       " '0054|1202',\n",
       " '0054|1210',\n",
       " '0054|1300',\n",
       " '0054|1320',\n",
       " '0054|1321',\n",
       " '0054|1322',\n",
       " '0054|1330',\n",
       " '6000|0010',\n",
       " '6000|0011',\n",
       " '6000|0022',\n",
       " '6000|0040',\n",
       " '6000|0050',\n",
       " '6000|0100',\n",
       " '6000|0102',\n",
       " '6000|3000')"
      ]
     },
     "execution_count": 34,
     "metadata": {},
     "output_type": "execute_result"
    }
   ],
   "source": [
    "all_keys"
   ]
  },
  {
   "cell_type": "code",
   "execution_count": 35,
   "metadata": {},
   "outputs": [
    {
     "name": "stdout",
     "output_type": "stream",
     "text": [
      "124\n"
     ]
    }
   ],
   "source": [
    "print(len(all_keys))"
   ]
  },
  {
   "cell_type": "code",
   "execution_count": 38,
   "metadata": {},
   "outputs": [
    {
     "data": {
      "text/plain": [
       "'0'"
      ]
     },
     "execution_count": 38,
     "metadata": {},
     "output_type": "execute_result"
    }
   ],
   "source": [
    "m=src_img.GetMetaData('6000|0102')\n",
    "m"
   ]
  },
  {
   "cell_type": "code",
   "execution_count": null,
   "metadata": {},
   "outputs": [],
   "source": []
  }
 ],
 "metadata": {
  "kernelspec": {
   "display_name": "Python 3",
   "language": "python",
   "name": "python3"
  },
  "language_info": {
   "codemirror_mode": {
    "name": "ipython",
    "version": 3
   },
   "file_extension": ".py",
   "mimetype": "text/x-python",
   "name": "python",
   "nbconvert_exporter": "python",
   "pygments_lexer": "ipython3",
   "version": "3.6.6"
  }
 },
 "nbformat": 4,
 "nbformat_minor": 2
}
