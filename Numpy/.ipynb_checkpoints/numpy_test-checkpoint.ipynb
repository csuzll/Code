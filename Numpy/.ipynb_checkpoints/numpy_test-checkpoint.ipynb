{
 "cells": [
  {
   "cell_type": "markdown",
   "metadata": {},
   "source": [
    "### Numpy 属性"
   ]
  },
  {
   "cell_type": "code",
   "execution_count": 1,
   "metadata": {},
   "outputs": [
    {
     "name": "stdout",
     "output_type": "stream",
     "text": [
      "number of dim: 2\n",
      "shape : (2, 3)\n",
      "size: 6\n"
     ]
    }
   ],
   "source": [
    "import numpy as np\n",
    "\n",
    "array = np.array([[1,2,3],[2,3,4]])  #列表转化为矩阵\n",
    "\n",
    "print('number of dim:',array.ndim)  # 维度\n",
    "# number of dim: 2\n",
    "\n",
    "print('shape :',array.shape)    # 行数和列数\n",
    "# shape : (2, 3)\n",
    "\n",
    "print('size:',array.size)   # 元素个数\n",
    "# size: 6"
   ]
  },
  {
   "cell_type": "markdown",
   "metadata": {},
   "source": [
    "### 创建array"
   ]
  },
  {
   "cell_type": "code",
   "execution_count": 2,
   "metadata": {},
   "outputs": [
    {
     "name": "stdout",
     "output_type": "stream",
     "text": [
      "[ 2 23  4]\n",
      "int32\n",
      "float64\n",
      "float32\n"
     ]
    }
   ],
   "source": [
    "a = np.array([2,23,4]) # 1d list\n",
    "print(a)\n",
    "\n",
    "a = np.array([2,23,4],dtype=np.int32)\n",
    "print(a.dtype)\n",
    "\n",
    "a = np.array([2,23,4],dtype=np.float)\n",
    "print(a.dtype)\n",
    "\n",
    "a = np.array([2,23,4],dtype=np.float32)\n",
    "print(a.dtype)"
   ]
  },
  {
   "cell_type": "code",
   "execution_count": 10,
   "metadata": {},
   "outputs": [
    {
     "name": "stdout",
     "output_type": "stream",
     "text": [
      "[[ 2 32  4]\n",
      " [ 2 32  4]]\n",
      "\n",
      "\n",
      "[[0. 0. 0. 0.]\n",
      " [0. 0. 0. 0.]\n",
      " [0. 0. 0. 0.]]\n",
      "\n",
      "\n",
      "[[1 1 1 1]\n",
      " [1 1 1 1]\n",
      " [1 1 1 1]]\n",
      "\n",
      "\n",
      "[[0. 0. 0. 0.]\n",
      " [0. 0. 0. 0.]\n",
      " [0. 0. 0. 0.]]\n"
     ]
    }
   ],
   "source": [
    "a = np.array([[2,32,4],[2,32,4]])  # 2d 矩阵 2行3列\n",
    "print(a)\n",
    "print(\"\\n\")\n",
    "\n",
    "a  = np.zeros((3,4))  # 数据全为0，3行4列\n",
    "print(a)\n",
    "print(\"\\n\")\n",
    "\n",
    "a = np.ones((3,4),dtype=np.int) # 数据为1，3行4列\n",
    "print(a)\n",
    "print(\"\\n\")\n",
    "\n",
    "a = np.empty((3,4)) # 数据为empty，3行4列,不同环境下输出值不一样。\n",
    "print(a)"
   ]
  },
  {
   "cell_type": "code",
   "execution_count": 14,
   "metadata": {},
   "outputs": [
    {
     "name": "stdout",
     "output_type": "stream",
     "text": [
      "[10 12 14 16 18]\n",
      "\n",
      "\n"
     ]
    },
    {
     "data": {
      "text/plain": [
       "array([[ 0,  1,  2,  3],\n",
       "       [ 4,  5,  6,  7],\n",
       "       [ 8,  9, 10, 11]])"
      ]
     },
     "execution_count": 14,
     "metadata": {},
     "output_type": "execute_result"
    }
   ],
   "source": [
    "a = np.arange(10,20,2) # 10-19 的数据，2步长\n",
    "print(a)\n",
    "print(\"\\n\")\n",
    "\n",
    "a=np.arange(12).reshape((3,4)) # 3行4列，0-11\n",
    "a"
   ]
  },
  {
   "cell_type": "code",
   "execution_count": 15,
   "metadata": {},
   "outputs": [
    {
     "name": "stdout",
     "output_type": "stream",
     "text": [
      "[ 1.          1.47368421  1.94736842  2.42105263  2.89473684  3.36842105\n",
      "  3.84210526  4.31578947  4.78947368  5.26315789  5.73684211  6.21052632\n",
      "  6.68421053  7.15789474  7.63157895  8.10526316  8.57894737  9.05263158\n",
      "  9.52631579 10.        ]\n"
     ]
    }
   ],
   "source": [
    "a = np.linspace(1,10,20)    # 开始端1，结束端10，且分割成20个数据，生成线段\n",
    "print(a)"
   ]
  },
  {
   "cell_type": "code",
   "execution_count": 16,
   "metadata": {},
   "outputs": [
    {
     "data": {
      "text/plain": [
       "array([[ 1.        ,  1.47368421,  1.94736842,  2.42105263],\n",
       "       [ 2.89473684,  3.36842105,  3.84210526,  4.31578947],\n",
       "       [ 4.78947368,  5.26315789,  5.73684211,  6.21052632],\n",
       "       [ 6.68421053,  7.15789474,  7.63157895,  8.10526316],\n",
       "       [ 8.57894737,  9.05263158,  9.52631579, 10.        ]])"
      ]
     },
     "execution_count": 16,
     "metadata": {},
     "output_type": "execute_result"
    }
   ],
   "source": [
    "a = np.linspace(1,10,20).reshape((5,4)) # 更改shape\n",
    "a"
   ]
  },
  {
   "cell_type": "markdown",
   "metadata": {},
   "source": [
    "### Numpy基础运算"
   ]
  },
  {
   "cell_type": "code",
   "execution_count": 17,
   "metadata": {},
   "outputs": [],
   "source": [
    "a = np.array([10,20,30,40])\n",
    "b = np.arange(4)"
   ]
  },
  {
   "cell_type": "code",
   "execution_count": 18,
   "metadata": {},
   "outputs": [
    {
     "name": "stdout",
     "output_type": "stream",
     "text": [
      "[10 19 28 37]\n",
      "\n",
      "\n",
      "[10 21 32 43]\n",
      "\n",
      "\n",
      "[  0  20  60 120]\n",
      "\n",
      "\n",
      "[0 1 4 9]\n"
     ]
    }
   ],
   "source": [
    "c = a - b\n",
    "print(c)\n",
    "print(\"\\n\")\n",
    "c = a+b\n",
    "print(c)\n",
    "print(\"\\n\")\n",
    "c = a*b\n",
    "print(c)\n",
    "print(\"\\n\")\n",
    "c=b**2\n",
    "print(c)"
   ]
  },
  {
   "cell_type": "code",
   "execution_count": 20,
   "metadata": {},
   "outputs": [
    {
     "data": {
      "text/plain": [
       "array([-5.44021111,  9.12945251, -9.88031624,  7.4511316 ])"
      ]
     },
     "execution_count": 20,
     "metadata": {},
     "output_type": "execute_result"
    }
   ],
   "source": [
    "c=10*np.sin(a)  \n",
    "c\n",
    "# array([-5.44021111,  9.12945251, -9.88031624,  7.4511316 ])"
   ]
  },
  {
   "cell_type": "code",
   "execution_count": 21,
   "metadata": {},
   "outputs": [
    {
     "name": "stdout",
     "output_type": "stream",
     "text": [
      "[ True  True  True False]\n"
     ]
    },
    {
     "data": {
      "text/plain": [
       "array([0, 1, 2, 3])"
      ]
     },
     "execution_count": 21,
     "metadata": {},
     "output_type": "execute_result"
    }
   ],
   "source": [
    "print(b<3)  \n",
    "b\n",
    "# array([ True,  True,  True, False], dtype=bool)"
   ]
  },
  {
   "cell_type": "code",
   "execution_count": 22,
   "metadata": {},
   "outputs": [
    {
     "name": "stdout",
     "output_type": "stream",
     "text": [
      "[[1 1]\n",
      " [0 1]]\n",
      "[[0 1]\n",
      " [2 3]]\n"
     ]
    }
   ],
   "source": [
    "a=np.array([[1,1],[0,1]])\n",
    "b=np.arange(4).reshape((2,2))\n",
    "\n",
    "print(a)\n",
    "# array([[1, 1],\n",
    "#       [0, 1]])\n",
    "\n",
    "print(b)\n",
    "# array([[0, 1],\n",
    "#       [2, 3]])"
   ]
  },
  {
   "cell_type": "code",
   "execution_count": 24,
   "metadata": {},
   "outputs": [
    {
     "name": "stdout",
     "output_type": "stream",
     "text": [
      "[[2 4]\n",
      " [2 3]]\n",
      "[[2 4]\n",
      " [2 3]]\n",
      "[[0 1]\n",
      " [0 3]]\n"
     ]
    }
   ],
   "source": [
    "# Numpy中的两种乘法\n",
    "# 一是对应元素相乘\n",
    "# 二是标准的矩阵乘法运算\n",
    "c_dot = np.dot(a,b)\n",
    "c_dot_2 = a.dot(b)\n",
    "c_dot_3 = a*b\n",
    "print(c_dot)\n",
    "print(c_dot_2)\n",
    "print(c_dot_3)"
   ]
  },
  {
   "cell_type": "code",
   "execution_count": 31,
   "metadata": {},
   "outputs": [
    {
     "name": "stdout",
     "output_type": "stream",
     "text": [
      "[[0.10849496 0.62849565 0.78154951 0.91686756]\n",
      " [0.9317791  0.05134445 0.47539671 0.17043474]]\n"
     ]
    }
   ],
   "source": [
    "a=np.random.random((2,4)) # 一个random会报错\n",
    "print(a)"
   ]
  },
  {
   "cell_type": "code",
   "execution_count": 33,
   "metadata": {},
   "outputs": [
    {
     "data": {
      "text/plain": [
       "4.064362675090828"
      ]
     },
     "execution_count": 33,
     "metadata": {},
     "output_type": "execute_result"
    }
   ],
   "source": [
    "np.sum(a) "
   ]
  },
  {
   "cell_type": "code",
   "execution_count": 34,
   "metadata": {},
   "outputs": [
    {
     "data": {
      "text/plain": [
       "0.05134445133039223"
      ]
     },
     "execution_count": 34,
     "metadata": {},
     "output_type": "execute_result"
    }
   ],
   "source": [
    "np.min(a)   \n"
   ]
  },
  {
   "cell_type": "code",
   "execution_count": 35,
   "metadata": {},
   "outputs": [
    {
     "data": {
      "text/plain": [
       "0.9317790963231437"
      ]
     },
     "execution_count": 35,
     "metadata": {},
     "output_type": "execute_result"
    }
   ],
   "source": [
    "np.max(a)"
   ]
  },
  {
   "cell_type": "code",
   "execution_count": 36,
   "metadata": {},
   "outputs": [
    {
     "name": "stdout",
     "output_type": "stream",
     "text": [
      "a = [[0.10849496 0.62849565 0.78154951 0.91686756]\n",
      " [0.9317791  0.05134445 0.47539671 0.17043474]]\n",
      "sum = [2.43540767 1.628955  ]\n",
      "min = [0.10849496 0.05134445 0.47539671 0.17043474]\n",
      "max = [0.91686756 0.9317791 ]\n"
     ]
    }
   ],
   "source": [
    "print(\"a =\",a)\n",
    "# a = [[ 0.23651224  0.41900661  0.84869417  0.46456022]\n",
    "# [ 0.60771087  0.9043845   0.36603285  0.55746074]]\n",
    "\n",
    "# 当axis的值为0的时候，将会以列作为查找单元\n",
    "# 当axis的值为1的时候，将会以行作为查找单元。\n",
    "print(\"sum =\",np.sum(a,axis=1))\n",
    "# sum = [ 1.96877324  2.43558896]\n",
    "\n",
    "print(\"min =\",np.min(a,axis=0))\n",
    "# min = [ 0.23651224  0.41900661  0.36603285  0.46456022]\n",
    "\n",
    "print(\"max =\",np.max(a,axis=1))\n",
    "# max = [ 0.84869417  0.9043845 ]"
   ]
  },
  {
   "cell_type": "code",
   "execution_count": 40,
   "metadata": {},
   "outputs": [
    {
     "name": "stdout",
     "output_type": "stream",
     "text": [
      "0\n",
      "11\n",
      "7.5\n",
      "7.5\n",
      "7.5\n",
      "[ 2  5  9 14 20 27 35 44 54 65 77 90]\n",
      "[[1 1 1]\n",
      " [1 1 1]\n",
      " [1 1 1]]\n",
      "(array([0, 0, 0, 0, 1, 1, 1, 1, 2, 2, 2, 2], dtype=int64), array([0, 1, 2, 3, 0, 1, 2, 3, 0, 1, 2, 3], dtype=int64))\n"
     ]
    }
   ],
   "source": [
    "A = np.arange(2,14).reshape((3,4)) \n",
    "\n",
    "# array([[ 2, 3, 4, 5]\n",
    "#        [ 6, 7, 8, 9]\n",
    "#        [10,11,12,13]])\n",
    "         \n",
    "print(np.argmin(A))    # 0,矩阵中最小元素索引\n",
    "print(np.argmax(A))    # 11,矩阵中最大元素索引\n",
    "\n",
    "print(np.mean(A))        # 7.5，均值\n",
    "print(np.average(A))     # 7.5，均值\n",
    "print(A.mean())\n",
    "print(np.cumsum(A))     #累加，生成的每一项矩阵元素均是从原矩阵首项累加到对应项的元素之和\n",
    "\n",
    "print(np.diff(A))    #累差，每一行中后一项与前一项之差\n",
    "\n",
    "print(np.nonzero(A))    #将所有非零元素的行与列坐标分割开，重构成两个分别关于行和列的矩阵。"
   ]
  },
  {
   "cell_type": "code",
   "execution_count": 41,
   "metadata": {},
   "outputs": [
    {
     "name": "stdout",
     "output_type": "stream",
     "text": [
      "[[11 12 13 14]\n",
      " [ 7  8  9 10]\n",
      " [ 3  4  5  6]]\n"
     ]
    }
   ],
   "source": [
    "A = np.arange(14,2, -1).reshape((3,4)) \n",
    "\n",
    "# array([[14, 13, 12, 11],\n",
    "#       [10,  9,  8,  7],\n",
    "#       [ 6,  5,  4,  3]])\n",
    "\n",
    "print(np.sort(A))     # 每一行排序\n",
    "\n",
    "# array([[11,12,13,14]\n",
    "#        [ 7, 8, 9,10]\n",
    "#        [ 3, 4, 5, 6]])"
   ]
  },
  {
   "cell_type": "code",
   "execution_count": 42,
   "metadata": {},
   "outputs": [
    {
     "name": "stdout",
     "output_type": "stream",
     "text": [
      "[[14 10  6]\n",
      " [13  9  5]\n",
      " [12  8  4]\n",
      " [11  7  3]]\n",
      "[[14 10  6]\n",
      " [13  9  5]\n",
      " [12  8  4]\n",
      " [11  7  3]]\n"
     ]
    }
   ],
   "source": [
    "print(np.transpose(A))     # 转置\n",
    "print(A.T)\n",
    "\n",
    "# array([[14,10, 6]\n",
    "#        [13, 9, 5]\n",
    "#        [12, 8, 4]\n",
    "#        [11, 7, 3]])\n",
    "# array([[14,10, 6]\n",
    "#        [13, 9, 5]\n",
    "#        [12, 8, 4]\n",
    "#        [11, 7, 3]])"
   ]
  },
  {
   "cell_type": "code",
   "execution_count": 43,
   "metadata": {},
   "outputs": [
    {
     "name": "stdout",
     "output_type": "stream",
     "text": [
      "[[14 13 12 11]\n",
      " [10  9  8  7]\n",
      " [ 6  5  4  3]]\n",
      "[[9 9 9 9]\n",
      " [9 9 8 7]\n",
      " [6 5 5 5]]\n"
     ]
    }
   ],
   "source": [
    "print(A)\n",
    "# array([[14,13,12,11]\n",
    "#        [10, 9, 8, 7]\n",
    "#        [ 6, 5, 4, 3]])\n",
    "\n",
    "print(np.clip(A,5,9))     # clip(Array,Array_min,Array_max)\n",
    "# array([[ 9, 9, 9, 9]\n",
    "#        [ 9, 9, 8, 7]\n",
    "#        [ 6, 5, 5, 5]])"
   ]
  },
  {
   "cell_type": "markdown",
   "metadata": {},
   "source": [
    "### Numpy索引"
   ]
  },
  {
   "cell_type": "code",
   "execution_count": 44,
   "metadata": {},
   "outputs": [
    {
     "name": "stdout",
     "output_type": "stream",
     "text": [
      "6\n"
     ]
    }
   ],
   "source": [
    "A = np.arange(3,15)\n",
    "\n",
    "# array([3, 4, 5, 6, 7, 8, 9, 10, 11, 12, 13, 14])\n",
    "         \n",
    "print(A[3])    # 6"
   ]
  },
  {
   "cell_type": "code",
   "execution_count": 45,
   "metadata": {},
   "outputs": [
    {
     "name": "stdout",
     "output_type": "stream",
     "text": [
      "[11 12 13 14]\n"
     ]
    }
   ],
   "source": [
    "A = np.arange(3,15).reshape((3,4))\n",
    "\"\"\"\n",
    "array([[ 3,  4,  5,  6]\n",
    "       [ 7,  8,  9, 10]\n",
    "       [11, 12, 13, 14]])\n",
    "\"\"\"\n",
    "         \n",
    "print(A[2])         \n",
    "# [11 12 13 14]"
   ]
  },
  {
   "cell_type": "code",
   "execution_count": 46,
   "metadata": {},
   "outputs": [
    {
     "name": "stdout",
     "output_type": "stream",
     "text": [
      "8\n",
      "8\n"
     ]
    }
   ],
   "source": [
    "print(A[1][1])      # 具体值\n",
    "print(A[1, 1])      # "
   ]
  },
  {
   "cell_type": "code",
   "execution_count": 47,
   "metadata": {},
   "outputs": [
    {
     "name": "stdout",
     "output_type": "stream",
     "text": [
      "[8 9]\n"
     ]
    }
   ],
   "source": [
    "print(A[1, 1:3])    # [8 9]切片这一表示形式即针对第二行中第2到第4列元素进行切片输出（不包含第4列）"
   ]
  },
  {
   "cell_type": "code",
   "execution_count": 48,
   "metadata": {},
   "outputs": [
    {
     "name": "stdout",
     "output_type": "stream",
     "text": [
      "[3 4 5 6]\n",
      "[ 7  8  9 10]\n",
      "[11 12 13 14]\n"
     ]
    }
   ],
   "source": [
    "for row in A: # 打印，逐行打印\n",
    "    print(row)"
   ]
  },
  {
   "cell_type": "code",
   "execution_count": 49,
   "metadata": {},
   "outputs": [
    {
     "name": "stdout",
     "output_type": "stream",
     "text": [
      "[ 3  7 11]\n",
      "[ 4  8 12]\n",
      "[ 5  9 13]\n",
      "[ 6 10 14]\n"
     ]
    }
   ],
   "source": [
    "for column in A.T: # 逐列打印\n",
    "    print(column)"
   ]
  },
  {
   "cell_type": "code",
   "execution_count": 51,
   "metadata": {},
   "outputs": [
    {
     "name": "stdout",
     "output_type": "stream",
     "text": [
      "[ 3  4  5  6  7  8  9 10 11 12 13 14]\n",
      "3\n",
      "4\n",
      "5\n",
      "6\n",
      "7\n",
      "8\n",
      "9\n",
      "10\n",
      "11\n",
      "12\n",
      "13\n",
      "14\n"
     ]
    }
   ],
   "source": [
    "A = np.arange(3,15).reshape((3,4)) \n",
    "         \n",
    "print(A.flatten())   \n",
    "# array([3, 4, 5, 6, 7, 8, 9, 10, 11, 12, 13, 14])\n",
    "\n",
    "for item in A.flat: # 迭代输出\n",
    "    print(item)"
   ]
  },
  {
   "cell_type": "markdown",
   "metadata": {},
   "source": [
    "### Numpy 合并"
   ]
  },
  {
   "cell_type": "code",
   "execution_count": 53,
   "metadata": {},
   "outputs": [
    {
     "name": "stdout",
     "output_type": "stream",
     "text": [
      "[[1 1 1]\n",
      " [2 2 2]]\n",
      "(3,) (2, 3)\n"
     ]
    }
   ],
   "source": [
    "# vertical stack本身属于一种上下合并，即对括号中的两个整体进行对应操作。\n",
    "A = np.array([1,1,1]) # A仅仅是一个拥有3项元素的数组（数列）\n",
    "B = np.array([2,2,2])\n",
    "C = np.vstack((A,B))     # vertical stack     \n",
    "print(C) \n",
    "print(A.shape,C.shape)"
   ]
  },
  {
   "cell_type": "code",
   "execution_count": 54,
   "metadata": {},
   "outputs": [
    {
     "name": "stdout",
     "output_type": "stream",
     "text": [
      "[1 1 1 2 2 2]\n",
      "(3,) (6,)\n"
     ]
    }
   ],
   "source": [
    "# 左右合并\n",
    "D = np.hstack((A,B))       # horizontal stack\n",
    "\n",
    "print(D)\n",
    "# [1,1,1,2,2,2]\n",
    "\n",
    "print(A.shape,D.shape)\n",
    "# (3,) (6,)"
   ]
  },
  {
   "cell_type": "code",
   "execution_count": 55,
   "metadata": {},
   "outputs": [
    {
     "name": "stdout",
     "output_type": "stream",
     "text": [
      "[[1 1 1]]\n",
      "(1, 3)\n",
      "[[1]\n",
      " [1]\n",
      " [1]]\n",
      "(3, 1)\n"
     ]
    }
   ],
   "source": [
    "# A不是矩阵，无法使用装置。\n",
    "# 这时需要np.newaxis来操作转置\n",
    "# 将具有3个元素的array转换为了1行3列以及3行1列的矩阵\n",
    "\n",
    "print(A[np.newaxis,:]) #变成（1，3）\n",
    "# [[1 1 1]]\n",
    "\n",
    "print(A[np.newaxis,:].shape)\n",
    "# (1,3)\n",
    "\n",
    "print(A[:,np.newaxis]) # 变成（3，1）\n",
    "\"\"\"\n",
    "[[1]\n",
    "[1]\n",
    "[1]]\n",
    "\"\"\"\n",
    "\n",
    "print(A[:,np.newaxis].shape)\n",
    "# (3,1)"
   ]
  },
  {
   "cell_type": "code",
   "execution_count": 56,
   "metadata": {},
   "outputs": [
    {
     "name": "stdout",
     "output_type": "stream",
     "text": [
      "[[1 2]\n",
      " [1 2]\n",
      " [1 2]]\n",
      "(3, 1) (3, 2)\n"
     ]
    }
   ],
   "source": [
    "A = np.array([1,1,1])[:,np.newaxis]\n",
    "B = np.array([2,2,2])[:,np.newaxis]\n",
    "         \n",
    "C = np.vstack((A,B))   # vertical stack\n",
    "D = np.hstack((A,B))   # horizontal stack\n",
    "\n",
    "print(D)\n",
    "\"\"\"\n",
    "[[1 2]\n",
    "[1 2]\n",
    "[1 2]]\n",
    "\"\"\"\n",
    "\n",
    "print(A.shape,D.shape)\n",
    "# (3,1) (3,2)"
   ]
  },
  {
   "cell_type": "code",
   "execution_count": 58,
   "metadata": {},
   "outputs": [
    {
     "name": "stdout",
     "output_type": "stream",
     "text": [
      "[[1]\n",
      " [1]\n",
      " [1]\n",
      " [2]\n",
      " [2]\n",
      " [2]\n",
      " [2]\n",
      " [2]\n",
      " [2]\n",
      " [1]\n",
      " [1]\n",
      " [1]]\n",
      "[[1 2 2 1]\n",
      " [1 2 2 1]\n",
      " [1 2 2 1]]\n"
     ]
    }
   ],
   "source": [
    "# 合并操作需要针对多个矩阵或序列时\n",
    "C = np.concatenate((A,B,B,A),axis=0) # axis=0，纵向打印\n",
    "print(C) \n",
    "D = np.concatenate((A,B,B,A),axis=1) # axis=1，按行打印\n",
    "\n",
    "print(D)"
   ]
  },
  {
   "cell_type": "markdown",
   "metadata": {},
   "source": [
    "### Numpy分割"
   ]
  },
  {
   "cell_type": "code",
   "execution_count": 60,
   "metadata": {},
   "outputs": [
    {
     "name": "stdout",
     "output_type": "stream",
     "text": [
      "[[ 0  1  2  3]\n",
      " [ 4  5  6  7]\n",
      " [ 8  9 10 11]]\n",
      "[array([[0, 1],\n",
      "       [4, 5],\n",
      "       [8, 9]]), array([[ 2,  3],\n",
      "       [ 6,  7],\n",
      "       [10, 11]])]\n",
      "[array([[0, 1, 2, 3]]), array([[4, 5, 6, 7]]), array([[ 8,  9, 10, 11]])]\n"
     ]
    }
   ],
   "source": [
    "# 等量分割\n",
    "A = np.arange(12).reshape((3, 4))\n",
    "print(A)\n",
    "# 按行操作，从左到右，纵向分割\n",
    "print(np.split(A,2,axis=1)) #分割为2\n",
    "\n",
    "# 按列操作，从上到下，横向分割\n",
    "print(np.split(A,3,axis=0)) #分割为3"
   ]
  },
  {
   "cell_type": "code",
   "execution_count": 61,
   "metadata": {},
   "outputs": [
    {
     "name": "stdout",
     "output_type": "stream",
     "text": [
      "[array([[0, 1],\n",
      "       [4, 5],\n",
      "       [8, 9]]), array([[ 2],\n",
      "       [ 6],\n",
      "       [10]]), array([[ 3],\n",
      "       [ 7],\n",
      "       [11]])]\n"
     ]
    }
   ],
   "source": [
    "# 不等量分割\n",
    "print(np.array_split(A, 3, axis=1))"
   ]
  },
  {
   "cell_type": "code",
   "execution_count": 62,
   "metadata": {},
   "outputs": [
    {
     "name": "stdout",
     "output_type": "stream",
     "text": [
      "[array([[0, 1, 2, 3]]), array([[4, 5, 6, 7]]), array([[ 8,  9, 10, 11]])]\n",
      "[array([[0, 1],\n",
      "       [4, 5],\n",
      "       [8, 9]]), array([[ 2,  3],\n",
      "       [ 6,  7],\n",
      "       [10, 11]])]\n"
     ]
    }
   ],
   "source": [
    "print(np.vsplit(A, 3)) #等于 print(np.split(A, 3, axis=0))\n",
    "\n",
    "print(np.hsplit(A, 2)) #等于 print(np.split(A, 2, axis=1))"
   ]
  },
  {
   "cell_type": "markdown",
   "metadata": {},
   "source": [
    "### Numpy copy和deep copy"
   ]
  },
  {
   "cell_type": "code",
   "execution_count": 63,
   "metadata": {},
   "outputs": [],
   "source": [
    "# \"= 的赋值方式会带有关联性\n",
    "a = np.arange(4)\n",
    "# array([0, 1, 2, 3])\n",
    "\n",
    "b = a\n",
    "c = a\n",
    "d = b\n",
    "\n",
    "# 改变a的第一个值，b、c、d的第一个值也会同时改变。\n",
    "\n"
   ]
  },
  {
   "cell_type": "code",
   "execution_count": 64,
   "metadata": {},
   "outputs": [
    {
     "data": {
      "text/plain": [
       "True"
      ]
     },
     "execution_count": 64,
     "metadata": {},
     "output_type": "execute_result"
    }
   ],
   "source": [
    "b is a  # True"
   ]
  },
  {
   "cell_type": "code",
   "execution_count": 65,
   "metadata": {},
   "outputs": [
    {
     "data": {
      "text/plain": [
       "True"
      ]
     },
     "execution_count": 65,
     "metadata": {},
     "output_type": "execute_result"
    }
   ],
   "source": [
    "c is a  # True\n"
   ]
  },
  {
   "cell_type": "code",
   "execution_count": 66,
   "metadata": {},
   "outputs": [
    {
     "data": {
      "text/plain": [
       "True"
      ]
     },
     "execution_count": 66,
     "metadata": {},
     "output_type": "execute_result"
    }
   ],
   "source": [
    "d is a  # True"
   ]
  },
  {
   "cell_type": "code",
   "execution_count": 67,
   "metadata": {},
   "outputs": [
    {
     "name": "stdout",
     "output_type": "stream",
     "text": [
      "[ 0 22 33  3]\n",
      "[ 0 22 33  3]\n",
      "[ 0 22 33  3]\n"
     ]
    }
   ],
   "source": [
    "# 同样更改d的值，a、b、c也会改变。\n",
    "d[1:3] = [22, 33]   # array([0, 22, 33,  3])\n",
    "print(a)            # array([0, 22, 33,  3])\n",
    "print(b)            # array([0, 22, 33,  3])\n",
    "print(c)            # array([0, 22, 33,  3])"
   ]
  },
  {
   "cell_type": "code",
   "execution_count": 68,
   "metadata": {},
   "outputs": [
    {
     "name": "stdout",
     "output_type": "stream",
     "text": [
      "[ 0 22 33  3]\n",
      "[ 0 22 33 44]\n",
      "[ 0 22 33  3]\n"
     ]
    }
   ],
   "source": [
    "# copy() 的赋值方式没有关联性\n",
    "b = a.copy()\n",
    "print(b)\n",
    "a[3]=44\n",
    "print(a)\n",
    "print(b)"
   ]
  },
  {
   "cell_type": "code",
   "execution_count": 69,
   "metadata": {},
   "outputs": [
    {
     "name": "stdout",
     "output_type": "stream",
     "text": [
      "False\n",
      "[1, 3]\n",
      "[1, 2]\n"
     ]
    }
   ],
   "source": [
    "#如果使用以下\n",
    "a=[1,2]\n",
    "b=a[:]\n",
    "print(b is a)\n",
    "a[1]=3\n",
    "print(a)\n",
    "print(b)"
   ]
  },
  {
   "cell_type": "markdown",
   "metadata": {},
   "source": [
    "说明 b 是 a 的复制, 他们拥有不同的内存位置.而 b = a 则是 将a 的指针复制给 b, 所以 a 和 b 索引到了同一个内存位置."
   ]
  },
  {
   "cell_type": "code",
   "execution_count": 71,
   "metadata": {},
   "outputs": [
    {
     "name": "stdout",
     "output_type": "stream",
     "text": [
      "[0 3 2 3]\n",
      "[0 3 2 3]\n",
      "False\n",
      "id(a): 2886947050480\n",
      "id(b): 2886947051200\n",
      "id(a[0]): 2886947058672\n",
      "id(b[0]): 2886947058672\n"
     ]
    }
   ],
   "source": [
    "# 但是如果使用numpy，情况就不一样了\n",
    "a=np.arange(4)\n",
    "b=a[:]\n",
    "a[1]=3\n",
    "print(a)\n",
    "print(b)\n",
    "print(a is b)\n",
    "print(\"id(a):\",id(a))\n",
    "print(\"id(b):\",id(b))\n",
    "print(\"id(a[0]):\",id(a[0]))\n",
    "print(\"id(b[0]):\",id(b[0]))"
   ]
  },
  {
   "cell_type": "markdown",
   "metadata": {},
   "source": [
    "a,b 的 物理内存id 并不一样，但是 a,b 里面的数据的 id 是一样的, 所以改变 numpy 的 a, b 也跟着改变了。b对a进行了浅复制"
   ]
  }
 ],
 "metadata": {
  "kernelspec": {
   "display_name": "Python 3",
   "language": "python",
   "name": "python3"
  },
  "language_info": {
   "codemirror_mode": {
    "name": "ipython",
    "version": 3
   },
   "file_extension": ".py",
   "mimetype": "text/x-python",
   "name": "python",
   "nbconvert_exporter": "python",
   "pygments_lexer": "ipython3",
   "version": "3.6.6"
  }
 },
 "nbformat": 4,
 "nbformat_minor": 2
}
